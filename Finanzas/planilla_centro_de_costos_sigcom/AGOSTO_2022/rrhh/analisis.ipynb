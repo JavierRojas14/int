{
 "cells": [
  {
   "cell_type": "code",
   "execution_count": 118,
   "metadata": {},
   "outputs": [],
   "source": [
    "import pandas as pd"
   ]
  },
  {
   "cell_type": "code",
   "execution_count": 209,
   "metadata": {},
   "outputs": [],
   "source": [
    "df_15076 = pd.read_excel('15076_Agosto22.xlsx', header = 2)\n",
    "df_18834 = pd.read_excel('18834_Agosto22.xlsx', header = 2)\n",
    "df_19664 = pd.read_excel('19664_Agosto22.xlsx', header = 2)"
   ]
  },
  {
   "cell_type": "code",
   "execution_count": 210,
   "metadata": {},
   "outputs": [],
   "source": [
    "columnas = ['RUT-DV', 'NOMBRE', 'UNIDAD', 'CARGO', 'TOTAL HABER']\n",
    "\n",
    "df_15076 = df_15076[columnas]\n",
    "df_18834 = df_18834[columnas]\n",
    "df_19664 = df_19664[columnas]\n",
    "\n",
    "juntas = pd.concat([df_15076, df_18834, df_19664])\n",
    "juntas['NOMBRE'] = juntas['NOMBRE'].str.strip()\n",
    "\n",
    "cambiar_nombres = {'MUÑOZ ALTAMIRANO VIRGINIA DE LAS MERCEDE': 'MUÑOZ ALTAMIRANO VIRGINIA DE LAS MERCEDES',\n",
    "            'GAETE GAETE JENNIFER PILAR': 'GAETE GAETE JENNIFER DEL PILAR',\n",
    "            'MARINO LOPEZ MARCO ANTONIO': 'MARINAO LOPEZ MARCO ANTONIO'}\n",
    "\n",
    "juntas = juntas.replace(cambiar_nombres)\n",
    "\n",
    "cambiar_cargos = {'10342578-6': 'M422_CARDIOLOGIA',\n",
    "                '10976333-0': 'M212_MEDICINA INTERNA',\n",
    "                '12736759-0': 'M200_MEDICO CIRUJANO',\n",
    "                '13434782-1': 'M200_MEDICO CIRUJANO',\n",
    "                '14537881-8': 'M200_MEDICO CIRUJANO',\n",
    "                '15379406-5': 'M200_MEDICO CIRUJANO',\n",
    "                '16484813-2': 'M200_MEDICO CIRUJANO',\n",
    "                '19564829-8': '127_TECNICO PARAMEDICO',\n",
    "                '7877320-0': 'M212_MEDICINA INTERNA',\n",
    "                '8501857-4': 'M833_JEFE U. DE APOYO',\n",
    "                '9356279-8': 'M830_JEFE DE SERV. CLINICO'}\n",
    "\n",
    "juntas = juntas.set_index('RUT-DV')\n",
    "for rut in cambiar_cargos:\n",
    "    juntas.loc[rut, 'CARGO'] = cambiar_cargos[rut]\n",
    "\n",
    "juntas = juntas.reset_index()"
   ]
  },
  {
   "cell_type": "code",
   "execution_count": 212,
   "metadata": {},
   "outputs": [],
   "source": [
    "suma_haberes_por_unidad = juntas.groupby(by = ['RUT-DV', 'NOMBRE', 'CARGO', 'UNIDAD']).sum()\n",
    "suma_haberes_por_unidad.to_excel('agrupado_por_cc.xlsx')\n",
    "\n",
    "suma_haberes_por_persona = juntas.groupby(by = ['RUT-DV', 'NOMBRE', 'CARGO']).sum()\n",
    "suma_haberes_por_persona.to_excel('agrupado_por_persona.xlsx')"
   ]
  },
  {
   "cell_type": "code",
   "execution_count": 213,
   "metadata": {},
   "outputs": [],
   "source": [
    "honorarios = pd.read_excel('PERC AGOSTO.xlsx')\n",
    "columnas = ['RUT-DV', 'NOMBRE', 'UNIDAD O SERVICIO DONDE SE DESEMPEÑA', 'CARGO', 'VALOR TOTAL O BRUTO']\n",
    "honorarios = honorarios[columnas].rename(columns = {'UNIDAD O SERVICIO DONDE SE DESEMPEÑA': 'UNIDAD', 'VALOR TOTAL O BRUTO': 'TOTAL HABER'})\n",
    "honorarios = honorarios.set_index('RUT-DV')\n",
    "honorarios.loc['19296581-0', 'CARGO'] = 'PSICOLOGA 22 HORAS'\n",
    "\n",
    "juntas['TIPO CONTRATA'] = 1\n",
    "honorarios['TIPO CONTRATA'] = 2"
   ]
  },
  {
   "cell_type": "code",
   "execution_count": 214,
   "metadata": {},
   "outputs": [],
   "source": [
    "contrata_y_honorarios = pd.concat([juntas, honorarios])\n",
    "contrata_y_honorarios['RUT-DV'] = contrata_y_honorarios['RUT-DV'].str.strip().str.upper()"
   ]
  },
  {
   "cell_type": "code",
   "execution_count": 217,
   "metadata": {},
   "outputs": [],
   "source": [
    "suma_haber_por_persona = contrata_y_honorarios.groupby(by = ['RUT-DV', 'NOMBRE', 'CARGO', 'TIPO CONTRATA']).sum().reset_index()\n",
    "suma_haber_por_persona.to_excel('suma_haberes_por_persona_con_honorarios.xlsx')\n",
    "\n",
    "suma_haber_por_persona = contrata_y_honorarios.groupby(by = ['RUT-DV', 'NOMBRE', 'CARGO', 'TIPO CONTRATA', 'UNIDAD']).sum()\n",
    "suma_haber_por_persona.to_excel('suma_haberes_por_cc_con_honorarios.xlsx')"
   ]
  },
  {
   "cell_type": "code",
   "execution_count": 218,
   "metadata": {},
   "outputs": [],
   "source": [
    "personas_por_unidad = contrata_y_honorarios.groupby(by = ['RUT-DV', 'NOMBRE', 'UNIDAD']).sum()\n",
    "mask_personas_que_trabajan_en_mas_de_un_cc = personas_por_unidad.index.get_level_values(0).duplicated(keep = False)\n",
    "unidades_totales_personas_que_trabajan_en_mas_de_un_cc = personas_por_unidad[mask_personas_que_trabajan_en_mas_de_un_cc].index.get_level_values(2)"
   ]
  },
  {
   "cell_type": "code",
   "execution_count": 219,
   "metadata": {},
   "outputs": [],
   "source": [
    "unidades_que_quedaran = unidades_totales_personas_que_trabajan_en_mas_de_un_cc[::2]\n",
    "\n",
    "ruts_a_cambiar_unidad = ['10282072-K', '10976333-0', '12470454-5', '12736759-0', '13507846-8',\n",
    "       '15188820-8', '15413864-1', '15956991-8', '16093747-5', '16172330-4',\n",
    "       '16653286-8', '17269121-8', '18018768-5', '18464580-7', '18953398-5',\n",
    "       '22955669-K', '24591684-1', '6004926-2', '6012866-9', '7259175-5',\n",
    "       '7877320-0', '8666237-K', '9356279-8', '9381699-4', '9381872-5',\n",
    "       '9457009-3']\n",
    "\n",
    "diccionario_cambio_unidades = dict(zip(ruts_a_cambiar_unidad, unidades_que_quedaran))"
   ]
  },
  {
   "cell_type": "code",
   "execution_count": 220,
   "metadata": {},
   "outputs": [],
   "source": [
    "nueva_contrata = contrata_y_honorarios.copy()\n",
    "nueva_contrata = nueva_contrata.set_index('RUT-DV')\n",
    "\n",
    "for rut in diccionario_cambio_unidades:\n",
    "    nueva_contrata.loc[rut, 'UNIDAD'] = diccionario_cambio_unidades[rut]\n",
    "\n",
    "nueva_contrata = nueva_contrata.reset_index()"
   ]
  },
  {
   "cell_type": "code",
   "execution_count": 221,
   "metadata": {},
   "outputs": [],
   "source": [
    "desglose_sin_cc_repetidos = nueva_contrata.groupby(by = ['RUT-DV', 'NOMBRE', 'UNIDAD', 'CARGO']).sum()\n",
    "desglose_sin_cc_repetidos.to_excel('desglose_sin_cc_repetidos.xlsx')"
   ]
  },
  {
   "cell_type": "code",
   "execution_count": 222,
   "metadata": {},
   "outputs": [
    {
     "data": {
      "text/html": [
       "<div>\n",
       "<style scoped>\n",
       "    .dataframe tbody tr th:only-of-type {\n",
       "        vertical-align: middle;\n",
       "    }\n",
       "\n",
       "    .dataframe tbody tr th {\n",
       "        vertical-align: top;\n",
       "    }\n",
       "\n",
       "    .dataframe thead th {\n",
       "        text-align: right;\n",
       "    }\n",
       "</style>\n",
       "<table border=\"1\" class=\"dataframe\">\n",
       "  <thead>\n",
       "    <tr style=\"text-align: right;\">\n",
       "      <th></th>\n",
       "      <th></th>\n",
       "      <th></th>\n",
       "      <th></th>\n",
       "      <th>TOTAL HABER</th>\n",
       "      <th>TIPO CONTRATA</th>\n",
       "    </tr>\n",
       "    <tr>\n",
       "      <th>RUT-DV</th>\n",
       "      <th>NOMBRE</th>\n",
       "      <th>UNIDAD</th>\n",
       "      <th>CARGO</th>\n",
       "      <th></th>\n",
       "      <th></th>\n",
       "    </tr>\n",
       "  </thead>\n",
       "  <tbody>\n",
       "    <tr>\n",
       "      <th>10007232-7</th>\n",
       "      <th>CAMPOS PONCE SANDRA EVA</th>\n",
       "      <th>3364_SERVICIO DE MEDICINA BRONCOPULMONAR</th>\n",
       "      <th>127_TECNICO PARAMEDICO</th>\n",
       "      <td>1346536</td>\n",
       "      <td>1</td>\n",
       "    </tr>\n",
       "    <tr>\n",
       "      <th>10033369-4</th>\n",
       "      <th>MEDINA SANCHEZ ROXANA SOLEDAD</th>\n",
       "      <th>3530_UNIDAD APOYO ANESTESIA Y PABELLON</th>\n",
       "      <th>127_TECNICO PARAMEDICO</th>\n",
       "      <td>1130457</td>\n",
       "      <td>1</td>\n",
       "    </tr>\n",
       "    <tr>\n",
       "      <th>10036715-7</th>\n",
       "      <th>VILLALOBOS RUIZ ARNOLDO ALFONSO</th>\n",
       "      <th>3312_UNIDAD DE MEDICINA INTERMEDIA</th>\n",
       "      <th>130_TECNICO NIVEL SUPERIOR ENFERMERIA</th>\n",
       "      <td>1023328</td>\n",
       "      <td>1</td>\n",
       "    </tr>\n",
       "    <tr>\n",
       "      <th>10044862-9</th>\n",
       "      <th>REYES REYES SANDRA BELGICA</th>\n",
       "      <th>3578_ADMISION</th>\n",
       "      <th>10_ENFERMERA</th>\n",
       "      <td>2510150</td>\n",
       "      <td>1</td>\n",
       "    </tr>\n",
       "    <tr>\n",
       "      <th>10081465-K</th>\n",
       "      <th>BAEZA MARTINEZ SANDRA MARIANELA</th>\n",
       "      <th>4159_GESTION DE PACIENTES</th>\n",
       "      <th>119_ADMINISTRATIVO</th>\n",
       "      <td>569096</td>\n",
       "      <td>2</td>\n",
       "    </tr>\n",
       "    <tr>\n",
       "      <th>...</th>\n",
       "      <th>...</th>\n",
       "      <th>...</th>\n",
       "      <th>...</th>\n",
       "      <td>...</td>\n",
       "      <td>...</td>\n",
       "    </tr>\n",
       "    <tr>\n",
       "      <th>9919326-3</th>\n",
       "      <th>VILLEGAS CURIANTE JIMENA C</th>\n",
       "      <th>3578_ADMISION</th>\n",
       "      <th>127_TECNICO PARAMEDICO</th>\n",
       "      <td>929478</td>\n",
       "      <td>1</td>\n",
       "    </tr>\n",
       "    <tr>\n",
       "      <th>9920592-K</th>\n",
       "      <th>LAZO MALDONADO CARMEN GLORIA</th>\n",
       "      <th>3312_UNIDAD DE MEDICINA INTERMEDIA</th>\n",
       "      <th>111_AUXILIAR</th>\n",
       "      <td>588598</td>\n",
       "      <td>1</td>\n",
       "    </tr>\n",
       "    <tr>\n",
       "      <th>9964171-1</th>\n",
       "      <th>SARMIENTO RIVAS LUIS ALFREDO</th>\n",
       "      <th>1945_DEPARTAMENTO OPERACIONES</th>\n",
       "      <th>111_AUXILIAR</th>\n",
       "      <td>959105</td>\n",
       "      <td>1</td>\n",
       "    </tr>\n",
       "    <tr>\n",
       "      <th>9972984-8</th>\n",
       "      <th>GRAVER POBLETE LEONEL HORACIO</th>\n",
       "      <th>3577_UNIDAD DE CUIDADOS INTENSIVOS</th>\n",
       "      <th>10_ENFERMERA</th>\n",
       "      <td>2369833</td>\n",
       "      <td>1</td>\n",
       "    </tr>\n",
       "    <tr>\n",
       "      <th>9976094-K</th>\n",
       "      <th>LINACRE SANDOVAL VIRGINIA ALEJANDRA</th>\n",
       "      <th>3361_UNIDAD DE TRANSPLANTE TORAXICO</th>\n",
       "      <th>M200_MEDICO CIRUJANO</th>\n",
       "      <td>3011387</td>\n",
       "      <td>1</td>\n",
       "    </tr>\n",
       "  </tbody>\n",
       "</table>\n",
       "<p>811 rows × 2 columns</p>\n",
       "</div>"
      ],
      "text/plain": [
       "                                                                                                                               TOTAL HABER  \\\n",
       "RUT-DV     NOMBRE                              UNIDAD                                   CARGO                                                \n",
       "10007232-7 CAMPOS PONCE SANDRA EVA             3364_SERVICIO DE MEDICINA BRONCOPULMONAR 127_TECNICO PARAMEDICO                     1346536   \n",
       "10033369-4 MEDINA SANCHEZ ROXANA SOLEDAD       3530_UNIDAD APOYO ANESTESIA Y PABELLON   127_TECNICO PARAMEDICO                     1130457   \n",
       "10036715-7 VILLALOBOS RUIZ ARNOLDO ALFONSO     3312_UNIDAD DE MEDICINA INTERMEDIA       130_TECNICO NIVEL SUPERIOR ENFERMERIA      1023328   \n",
       "10044862-9 REYES REYES SANDRA BELGICA          3578_ADMISION                            10_ENFERMERA                               2510150   \n",
       "10081465-K BAEZA MARTINEZ SANDRA MARIANELA     4159_GESTION DE PACIENTES                119_ADMINISTRATIVO                          569096   \n",
       "...                                                                                                                                    ...   \n",
       "9919326-3  VILLEGAS CURIANTE JIMENA C          3578_ADMISION                            127_TECNICO PARAMEDICO                      929478   \n",
       "9920592-K  LAZO MALDONADO CARMEN GLORIA        3312_UNIDAD DE MEDICINA INTERMEDIA       111_AUXILIAR                                588598   \n",
       "9964171-1  SARMIENTO RIVAS LUIS ALFREDO        1945_DEPARTAMENTO OPERACIONES            111_AUXILIAR                                959105   \n",
       "9972984-8  GRAVER POBLETE LEONEL HORACIO       3577_UNIDAD DE CUIDADOS INTENSIVOS       10_ENFERMERA                               2369833   \n",
       "9976094-K  LINACRE SANDOVAL VIRGINIA ALEJANDRA 3361_UNIDAD DE TRANSPLANTE TORAXICO      M200_MEDICO CIRUJANO                       3011387   \n",
       "\n",
       "                                                                                                                               TIPO CONTRATA  \n",
       "RUT-DV     NOMBRE                              UNIDAD                                   CARGO                                                 \n",
       "10007232-7 CAMPOS PONCE SANDRA EVA             3364_SERVICIO DE MEDICINA BRONCOPULMONAR 127_TECNICO PARAMEDICO                             1  \n",
       "10033369-4 MEDINA SANCHEZ ROXANA SOLEDAD       3530_UNIDAD APOYO ANESTESIA Y PABELLON   127_TECNICO PARAMEDICO                             1  \n",
       "10036715-7 VILLALOBOS RUIZ ARNOLDO ALFONSO     3312_UNIDAD DE MEDICINA INTERMEDIA       130_TECNICO NIVEL SUPERIOR ENFERMERIA              1  \n",
       "10044862-9 REYES REYES SANDRA BELGICA          3578_ADMISION                            10_ENFERMERA                                       1  \n",
       "10081465-K BAEZA MARTINEZ SANDRA MARIANELA     4159_GESTION DE PACIENTES                119_ADMINISTRATIVO                                 2  \n",
       "...                                                                                                                                      ...  \n",
       "9919326-3  VILLEGAS CURIANTE JIMENA C          3578_ADMISION                            127_TECNICO PARAMEDICO                             1  \n",
       "9920592-K  LAZO MALDONADO CARMEN GLORIA        3312_UNIDAD DE MEDICINA INTERMEDIA       111_AUXILIAR                                       1  \n",
       "9964171-1  SARMIENTO RIVAS LUIS ALFREDO        1945_DEPARTAMENTO OPERACIONES            111_AUXILIAR                                       1  \n",
       "9972984-8  GRAVER POBLETE LEONEL HORACIO       3577_UNIDAD DE CUIDADOS INTENSIVOS       10_ENFERMERA                                       1  \n",
       "9976094-K  LINACRE SANDOVAL VIRGINIA ALEJANDRA 3361_UNIDAD DE TRANSPLANTE TORAXICO      M200_MEDICO CIRUJANO                               1  \n",
       "\n",
       "[811 rows x 2 columns]"
      ]
     },
     "execution_count": 222,
     "metadata": {},
     "output_type": "execute_result"
    }
   ],
   "source": [
    "desglose_sin_cc_repetidos"
   ]
  },
  {
   "cell_type": "code",
   "execution_count": null,
   "metadata": {},
   "outputs": [],
   "source": []
  }
 ],
 "metadata": {
  "kernelspec": {
   "display_name": "Python 3.10.6 64-bit",
   "language": "python",
   "name": "python3"
  },
  "language_info": {
   "codemirror_mode": {
    "name": "ipython",
    "version": 3
   },
   "file_extension": ".py",
   "mimetype": "text/x-python",
   "name": "python",
   "nbconvert_exporter": "python",
   "pygments_lexer": "ipython3",
   "version": "3.10.6"
  },
  "orig_nbformat": 4,
  "vscode": {
   "interpreter": {
    "hash": "01515e38d2d4c9d68a7cdf4111cc430df5b00f8319213d00f2225d05549d76c7"
   }
  }
 },
 "nbformat": 4,
 "nbformat_minor": 2
}
