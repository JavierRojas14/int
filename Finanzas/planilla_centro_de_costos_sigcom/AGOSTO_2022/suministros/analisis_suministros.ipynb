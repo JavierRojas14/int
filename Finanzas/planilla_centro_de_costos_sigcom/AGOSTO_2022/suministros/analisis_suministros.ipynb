{
 "cells": [
  {
   "cell_type": "code",
   "execution_count": 1,
   "metadata": {},
   "outputs": [],
   "source": [
    "import pandas as pd"
   ]
  },
  {
   "cell_type": "code",
   "execution_count": 2,
   "metadata": {},
   "outputs": [],
   "source": [
    "df = pd.read_excel('CHECKPOINT_1.xlsx', sheet_name = 3)\n",
    "produccion = pd.read_excel('Producción para PERC agosto 2022 A.xlsx', header = 3)"
   ]
  },
  {
   "cell_type": "code",
   "execution_count": 3,
   "metadata": {},
   "outputs": [],
   "source": [
    "produccion_agosto = produccion.copy()\n",
    "produccion_agosto['EGRESOS'] = produccion_agosto['EGRESOS'].fillna('PLACEHOLDER')\n",
    "produccion_agosto = produccion_agosto.set_index('EGRESOS')\n",
    "produccion_agosto = produccion_agosto['AGOSTO']"
   ]
  },
  {
   "cell_type": "code",
   "execution_count": 4,
   "metadata": {},
   "outputs": [],
   "source": [
    "mask_imagenologia = produccion_agosto.index.str.contains('IMAGENOLOGIA') | produccion_agosto.index.str.contains('TOMOGRAFIA')\n",
    "\n",
    "mask_pabellon = produccion_agosto.index.str.contains('QUIRCFANOS CARDIOVASCULAR') | produccion_agosto.index.str.contains('QUIROFANOS CIRUGIA TORACICA')\n",
    "\n",
    "mask_desglose_medicina_interna = produccion_agosto.index.str.contains('HOSPITALIZACION MEDICINA INTERNA') | produccion_agosto.index.str.contains('HOSPITALIZACION QUIRURGICA')\n",
    "\n",
    "mask_desglose_lab_clinico = produccion_agosto.index.str.contains('LABORATORIO CLINICO') | produccion_agosto.index.str.contains('BANCO DE SANGRE')\n",
    "\n",
    "mask_desglose_procedimientos_hemodinamia = produccion_agosto.index.str.contains('HEMODINAMIA') | produccion_agosto.index.str.contains('TAVI') | \\\n",
    "                            produccion_agosto.index.str.contains('EBUS') | produccion_agosto.index.str.contains('NEUMOLOGIA')\n",
    "\n",
    "mask_desglose_procedimientos_cardiologia = produccion_agosto.index.str.contains('CARDIOLOGIA') | produccion_agosto.index.str.contains('ECMO') | \\\n",
    "                            produccion_agosto.index.str.contains('CIRUGIA CARDIACA') | produccion_agosto.index.str.contains('CIRUGIA GENERAL')\n",
    "\n",
    "mask_desglose_uci = produccion_agosto.index.str.contains('UNIDAD DE CUIDADOS INTENSIVOS') | produccion_agosto.index.str.contains('UNIDAD DE TRATAMIENTO INTENSIVO ADULTO')\n",
    "\n",
    "mask_desglose_onco = produccion_agosto.index.str.contains('ONCOLOGIA') | produccion_agosto.index.str.contains('MANEJO')\n",
    "\n",
    "mask_desglose_admin = produccion_agosto.index.str.contains('NUTRICION')\n",
    "\n",
    "mask_consultas = produccion_agosto.index.str.contains('CONSULTA') "
   ]
  },
  {
   "cell_type": "code",
   "execution_count": 5,
   "metadata": {},
   "outputs": [],
   "source": [
    "def obtener_porcentaje_de_produccion(mask, produccion):\n",
    "    df_mask = produccion[mask].to_frame()\n",
    "    df_mask['porcentajes'] = df_mask / df_mask.sum()\n",
    "    return df_mask"
   ]
  },
  {
   "cell_type": "code",
   "execution_count": 158,
   "metadata": {},
   "outputs": [
    {
     "name": "stderr",
     "output_type": "stream",
     "text": [
      "C:\\Users\\gmolina\\AppData\\Local\\Temp\\ipykernel_17744\\2608695061.py:3: FutureWarning: Dropping of nuisance columns in DataFrame reductions (with 'numeric_only=None') is deprecated; in a future version this will raise TypeError.  Select only valid columns before calling the reduction.\n",
      "  df_mask['porcentajes'] = df_mask / df_mask.sum()\n"
     ]
    },
    {
     "data": {
      "text/html": [
       "<div>\n",
       "<style scoped>\n",
       "    .dataframe tbody tr th:only-of-type {\n",
       "        vertical-align: middle;\n",
       "    }\n",
       "\n",
       "    .dataframe tbody tr th {\n",
       "        vertical-align: top;\n",
       "    }\n",
       "\n",
       "    .dataframe thead th {\n",
       "        text-align: right;\n",
       "    }\n",
       "</style>\n",
       "<table border=\"1\" class=\"dataframe\">\n",
       "  <thead>\n",
       "    <tr style=\"text-align: right;\">\n",
       "      <th></th>\n",
       "      <th>AGOSTO</th>\n",
       "      <th>porcentajes</th>\n",
       "    </tr>\n",
       "    <tr>\n",
       "      <th>EGRESOS</th>\n",
       "      <th></th>\n",
       "      <th></th>\n",
       "    </tr>\n",
       "  </thead>\n",
       "  <tbody>\n",
       "    <tr>\n",
       "      <th>CANTIDAD DE CONSULTAS</th>\n",
       "      <td>AGOSTO</td>\n",
       "      <td>0</td>\n",
       "    </tr>\n",
       "    <tr>\n",
       "      <th>CONSULTA CARDIOLOGIA</th>\n",
       "      <td>452</td>\n",
       "      <td>0</td>\n",
       "    </tr>\n",
       "    <tr>\n",
       "      <th>CONSULTA CIRUGIA CARDIACA</th>\n",
       "      <td>453</td>\n",
       "      <td>0</td>\n",
       "    </tr>\n",
       "    <tr>\n",
       "      <th>CONSULTA CIRUGIA GENERAL (cirugía torax)</th>\n",
       "      <td>347</td>\n",
       "      <td>0</td>\n",
       "    </tr>\n",
       "    <tr>\n",
       "      <th>CONSULTA MANEJO DEL DOLOR</th>\n",
       "      <td>62</td>\n",
       "      <td>0</td>\n",
       "    </tr>\n",
       "    <tr>\n",
       "      <th>CONSULTA NEUMOLOGIA (broncopulmonar)</th>\n",
       "      <td>2010</td>\n",
       "      <td>0</td>\n",
       "    </tr>\n",
       "    <tr>\n",
       "      <th>CONSULTA NUTRICION</th>\n",
       "      <td>10</td>\n",
       "      <td>0</td>\n",
       "    </tr>\n",
       "    <tr>\n",
       "      <th>CONSULTA ONCOLOGIA</th>\n",
       "      <td>153</td>\n",
       "      <td>0</td>\n",
       "    </tr>\n",
       "    <tr>\n",
       "      <th>CONSULTA OTROS PROFESIONALES</th>\n",
       "      <td>955</td>\n",
       "      <td>0</td>\n",
       "    </tr>\n",
       "    <tr>\n",
       "      <th>CONSULTA OTROS PROFESIONALES REM</th>\n",
       "      <td>0</td>\n",
       "      <td>0</td>\n",
       "    </tr>\n",
       "  </tbody>\n",
       "</table>\n",
       "</div>"
      ],
      "text/plain": [
       "                                          AGOSTO  porcentajes\n",
       "EGRESOS                                                      \n",
       "CANTIDAD DE CONSULTAS                     AGOSTO            0\n",
       "CONSULTA CARDIOLOGIA                         452            0\n",
       "CONSULTA CIRUGIA CARDIACA                    453            0\n",
       "CONSULTA CIRUGIA GENERAL (cirugía torax)     347            0\n",
       "CONSULTA MANEJO DEL DOLOR                     62            0\n",
       "CONSULTA NEUMOLOGIA (broncopulmonar)        2010            0\n",
       "CONSULTA NUTRICION                            10            0\n",
       "CONSULTA ONCOLOGIA                           153            0\n",
       "CONSULTA OTROS PROFESIONALES                 955            0\n",
       "CONSULTA OTROS PROFESIONALES REM               0            0"
      ]
     },
     "execution_count": 158,
     "metadata": {},
     "output_type": "execute_result"
    }
   ],
   "source": [
    "obtener_porcentaje_de_produccion(mask_imagenologia, produccion_agosto).reset_index().groupby('EGRESOS').sum()"
   ]
  },
  {
   "cell_type": "code",
   "execution_count": 178,
   "metadata": {},
   "outputs": [
    {
     "name": "stderr",
     "output_type": "stream",
     "text": [
      "C:\\Users\\gmolina\\AppData\\Local\\Temp\\ipykernel_17744\\3584679282.py:4: SettingWithCopyWarning: \n",
      "A value is trying to be set on a copy of a slice from a DataFrame.\n",
      "Try using .loc[row_indexer,col_indexer] = value instead\n",
      "\n",
      "See the caveats in the documentation: https://pandas.pydata.org/pandas-docs/stable/user_guide/indexing.html#returning-a-view-versus-a-copy\n",
      "  df_consultas_sin_dolor['porcentajes'] = df_consultas_sin_dolor / df_consultas_sin_dolor.sum()\n",
      "C:\\Users\\gmolina\\AppData\\Local\\Temp\\ipykernel_17744\\3584679282.py:5: SettingWithCopyWarning: \n",
      "A value is trying to be set on a copy of a slice from a DataFrame.\n",
      "Try using .loc[row_indexer,col_indexer] = value instead\n",
      "\n",
      "See the caveats in the documentation: https://pandas.pydata.org/pandas-docs/stable/user_guide/indexing.html#returning-a-view-versus-a-copy\n",
      "  df_consultas_sin_dolor['dinero'] = (df_consultas_sin_dolor['porcentajes'] *  383671080)\n"
     ]
    }
   ],
   "source": [
    "df_consultas = produccion_agosto[mask_consultas].iloc[1:].to_frame()\n",
    "mask_dolor = df_consultas.index == 'CONSULTA MANEJO DEL DOLOR'\n",
    "df_consultas_sin_dolor = df_consultas[~mask_dolor]\n",
    "df_consultas_sin_dolor['porcentajes'] = df_consultas_sin_dolor / df_consultas_sin_dolor.sum()\n",
    "df_consultas_sin_dolor['dinero'] = (df_consultas_sin_dolor['porcentajes'] *  383671080)"
   ]
  },
  {
   "cell_type": "code",
   "execution_count": 174,
   "metadata": {},
   "outputs": [],
   "source": [
    "df_consultas.to_excel('consultas.xlsx')"
   ]
  },
  {
   "cell_type": "code",
   "execution_count": null,
   "metadata": {},
   "outputs": [],
   "source": []
  },
  {
   "cell_type": "code",
   "execution_count": 177,
   "metadata": {},
   "outputs": [],
   "source": [
    "df_consultas_sin_dolor.reset_index().groupby('EGRESOS').sum().to_excel('consultas.xlsx')"
   ]
  },
  {
   "cell_type": "code",
   "execution_count": null,
   "metadata": {},
   "outputs": [],
   "source": []
  }
 ],
 "metadata": {
  "kernelspec": {
   "display_name": "Python 3.10.6 64-bit",
   "language": "python",
   "name": "python3"
  },
  "language_info": {
   "codemirror_mode": {
    "name": "ipython",
    "version": 3
   },
   "file_extension": ".py",
   "mimetype": "text/x-python",
   "name": "python",
   "nbconvert_exporter": "python",
   "pygments_lexer": "ipython3",
   "version": "3.10.6"
  },
  "orig_nbformat": 4,
  "vscode": {
   "interpreter": {
    "hash": "01515e38d2d4c9d68a7cdf4111cc430df5b00f8319213d00f2225d05549d76c7"
   }
  }
 },
 "nbformat": 4,
 "nbformat_minor": 2
}
