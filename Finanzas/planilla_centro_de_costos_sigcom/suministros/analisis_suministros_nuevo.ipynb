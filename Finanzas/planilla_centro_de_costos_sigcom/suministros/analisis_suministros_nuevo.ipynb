{
 "cells": [
  {
   "cell_type": "code",
   "execution_count": 1,
   "metadata": {},
   "outputs": [],
   "source": [
    "import pandas as pd"
   ]
  },
  {
   "cell_type": "code",
   "execution_count": 59,
   "metadata": {},
   "outputs": [],
   "source": [
    "df_cartola = pd.read_csv('input\\\\Cartola valorizada.csv')\n",
    "df_traductor_bodega_sigfe = pd.read_excel('input\\\\asociacion_bodega_sigfe.xlsx', header = 3)\n",
    "\n",
    "df_traductor_sigfe_sigcom_cristian = pd.read_excel('input\\\\Categorías de insumos.xlsx')\n",
    "\n",
    "\n",
    "df_traductor_bodega_sigfe = df_traductor_bodega_sigfe.rename(columns = {'Nombre Items': \\\n",
    "                                                                        'Item SIGFE'})\n",
    "TRADUCTOR_ITEM_SIGFE_ITEM_SIGCOM = df_traductor_sigfe_sigcom_cristian.iloc[66:83, [0, 1]]\n",
    "TRADUCTOR_ITEM_SIGFE_ITEM_SIGCOM = TRADUCTOR_ITEM_SIGFE_ITEM_SIGCOM.rename(columns = \n",
    "                                                                {'Destino INT': 'Item SIGFE',\n",
    "                                                                'Unnamed: 1': 'Item SIGCOM'})\n",
    "\n",
    "TRADUCTOR_DESTINO_INT_CC_SIGCOM = df_traductor_sigfe_sigcom_cristian.iloc[0:63, [0, 1]]\\\n",
    "                                         .rename(columns = {'Unnamed: 1': 'CC SIGCOM',\n",
    "                                                            'Destino INT': 'Destino'})"
   ]
  },
  {
   "cell_type": "code",
   "execution_count": 60,
   "metadata": {},
   "outputs": [],
   "source": [
    "unidas = pd.merge(df_cartola, df_traductor_bodega_sigfe, how = 'left', left_on = 'Codigo Articulo',\n",
    "                                                                        right_on = 'Código')\n",
    "\n",
    "unidas_concepto_presup = pd.merge(unidas, TRADUCTOR_ITEM_SIGFE_ITEM_SIGCOM, how = 'left',\n",
    "                                                                            on = 'Item SIGFE')\n",
    "\n",
    "unidas_destino = pd.merge(unidas_concepto_presup, TRADUCTOR_DESTINO_INT_CC_SIGCOM, how = 'left',\n",
    "                                                                                   on = 'Destino')"
   ]
  },
  {
   "cell_type": "code",
   "execution_count": 83,
   "metadata": {},
   "outputs": [],
   "source": [
    "columnas_utiles = ['Codigo Articulo', 'Nombre', 'Movimiento', 'Destino', 'Motivo', 'Familia', \n",
    "                   'Item SIGFE', 'Item SIGCOM', 'CC SIGCOM']"
   ]
  },
  {
   "cell_type": "code",
   "execution_count": 84,
   "metadata": {},
   "outputs": [],
   "source": [
    "df_final = unidas_destino.copy()\n",
    "df_final = df_final[columnas_utiles]\n",
    "df_final = df_final.query('Movimiento == \"Salida\"')\n",
    "\n",
    "mask_farmacia = ~(df_final['Destino'].str.contains('FARMACIA')) | \\\n",
    "                 (df_final['Destino'].str.contains('SECRE. FARMACIA'))\n",
    "\n",
    "df_final = df_final[mask_farmacia]\n",
    "df_final = df_final.query('`Item SIGFE` != \"Farmacia\"')"
   ]
  },
  {
   "cell_type": "code",
   "execution_count": 87,
   "metadata": {},
   "outputs": [],
   "source": [
    "motivos_a_filtrar = ['Merma', 'Préstamo', 'Devolución al Proveedor']\n",
    "df_final = df_final[~df_final['Motivo'].isin(motivos_a_filtrar)]"
   ]
  },
  {
   "cell_type": "code",
   "execution_count": 88,
   "metadata": {},
   "outputs": [],
   "source": []
  },
  {
   "cell_type": "code",
   "execution_count": 90,
   "metadata": {},
   "outputs": [
    {
     "data": {
      "text/plain": [
       "Despacho                            2591\n",
       "Despacho Manual - Programado         322\n",
       "Despacho Manual - Pedido Extra       137\n",
       "Ajuste                               103\n",
       "Despacho Manual - Regularización      64\n",
       "Despacho Manual - Fondo Fijo           9\n",
       "Otros                                  1\n",
       "Despacho Manual - Incidencia           1\n",
       "Name: Motivo, dtype: int64"
      ]
     },
     "execution_count": 90,
     "metadata": {},
     "output_type": "execute_result"
    }
   ],
   "source": [
    "df_final.Motivo.value_counts()"
   ]
  },
  {
   "cell_type": "code",
   "execution_count": null,
   "metadata": {},
   "outputs": [],
   "source": []
  }
 ],
 "metadata": {
  "kernelspec": {
   "display_name": "Python 3.10.6 64-bit",
   "language": "python",
   "name": "python3"
  },
  "language_info": {
   "codemirror_mode": {
    "name": "ipython",
    "version": 3
   },
   "file_extension": ".py",
   "mimetype": "text/x-python",
   "name": "python",
   "nbconvert_exporter": "python",
   "pygments_lexer": "ipython3",
   "version": "3.10.6"
  },
  "orig_nbformat": 4,
  "vscode": {
   "interpreter": {
    "hash": "01515e38d2d4c9d68a7cdf4111cc430df5b00f8319213d00f2225d05549d76c7"
   }
  }
 },
 "nbformat": 4,
 "nbformat_minor": 2
}
