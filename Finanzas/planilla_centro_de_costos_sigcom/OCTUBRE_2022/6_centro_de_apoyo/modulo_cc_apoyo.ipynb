{
 "cells": [
  {
   "cell_type": "code",
   "execution_count": 1,
   "metadata": {},
   "outputs": [],
   "source": [
    "import pandas as pd\n",
    "from constantes import SERVICIO_A_CC_SIGCOM"
   ]
  },
  {
   "cell_type": "code",
   "execution_count": 2,
   "metadata": {},
   "outputs": [],
   "source": [
    "file = pd.ExcelFile('input\\\\produccion_laboratorio_oct2022.xls')"
   ]
  },
  {
   "cell_type": "code",
   "execution_count": 3,
   "metadata": {},
   "outputs": [],
   "source": [
    "producciones_totales = {}\n",
    "\n",
    "for hoja in file.sheet_names:\n",
    "    if hoja != 'AAC':\n",
    "        df = pd.read_excel(file, sheet_name = hoja)\n",
    "        columna_cantidad = df.iloc[:, 12].dropna()\n",
    "        producciones_totales[hoja] = columna_cantidad.iloc[-1]\n",
    "\n",
    "    "
   ]
  },
  {
   "cell_type": "code",
   "execution_count": 4,
   "metadata": {},
   "outputs": [],
   "source": [
    "producciones_totales_df = pd.Series(producciones_totales).to_frame().reset_index()\n",
    "producciones_totales_df = producciones_totales_df.rename(columns = {0: 'produccion_total',\n",
    "                    'index': 'procedencia'})"
   ]
  },
  {
   "cell_type": "code",
   "execution_count": 5,
   "metadata": {},
   "outputs": [],
   "source": [
    "producciones_totales_df['CC SIGCOM'] = producciones_totales_df['procedencia'].apply(lambda x: SERVICIO_A_CC_SIGCOM[x])\n"
   ]
  },
  {
   "cell_type": "code",
   "execution_count": 10,
   "metadata": {},
   "outputs": [
    {
     "data": {
      "text/html": [
       "<div>\n",
       "<style scoped>\n",
       "    .dataframe tbody tr th:only-of-type {\n",
       "        vertical-align: middle;\n",
       "    }\n",
       "\n",
       "    .dataframe tbody tr th {\n",
       "        vertical-align: top;\n",
       "    }\n",
       "\n",
       "    .dataframe thead th {\n",
       "        text-align: right;\n",
       "    }\n",
       "</style>\n",
       "<table border=\"1\" class=\"dataframe\">\n",
       "  <thead>\n",
       "    <tr style=\"text-align: right;\">\n",
       "      <th></th>\n",
       "      <th>produccion_total</th>\n",
       "    </tr>\n",
       "    <tr>\n",
       "      <th>CC SIGCOM</th>\n",
       "      <th></th>\n",
       "    </tr>\n",
       "  </thead>\n",
       "  <tbody>\n",
       "    <tr>\n",
       "      <th>HOSPITALIZACIÓN CIRUGÍA CARDIOVASCULAR</th>\n",
       "      <td>1290.0</td>\n",
       "    </tr>\n",
       "    <tr>\n",
       "      <th>HOSPITALIZACIÓN MEDICINA INTERNA</th>\n",
       "      <td>3173.0</td>\n",
       "    </tr>\n",
       "    <tr>\n",
       "      <th>PABELLÓN</th>\n",
       "      <td>943.0</td>\n",
       "    </tr>\n",
       "    <tr>\n",
       "      <th>POLICLÍNICO</th>\n",
       "      <td>10131.0</td>\n",
       "    </tr>\n",
       "    <tr>\n",
       "      <th>PROCEDIMIENTOS BRONCOSCOPÍA</th>\n",
       "      <td>301.0</td>\n",
       "    </tr>\n",
       "    <tr>\n",
       "      <th>PROCEDIMIENTOS HEMODINAMIA</th>\n",
       "      <td>204.0</td>\n",
       "    </tr>\n",
       "    <tr>\n",
       "      <th>UCI</th>\n",
       "      <td>3889.0</td>\n",
       "    </tr>\n",
       "    <tr>\n",
       "      <th>UTI</th>\n",
       "      <td>11261.0</td>\n",
       "    </tr>\n",
       "  </tbody>\n",
       "</table>\n",
       "</div>"
      ],
      "text/plain": [
       "                                        produccion_total\n",
       "CC SIGCOM                                               \n",
       "HOSPITALIZACIÓN CIRUGÍA CARDIOVASCULAR            1290.0\n",
       "HOSPITALIZACIÓN MEDICINA INTERNA                  3173.0\n",
       "PABELLÓN                                           943.0\n",
       "POLICLÍNICO                                      10131.0\n",
       "PROCEDIMIENTOS BRONCOSCOPÍA                        301.0\n",
       "PROCEDIMIENTOS HEMODINAMIA                         204.0\n",
       "UCI                                               3889.0\n",
       "UTI                                              11261.0"
      ]
     },
     "execution_count": 10,
     "metadata": {},
     "output_type": "execute_result"
    }
   ],
   "source": [
    "producciones_totales_df.groupby('CC SIGCOM').sum()"
   ]
  },
  {
   "cell_type": "code",
   "execution_count": null,
   "metadata": {},
   "outputs": [],
   "source": []
  }
 ],
 "metadata": {
  "kernelspec": {
   "display_name": "Python 3.10.6 64-bit",
   "language": "python",
   "name": "python3"
  },
  "language_info": {
   "codemirror_mode": {
    "name": "ipython",
    "version": 3
   },
   "file_extension": ".py",
   "mimetype": "text/x-python",
   "name": "python",
   "nbconvert_exporter": "python",
   "pygments_lexer": "ipython3",
   "version": "3.10.6"
  },
  "orig_nbformat": 4,
  "vscode": {
   "interpreter": {
    "hash": "01515e38d2d4c9d68a7cdf4111cc430df5b00f8319213d00f2225d05549d76c7"
   }
  }
 },
 "nbformat": 4,
 "nbformat_minor": 2
}
