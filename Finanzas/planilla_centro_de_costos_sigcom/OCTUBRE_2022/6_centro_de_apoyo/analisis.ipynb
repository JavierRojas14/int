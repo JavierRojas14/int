{
 "cells": [
  {
   "cell_type": "code",
   "execution_count": 1,
   "metadata": {},
   "outputs": [],
   "source": [
    "import pandas as pd"
   ]
  },
  {
   "cell_type": "code",
   "execution_count": 21,
   "metadata": {},
   "outputs": [],
   "source": [
    "produccion = pd.read_excel('input\\\\Producción para PERC octubre 2022 A.xlsx')\n",
    "formato = pd.read_excel('input\\\\Formato 6_Distribución de Producción de CC de Apoyo 2022-10.xlsx')\n",
    "\n",
    "mes_a_analizar = input('¿Que mes quieres? Solo mayúsculas \\n> ')"
   ]
  },
  {
   "cell_type": "code",
   "execution_count": 8,
   "metadata": {},
   "outputs": [],
   "source": [
    "produccion_util = produccion.iloc[:, 1:-4]\n",
    "produccion_util.columns = ['SERVICIOS FINALES', 'ENERO', 'FEBRERO', 'MARZO', 'ABRIL', 'MAYO'\n",
    "                           'JUNIO', 'JULIO', 'AGOSTO', 'SEPTIEMBRE', 'OCTUBRE', 'NOVIEMBRE',\n",
    "                           'DICIEMBRE', 'TOTAL AÑO']\n",
    "\n",
    "produccion_util['SERVICIOS FINALES'] = produccion_util['SERVICIOS FINALES'].str.strip()\n",
    "produccion_util = produccion_util.set_index('SERVICIOS FINALES')"
   ]
  },
  {
   "cell_type": "code",
   "execution_count": 17,
   "metadata": {},
   "outputs": [],
   "source": [
    "a_buscar = ['PROCEDIMIENTO DE NEUMOLOGIA (apnea del sueño)', 'PROCEDIMIENTO DE CARDIOLOGIA',\n",
    "            'PROCEDIMIENTOS DE HEMODINAMIA', 'PROCEDIMIENTO ONCOLOGIA', 'PROCEDIMIENTO EBUS',\n",
    "            'PROCEDIMIENTO ECMO (1,5 horas c/u/)', 'PROCEDIMIENTOS ENDOSCC\u0013PICOS(broncoscopía)',\n",
    "            'PROCEDIMIENTO TAVI (4 horas c/u)', 'ECOCARDIOGRAFIA (TT)', 'ANATOMIA PATOLOGICA',\n",
    "            'BANCO DE SANGRE']"
   ]
  }
 ],
 "metadata": {
  "kernelspec": {
   "display_name": "Python 3.10.6 64-bit",
   "language": "python",
   "name": "python3"
  },
  "language_info": {
   "codemirror_mode": {
    "name": "ipython",
    "version": 3
   },
   "file_extension": ".py",
   "mimetype": "text/x-python",
   "name": "python",
   "nbconvert_exporter": "python",
   "pygments_lexer": "ipython3",
   "version": "3.10.6"
  },
  "orig_nbformat": 4,
  "vscode": {
   "interpreter": {
    "hash": "01515e38d2d4c9d68a7cdf4111cc430df5b00f8319213d00f2225d05549d76c7"
   }
  }
 },
 "nbformat": 4,
 "nbformat_minor": 2
}
