{
 "cells": [
  {
   "cell_type": "code",
   "execution_count": 1,
   "metadata": {},
   "outputs": [],
   "source": [
    "import pandas as pd"
   ]
  },
  {
   "cell_type": "code",
   "execution_count": 6,
   "metadata": {},
   "outputs": [],
   "source": [
    "file_prod = pd.ExcelFile('input\\\\Producción para PERC octubre 2022 A.xlsx')\n"
   ]
  },
  {
   "cell_type": "code",
   "execution_count": 7,
   "metadata": {},
   "outputs": [],
   "source": [
    "resumen = pd.read_excel(file_prod, sheet_name='Resumen', header=1)\n",
    "formato = pd.read_excel('input\\\\Formato 5_Producción de CC Finales 2022-10.xlsx')"
   ]
  },
  {
   "cell_type": "code",
   "execution_count": 70,
   "metadata": {},
   "outputs": [],
   "source": [
    "mes = 'Octubre'"
   ]
  },
  {
   "cell_type": "code",
   "execution_count": 71,
   "metadata": {},
   "outputs": [],
   "source": [
    "formato['Centro de Producción cortado'] = formato['Centro de Producción'].str.split('-', n=1).str[-1]\n",
    "resumen['Centro de Producción cortado'] = resumen['Centro de Producción'].str.split('-', n=1).str[-1]\n",
    "formato['Unidades de Producción cortado'] = formato['Unidades de Producción'].str.split('_').str[-1]\n",
    "resumen['Unidades de Producción cortado'] = resumen['Unidades de Producción'].str.split('_').str[-1]"
   ]
  },
  {
   "cell_type": "code",
   "execution_count": 72,
   "metadata": {},
   "outputs": [],
   "source": [
    "formato_indice = formato.set_index(['Centro de Producción cortado', 'Unidades de Producción cortado'])\n",
    "resumen_indice = resumen.set_index(['Centro de Producción cortado', 'Unidades de Producción cortado'])"
   ]
  },
  {
   "cell_type": "code",
   "execution_count": 73,
   "metadata": {},
   "outputs": [],
   "source": [
    "juntos = pd.merge(formato_indice, resumen_indice, how='left', left_index=True, right_index=True)\n",
    "output = juntos[mes].reset_index()\n"
   ]
  },
  {
   "cell_type": "code",
   "execution_count": 74,
   "metadata": {},
   "outputs": [],
   "source": [
    "output['Centro de Producción cortado'] = formato['Centro de Producción']\n",
    "output['Unidades de Producción cortado'] = formato['Unidades de Producción']\n",
    "output = output.rename(columns={'Centro de Producción cortado': 'Centro de Producción',\n",
    "'Unidades de Producción cortado': 'Unidades de Producción',\n",
    "mes: 'Valor'})"
   ]
  },
  {
   "cell_type": "code",
   "execution_count": 60,
   "metadata": {},
   "outputs": [],
   "source": [
    "output.to_csv('output.csv', sep=';', index=False, encoding='latin-1')"
   ]
  },
  {
   "cell_type": "code",
   "execution_count": null,
   "metadata": {},
   "outputs": [],
   "source": []
  }
 ],
 "metadata": {
  "kernelspec": {
   "display_name": "Python 3.10.6 64-bit",
   "language": "python",
   "name": "python3"
  },
  "language_info": {
   "codemirror_mode": {
    "name": "ipython",
    "version": 3
   },
   "file_extension": ".py",
   "mimetype": "text/x-python",
   "name": "python",
   "nbconvert_exporter": "python",
   "pygments_lexer": "ipython3",
   "version": "3.10.6"
  },
  "orig_nbformat": 4,
  "vscode": {
   "interpreter": {
    "hash": "01515e38d2d4c9d68a7cdf4111cc430df5b00f8319213d00f2225d05549d76c7"
   }
  }
 },
 "nbformat": 4,
 "nbformat_minor": 2
}
