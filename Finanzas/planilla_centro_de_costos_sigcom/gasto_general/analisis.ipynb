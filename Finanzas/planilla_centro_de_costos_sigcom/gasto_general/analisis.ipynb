{
 "cells": [
  {
   "cell_type": "code",
   "execution_count": 57,
   "metadata": {},
   "outputs": [],
   "source": [
    "import pandas as pd\n",
    "pd.set_option('display.max_colwidth', None)\n",
    "\n",
    "TRADUCTOR_SIGFE_SIGCOM = pd.read_excel('input\\\\asociacion_sigfe_sigcom.xlsx')\n",
    "TRADUCTOR_SIGFE_SIGCOM['Cod. SIGFE limpio'] = TRADUCTOR_SIGFE_SIGCOM['Cod. SIGFE limpio'].str.replace('.', '', regex = False)\n",
    "TRADUCTOR_SIGFE_SIGCOM['Cod. SIGCOM'] = TRADUCTOR_SIGFE_SIGCOM['Cod. SIGCOM'].astype(int)\n",
    "TRADUCTOR_SIGFE_SIGCOM = TRADUCTOR_SIGFE_SIGCOM.set_index('Cod. SIGFE limpio')\n",
    "\n",
    "EXCEPCIONES_SIGFE = {\n",
    "    '221299901601': 'FERNANDO BARAONA EN RRHH. ANEDIN EN GASTO GENERAL',\n",
    "    '221299901602': 'Todo en RRHH',\n",
    "    '221299900902': 'Cardiologia y Cardiocirugia en RRHH. UC Christus en gastos generales',\n",
    "    '221299900201': 'M Meneses cargado en RRHH',\n",
    "    '221299900202': 'J Andueza y Cardiocirugia en RRHH'\n",
    "}"
   ]
  },
  {
   "cell_type": "code",
   "execution_count": 58,
   "metadata": {},
   "outputs": [],
   "source": [
    "df = pd.read_excel('input\\\\SA_EstadoEjecucionPresupuestaria.xls', header = 6)\n",
    "df['Item Presupuestario'] = df['Concepto Presupuestario'].str.split() \\\n",
    "                                                         .str[0]\n",
    "df = df.set_index('Item Presupuestario')\n"
   ]
  },
  {
   "cell_type": "code",
   "execution_count": 93,
   "metadata": {},
   "outputs": [],
   "source": [
    "columnas_utiles = ['Devengado']\n",
    "agrupar_por = ['Cod. SIGCOM', 'Item en SIGCOM', 'Item Presupuestario']\n",
    "\n",
    "unidas = pd.merge(df, TRADUCTOR_SIGFE_SIGCOM, how = 'left', left_index = True, right_index = True)\n",
    "agrupados_por_sigcom = unidas.groupby(agrupar_por, dropna = False)[columnas_utiles].sum()\n",
    "conteo_articulos = unidas.groupby(agrupar_por, dropna = False)[columnas_utiles].count()"
   ]
  },
  {
   "cell_type": "code",
   "execution_count": 102,
   "metadata": {},
   "outputs": [
    {
     "name": "stdout",
     "output_type": "stream",
     "text": [
      "Excepcion 221299901601: FERNANDO BARAONA EN RRHH. ANEDIN EN GASTO GENERAL\n",
      "Excepcion 221299901602: Todo en RRHH\n",
      "Excepcion 221299900902: Cardiologia y Cardiocirugia en RRHH. UC Christus en gastos generales\n",
      "Excepcion 221299900201: M Meneses cargado en RRHH\n",
      "Excepcion 221299900202: J Andueza y Cardiocirugia en RRHH\n"
     ]
    }
   ],
   "source": [
    "df_devengos = pd.read_excel('input\\\\SA_DisponibilidadDevengoPresupuestario.xls', header = 5)\n",
    "df_devengos = df_devengos[['Titulo', 'Principal', 'Concepto Presupuestario', 'Monto Vigente', 'Monto Disponible', 'Monto Consumido']]\n",
    "df_devengos['Item Presupuestario'] = df_devengos['Concepto Presupuestario'].str.split() \\\n",
    "                                                                           .str[0]\n",
    "\n",
    "for concepto_pres_excepcion in EXCEPCIONES_SIGFE.keys():\n",
    "    query_excepcion = df_devengos.query('`Item Presupuestario` == @concepto_pres_excepcion')\n",
    "\n",
    "    if concepto_pres_excepcion == '221299901601':\n",
    "        # FER BARAONA EN RRHH, todo lo demas en gastos generales\n",
    "        mask_a_rrhh = query_excepcion['Principal'].str.contains('BARAONA')\n",
    "    \n",
    "    elif concepto_pres_excepcion == '221299901602':\n",
    "        # Todo en RRHH\n",
    "        mask_a_rrhh = query_excepcion['Principal'].notna()\n",
    "    \n",
    "    elif concepto_pres_excepcion == '221299900902':\n",
    "        # CARDIOCIRUGUA Y CARDIOLOGIA EN RRHH, LO DEMAS EN GASTOS GENERALES.\n",
    "        mask_a_rrhh = (query_excepcion['Principal'].str.contains('CARDIOLOGIA')) | \\\n",
    "                      (query_excepcion['Principal'].str.contains('CARDIOCIRUGIA'))\n",
    "\n",
    "    elif concepto_pres_excepcion == '221299900201':\n",
    "        # M MENESES EN RRHH, LO DEMAS EN GASTOS GENERALES\n",
    "        mask_a_rrhh = query_excepcion['Principal'].str.contains('MANUEL MENESES')\n",
    "        \n",
    "    elif concepto_pres_excepcion == '221299900202':\n",
    "        # ANDUEZA Y CARDIOCIRUGIA EN RRHH, LO DEMAS EN GASTOS GENERALES.\n",
    "        mask_a_rrhh = query_excepcion['Principal'].str.contains('ANDUEZA') | \\\n",
    "                      query_excepcion['Principal'].str.contains('CARDIOCIRUGIA')\n",
    "    \n",
    "    df_a_rrhh = query_excepcion[mask_a_rrhh]\n",
    "    df_a_gg = query_excepcion[~mask_a_rrhh]\n",
    "\n",
    "    print(f'Excepcion {concepto_pres_excepcion}: {EXCEPCIONES_SIGFE[concepto_pres_excepcion]}')\n",
    "    with pd.ExcelWriter(f'Excepcion {concepto_pres_excepcion}_{EXCEPCIONES_SIGFE[concepto_pres_excepcion]}.xlsx') as writer:\n",
    "        df_a_gg.to_excel(writer, sheet_name = 'a_gg', index = False)\n",
    "        df_a_rrhh.to_excel(writer, sheet_name = 'a_rrhh', index = False)"
   ]
  },
  {
   "cell_type": "code",
   "execution_count": 92,
   "metadata": {},
   "outputs": [
    {
     "data": {
      "text/html": [
       "<div>\n",
       "<style scoped>\n",
       "    .dataframe tbody tr th:only-of-type {\n",
       "        vertical-align: middle;\n",
       "    }\n",
       "\n",
       "    .dataframe tbody tr th {\n",
       "        vertical-align: top;\n",
       "    }\n",
       "\n",
       "    .dataframe thead th {\n",
       "        text-align: right;\n",
       "    }\n",
       "</style>\n",
       "<table border=\"1\" class=\"dataframe\">\n",
       "  <thead>\n",
       "    <tr style=\"text-align: right;\">\n",
       "      <th></th>\n",
       "      <th></th>\n",
       "      <th></th>\n",
       "      <th>Devengado</th>\n",
       "    </tr>\n",
       "    <tr>\n",
       "      <th>Cod. SIGCOM</th>\n",
       "      <th>Item en SIGCOM</th>\n",
       "      <th>Item Presupuestario</th>\n",
       "      <th></th>\n",
       "    </tr>\n",
       "  </thead>\n",
       "  <tbody>\n",
       "    <tr>\n",
       "      <th>8.0</th>\n",
       "      <th>EQUIPOS MENORES</th>\n",
       "      <th>2204013</th>\n",
       "      <td>918438</td>\n",
       "    </tr>\n",
       "    <tr>\n",
       "      <th>9.0</th>\n",
       "      <th>GASES MEDICINALES</th>\n",
       "      <th>2204003001</th>\n",
       "      <td>12501073</td>\n",
       "    </tr>\n",
       "    <tr>\n",
       "      <th>16.0</th>\n",
       "      <th>MATERIAL DE OSTEOSÍNTESIS Y PRÓTESIS</th>\n",
       "      <th>2204004004</th>\n",
       "      <td>196461778</td>\n",
       "    </tr>\n",
       "    <tr>\n",
       "      <th>18.0</th>\n",
       "      <th>MATERIAL MEDICO QUIRURGICO</th>\n",
       "      <th>2204005</th>\n",
       "      <td>606865914</td>\n",
       "    </tr>\n",
       "    <tr>\n",
       "      <th>24.0</th>\n",
       "      <th>MATERIALES DE OFICINA, PRODUCTOS DE PAPEL E IMPRESOS</th>\n",
       "      <th>2204001</th>\n",
       "      <td>1329242</td>\n",
       "    </tr>\n",
       "    <tr>\n",
       "      <th>...</th>\n",
       "      <th>...</th>\n",
       "      <th>...</th>\n",
       "      <td>...</td>\n",
       "    </tr>\n",
       "    <tr>\n",
       "      <th rowspan=\"5\" valign=\"top\">NaN</th>\n",
       "      <th rowspan=\"5\" valign=\"top\">NaN</th>\n",
       "      <th>2905001</th>\n",
       "      <td>0</td>\n",
       "    </tr>\n",
       "    <tr>\n",
       "      <th>2905001001</th>\n",
       "      <td>0</td>\n",
       "    </tr>\n",
       "    <tr>\n",
       "      <th>2905002</th>\n",
       "      <td>3125892</td>\n",
       "    </tr>\n",
       "    <tr>\n",
       "      <th>2905002001</th>\n",
       "      <td>3125892</td>\n",
       "    </tr>\n",
       "    <tr>\n",
       "      <th>Total</th>\n",
       "      <td>3793836607</td>\n",
       "    </tr>\n",
       "  </tbody>\n",
       "</table>\n",
       "<p>244 rows × 1 columns</p>\n",
       "</div>"
      ],
      "text/plain": [
       "                                                                                       Devengado\n",
       "Cod. SIGCOM Item en SIGCOM                                       Item Presupuestario            \n",
       "8.0         EQUIPOS MENORES                                      2204013                  918438\n",
       "9.0         GASES MEDICINALES                                    2204003001             12501073\n",
       "16.0        MATERIAL DE OSTEOSÍNTESIS Y PRÓTESIS                 2204004004            196461778\n",
       "18.0        MATERIAL MEDICO QUIRURGICO                           2204005               606865914\n",
       "24.0        MATERIALES DE OFICINA, PRODUCTOS DE PAPEL E IMPRESOS 2204001                 1329242\n",
       "...                                                                                          ...\n",
       "NaN         NaN                                                  2905001                       0\n",
       "                                                                 2905001001                    0\n",
       "                                                                 2905002                 3125892\n",
       "                                                                 2905002001              3125892\n",
       "                                                                 Total                3793836607\n",
       "\n",
       "[244 rows x 1 columns]"
      ]
     },
     "execution_count": 92,
     "metadata": {},
     "output_type": "execute_result"
    }
   ],
   "source": [
    "agrupados_por_sigcom"
   ]
  },
  {
   "cell_type": "code",
   "execution_count": null,
   "metadata": {},
   "outputs": [],
   "source": []
  }
 ],
 "metadata": {
  "kernelspec": {
   "display_name": "Python 3.10.6 64-bit",
   "language": "python",
   "name": "python3"
  },
  "language_info": {
   "codemirror_mode": {
    "name": "ipython",
    "version": 3
   },
   "file_extension": ".py",
   "mimetype": "text/x-python",
   "name": "python",
   "nbconvert_exporter": "python",
   "pygments_lexer": "ipython3",
   "version": "3.10.6"
  },
  "orig_nbformat": 4,
  "vscode": {
   "interpreter": {
    "hash": "01515e38d2d4c9d68a7cdf4111cc430df5b00f8319213d00f2225d05549d76c7"
   }
  }
 },
 "nbformat": 4,
 "nbformat_minor": 2
}
