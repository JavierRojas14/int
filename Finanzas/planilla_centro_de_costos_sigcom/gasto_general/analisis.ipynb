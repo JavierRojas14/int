{
 "cells": [
  {
   "cell_type": "code",
   "execution_count": 142,
   "metadata": {},
   "outputs": [],
   "source": [
    "import pandas as pd\n",
    "pd.set_option('display.max_colwidth', None)\n",
    "\n",
    "TRADUCTOR_SIGFE_SIGCOM = pd.read_excel('input\\\\asociacion_sigfe_sigcom.xlsx')\n",
    "TRADUCTOR_SIGFE_SIGCOM['Cod. SIGFE limpio'] = TRADUCTOR_SIGFE_SIGCOM['Cod. SIGFE limpio'].str.replace('.', '', regex = False)\n",
    "TRADUCTOR_SIGFE_SIGCOM['Cod. SIGCOM'] = TRADUCTOR_SIGFE_SIGCOM['Cod. SIGCOM'].astype(int)\n",
    "TRADUCTOR_SIGFE_SIGCOM = TRADUCTOR_SIGFE_SIGCOM.set_index('Cod. SIGFE limpio')\n",
    "\n",
    "EXCEPCIONES_SIGFE = {\n",
    "    '221299901601': 'FERNANDO BARAONA EN RRHH. ANEDIN EN GASTO GENERAL',\n",
    "    '221299901602': 'Todo en RRHH',\n",
    "    '221299900902': 'Cardiologia y Cardiocirugia en RRHH. UC Christus en gastos generales',\n",
    "    '221299900201': 'M Meneses cargado en RRHH',\n",
    "    '221299900202': 'J Andueza y Cardiocirugia en RRHH'\n",
    "}"
   ]
  },
  {
   "cell_type": "code",
   "execution_count": 229,
   "metadata": {},
   "outputs": [],
   "source": [
    "def desglosar_excepciones(agrupados_por_sigcom):\n",
    "    df_devengos = pd.read_excel('input\\\\SA_DisponibilidadDevengoPresupuestario.xls', header = 5)\n",
    "    df_devengos = df_devengos[['Titulo', 'Principal', 'Concepto Presupuestario', 'Monto Vigente', 'Monto Disponible', 'Monto Consumido']]\n",
    "    df_devengos['Item Presupuestario'] = df_devengos['Concepto Presupuestario'].str.split() \\\n",
    "                                                                            .str[0]\n",
    "\n",
    "    for concepto_pres_excepcion in EXCEPCIONES_SIGFE.keys():\n",
    "        query_excepcion = df_devengos.query('`Item Presupuestario` == @concepto_pres_excepcion')\n",
    "\n",
    "        if concepto_pres_excepcion == '221299901601':\n",
    "            # FER BARAONA EN RRHH, todo lo demas en gastos generales\n",
    "            mask_a_rrhh = query_excepcion['Principal'].str.contains('BARAONA')\n",
    "        \n",
    "        elif concepto_pres_excepcion == '221299901602':\n",
    "            # Todo en RRHH\n",
    "            mask_a_rrhh = query_excepcion['Principal'].notna()\n",
    "        \n",
    "        elif concepto_pres_excepcion == '221299900902':\n",
    "            # CARDIOCIRUGUA Y CARDIOLOGIA EN RRHH, LO DEMAS EN GASTOS GENERALES.\n",
    "            mask_a_rrhh = (query_excepcion['Principal'].str.contains('CARDIOLOGIA')) | \\\n",
    "                        (query_excepcion['Principal'].str.contains('CARDIOCIRUGIA'))\n",
    "\n",
    "        elif concepto_pres_excepcion == '221299900201':\n",
    "            # M MENESES EN RRHH, LO DEMAS EN GASTOS GENERALES\n",
    "            mask_a_rrhh = query_excepcion['Principal'].str.contains('MANUEL MENESES')\n",
    "            \n",
    "        elif concepto_pres_excepcion == '221299900202':\n",
    "            # ANDUEZA Y CARDIOCIRUGIA EN RRHH, LO DEMAS EN GASTOS GENERALES.\n",
    "            mask_a_rrhh = query_excepcion['Principal'].str.contains('ANDUEZA') | \\\n",
    "                        query_excepcion['Principal'].str.contains('CARDIOCIRUGIA')\n",
    "        \n",
    "        df_a_rrhh = query_excepcion[mask_a_rrhh]\n",
    "        df_a_gg = query_excepcion[~mask_a_rrhh]\n",
    "\n",
    "        valor_a_rrhh = df_a_rrhh['Monto Vigente'].sum()\n",
    "        valor_a_gg = df_a_gg['Monto Vigente'].sum()\n",
    "\n",
    "        mask_excepcion = (agrupados_por_sigcom['Item Presupuestario'] == concepto_pres_excepcion)\n",
    "\n",
    "        agrupados_por_sigcom.loc[mask_excepcion, 'Devengado_RRHH'] = valor_a_rrhh \n",
    "        agrupados_por_sigcom.loc[mask_excepcion, 'Devengado'] = valor_a_gg\n",
    "    \n",
    "    return agrupados_por_sigcom"
   ]
  },
  {
   "cell_type": "code",
   "execution_count": 230,
   "metadata": {},
   "outputs": [],
   "source": [
    "def correr_programa():\n",
    "    df = pd.read_excel('input\\\\SA_EstadoEjecucionPresupuestaria.xls', header = 6)\n",
    "    df['Item Presupuestario'] = df['Concepto Presupuestario'].str.split() \\\n",
    "                                                             .str[0]\n",
    "    df = df.set_index('Item Presupuestario')\n",
    "\n",
    "    columnas_utiles = ['Devengado']\n",
    "    agrupar_por = ['Cod. SIGCOM', 'Item en SIGCOM', 'Item Presupuestario']\n",
    "\n",
    "    unidas = pd.merge(df, TRADUCTOR_SIGFE_SIGCOM, how = 'left', left_index = True, right_index = True)\n",
    "    agrupados_por_presupuestario = unidas.groupby(agrupar_por, dropna = False)[columnas_utiles].sum().reset_index()\n",
    "    agrupados_por_presupuestario = desglosar_excepciones(agrupados_por_presupuestario)\n",
    "\n",
    "    agrupados_por_presupuestario['Cod. SIGCOM'] = agrupados_por_presupuestario['Cod. SIGCOM'].astype('Int32').astype(str)\n",
    "\n",
    "    agrupados_por_sigcom = agrupados_por_presupuestario.groupby('Cod. SIGCOM').sum()\n",
    "\n",
    "    return agrupados_por_presupuestario, agrupados_por_sigcom\n"
   ]
  },
  {
   "cell_type": "code",
   "execution_count": 238,
   "metadata": {},
   "outputs": [],
   "source": [
    "gastos_sigfe, gastos_sigcom = correr_programa()"
   ]
  },
  {
   "cell_type": "code",
   "execution_count": 239,
   "metadata": {},
   "outputs": [],
   "source": [
    "formato = pd.read_excel('input\\\\Formato 3_Gasto General 2022-09_2.xlsx')\n",
    "formato = formato.set_index('Unnamed: 0')\n",
    "\n",
    "columnas_antiguas = formato.columns\n",
    "formato.columns = formato.columns.str.split('-').str[0]\n",
    "\n",
    "for codigo_gasto in gastos_sigcom.index:\n",
    "    valor_a_ingresar = gastos_sigcom.loc[codigo_gasto, 'Devengado']\n",
    "    if codigo_gasto in formato.columns:\n",
    "        formato.loc['Valor General', codigo_gasto] = valor_a_ingresar\n",
    "\n",
    "formato.columns = columnas_antiguas\n",
    "formato = formato.reset_index()"
   ]
  },
  {
   "cell_type": "code",
   "execution_count": 241,
   "metadata": {},
   "outputs": [],
   "source": [
    "formato.to_excel('rellenado.xlsx', index = False)"
   ]
  },
  {
   "cell_type": "code",
   "execution_count": null,
   "metadata": {},
   "outputs": [],
   "source": []
  }
 ],
 "metadata": {
  "kernelspec": {
   "display_name": "Python 3.10.6 64-bit",
   "language": "python",
   "name": "python3"
  },
  "language_info": {
   "codemirror_mode": {
    "name": "ipython",
    "version": 3
   },
   "file_extension": ".py",
   "mimetype": "text/x-python",
   "name": "python",
   "nbconvert_exporter": "python",
   "pygments_lexer": "ipython3",
   "version": "3.10.6"
  },
  "orig_nbformat": 4,
  "vscode": {
   "interpreter": {
    "hash": "01515e38d2d4c9d68a7cdf4111cc430df5b00f8319213d00f2225d05549d76c7"
   }
  }
 },
 "nbformat": 4,
 "nbformat_minor": 2
}
