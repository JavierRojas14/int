{
 "cells": [
  {
   "cell_type": "code",
   "execution_count": 1,
   "metadata": {},
   "outputs": [],
   "source": [
    "import pandas as pd\n",
    "from constantes import COLUMNAS_A_RELLENAR\n",
    "pd.options.mode.chained_assignment = None  # default='warn'"
   ]
  },
  {
   "cell_type": "code",
   "execution_count": 2,
   "metadata": {},
   "outputs": [],
   "source": [
    "df = pd.read_excel('input\\\\output_modificandose.xlsx', sheet_name = 1)"
   ]
  },
  {
   "cell_type": "code",
   "execution_count": 3,
   "metadata": {},
   "outputs": [],
   "source": [
    "df_formato = df.rename(columns = {'RUT-DV': 'Empleado', 'TOTAL HABER': 'Total Pagado'})\n",
    "df_formato['Total Empleados'] = 1\n",
    "df_formato['Componente Salarial'] = '4-HO'\n",
    "df_formato = df_formato[['NOMBRE', 'Empleado', 'Total Empleados', 'Total Pagado', 'Componente Salarial',\n",
    "                         'COD SIGCOM CC']]\n",
    "\n",
    "one_hot_de_CC = pd.get_dummies(df_formato['COD SIGCOM CC'])\n",
    "juntos = df_formato.join(one_hot_de_CC)\n",
    "juntos = juntos.drop(columns = 'COD SIGCOM CC')"
   ]
  },
  {
   "cell_type": "code",
   "execution_count": 4,
   "metadata": {},
   "outputs": [],
   "source": [
    "formato_vacio = pd.DataFrame(columns = COLUMNAS_A_RELLENAR)\n",
    "for columna in formato_vacio.columns:\n",
    "    if columna in juntos.columns:\n",
    "        formato_vacio.loc[:, columna] = juntos[columna]\n",
    "\n",
    "formato_vacio = formato_vacio.fillna(0)"
   ]
  },
  {
   "cell_type": "code",
   "execution_count": 5,
   "metadata": {},
   "outputs": [],
   "source": [
    "formato_vacio.to_excel('output.xlsx', index = False)"
   ]
  },
  {
   "cell_type": "code",
   "execution_count": 17,
   "metadata": {},
   "outputs": [],
   "source": [
    "producciones = pd.ExcelFile('input\\\\Producción para PERC septiembre 2022 GRD.xlsx')\n",
    "ebus = pd.read_excel(producciones, sheet_name = 'EBUS', header = 5)\n",
    "ebus['Médico'] = ebus['Médico'].str.strip()\n",
    "\n",
    "ecmo = pd.read_excel(producciones, sheet_name = 'ECMO', header = 4)\n",
    "ecmo['Primer Médico'] = ecmo['Primer Médico'].str.strip()\n",
    "\n",
    "tavi = pd.read_excel(producciones, sheet_name = 'TAVI', header = 5)\n",
    "tavi['Primer Médico'] = tavi['Primer Médico'].str.strip()\n",
    "\n",
    "endoscopia = pd.read_excel(producciones, sheet_name = 'BRONCOSCOPIA')\n",
    "endoscopia['Médico'] = endoscopia['Médico'].str.strip()\n",
    "\n"
   ]
  },
  {
   "cell_type": "code",
   "execution_count": 21,
   "metadata": {},
   "outputs": [
    {
     "data": {
      "text/plain": [
       "array(['ANDINO SARMIENTO, PAULETTE MARITZA', 'CHERNILO STEINMANN, SARA',\n",
       "       'CHEYRE FORESTIER,JUAN', 'COLLAO TORRES, EDGARDO CRISTÓBAL',\n",
       "       'FERNANDEZ RUIZ,JAIME', 'FICA DELGADO,MAURICIO',\n",
       "       'GUERRA PERALTA, CARLOS OSCAR', 'JALILIE ELÍAS, ALFREDO JAVIER',\n",
       "       'LINACRE SANDOVAL,VIRGINIA', 'LÓPEZ RIVEROS, JACQUELINE',\n",
       "       'OYONARTE WELDT, MAITE', 'PINTO SANCHEZ, ANDRÉS NICOLÁS',\n",
       "       'RODRIGUEZ PATRICIO', 'RODRÍGUEZ DUQUE, JUAN CARLOS EDUARDO',\n",
       "       'VALENZUELA CORREA, HUGO LUIS', 'ZAGOLIN BLANCAIRE, MONICA MARIA',\n",
       "       nan], dtype=object)"
      ]
     },
     "execution_count": 21,
     "metadata": {},
     "output_type": "execute_result"
    }
   ],
   "source": [
    "endoscopia['Médico'].sort_values().unique()"
   ]
  },
  {
   "cell_type": "code",
   "execution_count": 24,
   "metadata": {},
   "outputs": [
    {
     "data": {
      "text/plain": [
       "array(['DAUVERGNE MAYA, CHRISTIAN ALFONSO',\n",
       "       'PINEDA ANDONAEGUI, FERNANDO JAVIER',\n",
       "       'SANDOVAL BERROCAL, JORGE ENRIQUE'], dtype=object)"
      ]
     },
     "execution_count": 24,
     "metadata": {},
     "output_type": "execute_result"
    }
   ],
   "source": [
    "tavi['Primer Médico'].sort_values().unique()"
   ]
  },
  {
   "cell_type": "code",
   "execution_count": 23,
   "metadata": {},
   "outputs": [
    {
     "data": {
      "text/plain": [
       "array(['CUEVAS OSCAR', 'DELGADO SOLIS,FELIPE', 'KURSBAUM ELIAZER,ANDRES',\n",
       "       'LINACRE SANDOVAL,VIRGINIA', 'PAULSEN MUÑOZ,CÉSAR',\n",
       "       'SALAZAR ELIZALDE,PABLO', 'SELMAN ABUCHAIBE,RAFAEL',\n",
       "       'UBILLA MATIAS', 'UBILLA SILVA,MATIAS'], dtype=object)"
      ]
     },
     "execution_count": 23,
     "metadata": {},
     "output_type": "execute_result"
    }
   ],
   "source": [
    "ecmo['Primer Médico'].sort_values().unique()"
   ]
  },
  {
   "cell_type": "code",
   "execution_count": 22,
   "metadata": {},
   "outputs": [
    {
     "data": {
      "text/plain": [
       "array(['GUERRA PERALTA, CARLOS OSCAR', 'JALILIE ELÍAS, ALFREDO JAVIER',\n",
       "       'JALILIE ELÍAS,ALFREDO', 'OYONARTE WELDT, MAITE',\n",
       "       'VALENZUELA CORREA, HUGO LUIS', 'VALENZUELA CORREA,HUGO'],\n",
       "      dtype=object)"
      ]
     },
     "execution_count": 22,
     "metadata": {},
     "output_type": "execute_result"
    }
   ],
   "source": [
    "ebus['Médico'].sort_values().unique()"
   ]
  },
  {
   "cell_type": "code",
   "execution_count": null,
   "metadata": {},
   "outputs": [],
   "source": []
  }
 ],
 "metadata": {
  "kernelspec": {
   "display_name": "Python 3.10.6 64-bit",
   "language": "python",
   "name": "python3"
  },
  "language_info": {
   "codemirror_mode": {
    "name": "ipython",
    "version": 3
   },
   "file_extension": ".py",
   "mimetype": "text/x-python",
   "name": "python",
   "nbconvert_exporter": "python",
   "pygments_lexer": "ipython3",
   "version": "3.10.6"
  },
  "orig_nbformat": 4,
  "vscode": {
   "interpreter": {
    "hash": "01515e38d2d4c9d68a7cdf4111cc430df5b00f8319213d00f2225d05549d76c7"
   }
  }
 },
 "nbformat": 4,
 "nbformat_minor": 2
}
