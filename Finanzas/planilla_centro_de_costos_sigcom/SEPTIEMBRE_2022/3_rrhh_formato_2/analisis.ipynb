{
 "cells": [
  {
   "cell_type": "code",
   "execution_count": 1,
   "metadata": {},
   "outputs": [],
   "source": [
    "import pandas as pd\n",
    "from constantes import COLUMNAS_A_RELLENAR\n",
    "pd.options.mode.chained_assignment = None  # default='warn'"
   ]
  },
  {
   "cell_type": "code",
   "execution_count": 2,
   "metadata": {},
   "outputs": [],
   "source": [
    "df = pd.read_excel('input\\\\output_modificandose.xlsx', sheet_name = 1)"
   ]
  },
  {
   "cell_type": "code",
   "execution_count": 4,
   "metadata": {},
   "outputs": [],
   "source": [
    "df_formato = df.rename(columns = {'RUT-DV': 'Empleado', 'TOTAL HABER': 'Total Pagado'})\n",
    "df_formato['Total Empleados'] = 1\n",
    "df_formato['Componente Salarial'] = '4-HO'\n",
    "df_formato = df_formato[['NOMBRE', 'Empleado', 'Total Empleados', 'Total Pagado', 'Componente Salarial',\n",
    "                         'COD SIGCOM CC']]\n",
    "\n",
    "one_hot_de_CC = pd.get_dummies(df_formato['COD SIGCOM CC'])\n",
    "juntos = df_formato.join(one_hot_de_CC)\n",
    "juntos = juntos.drop(columns = 'COD SIGCOM CC')"
   ]
  },
  {
   "cell_type": "code",
   "execution_count": 5,
   "metadata": {},
   "outputs": [],
   "source": [
    "formato_vacio = pd.DataFrame(columns = COLUMNAS_A_RELLENAR)\n",
    "for columna in formato_vacio.columns:\n",
    "    if columna in juntos.columns:\n",
    "        formato_vacio.loc[:, columna] = juntos[columna]\n",
    "\n",
    "formato_vacio = formato_vacio.fillna(0)"
   ]
  },
  {
   "cell_type": "code",
   "execution_count": 7,
   "metadata": {},
   "outputs": [],
   "source": [
    "formato_vacio.to_excel('output.xlsx', index = False)"
   ]
  },
  {
   "cell_type": "code",
   "execution_count": 27,
   "metadata": {},
   "outputs": [],
   "source": [
    "producciones = pd.ExcelFile('input\\\\Producción para PERC septiembre 2022 GRD.xlsx')\n",
    "ebus = pd.read_excel(producciones, sheet_name = 'EBUS', header = 5)\n",
    "ebus['Médico'] = ebus['Médico'].str.strip()\n",
    "\n",
    "ecmo = pd.read_excel(producciones, sheet_name = 'ECMO', header = 4)\n",
    "ecmo['Primer Médico'] = ecmo['Primer Médico'].str.strip()\n",
    "\n",
    "tavi = pd.read_excel(producciones, sheet_name = 'TAVI', header = 5)\n",
    "tavi['Primer Médico'] = tavi['Primer Médico'].str.strip()"
   ]
  },
  {
   "cell_type": "code",
   "execution_count": 31,
   "metadata": {},
   "outputs": [
    {
     "data": {
      "text/plain": [
       "DAUVERGNE MAYA, CHRISTIAN ALFONSO     0.393939\n",
       "SANDOVAL BERROCAL, JORGE ENRIQUE      0.333333\n",
       "PINEDA ANDONAEGUI, FERNANDO JAVIER    0.272727\n",
       "Name: Primer Médico, dtype: float64"
      ]
     },
     "execution_count": 31,
     "metadata": {},
     "output_type": "execute_result"
    }
   ],
   "source": [
    "tavi['Primer Médico'].value_counts(normalize = True)"
   ]
  },
  {
   "cell_type": "code",
   "execution_count": 32,
   "metadata": {},
   "outputs": [
    {
     "data": {
      "text/plain": [
       "SALAZAR ELIZALDE,PABLO       0.379310\n",
       "PAULSEN MUÑOZ,CÉSAR          0.241379\n",
       "KURSBAUM ELIAZER,ANDRES      0.068966\n",
       "DELGADO SOLIS,FELIPE         0.068966\n",
       "LINACRE SANDOVAL,VIRGINIA    0.068966\n",
       "UBILLA MATIAS                0.068966\n",
       "CUEVAS OSCAR                 0.034483\n",
       "SELMAN ABUCHAIBE,RAFAEL      0.034483\n",
       "UBILLA SILVA,MATIAS          0.034483\n",
       "Name: Primer Médico, dtype: float64"
      ]
     },
     "execution_count": 32,
     "metadata": {},
     "output_type": "execute_result"
    }
   ],
   "source": [
    "ecmo['Primer Médico'].value_counts(normalize = True)"
   ]
  },
  {
   "cell_type": "code",
   "execution_count": 33,
   "metadata": {},
   "outputs": [
    {
     "data": {
      "text/plain": [
       "JALILIE ELÍAS, ALFREDO JAVIER    0.591160\n",
       "VALENZUELA CORREA, HUGO LUIS     0.226519\n",
       "JALILIE ELÍAS,ALFREDO            0.093923\n",
       "GUERRA PERALTA, CARLOS OSCAR     0.060773\n",
       "VALENZUELA CORREA,HUGO           0.022099\n",
       "OYONARTE WELDT, MAITE            0.005525\n",
       "Name: Médico, dtype: float64"
      ]
     },
     "execution_count": 33,
     "metadata": {},
     "output_type": "execute_result"
    }
   ],
   "source": [
    "ebus['Médico'].value_counts(normalize = True)"
   ]
  },
  {
   "cell_type": "code",
   "execution_count": null,
   "metadata": {},
   "outputs": [],
   "source": []
  }
 ],
 "metadata": {
  "kernelspec": {
   "display_name": "Python 3.10.6 64-bit",
   "language": "python",
   "name": "python3"
  },
  "language_info": {
   "codemirror_mode": {
    "name": "ipython",
    "version": 3
   },
   "file_extension": ".py",
   "mimetype": "text/x-python",
   "name": "python",
   "nbconvert_exporter": "python",
   "pygments_lexer": "ipython3",
   "version": "3.10.6"
  },
  "orig_nbformat": 4,
  "vscode": {
   "interpreter": {
    "hash": "01515e38d2d4c9d68a7cdf4111cc430df5b00f8319213d00f2225d05549d76c7"
   }
  }
 },
 "nbformat": 4,
 "nbformat_minor": 2
}
