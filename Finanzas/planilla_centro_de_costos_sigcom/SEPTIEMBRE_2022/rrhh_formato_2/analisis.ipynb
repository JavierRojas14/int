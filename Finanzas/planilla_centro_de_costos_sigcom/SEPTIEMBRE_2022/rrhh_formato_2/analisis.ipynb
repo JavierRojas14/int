{
 "cells": [
  {
   "cell_type": "code",
   "execution_count": 1,
   "metadata": {},
   "outputs": [],
   "source": [
    "import pandas as pd\n",
    "from constantes import COLUMNAS_A_RELLENAR\n",
    "pd.options.mode.chained_assignment = None  # default='warn'"
   ]
  },
  {
   "cell_type": "code",
   "execution_count": 2,
   "metadata": {},
   "outputs": [],
   "source": [
    "df = pd.read_excel('input\\\\output_modificandose.xlsx', sheet_name = 1)"
   ]
  },
  {
   "cell_type": "code",
   "execution_count": 4,
   "metadata": {},
   "outputs": [],
   "source": [
    "df_formato = df.rename(columns = {'RUT-DV': 'Empleado', 'TOTAL HABER': 'Total Pagado'})\n",
    "df_formato['Total Empleados'] = 1\n",
    "df_formato['Componente Salarial'] = '4-HO'\n",
    "df_formato = df_formato[['NOMBRE', 'Empleado', 'Total Empleados', 'Total Pagado', 'Componente Salarial',\n",
    "                         'COD SIGCOM CC']]\n",
    "\n",
    "one_hot_de_CC = pd.get_dummies(df_formato['COD SIGCOM CC'])\n",
    "juntos = df_formato.join(one_hot_de_CC)\n",
    "juntos = juntos.drop(columns = 'COD SIGCOM CC')"
   ]
  },
  {
   "cell_type": "code",
   "execution_count": 5,
   "metadata": {},
   "outputs": [],
   "source": [
    "formato_vacio = pd.DataFrame(columns = COLUMNAS_A_RELLENAR)\n",
    "for columna in formato_vacio.columns:\n",
    "    if columna in juntos.columns:\n",
    "        formato_vacio.loc[:, columna] = juntos[columna]\n",
    "\n",
    "formato_vacio = formato_vacio.fillna(0)"
   ]
  },
  {
   "cell_type": "code",
   "execution_count": 7,
   "metadata": {},
   "outputs": [],
   "source": [
    "formato_vacio.to_excel('output.xlsx', index = False)"
   ]
  },
  {
   "cell_type": "code",
   "execution_count": null,
   "metadata": {},
   "outputs": [],
   "source": []
  }
 ],
 "metadata": {
  "kernelspec": {
   "display_name": "Python 3.10.6 64-bit",
   "language": "python",
   "name": "python3"
  },
  "language_info": {
   "codemirror_mode": {
    "name": "ipython",
    "version": 3
   },
   "file_extension": ".py",
   "mimetype": "text/x-python",
   "name": "python",
   "nbconvert_exporter": "python",
   "pygments_lexer": "ipython3",
   "version": "3.10.6"
  },
  "orig_nbformat": 4,
  "vscode": {
   "interpreter": {
    "hash": "01515e38d2d4c9d68a7cdf4111cc430df5b00f8319213d00f2225d05549d76c7"
   }
  }
 },
 "nbformat": 4,
 "nbformat_minor": 2
}
