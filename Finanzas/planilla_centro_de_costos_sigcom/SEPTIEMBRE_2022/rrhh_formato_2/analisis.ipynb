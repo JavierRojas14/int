{
 "cells": [
  {
   "cell_type": "code",
   "execution_count": 1,
   "metadata": {},
   "outputs": [],
   "source": [
    "import pandas as pd\n",
    "from constantes import COLUMNAS_A_RELLENAR\n",
    "pd.options.mode.chained_assignment = None  # default='warn'"
   ]
  },
  {
   "cell_type": "code",
   "execution_count": 2,
   "metadata": {},
   "outputs": [],
   "source": [
    "df = pd.read_excel('input\\\\output_modificandose.xlsx', sheet_name = 1)"
   ]
  },
  {
   "cell_type": "code",
   "execution_count": 3,
   "metadata": {},
   "outputs": [],
   "source": [
    "df_formato = df.rename(columns = {'RUT-DV': 'Empleado', 'TOTAL HABER': 'Total Pagado'})\n",
    "df_formato['Total Empleados'] = 1\n",
    "df_formato['Componente Salarial'] = '4-HO'\n",
    "df_formato = df_formato[['NOMBRE', 'Empleado', 'Total Empleados', 'Total Pagado', 'Componente Salarial',\n",
    "                         'COD SIGCOM CC']]\n",
    "\n",
    "one_hot_de_CC = pd.get_dummies(df_formato['COD SIGCOM CC'])\n",
    "juntos = df_formato.join(one_hot_de_CC)\n",
    "juntos = juntos.drop(columns = 'COD SIGCOM CC')"
   ]
  },
  {
   "cell_type": "code",
   "execution_count": 4,
   "metadata": {},
   "outputs": [
    {
     "name": "stdout",
     "output_type": "stream",
     "text": [
      "Empty DataFrame\n",
      "Columns: [NOMBRE, Empleado, Total Empleados, Total Pagado, Componente Salarial, 66-HOSPITALIZACIÓN MEDICINA INTERNA, 90-HOSPITALIZACIÓN QUIRÚRGICA, 102-HOSPITALIZACIÓN CARDIOVASCULAR, 464-QUIRÓFANOS CARDIOVASCULAR, 484-QUIRÓFANOS TORACICA, 166-UNIDAD DE CUIDADOS INTENSIVOS, 195-UNIDAD DE TRATAMIENTO INTENSIVO ADULTO, 15105-CONSULTA CARDIOLOGÍA, 15107-CONSULTA ONCOLOGÍA, 15111-CONSULTA NEUMOLOGÍA, 15123-PROGRAMA MANEJO DEL DOLOR, 15201-CONSULTA CIRUGÍA GENERAL, 15220-CONSULTA CIRUGIA CARDIACA, 15008-CONSULTA NUTRICIÓN, 15010-CONSULTA OTROS PROFESIONALES, 631-CENTRO DE COSTOS EXTERNO, 15022-PROCEDIMIENTO DE NEUMOLOGÍA, 245-PROCEDIMIENTOS ASISTENCIA VENTRICULAR, 15026-PROCEDIMIENTOS DE CARDIOLOGÍA, 253-PROCEDIMIENTOS DE HEMODINAMIA, 15038-PROCEDIMIENTO ONCOLOGÍA, 262-PROCEDIMIENTOS DE TRAUMATOLOGÍA, 264-PROCEDIMIENTOS EBUS, 265-PROCEDIMIENTOS ECMO, 267-PROCEDIMIENTOS ENDOSCÓPICOS, 270-PROCEDIMIENTOS TAVI, 518-LABORATORIO CLÍNICO, 537-ECOCARDIOGRAFÍA, 41107-TOMOGRAFÍA, 41108-IMAGENOLOGÍA, 544-ANATOMÍA PATOLÓGICA, 51001-BANCO DE SANGRE, 55101-SERVICIO FARMACEUTICO, 95301-CENTRAL DE ESTERILIZACIÓN, 652-SERVICIO DE ALIMENTACIÓN, 95501-MANTENIMIENTO, 670-ADMINISTRACIÓN]\n",
      "Index: []\n",
      "\n",
      "[0 rows x 42 columns]\n"
     ]
    }
   ],
   "source": [
    "formato_vacio = pd.DataFrame(columns = COLUMNAS_A_RELLENAR)\n",
    "for columna in formato_vacio.columns:\n",
    "    if columna in juntos.columns:\n",
    "        formato_vacio.loc[:, columna] = juntos[columna]"
   ]
  },
  {
   "cell_type": "code",
   "execution_count": 6,
   "metadata": {},
   "outputs": [],
   "source": [
    "formato_vacio.to_excel('output.xlsx', index = False)"
   ]
  },
  {
   "cell_type": "code",
   "execution_count": null,
   "metadata": {},
   "outputs": [],
   "source": []
  }
 ],
 "metadata": {
  "kernelspec": {
   "display_name": "Python 3.10.6 64-bit",
   "language": "python",
   "name": "python3"
  },
  "language_info": {
   "codemirror_mode": {
    "name": "ipython",
    "version": 3
   },
   "file_extension": ".py",
   "mimetype": "text/x-python",
   "name": "python",
   "nbconvert_exporter": "python",
   "pygments_lexer": "ipython3",
   "version": "3.10.6"
  },
  "orig_nbformat": 4,
  "vscode": {
   "interpreter": {
    "hash": "01515e38d2d4c9d68a7cdf4111cc430df5b00f8319213d00f2225d05549d76c7"
   }
  }
 },
 "nbformat": 4,
 "nbformat_minor": 2
}
