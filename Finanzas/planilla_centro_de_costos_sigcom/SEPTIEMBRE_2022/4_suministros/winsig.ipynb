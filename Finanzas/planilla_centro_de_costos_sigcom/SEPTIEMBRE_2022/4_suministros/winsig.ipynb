{
 "cells": [
  {
   "cell_type": "code",
   "execution_count": 1,
   "metadata": {},
   "outputs": [],
   "source": [
    "import pandas as pd\n",
    "from constantes import WINSIG_SERVICIO_FARMACIA_CC_SIGCOM"
   ]
  },
  {
   "cell_type": "code",
   "execution_count": 19,
   "metadata": {},
   "outputs": [],
   "source": [
    "def desglosar_pabellon():\n",
    "    df_winsig = pd.read_excel('input\\\\Informe Winsig Septiembre 2022.xlsx', header=7)\n",
    "    df_winsig = df_winsig.dropna(axis=1, how='all').dropna(axis=0, how='all')\n",
    "\n",
    "    archivo_produccion = pd.ExcelFile('input\\\\output_producciones.xlsx')\n",
    "    desglose_pabellon = pd.read_excel(archivo_produccion, sheet_name='PABELLÓN')\n",
    "\n",
    "    total_pabellon = df_winsig.query('SERVICIO == \"B. PABELLON\"')['Gasto Servicio'].iloc[0]\n",
    "    desglose_pabellon['TOTAL_X_PORCENTAJE'] = desglose_pabellon['PORCENTAJES'] * total_pabellon\n",
    "\n",
    "    return desglose_pabellon\n"
   ]
  },
  {
   "cell_type": "code",
   "execution_count": 20,
   "metadata": {},
   "outputs": [],
   "source": [
    "desglose = desglosar_pabellon()"
   ]
  },
  {
   "cell_type": "code",
   "execution_count": 21,
   "metadata": {},
   "outputs": [
    {
     "data": {
      "text/html": [
       "<div>\n",
       "<style scoped>\n",
       "    .dataframe tbody tr th:only-of-type {\n",
       "        vertical-align: middle;\n",
       "    }\n",
       "\n",
       "    .dataframe tbody tr th {\n",
       "        vertical-align: top;\n",
       "    }\n",
       "\n",
       "    .dataframe thead th {\n",
       "        text-align: right;\n",
       "    }\n",
       "</style>\n",
       "<table border=\"1\" class=\"dataframe\">\n",
       "  <thead>\n",
       "    <tr style=\"text-align: right;\">\n",
       "      <th></th>\n",
       "      <th>EGRESOS</th>\n",
       "      <th>ENERO</th>\n",
       "      <th>PORCENTAJES</th>\n",
       "      <th>AGRUPACION</th>\n",
       "      <th>TOTAL_X_PORCENTAJE</th>\n",
       "    </tr>\n",
       "  </thead>\n",
       "  <tbody>\n",
       "    <tr>\n",
       "      <th>0</th>\n",
       "      <td>QUIROFANOS CARDIOVASCULAR</td>\n",
       "      <td>76</td>\n",
       "      <td>0.666667</td>\n",
       "      <td>PABELLÓN</td>\n",
       "      <td>5.257611e+07</td>\n",
       "    </tr>\n",
       "    <tr>\n",
       "      <th>1</th>\n",
       "      <td>QUIROFANOS CIRUGIA TORACICA</td>\n",
       "      <td>38</td>\n",
       "      <td>0.333333</td>\n",
       "      <td>PABELLÓN</td>\n",
       "      <td>2.628805e+07</td>\n",
       "    </tr>\n",
       "    <tr>\n",
       "      <th>2</th>\n",
       "      <td>PABELLÓN</td>\n",
       "      <td>114</td>\n",
       "      <td>1.000000</td>\n",
       "      <td>PABELLÓN</td>\n",
       "      <td>7.886416e+07</td>\n",
       "    </tr>\n",
       "  </tbody>\n",
       "</table>\n",
       "</div>"
      ],
      "text/plain": [
       "                       EGRESOS  ENERO  PORCENTAJES AGRUPACION  \\\n",
       "0    QUIROFANOS CARDIOVASCULAR     76     0.666667   PABELLÓN   \n",
       "1  QUIROFANOS CIRUGIA TORACICA     38     0.333333   PABELLÓN   \n",
       "2                     PABELLÓN    114     1.000000   PABELLÓN   \n",
       "\n",
       "   TOTAL_X_PORCENTAJE  \n",
       "0        5.257611e+07  \n",
       "1        2.628805e+07  \n",
       "2        7.886416e+07  "
      ]
     },
     "execution_count": 21,
     "metadata": {},
     "output_type": "execute_result"
    }
   ],
   "source": [
    "desglose"
   ]
  },
  {
   "cell_type": "code",
   "execution_count": null,
   "metadata": {},
   "outputs": [],
   "source": []
  }
 ],
 "metadata": {
  "kernelspec": {
   "display_name": "Python 3.10.6 64-bit",
   "language": "python",
   "name": "python3"
  },
  "language_info": {
   "codemirror_mode": {
    "name": "ipython",
    "version": 3
   },
   "file_extension": ".py",
   "mimetype": "text/x-python",
   "name": "python",
   "nbconvert_exporter": "python",
   "pygments_lexer": "ipython3",
   "version": "3.10.6"
  },
  "orig_nbformat": 4,
  "vscode": {
   "interpreter": {
    "hash": "01515e38d2d4c9d68a7cdf4111cc430df5b00f8319213d00f2225d05549d76c7"
   }
  }
 },
 "nbformat": 4,
 "nbformat_minor": 2
}
