{
 "cells": [
  {
   "cell_type": "code",
   "execution_count": 42,
   "metadata": {},
   "outputs": [],
   "source": [
    "import pandas as pd\n",
    "pd.options.display.float_format = '{:,.2f}'.format\n",
    "from constantes import WINSIG_SERVICIO_FARMACIA_CC_SIGCOM"
   ]
  },
  {
   "cell_type": "code",
   "execution_count": 43,
   "metadata": {},
   "outputs": [],
   "source": [
    "def desglosar_centro_de_costo(desglose, total_dinero):\n",
    "    con_dinero = desglose.copy()\n",
    "    con_dinero['TOTAL_X_PORCENTAJE'] = con_dinero['PORCENTAJES'] * total_dinero\n",
    "\n",
    "    return con_dinero\n"
   ]
  },
  {
   "cell_type": "code",
   "execution_count": 44,
   "metadata": {},
   "outputs": [],
   "source": [
    "df_winsig = pd.read_excel('input\\\\Informe Winsig Septiembre 2022.xlsx', header=7)\n",
    "df_winsig = df_winsig.dropna(axis=1, how='all').dropna(axis=0, how='all')\n",
    "archivo_produccion = pd.ExcelFile('input\\\\output_producciones.xlsx')\n"
   ]
  },
  {
   "cell_type": "code",
   "execution_count": 45,
   "metadata": {},
   "outputs": [],
   "source": [
    "desglose_pabellon = pd.read_excel(archivo_produccion, sheet_name='PABELLÓN')\n",
    "total_pabellon = df_winsig.query('SERVICIO == \"B. PABELLON\"')['Gasto Servicio'].iloc[0]\n",
    "con_gastos_pabellon = desglosar_centro_de_costo(desglose_pabellon, total_pabellon)"
   ]
  },
  {
   "cell_type": "code",
   "execution_count": 46,
   "metadata": {},
   "outputs": [],
   "source": [
    "desglose_policlinico = pd.read_excel(archivo_produccion, sheet_name='CONSULTAS SIN MANEJO DEL DOLOR')\n",
    "total_policlinico = df_winsig.query('SERVICIO == \"POLICLÍNICO\"')['Gasto Servicio'].iloc[0]\n",
    "con_gastos_policlinico = desglosar_centro_de_costo(desglose_policlinico, total_policlinico)\n"
   ]
  },
  {
   "cell_type": "code",
   "execution_count": 47,
   "metadata": {},
   "outputs": [
    {
     "data": {
      "text/html": [
       "<div>\n",
       "<style scoped>\n",
       "    .dataframe tbody tr th:only-of-type {\n",
       "        vertical-align: middle;\n",
       "    }\n",
       "\n",
       "    .dataframe tbody tr th {\n",
       "        vertical-align: top;\n",
       "    }\n",
       "\n",
       "    .dataframe thead th {\n",
       "        text-align: right;\n",
       "    }\n",
       "</style>\n",
       "<table border=\"1\" class=\"dataframe\">\n",
       "  <thead>\n",
       "    <tr style=\"text-align: right;\">\n",
       "      <th></th>\n",
       "      <th>EGRESOS</th>\n",
       "      <th>ENERO</th>\n",
       "      <th>PORCENTAJES</th>\n",
       "      <th>AGRUPACION</th>\n",
       "      <th>TOTAL_X_PORCENTAJE</th>\n",
       "    </tr>\n",
       "  </thead>\n",
       "  <tbody>\n",
       "    <tr>\n",
       "      <th>0</th>\n",
       "      <td>CONSULTA CARDIOLOGIA</td>\n",
       "      <td>324</td>\n",
       "      <td>0.09</td>\n",
       "      <td>CONSULTAS SIN MANEJO DEL DOLOR</td>\n",
       "      <td>32,424,464.96</td>\n",
       "    </tr>\n",
       "    <tr>\n",
       "      <th>1</th>\n",
       "      <td>CONSULTA CIRUGIA CARDIACA</td>\n",
       "      <td>302</td>\n",
       "      <td>0.08</td>\n",
       "      <td>CONSULTAS SIN MANEJO DEL DOLOR</td>\n",
       "      <td>30,222,803.76</td>\n",
       "    </tr>\n",
       "    <tr>\n",
       "      <th>2</th>\n",
       "      <td>CONSULTA CIRUGIA GENERAL (cirugía torax)</td>\n",
       "      <td>292</td>\n",
       "      <td>0.08</td>\n",
       "      <td>CONSULTAS SIN MANEJO DEL DOLOR</td>\n",
       "      <td>29,222,048.67</td>\n",
       "    </tr>\n",
       "    <tr>\n",
       "      <th>3</th>\n",
       "      <td>CONSULTA NEUMOLOGIA (broncopulmonar)</td>\n",
       "      <td>1694</td>\n",
       "      <td>0.46</td>\n",
       "      <td>CONSULTAS SIN MANEJO DEL DOLOR</td>\n",
       "      <td>169,527,912.50</td>\n",
       "    </tr>\n",
       "    <tr>\n",
       "      <th>4</th>\n",
       "      <td>CONSULTA NUTRICION</td>\n",
       "      <td>9</td>\n",
       "      <td>0.00</td>\n",
       "      <td>CONSULTAS SIN MANEJO DEL DOLOR</td>\n",
       "      <td>900,679.58</td>\n",
       "    </tr>\n",
       "    <tr>\n",
       "      <th>5</th>\n",
       "      <td>CONSULTA ONCOLOGIA</td>\n",
       "      <td>183</td>\n",
       "      <td>0.05</td>\n",
       "      <td>CONSULTAS SIN MANEJO DEL DOLOR</td>\n",
       "      <td>18,313,818.17</td>\n",
       "    </tr>\n",
       "    <tr>\n",
       "      <th>6</th>\n",
       "      <td>CONSULTA OTROS PROFESIONALES</td>\n",
       "      <td>857</td>\n",
       "      <td>0.23</td>\n",
       "      <td>CONSULTAS SIN MANEJO DEL DOLOR</td>\n",
       "      <td>85,764,711.34</td>\n",
       "    </tr>\n",
       "    <tr>\n",
       "      <th>7</th>\n",
       "      <td>CONSULTAS SIN MANEJO DEL DOLOR</td>\n",
       "      <td>3661</td>\n",
       "      <td>1.00</td>\n",
       "      <td>CONSULTAS SIN MANEJO DEL DOLOR</td>\n",
       "      <td>366,376,439.00</td>\n",
       "    </tr>\n",
       "  </tbody>\n",
       "</table>\n",
       "</div>"
      ],
      "text/plain": [
       "                                    EGRESOS  ENERO  PORCENTAJES  \\\n",
       "0                      CONSULTA CARDIOLOGIA    324         0.09   \n",
       "1                 CONSULTA CIRUGIA CARDIACA    302         0.08   \n",
       "2  CONSULTA CIRUGIA GENERAL (cirugía torax)    292         0.08   \n",
       "3      CONSULTA NEUMOLOGIA (broncopulmonar)   1694         0.46   \n",
       "4                        CONSULTA NUTRICION      9         0.00   \n",
       "5                        CONSULTA ONCOLOGIA    183         0.05   \n",
       "6              CONSULTA OTROS PROFESIONALES    857         0.23   \n",
       "7            CONSULTAS SIN MANEJO DEL DOLOR   3661         1.00   \n",
       "\n",
       "                       AGRUPACION  TOTAL_X_PORCENTAJE  \n",
       "0  CONSULTAS SIN MANEJO DEL DOLOR       32,424,464.96  \n",
       "1  CONSULTAS SIN MANEJO DEL DOLOR       30,222,803.76  \n",
       "2  CONSULTAS SIN MANEJO DEL DOLOR       29,222,048.67  \n",
       "3  CONSULTAS SIN MANEJO DEL DOLOR      169,527,912.50  \n",
       "4  CONSULTAS SIN MANEJO DEL DOLOR          900,679.58  \n",
       "5  CONSULTAS SIN MANEJO DEL DOLOR       18,313,818.17  \n",
       "6  CONSULTAS SIN MANEJO DEL DOLOR       85,764,711.34  \n",
       "7  CONSULTAS SIN MANEJO DEL DOLOR      366,376,439.00  "
      ]
     },
     "execution_count": 47,
     "metadata": {},
     "output_type": "execute_result"
    }
   ],
   "source": [
    "con_gastos_policlinico"
   ]
  },
  {
   "cell_type": "code",
   "execution_count": null,
   "metadata": {},
   "outputs": [],
   "source": []
  }
 ],
 "metadata": {
  "kernelspec": {
   "display_name": "Python 3.10.6 64-bit",
   "language": "python",
   "name": "python3"
  },
  "language_info": {
   "codemirror_mode": {
    "name": "ipython",
    "version": 3
   },
   "file_extension": ".py",
   "mimetype": "text/x-python",
   "name": "python",
   "nbconvert_exporter": "python",
   "pygments_lexer": "ipython3",
   "version": "3.10.6"
  },
  "orig_nbformat": 4,
  "vscode": {
   "interpreter": {
    "hash": "01515e38d2d4c9d68a7cdf4111cc430df5b00f8319213d00f2225d05549d76c7"
   }
  }
 },
 "nbformat": 4,
 "nbformat_minor": 2
}
