{
 "cells": [
  {
   "cell_type": "code",
   "execution_count": 1,
   "metadata": {},
   "outputs": [],
   "source": [
    "import pandas as pd\n",
    "pd.options.display.float_format = '{:,.2f}'.format\n",
    "from constantes import WINSIG_SERVICIO_FARMACIA_CC_SIGCOM"
   ]
  },
  {
   "cell_type": "code",
   "execution_count": 38,
   "metadata": {},
   "outputs": [],
   "source": [
    "def desglosar_centro_de_costo(desglose, total_dinero):\n",
    "    con_dinero = desglose.copy()\n",
    "    con_dinero['TOTAL_X_PORCENTAJE'] = con_dinero['PORCENTAJES'] * total_dinero\n",
    "\n",
    "    return con_dinero\n",
    "\n",
    "\n",
    "def rellenar_columna_medicamentos_winsig():\n",
    "    df_winsig = pd.read_excel('input\\\\Informe Winsig Septiembre 2022.xlsx', header=7)\n",
    "    df_winsig = df_winsig.dropna(axis=1, how='all').dropna(axis=0, how='all')\n",
    "    archivo_produccion = pd.ExcelFile('input\\\\output_producciones.xlsx')\n",
    "\n",
    "    desglose_pabellon = pd.read_excel(archivo_produccion, sheet_name='PABELLÓN')\n",
    "    total_pabellon = df_winsig.query('SERVICIO == \"B. PABELLON\"')['Gasto Servicio'].iloc[0]\n",
    "    con_gastos_pabellon = desglosar_centro_de_costo(desglose_pabellon, total_pabellon)\n",
    "\n",
    "    desglose_policlinico = pd.read_excel(\n",
    "        archivo_produccion, sheet_name='CONSULTAS SIN MANEJO DEL DOLOR')\n",
    "    total_policlinico = df_winsig.query('SERVICIO == \"POLICLÍNICO\"')['Gasto Servicio'].iloc[0]\n",
    "    con_gastos_policlinico = desglosar_centro_de_costo(desglose_policlinico, total_policlinico)\n",
    "\n",
    "    con_gastos_pabellon_para_concatenar = con_gastos_pabellon.iloc[:, [0, 1, 2, -1, 3]]\n",
    "    con_gastos_pabellon_para_concatenar.iloc[:, [1, 2, -1]] = None\n",
    "    con_gastos_pabellon_para_concatenar.columns = df_winsig.columns\n",
    "\n",
    "    con_gastos_policlinico_para_concatenar = con_gastos_policlinico.iloc[:, [0, 1, 2, -1, 3]]\n",
    "    con_gastos_policlinico_para_concatenar.iloc[:, [1, 2, -1]] = None\n",
    "    con_gastos_policlinico_para_concatenar.columns = df_winsig.columns\n",
    "\n",
    "    winsig_concatenado = df_winsig.copy()\n",
    "    winsig_mas_desglose = pd.concat([winsig_concatenado, con_gastos_pabellon_para_concatenar])\n",
    "    winsig_mas_desglose = pd.concat([winsig_mas_desglose, con_gastos_policlinico_para_concatenar])\n",
    "    servicios_a_sacar = ['B. PABELLON', 'PABELLÓN', 'POLICLÍNICO', 'CONSULTAS SIN MANEJO DEL DOLOR']\n",
    "    servicios_a_dejar = ~(winsig_mas_desglose['SERVICIO'].isin(servicios_a_sacar))\n",
    "\n",
    "    winsig_final = winsig_mas_desglose[servicios_a_dejar]\n",
    "    winsig_sigcom = winsig_final.copy()\n",
    "    winsig_sigcom['CC_SIGCOM'] = winsig_sigcom['SERVICIO'].apply(\n",
    "        lambda x: WINSIG_SERVICIO_FARMACIA_CC_SIGCOM[x])\n",
    "\n",
    "    agrupado_sigcom = winsig_sigcom.groupby('CC_SIGCOM')['Gasto Servicio'].sum()\n",
    "    formato = pd.read_excel('input\\\\Formato 4_Distribución Suministro 2022-10.xlsx')\n",
    "    formato = formato.set_index('Centro de Costo')\n",
    "\n",
    "    for cc, valor in agrupado_sigcom.items():\n",
    "        print(f'Imputando {cc} {valor}')\n",
    "        formato.loc[cc, '30-MEDICAMENTOS'] = valor\n",
    "\n",
    "    return formato\n"
   ]
  },
  {
   "cell_type": "code",
   "execution_count": 39,
   "metadata": {},
   "outputs": [
    {
     "name": "stdout",
     "output_type": "stream",
     "text": [
      "Imputando 102-HOSPITALIZACIÓN CARDIOVASCULAR 0.0\n",
      "Imputando 15008-CONSULTA NUTRICIÓN 900679.5823545479\n",
      "Imputando 15010-CONSULTA OTROS PROFESIONALES 85764711.34198308\n",
      "Imputando 15026-PROCEDIMIENTOS DE CARDIOLOGÍA 113294.0\n",
      "Imputando 15105-CONSULTA CARDIOLOGÍA 32424464.964763723\n",
      "Imputando 15107-CONSULTA ONCOLOGÍA 18313818.174542475\n",
      "Imputando 15111-CONSULTA NEUMOLOGÍA 169527912.50095603\n",
      "Imputando 15123-PROGRAMA MANEJO DEL DOLOR 5494747.0\n",
      "Imputando 15201-CONSULTA CIRUGÍA GENERAL 29222048.671947554\n",
      "Imputando 15220-CONSULTA CIRUGIA CARDIACA 30222803.76345261\n",
      "Imputando 166-UNIDAD DE CUIDADOS INTENSIVOS 42754923.0\n",
      "Imputando 195-UNIDAD DE TRATAMIENTO INTENSIVO ADULTO 38023316.0\n",
      "Imputando 253-PROCEDIMIENTOS DE HEMODINAMIA 1930656.0\n",
      "Imputando 267-PROCEDIMIENTOS ENDOSCÓPICOS 105884.0\n",
      "Imputando 464-QUIRÓFANOS CARDIOVASCULAR 52576108.666666664\n",
      "Imputando 484-QUIRÓFANOS TORACICA 26288054.333333332\n",
      "Imputando 66-HOSPITALIZACIÓN MEDICINA INTERNA 72548916.0\n"
     ]
    }
   ],
   "source": [
    "formato_relleno = rellenar_columna_medicamentos_winsig()"
   ]
  }
 ],
 "metadata": {
  "kernelspec": {
   "display_name": "Python 3.10.6 64-bit",
   "language": "python",
   "name": "python3"
  },
  "language_info": {
   "codemirror_mode": {
    "name": "ipython",
    "version": 3
   },
   "file_extension": ".py",
   "mimetype": "text/x-python",
   "name": "python",
   "nbconvert_exporter": "python",
   "pygments_lexer": "ipython3",
   "version": "3.10.6"
  },
  "orig_nbformat": 4,
  "vscode": {
   "interpreter": {
    "hash": "01515e38d2d4c9d68a7cdf4111cc430df5b00f8319213d00f2225d05549d76c7"
   }
  }
 },
 "nbformat": 4,
 "nbformat_minor": 2
}
