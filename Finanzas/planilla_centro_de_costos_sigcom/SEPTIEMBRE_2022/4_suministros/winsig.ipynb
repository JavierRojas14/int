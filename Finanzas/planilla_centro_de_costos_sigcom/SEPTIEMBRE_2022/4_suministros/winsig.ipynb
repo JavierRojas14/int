{
 "cells": [
  {
   "cell_type": "code",
   "execution_count": 42,
   "metadata": {},
   "outputs": [],
   "source": [
    "import pandas as pd\n",
    "pd.options.display.float_format = '{:,.2f}'.format\n",
    "from constantes import WINSIG_SERVICIO_FARMACIA_CC_SIGCOM"
   ]
  },
  {
   "cell_type": "code",
   "execution_count": 43,
   "metadata": {},
   "outputs": [],
   "source": [
    "def desglosar_centro_de_costo(desglose, total_dinero):\n",
    "    con_dinero = desglose.copy()\n",
    "    con_dinero['TOTAL_X_PORCENTAJE'] = con_dinero['PORCENTAJES'] * total_dinero\n",
    "\n",
    "    return con_dinero\n"
   ]
  },
  {
   "cell_type": "code",
   "execution_count": 44,
   "metadata": {},
   "outputs": [],
   "source": [
    "df_winsig = pd.read_excel('input\\\\Informe Winsig Septiembre 2022.xlsx', header=7)\n",
    "df_winsig = df_winsig.dropna(axis=1, how='all').dropna(axis=0, how='all')\n",
    "archivo_produccion = pd.ExcelFile('input\\\\output_producciones.xlsx')\n"
   ]
  },
  {
   "cell_type": "code",
   "execution_count": 55,
   "metadata": {},
   "outputs": [],
   "source": [
    "desglose_pabellon = pd.read_excel(archivo_produccion, sheet_name='PABELLÓN')\n",
    "total_pabellon = df_winsig.query('SERVICIO == \"B. PABELLON\"')['Gasto Servicio'].iloc[0]\n",
    "con_gastos_pabellon = desglosar_centro_de_costo(desglose_pabellon, total_pabellon)"
   ]
  },
  {
   "cell_type": "code",
   "execution_count": 56,
   "metadata": {},
   "outputs": [],
   "source": [
    "desglose_policlinico = pd.read_excel(archivo_produccion, sheet_name='CONSULTAS SIN MANEJO DEL DOLOR')\n",
    "total_policlinico = df_winsig.query('SERVICIO == \"POLICLÍNICO\"')['Gasto Servicio'].iloc[0]\n",
    "con_gastos_policlinico = desglosar_centro_de_costo(desglose_policlinico, total_policlinico)\n"
   ]
  },
  {
   "cell_type": "code",
   "execution_count": 65,
   "metadata": {},
   "outputs": [],
   "source": [
    "con_gastos_pabellon_para_concatenar = con_gastos_pabellon.iloc[:, [0, 1, 2, -1, 3]]\n",
    "con_gastos_pabellon_para_concatenar.iloc[:, [1, 2, -1]] = None\n",
    "con_gastos_pabellon_para_concatenar.columns = df_winsig.columns"
   ]
  },
  {
   "cell_type": "code",
   "execution_count": 68,
   "metadata": {},
   "outputs": [],
   "source": [
    "con_gastos_policlinico_para_concatenar = con_gastos_policlinico.iloc[:, [0, 1, 2, -1, 3]]\n",
    "con_gastos_policlinico_para_concatenar.iloc[:, [1, 2, -1]] = None\n",
    "con_gastos_policlinico_para_concatenar.columns = df_winsig.columns"
   ]
  },
  {
   "cell_type": "code",
   "execution_count": 80,
   "metadata": {},
   "outputs": [],
   "source": [
    "winsig_concatenado = df_winsig.copy()\n",
    "winsig_mas_desglose = pd.concat([winsig_concatenado, con_gastos_pabellon_para_concatenar])\n",
    "winsig_mas_desglose = pd.concat([winsig_mas_desglose, con_gastos_policlinico_para_concatenar])\n",
    "servicios_a_sacar = ['B. PABELLON', 'PABELLÓN', 'POLICLÍNICO', 'CONSULTAS SIN MANEJO DEL DOLOR']\n",
    "servicios_a_dejar = ~(winsig_mas_desglose['SERVICIO'].isin(servicios_a_sacar))\n",
    "\n",
    "winsig_final = winsig_mas_desglose[servicios_a_dejar]"
   ]
  },
  {
   "cell_type": "code",
   "execution_count": 81,
   "metadata": {},
   "outputs": [],
   "source": [
    "index = winsig_final.set_index('SERVICIO')"
   ]
  },
  {
   "cell_type": "code",
   "execution_count": 83,
   "metadata": {},
   "outputs": [],
   "source": [
    "index.to_json('prueba.json', indent=1, orient='index')"
   ]
  },
  {
   "cell_type": "code",
   "execution_count": 86,
   "metadata": {},
   "outputs": [
    {
     "ename": "ValueError",
     "evalue": "dictionary update sequence element #0 has length 21; 2 is required",
     "output_type": "error",
     "traceback": [
      "\u001b[1;31m---------------------------------------------------------------------------\u001b[0m",
      "\u001b[1;31mValueError\u001b[0m                                Traceback (most recent call last)",
      "\u001b[1;32mc:\\Users\\gmolina\\Desktop\\Javier\\INT\\finanzas\\planilla_centro_de_costos_sigcom\\SEPTIEMBRE_2022\\4_suministros\\winsig.ipynb Celda 11\u001b[0m in \u001b[0;36m<cell line: 1>\u001b[1;34m()\u001b[0m\n\u001b[1;32m----> <a href='vscode-notebook-cell:/c%3A/Users/gmolina/Desktop/Javier/INT/finanzas/planilla_centro_de_costos_sigcom/SEPTIEMBRE_2022/4_suministros/winsig.ipynb#X30sZmlsZQ%3D%3D?line=0'>1</a>\u001b[0m \u001b[39mdict\u001b[39;49m(index\u001b[39m.\u001b[39;49mindex)\n",
      "\u001b[1;31mValueError\u001b[0m: dictionary update sequence element #0 has length 21; 2 is required"
     ]
    }
   ],
   "source": [
    "dict(index.index)"
   ]
  },
  {
   "cell_type": "code",
   "execution_count": 87,
   "metadata": {},
   "outputs": [],
   "source": [
    "diciconario = {key: None for key in index.index}"
   ]
  },
  {
   "cell_type": "code",
   "execution_count": null,
   "metadata": {},
   "outputs": [],
   "source": [
    "diciconario"
   ]
  }
 ],
 "metadata": {
  "kernelspec": {
   "display_name": "Python 3.10.6 64-bit",
   "language": "python",
   "name": "python3"
  },
  "language_info": {
   "codemirror_mode": {
    "name": "ipython",
    "version": 3
   },
   "file_extension": ".py",
   "mimetype": "text/x-python",
   "name": "python",
   "nbconvert_exporter": "python",
   "pygments_lexer": "ipython3",
   "version": "3.10.6"
  },
  "orig_nbformat": 4,
  "vscode": {
   "interpreter": {
    "hash": "01515e38d2d4c9d68a7cdf4111cc430df5b00f8319213d00f2225d05549d76c7"
   }
  }
 },
 "nbformat": 4,
 "nbformat_minor": 2
}
