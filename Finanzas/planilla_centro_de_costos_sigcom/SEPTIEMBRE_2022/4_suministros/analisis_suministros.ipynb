{
 "cells": [
  {
   "cell_type": "code",
   "execution_count": 1,
   "metadata": {},
   "outputs": [],
   "source": [
    "import pandas as pd\n",
    "import numpy as np\n",
    "import random\n",
    "from constantes import TRADUCTOR_DESTINO_INT_CC_SIGCOM_JSON, TRADUCTOR_ITEM_SIGFE_ITEM_SIGCOM_JSON"
   ]
  },
  {
   "cell_type": "code",
   "execution_count": 2,
   "metadata": {},
   "outputs": [],
   "source": [
    "df = pd.read_excel('item_cc_rellenados_completos.xlsx')\n",
    "tabla_din = pd.pivot_table(df, values = 'Neto Total', index = 'CC SIGCOM', columns = 'Item SIGCOM', aggfunc=np.sum)\n",
    "tabla_din.to_excel('output.xlsx')"
   ]
  },
  {
   "cell_type": "code",
   "execution_count": 4,
   "metadata": {},
   "outputs": [],
   "source": [
    "formato = pd.read_excel('input\\\\Formato 4_Distribución Suministro 2022-10.xlsx')\n",
    "formato = formato.set_index('Centro de Costo')"
   ]
  },
  {
   "cell_type": "code",
   "execution_count": 12,
   "metadata": {},
   "outputs": [],
   "source": [
    "for cc in tabla_din.index:\n",
    "    for item_sigcom in tabla_din.columns:\n",
    "        formato.loc[cc, item_sigcom] = tabla_din.loc[cc, item_sigcom]"
   ]
  },
  {
   "cell_type": "code",
   "execution_count": 14,
   "metadata": {},
   "outputs": [],
   "source": [
    "formato.to_excel('formato_rellenandose.xlsx')"
   ]
  },
  {
   "cell_type": "code",
   "execution_count": 10,
   "metadata": {},
   "outputs": [],
   "source": [
    "diccionario_todos_los_desgloses = {\n",
    "    '41108-IMAGENOLOGÍA': ['41107-TOMOGRAFÍA', '41108-IMAGENOLOGÍA'],\n",
    "    'PABELLÓN': ['464-QUIRÓFANOS CARDIOVASCULAR', '484-QUIRÓFANOS TORACICA'],\n",
    "    '518-LABORATORIO CLÍNICO': ['51001-BANCO DE SANGRE', '518-LABORATORIO CLÍNICO'],\n",
    "    '66-HOSPITALIZACIÓN MEDICINA INTERNA': ['90-HOSPITALIZACIÓN QUIRÚRGICA', '66-HOSPITALIZACIÓN MEDICINA INTERNA'],\n",
    "    '253-PROCEDIMIENTOS DE HEMODINAMIA': ['270-PROCEDIMIENTOS TAVI', '264-PROCEDIMIENTOS EBUS', \n",
    "                                          '15022-PROCEDIMIENTO DE NEUMOLOGÍA', \n",
    "                                          '253-PROCEDIMIENTOS DE HEMODINAMIA'],\n",
    "    '15026-PROCEDIMIENTOS DE CARDIOLOGÍA': ['15105-CONSULTA CARDIOLOGÍA', '265-PROCEDIMIENTOS ECMO',\n",
    "                                           '15220-CONSULTA CIRUGIA CARDIACA', '15201-CONSULTA CIRUGÍA GENERAL',\n",
    "                                           '15026-PROCEDIMIENTOS DE CARDIOLOGÍA'],\n",
    "    '166-UNIDAD DE CUIDADOS INTENSIVOS': ['195-UNIDAD DE TRATAMIENTO INTENSIVO ADULTO', \n",
    "                                          '166-UNIDAD DE CUIDADOS INTENSIVOS'],\n",
    "    '15038-PROCEDIMIENTO ONCOLOGÍA': ['15123-PROGRAMA MANEJO DEL DOLOR',\n",
    "                                      '15107-CONSULTA ONCOLOGÍA',\n",
    "                                      '15038-PROCEDIMIENTO ONCOLOGÍA'],\n",
    "    '670-ADMINISTRACIÓN': ['15008-CONSULTA NUTRICIÓN', '670-ADMINISTRACIÓN']\n",
    "    \n",
    "}\n",
    "\n"
   ]
  },
  {
   "cell_type": "code",
   "execution_count": 68,
   "metadata": {},
   "outputs": [
    {
     "name": "stdout",
     "output_type": "stream",
     "text": [
      "El item 41108-IMAGENOLOGÍA lo estamos desglosando en 41107-TOMOGRAFÍA\n",
      "El item 41108-IMAGENOLOGÍA lo estamos desglosando en 41108-IMAGENOLOGÍA\n",
      "El item PABELLÓN lo estamos desglosando en 464-QUIRÓFANOS CARDIOVASCULAR\n",
      "El item PABELLÓN lo estamos desglosando en 484-QUIRÓFANOS TORACICA\n",
      "El item 518-LABORATORIO CLÍNICO lo estamos desglosando en 51001-BANCO DE SANGRE\n",
      "El item 518-LABORATORIO CLÍNICO lo estamos desglosando en 518-LABORATORIO CLÍNICO\n",
      "El item 66-HOSPITALIZACIÓN MEDICINA INTERNA lo estamos desglosando en 90-HOSPITALIZACIÓN QUIRÚRGICA\n",
      "El item 66-HOSPITALIZACIÓN MEDICINA INTERNA lo estamos desglosando en 66-HOSPITALIZACIÓN MEDICINA INTERNA\n",
      "El item 253-PROCEDIMIENTOS DE HEMODINAMIA lo estamos desglosando en 270-PROCEDIMIENTOS TAVI\n",
      "El item 253-PROCEDIMIENTOS DE HEMODINAMIA lo estamos desglosando en 264-PROCEDIMIENTOS EBUS\n",
      "El item 253-PROCEDIMIENTOS DE HEMODINAMIA lo estamos desglosando en 15022-PROCEDIMIENTO DE NEUMOLOGÍA\n",
      "El item 253-PROCEDIMIENTOS DE HEMODINAMIA lo estamos desglosando en 253-PROCEDIMIENTOS DE HEMODINAMIA\n",
      "El item 15026-PROCEDIMIENTOS DE CARDIOLOGÍA lo estamos desglosando en 15105-CONSULTA CARDIOLOGÍA\n",
      "El item 15026-PROCEDIMIENTOS DE CARDIOLOGÍA lo estamos desglosando en 265-PROCEDIMIENTOS ECMO\n"
     ]
    },
    {
     "ename": "ValueError",
     "evalue": "could not convert string to float: ''",
     "output_type": "error",
     "traceback": [
      "\u001b[1;31m---------------------------------------------------------------------------\u001b[0m",
      "\u001b[1;31mValueError\u001b[0m                                Traceback (most recent call last)",
      "\u001b[1;32mc:\\Users\\gmolina\\Desktop\\Javier\\INT\\finanzas\\planilla_centro_de_costos_sigcom\\SEPTIEMBRE_2022\\suministros\\analisis_suministros.ipynb Celda 4\u001b[0m in \u001b[0;36m<cell line: 2>\u001b[1;34m()\u001b[0m\n\u001b[0;32m      <a href='vscode-notebook-cell:/c%3A/Users/gmolina/Desktop/Javier/INT/finanzas/planilla_centro_de_costos_sigcom/SEPTIEMBRE_2022/suministros/analisis_suministros.ipynb#X14sZmlsZQ%3D%3D?line=7'>8</a>\u001b[0m \u001b[39mprint\u001b[39m(\u001b[39mf\u001b[39m\u001b[39m'\u001b[39m\u001b[39mEl item \u001b[39m\u001b[39m{\u001b[39;00mitem_desglose\u001b[39m}\u001b[39;00m\u001b[39m lo estamos desglosando en \u001b[39m\u001b[39m{\u001b[39;00mdesglose\u001b[39m}\u001b[39;00m\u001b[39m'\u001b[39m)\n\u001b[0;32m      <a href='vscode-notebook-cell:/c%3A/Users/gmolina/Desktop/Javier/INT/finanzas/planilla_centro_de_costos_sigcom/SEPTIEMBRE_2022/suministros/analisis_suministros.ipynb#X14sZmlsZQ%3D%3D?line=8'>9</a>\u001b[0m porcentaje \u001b[39m=\u001b[39m \u001b[39minput\u001b[39m(\u001b[39m'\u001b[39m\u001b[39m¿Qué porcentaje tiene este item?: \u001b[39m\u001b[39m'\u001b[39m)\n\u001b[1;32m---> <a href='vscode-notebook-cell:/c%3A/Users/gmolina/Desktop/Javier/INT/finanzas/planilla_centro_de_costos_sigcom/SEPTIEMBRE_2022/suministros/analisis_suministros.ipynb#X14sZmlsZQ%3D%3D?line=9'>10</a>\u001b[0m porcentaje \u001b[39m=\u001b[39m \u001b[39mfloat\u001b[39;49m(porcentaje)\n\u001b[0;32m     <a href='vscode-notebook-cell:/c%3A/Users/gmolina/Desktop/Javier/INT/finanzas/planilla_centro_de_costos_sigcom/SEPTIEMBRE_2022/suministros/analisis_suministros.ipynb#X14sZmlsZQ%3D%3D?line=10'>11</a>\u001b[0m porcentaje_cantidad \u001b[39m=\u001b[39m valores_antiguos \u001b[39m*\u001b[39m porcentaje\n\u001b[0;32m     <a href='vscode-notebook-cell:/c%3A/Users/gmolina/Desktop/Javier/INT/finanzas/planilla_centro_de_costos_sigcom/SEPTIEMBRE_2022/suministros/analisis_suministros.ipynb#X14sZmlsZQ%3D%3D?line=11'>12</a>\u001b[0m porcentaje_cantidad\u001b[39m.\u001b[39mname \u001b[39m=\u001b[39m desglose\n",
      "\u001b[1;31mValueError\u001b[0m: could not convert string to float: ''"
     ]
    }
   ],
   "source": [
    "total = pd.DataFrame()\n",
    "for item_desglose in diccionario_todos_los_desgloses:\n",
    "    if item_desglose in tabla_din.index:\n",
    "        filas_a_agregar = []\n",
    "        a_desglosar = diccionario_todos_los_desgloses[item_desglose]\n",
    "        valores_antiguos = tabla_din.loc[item_desglose]\n",
    "        for desglose in a_desglosar:\n",
    "            print(f'El item {item_desglose} lo estamos desglosando en {desglose}')\n",
    "            porcentaje = input('¿Qué porcentaje tiene este item?: ')\n",
    "            porcentaje = float(porcentaje)\n",
    "            porcentaje_cantidad = valores_antiguos * porcentaje\n",
    "            porcentaje_cantidad.name = desglose\n",
    "\n",
    "            filas_a_agregar.append(porcentaje_cantidad)\n",
    "    \n",
    "        valores_antiguos.name = 'Total'\n",
    "        filas_a_agregar.append(valores_antiguos)\n",
    "        df_super = pd.DataFrame(filas_a_agregar)\n",
    "    \n",
    "    else:\n",
    "        print('No hubo gastos en este item.')\n",
    "    \n",
    "    total = pd.concat([total, df_super])\n",
    "    \n",
    "    "
   ]
  }
 ],
 "metadata": {
  "kernelspec": {
   "display_name": "Python 3.10.6 64-bit",
   "language": "python",
   "name": "python3"
  },
  "language_info": {
   "codemirror_mode": {
    "name": "ipython",
    "version": 3
   },
   "file_extension": ".py",
   "mimetype": "text/x-python",
   "name": "python",
   "nbconvert_exporter": "python",
   "pygments_lexer": "ipython3",
   "version": "3.10.6"
  },
  "orig_nbformat": 4,
  "vscode": {
   "interpreter": {
    "hash": "01515e38d2d4c9d68a7cdf4111cc430df5b00f8319213d00f2225d05549d76c7"
   }
  }
 },
 "nbformat": 4,
 "nbformat_minor": 2
}
