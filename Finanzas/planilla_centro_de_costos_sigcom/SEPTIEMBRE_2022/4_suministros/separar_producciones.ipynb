{
 "cells": [
  {
   "cell_type": "code",
   "execution_count": 1,
   "metadata": {},
   "outputs": [],
   "source": [
    "import pandas as pd"
   ]
  },
  {
   "cell_type": "code",
   "execution_count": 4,
   "metadata": {},
   "outputs": [],
   "source": [
    "producciones = pd.read_excel('input\\\\Producción para PERC septiembre 2022 GRD.xlsx')"
   ]
  },
  {
   "cell_type": "code",
   "execution_count": 6,
   "metadata": {},
   "outputs": [],
   "source": [
    "producciones_columnas_utiles = producciones.loc[:, 'SERVICIOS FINALES':'TOTAL AÑO']"
   ]
  },
  {
   "cell_type": "code",
   "execution_count": 20,
   "metadata": {},
   "outputs": [],
   "source": [
    "nueva = producciones_columnas_utiles.copy()\n",
    "nueva.columns = nueva.iloc[2]\n",
    "nueva = nueva.drop(nueva.index[2]).reset_index(drop=True)"
   ]
  },
  {
   "cell_type": "code",
   "execution_count": 22,
   "metadata": {},
   "outputs": [
    {
     "data": {
      "text/plain": [
       "0                                    HOSP. CIRUGÍA TÓRAX\n",
       "1                                 HOSP. MEDICINA INTERNA\n",
       "2                         HOSPITALIZACION CARDIOVASCULAR\n",
       "3        HOSPITALIZACION QUIRURGICA (hosp cirugía tórax)\n",
       "4                       HOSPITALIZACION MEDICINA INTERNA\n",
       "                             ...                        \n",
       "113                     CONSULTA OTROS PROFESIONALES REM\n",
       "114                                          PLACEHOLDER\n",
       "115    REM A32 Sección C1 Atenciones telefónicas médi...\n",
       "116                                          PLACEHOLDER\n",
       "117                     Producción consultas para SIGCOM\n",
       "Name: EGRESOS, Length: 118, dtype: object"
      ]
     },
     "execution_count": 22,
     "metadata": {},
     "output_type": "execute_result"
    }
   ],
   "source": [
    "nueva['EGRESOS'].fillna('PLACEHOLDER')"
   ]
  },
  {
   "cell_type": "code",
   "execution_count": null,
   "metadata": {},
   "outputs": [],
   "source": []
  }
 ],
 "metadata": {
  "kernelspec": {
   "display_name": "Python 3.10.6 64-bit",
   "language": "python",
   "name": "python3"
  },
  "language_info": {
   "codemirror_mode": {
    "name": "ipython",
    "version": 3
   },
   "file_extension": ".py",
   "mimetype": "text/x-python",
   "name": "python",
   "nbconvert_exporter": "python",
   "pygments_lexer": "ipython3",
   "version": "3.10.6"
  },
  "orig_nbformat": 4,
  "vscode": {
   "interpreter": {
    "hash": "01515e38d2d4c9d68a7cdf4111cc430df5b00f8319213d00f2225d05549d76c7"
   }
  }
 },
 "nbformat": 4,
 "nbformat_minor": 2
}
