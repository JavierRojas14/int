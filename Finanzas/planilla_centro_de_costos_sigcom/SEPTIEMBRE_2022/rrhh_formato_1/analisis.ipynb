{
 "cells": [
  {
   "cell_type": "code",
   "execution_count": 2,
   "metadata": {},
   "outputs": [],
   "source": [
    "import pandas as pd\n",
    "import json"
   ]
  },
  {
   "cell_type": "code",
   "execution_count": 7,
   "metadata": {},
   "outputs": [],
   "source": [
    "def identificar_redundancias(df, caracteristica_a_identificar):\n",
    "    agrupar_por = ['RUT-DV'] + caracteristica_a_identificar\n",
    "    agrupado = df.groupby(by = agrupar_por).sum()\n",
    "    duplicados = agrupado[agrupado.index.get_level_values(0).duplicated(keep = False)]\n",
    "    return duplicados\n",
    "\n",
    "def hacer_cambiador_de_caracteristica_redundante(df_con_duplicados, es_de_contrato):\n",
    "    if es_de_contrato:\n",
    "        diccionario = {rut[0]: '1' for rut in df_con_duplicados.index[::2]}\n",
    "    \n",
    "    else:\n",
    "        diccionario = dict(df_con_duplicados.index[::2])\n",
    "\n",
    "    return diccionario\n",
    "\n",
    "def cambiar_redundancias(df, caracteristica_a_cambiar):\n",
    "    caracteristica_a_cambiar = False\n",
    "    if caracteristica_a_cambiar == 'CONTRATO':\n",
    "        caracteristica_a_cambiar = True\n",
    "\n",
    "    caracteristica_redundante = identificar_redundancias(df, [caracteristica_a_cambiar])\n",
    "    cambiador_caracteristica = hacer_cambiador_de_caracteristica_redundante(caracteristica_redundante)\n",
    "    print(f'Se cambiará la sgte. característica: {caracteristica_a_cambiar}:\\n'\n",
    "          f'{json.dumps(cambiador_caracteristica, indent = 1)}')\n",
    "    \n",
    "    for rut, caracteristica in cambiador_caracteristica.items():\n",
    "        df.loc[rut, caracteristica_a_cambiar] = caracteristica\n",
    "    \n",
    "    return df\n",
    "\n",
    "def formatear_df(df):\n",
    "    df['NOMBRE'] = df['NOMBRE'].str.strip()\n",
    "    df['RUT-DV'] = df['RUT-DV'].str.strip().str.upper()\n",
    "\n",
    "    df = df.set_index('RUT-DV')\n",
    "\n",
    "    return df"
   ]
  },
  {
   "cell_type": "code",
   "execution_count": 8,
   "metadata": {},
   "outputs": [],
   "source": [
    "df_15076 = pd.read_excel('input\\\\TODOS_15076.xlsx', header = 2)\n",
    "df_18834 = pd.read_excel('input\\\\TODOS_18834.xlsx', header = 2)\n",
    "df_19664 = pd.read_excel('input\\\\TODOS_19664.xlsx', header = 2)\n",
    "\n",
    "honorarios = pd.read_excel('input\\\\PERC AGOSTO.xlsx')"
   ]
  },
  {
   "cell_type": "code",
   "execution_count": 9,
   "metadata": {},
   "outputs": [],
   "source": [
    "columnas = ['RUT-DV', 'NOMBRE', 'UNIDAD', 'CARGO', 'TOTAL HABER']\n",
    "\n",
    "df_15076 = df_15076[columnas]\n",
    "df_18834 = df_18834[columnas]\n",
    "df_19664 = df_19664[columnas]\n",
    "\n",
    "juntas_contrato = pd.concat([df_15076, df_18834, df_19664])\n",
    "juntas_contrato['TIPO CONTRATA'] = 1\n",
    "\n",
    "columnas = ['RUT-DV', 'NOMBRE', 'UNIDAD O SERVICIO DONDE SE DESEMPEÑA', 'CARGO', 'VALOR TOTAL O BRUTO']\n",
    "honorarios = honorarios[columnas].rename(columns = {'UNIDAD O SERVICIO DONDE SE DESEMPEÑA': 'UNIDAD', 'VALOR TOTAL O BRUTO': 'TOTAL HABER'})\n",
    "honorarios['TIPO CONTRATA'] = 2\n",
    "\n",
    "# contrato_honorarios = pd.concat([juntas_contrato, honorarios])"
   ]
  },
  {
   "cell_type": "code",
   "execution_count": 11,
   "metadata": {},
   "outputs": [
    {
     "ename": "KeyError",
     "evalue": "'RUT-DV'",
     "output_type": "error",
     "traceback": [
      "\u001b[1;31m---------------------------------------------------------------------------\u001b[0m",
      "\u001b[1;31mKeyError\u001b[0m                                  Traceback (most recent call last)",
      "File \u001b[1;32mc:\\Users\\gmolina\\AppData\\Local\\Programs\\Python\\Python310\\lib\\site-packages\\pandas\\core\\indexes\\base.py:3629\u001b[0m, in \u001b[0;36mIndex.get_loc\u001b[1;34m(self, key, method, tolerance)\u001b[0m\n\u001b[0;32m   3628\u001b[0m \u001b[39mtry\u001b[39;00m:\n\u001b[1;32m-> 3629\u001b[0m     \u001b[39mreturn\u001b[39;00m \u001b[39mself\u001b[39;49m\u001b[39m.\u001b[39;49m_engine\u001b[39m.\u001b[39;49mget_loc(casted_key)\n\u001b[0;32m   3630\u001b[0m \u001b[39mexcept\u001b[39;00m \u001b[39mKeyError\u001b[39;00m \u001b[39mas\u001b[39;00m err:\n",
      "File \u001b[1;32mc:\\Users\\gmolina\\AppData\\Local\\Programs\\Python\\Python310\\lib\\site-packages\\pandas\\_libs\\index.pyx:136\u001b[0m, in \u001b[0;36mpandas._libs.index.IndexEngine.get_loc\u001b[1;34m()\u001b[0m\n",
      "File \u001b[1;32mc:\\Users\\gmolina\\AppData\\Local\\Programs\\Python\\Python310\\lib\\site-packages\\pandas\\_libs\\index.pyx:163\u001b[0m, in \u001b[0;36mpandas._libs.index.IndexEngine.get_loc\u001b[1;34m()\u001b[0m\n",
      "File \u001b[1;32mpandas\\_libs\\hashtable_class_helper.pxi:5198\u001b[0m, in \u001b[0;36mpandas._libs.hashtable.PyObjectHashTable.get_item\u001b[1;34m()\u001b[0m\n",
      "File \u001b[1;32mpandas\\_libs\\hashtable_class_helper.pxi:5206\u001b[0m, in \u001b[0;36mpandas._libs.hashtable.PyObjectHashTable.get_item\u001b[1;34m()\u001b[0m\n",
      "\u001b[1;31mKeyError\u001b[0m: 'RUT-DV'",
      "\nThe above exception was the direct cause of the following exception:\n",
      "\u001b[1;31mKeyError\u001b[0m                                  Traceback (most recent call last)",
      "\u001b[1;32mc:\\Users\\gmolina\\Desktop\\Javier\\INT\\finanzas\\planilla_centro_de_costos_sigcom\\SEPTIEMBRE_2022\\rrhh_formato_1\\analisis.ipynb Celda 5\u001b[0m in \u001b[0;36m<cell line: 1>\u001b[1;34m()\u001b[0m\n\u001b[1;32m----> <a href='vscode-notebook-cell:/c%3A/Users/gmolina/Desktop/Javier/INT/finanzas/planilla_centro_de_costos_sigcom/SEPTIEMBRE_2022/rrhh_formato_1/analisis.ipynb#X16sZmlsZQ%3D%3D?line=0'>1</a>\u001b[0m juntas_contrato \u001b[39m=\u001b[39m formatear_df(juntas_contrato)\n\u001b[0;32m      <a href='vscode-notebook-cell:/c%3A/Users/gmolina/Desktop/Javier/INT/finanzas/planilla_centro_de_costos_sigcom/SEPTIEMBRE_2022/rrhh_formato_1/analisis.ipynb#X16sZmlsZQ%3D%3D?line=1'>2</a>\u001b[0m juntas_contrato \u001b[39m=\u001b[39m cambiar_redundancias(juntas_contrato, \u001b[39m'\u001b[39m\u001b[39mNOMBRE\u001b[39m\u001b[39m'\u001b[39m)\n\u001b[0;32m      <a href='vscode-notebook-cell:/c%3A/Users/gmolina/Desktop/Javier/INT/finanzas/planilla_centro_de_costos_sigcom/SEPTIEMBRE_2022/rrhh_formato_1/analisis.ipynb#X16sZmlsZQ%3D%3D?line=2'>3</a>\u001b[0m juntas_contrato \u001b[39m=\u001b[39m cambiar_redundancias(juntas_contrato, \u001b[39m'\u001b[39m\u001b[39mCARGO\u001b[39m\u001b[39m'\u001b[39m)\n",
      "\u001b[1;32mc:\\Users\\gmolina\\Desktop\\Javier\\INT\\finanzas\\planilla_centro_de_costos_sigcom\\SEPTIEMBRE_2022\\rrhh_formato_1\\analisis.ipynb Celda 5\u001b[0m in \u001b[0;36mformatear_df\u001b[1;34m(df)\u001b[0m\n\u001b[0;32m     <a href='vscode-notebook-cell:/c%3A/Users/gmolina/Desktop/Javier/INT/finanzas/planilla_centro_de_costos_sigcom/SEPTIEMBRE_2022/rrhh_formato_1/analisis.ipynb#X16sZmlsZQ%3D%3D?line=30'>31</a>\u001b[0m \u001b[39mdef\u001b[39;00m \u001b[39mformatear_df\u001b[39m(df):\n\u001b[0;32m     <a href='vscode-notebook-cell:/c%3A/Users/gmolina/Desktop/Javier/INT/finanzas/planilla_centro_de_costos_sigcom/SEPTIEMBRE_2022/rrhh_formato_1/analisis.ipynb#X16sZmlsZQ%3D%3D?line=31'>32</a>\u001b[0m     df[\u001b[39m'\u001b[39m\u001b[39mNOMBRE\u001b[39m\u001b[39m'\u001b[39m] \u001b[39m=\u001b[39m df[\u001b[39m'\u001b[39m\u001b[39mNOMBRE\u001b[39m\u001b[39m'\u001b[39m]\u001b[39m.\u001b[39mstr\u001b[39m.\u001b[39mstrip()\n\u001b[1;32m---> <a href='vscode-notebook-cell:/c%3A/Users/gmolina/Desktop/Javier/INT/finanzas/planilla_centro_de_costos_sigcom/SEPTIEMBRE_2022/rrhh_formato_1/analisis.ipynb#X16sZmlsZQ%3D%3D?line=32'>33</a>\u001b[0m     df[\u001b[39m'\u001b[39m\u001b[39mRUT-DV\u001b[39m\u001b[39m'\u001b[39m] \u001b[39m=\u001b[39m df[\u001b[39m'\u001b[39;49m\u001b[39mRUT-DV\u001b[39;49m\u001b[39m'\u001b[39;49m]\u001b[39m.\u001b[39mstr\u001b[39m.\u001b[39mstrip()\u001b[39m.\u001b[39mstr\u001b[39m.\u001b[39mupper()\n\u001b[0;32m     <a href='vscode-notebook-cell:/c%3A/Users/gmolina/Desktop/Javier/INT/finanzas/planilla_centro_de_costos_sigcom/SEPTIEMBRE_2022/rrhh_formato_1/analisis.ipynb#X16sZmlsZQ%3D%3D?line=34'>35</a>\u001b[0m     df \u001b[39m=\u001b[39m df\u001b[39m.\u001b[39mset_index(\u001b[39m'\u001b[39m\u001b[39mRUT-DV\u001b[39m\u001b[39m'\u001b[39m)\n\u001b[0;32m     <a href='vscode-notebook-cell:/c%3A/Users/gmolina/Desktop/Javier/INT/finanzas/planilla_centro_de_costos_sigcom/SEPTIEMBRE_2022/rrhh_formato_1/analisis.ipynb#X16sZmlsZQ%3D%3D?line=36'>37</a>\u001b[0m     \u001b[39mreturn\u001b[39;00m df\n",
      "File \u001b[1;32mc:\\Users\\gmolina\\AppData\\Local\\Programs\\Python\\Python310\\lib\\site-packages\\pandas\\core\\frame.py:3505\u001b[0m, in \u001b[0;36mDataFrame.__getitem__\u001b[1;34m(self, key)\u001b[0m\n\u001b[0;32m   3503\u001b[0m \u001b[39mif\u001b[39;00m \u001b[39mself\u001b[39m\u001b[39m.\u001b[39mcolumns\u001b[39m.\u001b[39mnlevels \u001b[39m>\u001b[39m \u001b[39m1\u001b[39m:\n\u001b[0;32m   3504\u001b[0m     \u001b[39mreturn\u001b[39;00m \u001b[39mself\u001b[39m\u001b[39m.\u001b[39m_getitem_multilevel(key)\n\u001b[1;32m-> 3505\u001b[0m indexer \u001b[39m=\u001b[39m \u001b[39mself\u001b[39;49m\u001b[39m.\u001b[39;49mcolumns\u001b[39m.\u001b[39;49mget_loc(key)\n\u001b[0;32m   3506\u001b[0m \u001b[39mif\u001b[39;00m is_integer(indexer):\n\u001b[0;32m   3507\u001b[0m     indexer \u001b[39m=\u001b[39m [indexer]\n",
      "File \u001b[1;32mc:\\Users\\gmolina\\AppData\\Local\\Programs\\Python\\Python310\\lib\\site-packages\\pandas\\core\\indexes\\base.py:3631\u001b[0m, in \u001b[0;36mIndex.get_loc\u001b[1;34m(self, key, method, tolerance)\u001b[0m\n\u001b[0;32m   3629\u001b[0m     \u001b[39mreturn\u001b[39;00m \u001b[39mself\u001b[39m\u001b[39m.\u001b[39m_engine\u001b[39m.\u001b[39mget_loc(casted_key)\n\u001b[0;32m   3630\u001b[0m \u001b[39mexcept\u001b[39;00m \u001b[39mKeyError\u001b[39;00m \u001b[39mas\u001b[39;00m err:\n\u001b[1;32m-> 3631\u001b[0m     \u001b[39mraise\u001b[39;00m \u001b[39mKeyError\u001b[39;00m(key) \u001b[39mfrom\u001b[39;00m \u001b[39merr\u001b[39;00m\n\u001b[0;32m   3632\u001b[0m \u001b[39mexcept\u001b[39;00m \u001b[39mTypeError\u001b[39;00m:\n\u001b[0;32m   3633\u001b[0m     \u001b[39m# If we have a listlike key, _check_indexing_error will raise\u001b[39;00m\n\u001b[0;32m   3634\u001b[0m     \u001b[39m#  InvalidIndexError. Otherwise we fall through and re-raise\u001b[39;00m\n\u001b[0;32m   3635\u001b[0m     \u001b[39m#  the TypeError.\u001b[39;00m\n\u001b[0;32m   3636\u001b[0m     \u001b[39mself\u001b[39m\u001b[39m.\u001b[39m_check_indexing_error(key)\n",
      "\u001b[1;31mKeyError\u001b[0m: 'RUT-DV'"
     ]
    }
   ],
   "source": [
    "juntas_contrato = formatear_df(juntas_contrato)\n",
    "juntas_contrato = cambiar_redundancias(juntas_contrato, 'NOMBRE')\n",
    "juntas_contrato = cambiar_redundancias(juntas_contrato, 'CARGO')"
   ]
  },
  {
   "cell_type": "code",
   "execution_count": 123,
   "metadata": {},
   "outputs": [],
   "source": [
    "suma_haberes_por_unidad = limpio.groupby(by = ['RUT-DV', 'NOMBRE', 'CARGO', 'UNIDAD']).sum()\n",
    "suma_haberes_por_unidad.to_excel('agrupado_por_cc.xlsx')\n",
    "\n",
    "suma_haberes_por_persona = limpio.groupby(by = ['RUT-DV', 'NOMBRE', 'CARGO']).sum()\n",
    "suma_haberes_por_persona.to_excel('agrupado_por_persona.xlsx')"
   ]
  },
  {
   "cell_type": "code",
   "execution_count": 217,
   "metadata": {},
   "outputs": [],
   "source": [
    "suma_haber_por_persona = contrata_y_honorarios.groupby(by = ['RUT-DV', 'NOMBRE', 'CARGO', 'TIPO CONTRATA']).sum().reset_index()\n",
    "suma_haber_por_persona.to_excel('suma_haberes_por_persona_con_honorarios.xlsx')\n",
    "\n",
    "suma_haber_por_persona = contrata_y_honorarios.groupby(by = ['RUT-DV', 'NOMBRE', 'CARGO', 'TIPO CONTRATA', 'UNIDAD']).sum()\n",
    "suma_haber_por_persona.to_excel('suma_haberes_por_cc_con_honorarios.xlsx')"
   ]
  },
  {
   "cell_type": "code",
   "execution_count": 218,
   "metadata": {},
   "outputs": [],
   "source": [
    "personas_por_unidad = contrata_y_honorarios.groupby(by = ['RUT-DV', 'NOMBRE', 'UNIDAD']).sum()\n",
    "mask_personas_que_trabajan_en_mas_de_un_cc = personas_por_unidad.index.get_level_values(0).duplicated(keep = False)\n",
    "unidades_totales_personas_que_trabajan_en_mas_de_un_cc = personas_por_unidad[mask_personas_que_trabajan_en_mas_de_un_cc].index.get_level_values(2)"
   ]
  },
  {
   "cell_type": "code",
   "execution_count": 219,
   "metadata": {},
   "outputs": [],
   "source": [
    "unidades_que_quedaran = unidades_totales_personas_que_trabajan_en_mas_de_un_cc[::2]\n",
    "\n",
    "ruts_a_cambiar_unidad = ['10282072-K', '10976333-0', '12470454-5', '12736759-0', '13507846-8',\n",
    "       '15188820-8', '15413864-1', '15956991-8', '16093747-5', '16172330-4',\n",
    "       '16653286-8', '17269121-8', '18018768-5', '18464580-7', '18953398-5',\n",
    "       '22955669-K', '24591684-1', '6004926-2', '6012866-9', '7259175-5',\n",
    "       '7877320-0', '8666237-K', '9356279-8', '9381699-4', '9381872-5',\n",
    "       '9457009-3']\n",
    "\n",
    "diccionario_cambio_unidades = dict(zip(ruts_a_cambiar_unidad, unidades_que_quedaran))"
   ]
  },
  {
   "cell_type": "code",
   "execution_count": 220,
   "metadata": {},
   "outputs": [],
   "source": [
    "nueva_contrata = contrata_y_honorarios.copy()\n",
    "nueva_contrata = nueva_contrata.set_index('RUT-DV')\n",
    "\n",
    "for rut in diccionario_cambio_unidades:\n",
    "    nueva_contrata.loc[rut, 'UNIDAD'] = diccionario_cambio_unidades[rut]\n",
    "\n",
    "nueva_contrata = nueva_contrata.reset_index()"
   ]
  },
  {
   "cell_type": "code",
   "execution_count": 221,
   "metadata": {},
   "outputs": [],
   "source": [
    "desglose_sin_cc_repetidos = nueva_contrata.groupby(by = ['RUT-DV', 'NOMBRE', 'UNIDAD', 'CARGO']).sum()\n",
    "desglose_sin_cc_repetidos.to_excel('desglose_sin_cc_repetidos.xlsx')"
   ]
  },
  {
   "cell_type": "code",
   "execution_count": null,
   "metadata": {},
   "outputs": [],
   "source": []
  }
 ],
 "metadata": {
  "kernelspec": {
   "display_name": "Python 3.10.6 64-bit",
   "language": "python",
   "name": "python3"
  },
  "language_info": {
   "codemirror_mode": {
    "name": "ipython",
    "version": 3
   },
   "file_extension": ".py",
   "mimetype": "text/x-python",
   "name": "python",
   "nbconvert_exporter": "python",
   "pygments_lexer": "ipython3",
   "version": "3.10.6"
  },
  "orig_nbformat": 4,
  "vscode": {
   "interpreter": {
    "hash": "01515e38d2d4c9d68a7cdf4111cc430df5b00f8319213d00f2225d05549d76c7"
   }
  }
 },
 "nbformat": 4,
 "nbformat_minor": 2
}
