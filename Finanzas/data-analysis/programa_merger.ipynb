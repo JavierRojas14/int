{
 "cells": [
  {
   "cell_type": "code",
   "execution_count": 3,
   "metadata": {},
   "outputs": [],
   "source": [
    "import pandas as pd\n",
    "import tabula"
   ]
  },
  {
   "cell_type": "code",
   "execution_count": 11,
   "metadata": {},
   "outputs": [],
   "source": [
    "def convertidor_int_a_formato_sigfe(numero):\n",
    "    numero = str(numero)\n",
    "    primer_bloque = numero[0: 2]\n",
    "    segundo_bloque = numero[2: 4]\n",
    "    tercer_bloque = numero[4: 7]\n",
    "\n",
    "    nuevo_formato = '.'.join([primer_bloque, segundo_bloque, tercer_bloque])\n",
    "\n",
    "    if len(numero) >= 10:\n",
    "        cuarto_bloque = numero[7: 10]\n",
    "        nuevo_formato = '.'.join([nuevo_formato, cuarto_bloque])\n",
    "\n",
    "        if len(numero) == 12:\n",
    "            quinto_bloque = numero[10: 12]\n",
    "            nuevo_formato = '.'.join([nuevo_formato, quinto_bloque])\n",
    "    \n",
    "    return nuevo_formato\n",
    "\n",
    "def formato_chequeador(numero_formateado):\n",
    "    excepciones = ['22.01.001', '22.02.002', '22.04.004.001', '22.04.005', '22.06.002', '22.09.005',\n",
    "                   '22.11.002', '22.12.999.009']\n",
    "    \n",
    "    for excepcion in excepciones:\n",
    "        if excepcion in numero_formateado:\n",
    "            numero_formateado = excepcion\n",
    "            break\n",
    "    \n",
    "    return numero_formateado"
   ]
  },
  {
   "cell_type": "code",
   "execution_count": 12,
   "metadata": {},
   "outputs": [],
   "source": [
    "df_suministros = pd.read_excel('CRUDO_SUMINISTROS.xlsx')\n",
    "df_adquisiciones = pd.read_excel('CRUDO_SIGFE.xlsx', header = 3)"
   ]
  },
  {
   "cell_type": "code",
   "execution_count": 28,
   "metadata": {},
   "outputs": [
    {
     "name": "stderr",
     "output_type": "stream",
     "text": [
      "C:\\Users\\gmolina\\AppData\\Local\\Temp\\ipykernel_24044\\1437378731.py:2: SettingWithCopyWarning: \n",
      "A value is trying to be set on a copy of a slice from a DataFrame.\n",
      "Try using .loc[row_indexer,col_indexer] = value instead\n",
      "\n",
      "See the caveats in the documentation: https://pandas.pydata.org/pandas-docs/stable/user_guide/indexing.html#returning-a-view-versus-a-copy\n",
      "  df_adquisiciones_codigos_unicos['Items'] = df_adquisiciones_codigos_unicos['Items'].apply(convertidor_int_a_formato_sigfe)\n",
      "C:\\Users\\gmolina\\AppData\\Local\\Temp\\ipykernel_24044\\1437378731.py:3: SettingWithCopyWarning: \n",
      "A value is trying to be set on a copy of a slice from a DataFrame.\n",
      "Try using .loc[row_indexer,col_indexer] = value instead\n",
      "\n",
      "See the caveats in the documentation: https://pandas.pydata.org/pandas-docs/stable/user_guide/indexing.html#returning-a-view-versus-a-copy\n",
      "  df_adquisiciones_codigos_unicos['Cod. SIGFE para Matchear'] = df_adquisiciones_codigos_unicos['Items'].apply(formato_chequeador)\n"
     ]
    }
   ],
   "source": [
    "df_adquisiciones_codigos_unicos = df_adquisiciones.drop_duplicates(subset = 'Código')\n",
    "df_adquisiciones_codigos_unicos['Items'] = df_adquisiciones_codigos_unicos['Items'].apply(convertidor_int_a_formato_sigfe)\n",
    "df_adquisiciones_codigos_unicos['Cod. SIGFE para Matchear'] = df_adquisiciones_codigos_unicos['Items'].apply(formato_chequeador)\n",
    "df_adquisiciones_codigos_unicos = df_adquisiciones_codigos_unicos.rename(columns = {'Items': 'Cod. SIGFE', 'Código': 'Cod. Bodega'})\n",
    "\n",
    "df_sigcom_sigfe = pd.read_excel('asociacion_sigcom_sigfe_modificada.xlsx')\n",
    "df_sigcom_sigfe = df_sigcom_sigfe.rename(columns = {'Código': 'Cod. SIGCOM', 'Cod. SIGFE': 'Cod. SIGFE para Matchear'})\n",
    "\n",
    "left_df = df_adquisiciones_codigos_unicos.iloc[:, [0, 1, 2, 3, 4, 5, -1]]\n",
    "right_df = df_sigcom_sigfe\n",
    "\n",
    "df_adquisiciones_sigcom = pd.merge(left_df, right_df, how = 'left', on = 'Cod. SIGFE para Matchear')\n",
    "df_adquisiciones_sigcom = df_adquisiciones_sigcom.drop(columns = 'Cod. SIGFE para Matchear')\n",
    "df_adquisiciones_sigcom = df_adquisiciones_sigcom.set_index('Cod. Bodega', drop = True)\n",
    "df_adquisiciones_sigcom = df_adquisiciones_sigcom[['Descripción', 'Cod. SIGFE', 'Cod. SIGCOM', 'Nº',\n",
    " 'Familia',\n",
    " 'Nombre Items',\n",
    " 'Item en SIGCOM',\n",
    " 'Item SIGFE',\n",
    " 'Gastos SIGCOM']]\n",
    "\n",
    "df_adquisiciones_sigcom.to_json('asociacion_bodega_sigcom.json', orient = 'index', indent = 1, force_ascii = False)"
   ]
  },
  {
   "cell_type": "code",
   "execution_count": 29,
   "metadata": {},
   "outputs": [],
   "source": [
    "df_adquisiciones_sigcom.to_excel('Bodega_SIGCOM.xlsx')"
   ]
  },
  {
   "cell_type": "code",
   "execution_count": null,
   "metadata": {},
   "outputs": [],
   "source": []
  }
 ],
 "metadata": {
  "kernelspec": {
   "display_name": "Python 3.10.6 64-bit",
   "language": "python",
   "name": "python3"
  },
  "language_info": {
   "codemirror_mode": {
    "name": "ipython",
    "version": 3
   },
   "file_extension": ".py",
   "mimetype": "text/x-python",
   "name": "python",
   "nbconvert_exporter": "python",
   "pygments_lexer": "ipython3",
   "version": "3.10.6"
  },
  "orig_nbformat": 4,
  "vscode": {
   "interpreter": {
    "hash": "01515e38d2d4c9d68a7cdf4111cc430df5b00f8319213d00f2225d05549d76c7"
   }
  }
 },
 "nbformat": 4,
 "nbformat_minor": 2
}
