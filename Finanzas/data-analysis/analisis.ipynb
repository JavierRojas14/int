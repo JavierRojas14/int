{
 "cells": [
  {
   "cell_type": "code",
   "execution_count": 1,
   "metadata": {},
   "outputs": [],
   "source": [
    "import pandas as pd"
   ]
  },
  {
   "cell_type": "code",
   "execution_count": 14,
   "metadata": {},
   "outputs": [],
   "source": [
    "df_suministros = pd.read_excel('CRUDO_SUMINISTROS.xlsx')\n",
    "df_adquisiciones = pd.read_excel('CRUDO_SIGFE.xlsx', header = 3)"
   ]
  },
  {
   "cell_type": "code",
   "execution_count": 20,
   "metadata": {},
   "outputs": [],
   "source": [
    "df_adquisiciones_codigos_unicos = df_adquisiciones.drop_duplicates(subset = 'Código')\n",
    "valores_utiles = df_adquisiciones_codigos_unicos[['Código', 'Familia', 'Items', 'Descripción']]\n",
    "valores_utiles = valores_utiles.set_index('Código', drop = True)\n",
    "valores_utiles.to_json('asociacion-codigo-descripcion-familia-items.json', orient = 'index', indent = 1, force_ascii = False)"
   ]
  }
 ],
 "metadata": {
  "kernelspec": {
   "display_name": "Python 3.10.6 64-bit",
   "language": "python",
   "name": "python3"
  },
  "language_info": {
   "codemirror_mode": {
    "name": "ipython",
    "version": 3
   },
   "file_extension": ".py",
   "mimetype": "text/x-python",
   "name": "python",
   "nbconvert_exporter": "python",
   "pygments_lexer": "ipython3",
   "version": "3.10.6"
  },
  "orig_nbformat": 4,
  "vscode": {
   "interpreter": {
    "hash": "01515e38d2d4c9d68a7cdf4111cc430df5b00f8319213d00f2225d05549d76c7"
   }
  }
 },
 "nbformat": 4,
 "nbformat_minor": 2
}
