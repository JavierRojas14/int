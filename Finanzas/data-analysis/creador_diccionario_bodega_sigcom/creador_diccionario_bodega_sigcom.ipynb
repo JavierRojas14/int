{
 "cells": [
  {
   "cell_type": "code",
   "execution_count": 1,
   "metadata": {},
   "outputs": [],
   "source": [
    "import pandas as pd\n",
    "import tabula"
   ]
  },
  {
   "cell_type": "code",
   "execution_count": 1,
   "metadata": {},
   "outputs": [],
   "source": [
    "class Formateador:\n",
    "    def __init__(self):\n",
    "        pass\n",
    "\n",
    "    def relacionar_sigfe_y_sigcom(self):\n",
    "        df_bodega_sigfe = pd.read_excel('asociacion_bodega_sigfe.xlsx', header = 3)\n",
    "        df_sigfe_sigcom = pd.read_excel('asociacion_sigfe_sigcom.xlsx')\n",
    "\n",
    "        df_bodega_sigfe_unicos = df_bodega_sigfe.drop_duplicates(subset = 'Código')\n",
    "        df_bodega_sigfe_unicos['Items'] = df_bodega_sigfe_unicos['Items'].apply(self.convertidor_int_a_formato_sigfe)\n",
    "        df_bodega_sigfe_unicos['Cod. SIGFE limpio'] = df_bodega_sigfe_unicos['Items'].apply(self.formato_chequeador)\n",
    "        df_bodega_sigfe_unicos = df_bodega_sigfe_unicos.rename(columns = {'Items': 'Cod. SIGFE', 'Código': 'Cod. Bodega'})\n",
    "\n",
    "        left_df = df_bodega_sigfe_unicos.iloc[:, [0, 1, 2, 3, 4, 5, -1]]\n",
    "        right_df = df_sigfe_sigcom\n",
    "\n",
    "        df_adquisiciones_sigcom = pd.merge(left_df, right_df, how = 'left', on = 'Cod. SIGFE limpio')\n",
    "        df_adquisiciones_sigcom = df_adquisiciones_sigcom.drop(columns = 'Cod. SIGFE limpio')\n",
    "        df_adquisiciones_sigcom = df_adquisiciones_sigcom.set_index('Cod. Bodega', drop = True)\n",
    "        df_adquisiciones_sigcom = df_adquisiciones_sigcom[['Descripción', 'Cod. SIGFE_x', 'Cod. SIGCOM', 'Nº', 'Familia', 'Nombre Items', 'Item en SIGCOM', 'Item SIGFE', 'Gastos SIGCOM']]\n",
    "        df_adquisiciones_sigcom.rename(columns = {'Cod. SIGFE_x': 'Cod. SIGFE'}, inplace = True)\n",
    "\n",
    "        df_adquisiciones_sigcom.to_json('asociacion_bodega_sigcom.json', orient = 'index', indent = 1, force_ascii = False)\n",
    "        df_adquisiciones_sigcom.to_excel('asociacion_bodega_sigcom.xlsx')\n",
    "    \n",
    "    def convertidor_int_a_formato_sigfe(self, numero):\n",
    "        numero = str(numero)\n",
    "        primer_bloque = numero[0: 2]\n",
    "        segundo_bloque = numero[2: 4]\n",
    "        tercer_bloque = numero[4: 7]\n",
    "\n",
    "        nuevo_formato = '.'.join([primer_bloque, segundo_bloque, tercer_bloque])\n",
    "\n",
    "        if len(numero) >= 10:\n",
    "            cuarto_bloque = numero[7: 10]\n",
    "            nuevo_formato = '.'.join([nuevo_formato, cuarto_bloque])\n",
    "\n",
    "            if len(numero) == 12:\n",
    "                quinto_bloque = numero[10: 12]\n",
    "                nuevo_formato = '.'.join([nuevo_formato, quinto_bloque])\n",
    "        \n",
    "        return nuevo_formato\n",
    "    \n",
    "    def formato_chequeador(self, numero_formateado):\n",
    "        excepciones = ['22.01.001', '22.02.002', '22.04.004.001', '22.04.005', '22.06.002', '22.09.005',\n",
    "                    '22.11.002', '22.12.999.009']\n",
    "        \n",
    "        for excepcion in excepciones:\n",
    "            if excepcion in numero_formateado:\n",
    "                numero_formateado = excepcion\n",
    "                break\n",
    "        \n",
    "        return numero_formateado"
   ]
  },
  {
   "cell_type": "code",
   "execution_count": 2,
   "metadata": {},
   "outputs": [
    {
     "ename": "NameError",
     "evalue": "name 'pd' is not defined",
     "output_type": "error",
     "traceback": [
      "\u001b[1;31m---------------------------------------------------------------------------\u001b[0m",
      "\u001b[1;31mNameError\u001b[0m                                 Traceback (most recent call last)",
      "\u001b[1;32mc:\\Users\\gmolina\\Desktop\\INT\\Finanzas\\data-analysis\\creador_diccionario_bodega_sigcom\\creador_diccionario_bodega_sigcom.ipynb Celda 3\u001b[0m in \u001b[0;36m<cell line: 2>\u001b[1;34m()\u001b[0m\n\u001b[0;32m      <a href='vscode-notebook-cell:/c%3A/Users/gmolina/Desktop/INT/Finanzas/data-analysis/creador_diccionario_bodega_sigcom/creador_diccionario_bodega_sigcom.ipynb#W2sZmlsZQ%3D%3D?line=0'>1</a>\u001b[0m formateador \u001b[39m=\u001b[39m Formateador()\n\u001b[1;32m----> <a href='vscode-notebook-cell:/c%3A/Users/gmolina/Desktop/INT/Finanzas/data-analysis/creador_diccionario_bodega_sigcom/creador_diccionario_bodega_sigcom.ipynb#W2sZmlsZQ%3D%3D?line=1'>2</a>\u001b[0m formateador\u001b[39m.\u001b[39;49mrelacionar_sigfe_y_sigcom()\n",
      "\u001b[1;32mc:\\Users\\gmolina\\Desktop\\INT\\Finanzas\\data-analysis\\creador_diccionario_bodega_sigcom\\creador_diccionario_bodega_sigcom.ipynb Celda 3\u001b[0m in \u001b[0;36mFormateador.relacionar_sigfe_y_sigcom\u001b[1;34m(self)\u001b[0m\n\u001b[0;32m      <a href='vscode-notebook-cell:/c%3A/Users/gmolina/Desktop/INT/Finanzas/data-analysis/creador_diccionario_bodega_sigcom/creador_diccionario_bodega_sigcom.ipynb#W2sZmlsZQ%3D%3D?line=4'>5</a>\u001b[0m \u001b[39mdef\u001b[39;00m \u001b[39mrelacionar_sigfe_y_sigcom\u001b[39m(\u001b[39mself\u001b[39m):\n\u001b[1;32m----> <a href='vscode-notebook-cell:/c%3A/Users/gmolina/Desktop/INT/Finanzas/data-analysis/creador_diccionario_bodega_sigcom/creador_diccionario_bodega_sigcom.ipynb#W2sZmlsZQ%3D%3D?line=5'>6</a>\u001b[0m     df_bodega_sigfe \u001b[39m=\u001b[39m pd\u001b[39m.\u001b[39mread_excel(\u001b[39m'\u001b[39m\u001b[39masociacion_bodega_sigfe.xlsx\u001b[39m\u001b[39m'\u001b[39m, header \u001b[39m=\u001b[39m \u001b[39m3\u001b[39m)\n\u001b[0;32m      <a href='vscode-notebook-cell:/c%3A/Users/gmolina/Desktop/INT/Finanzas/data-analysis/creador_diccionario_bodega_sigcom/creador_diccionario_bodega_sigcom.ipynb#W2sZmlsZQ%3D%3D?line=6'>7</a>\u001b[0m     df_sigfe_sigcom \u001b[39m=\u001b[39m pd\u001b[39m.\u001b[39mread_excel(\u001b[39m'\u001b[39m\u001b[39masociacion_sigfe_sigcom.xlsx\u001b[39m\u001b[39m'\u001b[39m)\n\u001b[0;32m      <a href='vscode-notebook-cell:/c%3A/Users/gmolina/Desktop/INT/Finanzas/data-analysis/creador_diccionario_bodega_sigcom/creador_diccionario_bodega_sigcom.ipynb#W2sZmlsZQ%3D%3D?line=8'>9</a>\u001b[0m     df_bodega_sigfe_unicos \u001b[39m=\u001b[39m df_bodega_sigfe\u001b[39m.\u001b[39mdrop_duplicates(subset \u001b[39m=\u001b[39m \u001b[39m'\u001b[39m\u001b[39mCódigo\u001b[39m\u001b[39m'\u001b[39m)\n",
      "\u001b[1;31mNameError\u001b[0m: name 'pd' is not defined"
     ]
    }
   ],
   "source": [
    "formateador = Formateador()\n",
    "formateador.relacionar_sigfe_y_sigcom()"
   ]
  },
  {
   "cell_type": "code",
   "execution_count": null,
   "metadata": {},
   "outputs": [],
   "source": []
  }
 ],
 "metadata": {
  "kernelspec": {
   "display_name": "Python 3.10.6 64-bit",
   "language": "python",
   "name": "python3"
  },
  "language_info": {
   "codemirror_mode": {
    "name": "ipython",
    "version": 3
   },
   "file_extension": ".py",
   "mimetype": "text/x-python",
   "name": "python",
   "nbconvert_exporter": "python",
   "pygments_lexer": "ipython3",
   "version": "3.10.6"
  },
  "orig_nbformat": 4,
  "vscode": {
   "interpreter": {
    "hash": "01515e38d2d4c9d68a7cdf4111cc430df5b00f8319213d00f2225d05549d76c7"
   }
  }
 },
 "nbformat": 4,
 "nbformat_minor": 2
}
