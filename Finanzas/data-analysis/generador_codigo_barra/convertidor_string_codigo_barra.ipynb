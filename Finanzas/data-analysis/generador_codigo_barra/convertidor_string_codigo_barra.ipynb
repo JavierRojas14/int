{
 "cells": [
  {
   "cell_type": "code",
   "execution_count": 4,
   "metadata": {},
   "outputs": [],
   "source": [
    "import pandas as pd\n",
    "from barcode import Code128\n",
    "import numpy as np"
   ]
  },
  {
   "cell_type": "code",
   "execution_count": 2,
   "metadata": {},
   "outputs": [],
   "source": [
    "traductor = pd.read_excel('asociacion_bodega_sigcom.xlsx')\n",
    "traductor['Cod. Bodega'] = traductor['Cod. Bodega'].astype(str).apply(lambda x: x.strip())"
   ]
  },
  {
   "cell_type": "code",
   "execution_count": 6,
   "metadata": {},
   "outputs": [
    {
     "ename": "OSError",
     "evalue": "[Errno 22] Invalid argument: 'codigos\\\\FILBOL  24 X24X15\".svg'",
     "output_type": "error",
     "traceback": [
      "\u001b[1;31m---------------------------------------------------------------------------\u001b[0m",
      "\u001b[1;31mOSError\u001b[0m                                   Traceback (most recent call last)",
      "\u001b[1;32mc:\\Users\\gmolina\\Desktop\\INT\\Finanzas\\data-analysis\\generador_codigo_barra\\convertidor_string_codigo_barra.ipynb Celda 3\u001b[0m in \u001b[0;36m<cell line: 1>\u001b[1;34m()\u001b[0m\n\u001b[1;32m----> <a href='vscode-notebook-cell:/c%3A/Users/gmolina/Desktop/INT/Finanzas/data-analysis/generador_codigo_barra/convertidor_string_codigo_barra.ipynb#W2sZmlsZQ%3D%3D?line=0'>1</a>\u001b[0m np\u001b[39m.\u001b[39;49mvectorize(\u001b[39mlambda\u001b[39;49;00m x: Code128(x)\u001b[39m.\u001b[39;49msave(\u001b[39mf\u001b[39;49m\u001b[39m'\u001b[39;49m\u001b[39mcodigos\u001b[39;49m\u001b[39m\\\\\u001b[39;49;00m\u001b[39m{\u001b[39;49;00mx\u001b[39m}\u001b[39;49;00m\u001b[39m'\u001b[39;49m))([traductor[\u001b[39m'\u001b[39;49m\u001b[39mCod. Bodega\u001b[39;49m\u001b[39m'\u001b[39;49m]])\n",
      "File \u001b[1;32mc:\\Users\\gmolina\\AppData\\Local\\Programs\\Python\\Python310\\lib\\site-packages\\numpy\\lib\\function_base.py:2328\u001b[0m, in \u001b[0;36mvectorize.__call__\u001b[1;34m(self, *args, **kwargs)\u001b[0m\n\u001b[0;32m   2325\u001b[0m     vargs \u001b[39m=\u001b[39m [args[_i] \u001b[39mfor\u001b[39;00m _i \u001b[39min\u001b[39;00m inds]\n\u001b[0;32m   2326\u001b[0m     vargs\u001b[39m.\u001b[39mextend([kwargs[_n] \u001b[39mfor\u001b[39;00m _n \u001b[39min\u001b[39;00m names])\n\u001b[1;32m-> 2328\u001b[0m \u001b[39mreturn\u001b[39;00m \u001b[39mself\u001b[39;49m\u001b[39m.\u001b[39;49m_vectorize_call(func\u001b[39m=\u001b[39;49mfunc, args\u001b[39m=\u001b[39;49mvargs)\n",
      "File \u001b[1;32mc:\\Users\\gmolina\\AppData\\Local\\Programs\\Python\\Python310\\lib\\site-packages\\numpy\\lib\\function_base.py:2411\u001b[0m, in \u001b[0;36mvectorize._vectorize_call\u001b[1;34m(self, func, args)\u001b[0m\n\u001b[0;32m   2408\u001b[0m \u001b[39m# Convert args to object arrays first\u001b[39;00m\n\u001b[0;32m   2409\u001b[0m inputs \u001b[39m=\u001b[39m [asanyarray(a, dtype\u001b[39m=\u001b[39m\u001b[39mobject\u001b[39m) \u001b[39mfor\u001b[39;00m a \u001b[39min\u001b[39;00m args]\n\u001b[1;32m-> 2411\u001b[0m outputs \u001b[39m=\u001b[39m ufunc(\u001b[39m*\u001b[39;49minputs)\n\u001b[0;32m   2413\u001b[0m \u001b[39mif\u001b[39;00m ufunc\u001b[39m.\u001b[39mnout \u001b[39m==\u001b[39m \u001b[39m1\u001b[39m:\n\u001b[0;32m   2414\u001b[0m     res \u001b[39m=\u001b[39m asanyarray(outputs, dtype\u001b[39m=\u001b[39motypes[\u001b[39m0\u001b[39m])\n",
      "\u001b[1;32mc:\\Users\\gmolina\\Desktop\\INT\\Finanzas\\data-analysis\\generador_codigo_barra\\convertidor_string_codigo_barra.ipynb Celda 3\u001b[0m in \u001b[0;36m<lambda>\u001b[1;34m(x)\u001b[0m\n\u001b[1;32m----> <a href='vscode-notebook-cell:/c%3A/Users/gmolina/Desktop/INT/Finanzas/data-analysis/generador_codigo_barra/convertidor_string_codigo_barra.ipynb#W2sZmlsZQ%3D%3D?line=0'>1</a>\u001b[0m np\u001b[39m.\u001b[39mvectorize(\u001b[39mlambda\u001b[39;00m x: Code128(x)\u001b[39m.\u001b[39;49msave(\u001b[39mf\u001b[39;49m\u001b[39m'\u001b[39;49m\u001b[39mcodigos\u001b[39;49m\u001b[39m\\\\\u001b[39;49;00m\u001b[39m{\u001b[39;49;00mx\u001b[39m}\u001b[39;49;00m\u001b[39m'\u001b[39;49m))([traductor[\u001b[39m'\u001b[39m\u001b[39mCod. Bodega\u001b[39m\u001b[39m'\u001b[39m]])\n",
      "File \u001b[1;32mc:\\Users\\gmolina\\AppData\\Local\\Programs\\Python\\Python310\\lib\\site-packages\\barcode\\base.py:67\u001b[0m, in \u001b[0;36mBarcode.save\u001b[1;34m(self, filename, options, text)\u001b[0m\n\u001b[0;32m     64\u001b[0m \u001b[39melse\u001b[39;00m:\n\u001b[0;32m     65\u001b[0m     output \u001b[39m=\u001b[39m \u001b[39mself\u001b[39m\u001b[39m.\u001b[39mrender(options)\n\u001b[1;32m---> 67\u001b[0m _filename \u001b[39m=\u001b[39m \u001b[39mself\u001b[39;49m\u001b[39m.\u001b[39;49mwriter\u001b[39m.\u001b[39;49msave(filename, output)\n\u001b[0;32m     68\u001b[0m \u001b[39mreturn\u001b[39;00m _filename\n",
      "File \u001b[1;32mc:\\Users\\gmolina\\AppData\\Local\\Programs\\Python\\Python310\\lib\\site-packages\\barcode\\writer.py:383\u001b[0m, in \u001b[0;36mSVGWriter.save\u001b[1;34m(self, filename, output)\u001b[0m\n\u001b[0;32m    381\u001b[0m \u001b[39melse\u001b[39;00m:\n\u001b[0;32m    382\u001b[0m     _filename \u001b[39m=\u001b[39m \u001b[39mf\u001b[39m\u001b[39m\"\u001b[39m\u001b[39m{\u001b[39;00mfilename\u001b[39m}\u001b[39;00m\u001b[39m.svg\u001b[39m\u001b[39m\"\u001b[39m\n\u001b[1;32m--> 383\u001b[0m     \u001b[39mwith\u001b[39;00m \u001b[39mopen\u001b[39;49m(_filename, \u001b[39m\"\u001b[39;49m\u001b[39mwb\u001b[39;49m\u001b[39m\"\u001b[39;49m) \u001b[39mas\u001b[39;00m f:\n\u001b[0;32m    384\u001b[0m         f\u001b[39m.\u001b[39mwrite(output)\n\u001b[0;32m    385\u001b[0m \u001b[39mreturn\u001b[39;00m _filename\n",
      "\u001b[1;31mOSError\u001b[0m: [Errno 22] Invalid argument: 'codigos\\\\FILBOL  24 X24X15\".svg'"
     ]
    }
   ],
   "source": [
    "np.vectorize(lambda x: Code128(x).save(f'codigos\\\\{x}'))([traductor['Cod. Bodega']])"
   ]
  }
 ],
 "metadata": {
  "kernelspec": {
   "display_name": "Python 3.10.6 64-bit",
   "language": "python",
   "name": "python3"
  },
  "language_info": {
   "codemirror_mode": {
    "name": "ipython",
    "version": 3
   },
   "file_extension": ".py",
   "mimetype": "text/x-python",
   "name": "python",
   "nbconvert_exporter": "python",
   "pygments_lexer": "ipython3",
   "version": "3.10.6"
  },
  "orig_nbformat": 4,
  "vscode": {
   "interpreter": {
    "hash": "01515e38d2d4c9d68a7cdf4111cc430df5b00f8319213d00f2225d05549d76c7"
   }
  }
 },
 "nbformat": 4,
 "nbformat_minor": 2
}
