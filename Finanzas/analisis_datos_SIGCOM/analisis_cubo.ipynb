{
 "cells": [
  {
   "cell_type": "code",
   "execution_count": 10,
   "metadata": {},
   "outputs": [],
   "source": [
    "import pandas as pd\n",
    "import os"
   ]
  },
  {
   "cell_type": "code",
   "execution_count": 11,
   "metadata": {},
   "outputs": [],
   "source": [
    "ruta_archivos = [os.path.join('historicos_cubo', ruta) for ruta in os.listdir('historicos_cubo')]\n",
    "ruta_archivos = sorted(ruta_archivos, key=lambda x: int(x.split('_')[3]))"
   ]
  },
  {
   "cell_type": "code",
   "execution_count": 12,
   "metadata": {},
   "outputs": [],
   "source": [
    "dfs_cubo = {'_'.join(ruta.split('_')[4: 6]): pd.read_excel(ruta) for ruta in ruta_archivos}"
   ]
  },
  {
   "cell_type": "code",
   "execution_count": 13,
   "metadata": {},
   "outputs": [],
   "source": [
    "historico_cubo = {}\n",
    "for fecha_df, df in dfs_cubo.items():\n",
    "    gasto_indirecto_tavi = df.loc[66, '270-PROCEDIMIENTOS TAVI']\n",
    "    historico_cubo[fecha_df] = [gasto_indirecto_tavi]"
   ]
  },
  {
   "cell_type": "code",
   "execution_count": 14,
   "metadata": {},
   "outputs": [],
   "source": [
    "gastos_tavi = pd.DataFrame.from_dict(historico_cubo).transpose().reset_index()\n",
    "gastos_tavi.columns = ['Fecha', 'Gasto_Indirecto']\n",
    "gastos_tavi['Fecha'] = pd.to_datetime(gastos_tavi['Fecha'], format='%Y_%m')"
   ]
  },
  {
   "cell_type": "code",
   "execution_count": 15,
   "metadata": {},
   "outputs": [],
   "source": [
    "ruta_archivos = [os.path.join('historicos_producciones', ruta) for ruta in os.listdir('historicos_producciones')]\n",
    "ruta_archivos = sorted(ruta_archivos)\n"
   ]
  },
  {
   "cell_type": "code",
   "execution_count": 16,
   "metadata": {},
   "outputs": [],
   "source": [
    "dfs_produccion = {ruta.split()[-2]: pd.read_excel(ruta) for ruta in ruta_archivos}"
   ]
  },
  {
   "cell_type": "code",
   "execution_count": 22,
   "metadata": {},
   "outputs": [],
   "source": [
    "columnas = {\"Unnamed: 2\": \"ENERO\",\n",
    "            \"Unnamed: 3\": \"FEBRERO\",\n",
    "            \"Unnamed: 4\": \"MARZO\",\n",
    "            \"Unnamed: 5\": \"ABRIL\",\n",
    "            \"Unnamed: 6\": \"MAYO\",\n",
    "            \"Unnamed: 7\": \"JUNIO\",\n",
    "            \"Unnamed: 8\": \"JULIO\",\n",
    "            \"Unnamed: 9\": \"AGOSTO\",\n",
    "            \"Unnamed: 10\": \"SEPTIEMBRE\",\n",
    "            \"Unnamed: 11\": \"OCTUBRE\",\n",
    "            \"Unnamed: 12\": \"NOVIEMBRE\",\n",
    "            \"Unnamed: 13\": \"DICIEMBRE\"}"
   ]
  },
  {
   "cell_type": "code",
   "execution_count": 26,
   "metadata": {},
   "outputs": [],
   "source": [
    "dfs_produccion['2021'] = dfs_produccion['2021'].rename(columns=columnas)\n",
    "dfs_produccion['2022'] = dfs_produccion['2022'].rename(columns=columnas)"
   ]
  },
  {
   "cell_type": "code",
   "execution_count": 64,
   "metadata": {},
   "outputs": [],
   "source": [
    "tavi_2021 = dfs_produccion['2021'].loc[62]['ENERO':'DICIEMBRE']\n",
    "tavi_2022 = dfs_produccion['2022'].loc[62]['ENERO':'DICIEMBRE']\n",
    "\n",
    "cantidad_tavis = pd.concat([tavi_2021, tavi_2022]).reset_index().drop(columns=['index'])"
   ]
  },
  {
   "cell_type": "code",
   "execution_count": 70,
   "metadata": {},
   "outputs": [],
   "source": [
    "gastos_tavi['Cantidad_TAVIs'] = cantidad_tavis.astype('Int32')\n",
    "gastos_tavi = gastos_tavi.replace(0, 0)"
   ]
  },
  {
   "cell_type": "code",
   "execution_count": 71,
   "metadata": {},
   "outputs": [],
   "source": [
    "gastos_tavi['Gasto_Indirecto_promedio'] = gastos_tavi['Gasto_Indirecto'].divide(gastos_tavi['Cantidad_TAVIs'])"
   ]
  },
  {
   "cell_type": "code",
   "execution_count": 73,
   "metadata": {},
   "outputs": [],
   "source": [
    "gastos_tavi.to_excel('tavi_indirectos_historicos.xlsx', index=False)"
   ]
  },
  {
   "cell_type": "code",
   "execution_count": null,
   "metadata": {},
   "outputs": [],
   "source": []
  }
 ],
 "metadata": {
  "kernelspec": {
   "display_name": "Python 3.10.6 64-bit",
   "language": "python",
   "name": "python3"
  },
  "language_info": {
   "codemirror_mode": {
    "name": "ipython",
    "version": 3
   },
   "file_extension": ".py",
   "mimetype": "text/x-python",
   "name": "python",
   "nbconvert_exporter": "python",
   "pygments_lexer": "ipython3",
   "version": "3.10.6"
  },
  "orig_nbformat": 4,
  "vscode": {
   "interpreter": {
    "hash": "01515e38d2d4c9d68a7cdf4111cc430df5b00f8319213d00f2225d05549d76c7"
   }
  }
 },
 "nbformat": 4,
 "nbformat_minor": 2
}
