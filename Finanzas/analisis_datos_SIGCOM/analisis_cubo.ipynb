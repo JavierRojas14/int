{
 "cells": [
  {
   "cell_type": "code",
   "execution_count": 2,
   "metadata": {},
   "outputs": [],
   "source": [
    "import pandas as pd\n",
    "import os"
   ]
  },
  {
   "cell_type": "code",
   "execution_count": 3,
   "metadata": {},
   "outputs": [],
   "source": [
    "ruta_archivos = [os.path.join('historicos_cubo', ruta) for ruta in os.listdir('historicos_cubo')]\n",
    "ruta_archivos = sorted(ruta_archivos, key=lambda x: int(x.split('_')[3]))"
   ]
  },
  {
   "cell_type": "code",
   "execution_count": 4,
   "metadata": {},
   "outputs": [],
   "source": [
    "dfs = {'_'.join(ruta.split('_')[4: 6]): pd.read_excel(ruta) for ruta in ruta_archivos}"
   ]
  },
  {
   "cell_type": "code",
   "execution_count": 18,
   "metadata": {},
   "outputs": [],
   "source": [
    "historico_cubo = {}\n",
    "for fecha_df, df in dfs.items():\n",
    "    gasto_indirecto_tavi = df.loc[66, '270-PROCEDIMIENTOS TAVI']\n",
    "    historico_cubo[fecha_df] = [gasto_indirecto_tavi]"
   ]
  },
  {
   "cell_type": "code",
   "execution_count": 34,
   "metadata": {},
   "outputs": [],
   "source": [
    "gastos_tavi = pd.DataFrame.from_dict(historico_cubo).transpose().reset_index()\n",
    "gastos_tavi.columns = ['Fecha', 'Gasto_Indirecto']\n",
    "gastos_tavi['Fecha'] = pd.to_datetime(gastos_tavi['Fecha'], format='%Y_%m')"
   ]
  },
  {
   "cell_type": "code",
   "execution_count": 35,
   "metadata": {},
   "outputs": [
    {
     "data": {
      "text/plain": [
       "0    2021-01-01\n",
       "1    2021-02-01\n",
       "2    2021-03-01\n",
       "3    2021-04-01\n",
       "4    2021-05-01\n",
       "5    2021-06-01\n",
       "6    2021-07-01\n",
       "7    2021-08-01\n",
       "8    2021-09-01\n",
       "9    2021-10-01\n",
       "10   2021-11-01\n",
       "11   2021-12-01\n",
       "12   2022-01-01\n",
       "13   2022-02-01\n",
       "14   2022-03-01\n",
       "15   2022-04-01\n",
       "16   2022-05-01\n",
       "17   2022-06-01\n",
       "18   2022-07-01\n",
       "19   2022-08-01\n",
       "20   2022-09-01\n",
       "Name: Fecha, dtype: datetime64[ns]"
      ]
     },
     "execution_count": 35,
     "metadata": {},
     "output_type": "execute_result"
    }
   ],
   "source": [
    "gastos_tavi['Fecha']"
   ]
  },
  {
   "cell_type": "code",
   "execution_count": null,
   "metadata": {},
   "outputs": [],
   "source": []
  }
 ],
 "metadata": {
  "kernelspec": {
   "display_name": "Python 3.10.6 64-bit",
   "language": "python",
   "name": "python3"
  },
  "language_info": {
   "codemirror_mode": {
    "name": "ipython",
    "version": 3
   },
   "file_extension": ".py",
   "mimetype": "text/x-python",
   "name": "python",
   "nbconvert_exporter": "python",
   "pygments_lexer": "ipython3",
   "version": "3.10.6"
  },
  "orig_nbformat": 4,
  "vscode": {
   "interpreter": {
    "hash": "01515e38d2d4c9d68a7cdf4111cc430df5b00f8319213d00f2225d05549d76c7"
   }
  }
 },
 "nbformat": 4,
 "nbformat_minor": 2
}
