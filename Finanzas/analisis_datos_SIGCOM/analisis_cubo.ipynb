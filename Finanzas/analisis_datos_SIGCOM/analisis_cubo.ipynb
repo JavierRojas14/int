{
 "cells": [
  {
   "cell_type": "code",
   "execution_count": 1,
   "metadata": {},
   "outputs": [],
   "source": [
    "import pandas as pd\n",
    "import os"
   ]
  },
  {
   "cell_type": "code",
   "execution_count": 14,
   "metadata": {},
   "outputs": [],
   "source": [
    "def obtener_gastos_indirectos_directos(cc_a_obtener, dfs_cubo):\n",
    "    historico_cubo = pd.DataFrame()\n",
    "    for fecha_df, df in dfs_cubo.items():\n",
    "        df = df.set_index('Insumos / Centro Costos')\n",
    "        gasto_total = df.loc['Total Directos', cc_a_obtener].to_frame()\n",
    "        gasto_total['Total Indirectos'] = df.loc['Total Indirectos', cc_a_obtener]\n",
    "        gasto_total = gasto_total.transpose()\n",
    "        gasto_total['Fecha'] = pd.to_datetime(fecha_df, format='%Y_%m')\n",
    "        historico_cubo = pd.concat([historico_cubo, gasto_total])\n",
    "\n",
    "    historico_cubo = historico_cubo.reset_index()\n",
    "\n",
    "    return historico_cubo"
   ]
  },
  {
   "cell_type": "code",
   "execution_count": 57,
   "metadata": {},
   "outputs": [],
   "source": [
    "ruta_archivos = [os.path.join('historicos_cubo', ruta) for ruta in os.listdir('historicos_cubo')]\n",
    "ruta_archivos = sorted(ruta_archivos, key=lambda x: int(x.split('_')[3]))"
   ]
  },
  {
   "cell_type": "code",
   "execution_count": 58,
   "metadata": {},
   "outputs": [],
   "source": [
    "dfs_cubo = {'_'.join(ruta.split('_')[4: 6]): pd.read_excel(ruta) for ruta in ruta_archivos}"
   ]
  },
  {
   "cell_type": "code",
   "execution_count": 59,
   "metadata": {},
   "outputs": [],
   "source": [
    "cc_a_obtener = ['66-HOSPITALIZACIÓN MEDICINA INTERNA', '90-HOSPITALIZACIÓN QUIRÚRGICA',\n",
    "                '102-HOSPITALIZACIÓN CARDIOVASCULAR', '464-QUIRÓFANOS CARDIOVASCULAR',\n",
    "                '484-QUIRÓFANOS TORACICA', '166-UNIDAD DE CUIDADOS INTENSIVOS',\n",
    "                '195-UNIDAD DE TRATAMIENTO INTENSIVO ADULTO']"
   ]
  },
  {
   "cell_type": "code",
   "execution_count": 60,
   "metadata": {},
   "outputs": [],
   "source": [
    "historico_directo_indirecto = obtener_gastos_indirectos_directos(cc_a_obtener=cc_a_obtener,\n",
    "                                                                 dfs_cubo=dfs_cubo)"
   ]
  },
  {
   "cell_type": "code",
   "execution_count": 61,
   "metadata": {},
   "outputs": [],
   "source": [
    "cubo_2022 = {llave: valor for llave, valor in dfs_cubo.items() if '2022' in llave}"
   ]
  },
  {
   "cell_type": "code",
   "execution_count": 73,
   "metadata": {},
   "outputs": [
    {
     "name": "stdout",
     "output_type": "stream",
     "text": [
      "Uno de los valores es 86594560\n",
      "Uno de los valores es 126368297\n",
      "Uno de los valores es 90456855\n",
      "Uno de los valores es 82640829\n",
      "Uno de los valores es 144221548\n",
      "Uno de los valores es 83541214\n",
      "Uno de los valores es 85410200\n",
      "Uno de los valores es 126346103\n",
      "El acumulado es 825579606\n"
     ]
    }
   ],
   "source": [
    "suma = cubo_2022['2022_1']\n",
    "suma['Insumos / Centro Costos'] = suma['Insumos / Centro Costos'] + '_'\n",
    "acumulado = 0\n",
    "for fecha_df, df in list(cubo_2022.items())[1:]:\n",
    "    valor_x = df.iloc[0, 1]\n",
    "    print(f'Uno de los valores es {valor_x}')\n",
    "    acumulado += valor_x\n",
    "    suma = suma.add(df)\n",
    "\n",
    "suma['Insumos / Centro Costos'] = df['Insumos / Centro Costos']\n",
    "print(f'El acumulado es {acumulado}')"
   ]
  },
  {
   "cell_type": "code",
   "execution_count": 67,
   "metadata": {},
   "outputs": [],
   "source": [
    "suma.to_csv('cubo_acumulado_2022.csv', sep=';', encoding='latin-1', index=False)"
   ]
  },
  {
   "cell_type": "code",
   "execution_count": 70,
   "metadata": {},
   "outputs": [],
   "source": [
    "suma"
   ]
  },
  {
   "cell_type": "code",
   "execution_count": 15,
   "metadata": {},
   "outputs": [],
   "source": [
    "ruta_archivos = [os.path.join('historicos_producciones', ruta) for ruta in os.listdir('historicos_producciones')]\n",
    "ruta_archivos = sorted(ruta_archivos)\n"
   ]
  },
  {
   "cell_type": "code",
   "execution_count": 16,
   "metadata": {},
   "outputs": [],
   "source": [
    "dfs_produccion = {ruta.split()[-2]: pd.read_excel(ruta) for ruta in ruta_archivos}"
   ]
  },
  {
   "cell_type": "code",
   "execution_count": 22,
   "metadata": {},
   "outputs": [],
   "source": [
    "columnas = {\"Unnamed: 2\": \"ENERO\",\n",
    "            \"Unnamed: 3\": \"FEBRERO\",\n",
    "            \"Unnamed: 4\": \"MARZO\",\n",
    "            \"Unnamed: 5\": \"ABRIL\",\n",
    "            \"Unnamed: 6\": \"MAYO\",\n",
    "            \"Unnamed: 7\": \"JUNIO\",\n",
    "            \"Unnamed: 8\": \"JULIO\",\n",
    "            \"Unnamed: 9\": \"AGOSTO\",\n",
    "            \"Unnamed: 10\": \"SEPTIEMBRE\",\n",
    "            \"Unnamed: 11\": \"OCTUBRE\",\n",
    "            \"Unnamed: 12\": \"NOVIEMBRE\",\n",
    "            \"Unnamed: 13\": \"DICIEMBRE\"}"
   ]
  },
  {
   "cell_type": "code",
   "execution_count": 26,
   "metadata": {},
   "outputs": [],
   "source": [
    "dfs_produccion['2021'] = dfs_produccion['2021'].rename(columns=columnas)\n",
    "dfs_produccion['2022'] = dfs_produccion['2022'].rename(columns=columnas)"
   ]
  },
  {
   "cell_type": "code",
   "execution_count": 64,
   "metadata": {},
   "outputs": [],
   "source": [
    "tavi_2021 = dfs_produccion['2021'].loc[62]['ENERO':'DICIEMBRE']\n",
    "tavi_2022 = dfs_produccion['2022'].loc[62]['ENERO':'DICIEMBRE']\n",
    "\n",
    "cantidad_tavis = pd.concat([tavi_2021, tavi_2022]).reset_index().drop(columns=['index'])"
   ]
  },
  {
   "cell_type": "code",
   "execution_count": 70,
   "metadata": {},
   "outputs": [],
   "source": [
    "gastos_tavi['Cantidad_TAVIs'] = cantidad_tavis.astype('Int32')\n",
    "gastos_tavi = gastos_tavi.replace(0, 0)"
   ]
  },
  {
   "cell_type": "code",
   "execution_count": 71,
   "metadata": {},
   "outputs": [],
   "source": [
    "gastos_tavi['Gasto_Indirecto_promedio'] = gastos_tavi['Gasto_Indirecto'].divide(gastos_tavi['Cantidad_TAVIs'])"
   ]
  },
  {
   "cell_type": "code",
   "execution_count": 73,
   "metadata": {},
   "outputs": [],
   "source": [
    "gastos_tavi.to_excel('tavi_indirectos_historicos.xlsx', index=False)"
   ]
  },
  {
   "cell_type": "code",
   "execution_count": null,
   "metadata": {},
   "outputs": [],
   "source": []
  }
 ],
 "metadata": {
  "kernelspec": {
   "display_name": "Python 3.10.6 64-bit",
   "language": "python",
   "name": "python3"
  },
  "language_info": {
   "codemirror_mode": {
    "name": "ipython",
    "version": 3
   },
   "file_extension": ".py",
   "mimetype": "text/x-python",
   "name": "python",
   "nbconvert_exporter": "python",
   "pygments_lexer": "ipython3",
   "version": "3.10.6"
  },
  "orig_nbformat": 4,
  "vscode": {
   "interpreter": {
    "hash": "01515e38d2d4c9d68a7cdf4111cc430df5b00f8319213d00f2225d05549d76c7"
   }
  }
 },
 "nbformat": 4,
 "nbformat_minor": 2
}
