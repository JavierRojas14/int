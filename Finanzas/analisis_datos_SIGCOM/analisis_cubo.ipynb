{
 "cells": [
  {
   "cell_type": "code",
   "execution_count": 1,
   "metadata": {},
   "outputs": [],
   "source": [
    "import pandas as pd\n",
    "import os"
   ]
  },
  {
   "cell_type": "code",
   "execution_count": 2,
   "metadata": {},
   "outputs": [],
   "source": [
    "ruta_archivos = [os.path.join('historicos_cubo', ruta) for ruta in os.listdir('historicos_cubo')]\n",
    "ruta_archivos = sorted(ruta_archivos, key=lambda x: int(x.split('_')[3]))"
   ]
  },
  {
   "cell_type": "code",
   "execution_count": 3,
   "metadata": {},
   "outputs": [],
   "source": [
    "dfs_cubo = {'_'.join(ruta.split('_')[4: 6]): pd.read_excel(ruta) for ruta in ruta_archivos}"
   ]
  },
  {
   "cell_type": "code",
   "execution_count": 21,
   "metadata": {},
   "outputs": [],
   "source": [
    "cc_a_obtener = ['66-HOSPITALIZACIÓN MEDICINA INTERNA', '90-HOSPITALIZACIÓN QUIRÚRGICA',\n",
    "                '102-HOSPITALIZACIÓN CARDIOVASCULAR', '464-QUIRÓFANOS CARDIOVASCULAR',\n",
    "                '484-QUIRÓFANOS TORACICA', '166-UNIDAD DE CUIDADOS INTENSIVOS',\n",
    "                '195-UNIDAD DE TRATAMIENTO INTENSIVO ADULTO']\n",
    "\n",
    "historico_cubo = {}\n",
    "for fecha_df, df in dfs_cubo.items():\n",
    "    df = df.set_index('Insumos / Centro Costos')\n",
    "    gasto_total = df.loc['Total Directos', cc_a_obtener].to_frame()\n",
    "    gasto_total['Total Indirectos'] = df.loc['Total Indirectos', cc_a_obtener]\n",
    "    gasto_total['Fecha'] = pd.to_datetime(fecha_df, format='%Y_%m')\n"
   ]
  },
  {
   "cell_type": "code",
   "execution_count": 22,
   "metadata": {},
   "outputs": [
    {
     "data": {
      "text/html": [
       "<div>\n",
       "<style scoped>\n",
       "    .dataframe tbody tr th:only-of-type {\n",
       "        vertical-align: middle;\n",
       "    }\n",
       "\n",
       "    .dataframe tbody tr th {\n",
       "        vertical-align: top;\n",
       "    }\n",
       "\n",
       "    .dataframe thead th {\n",
       "        text-align: right;\n",
       "    }\n",
       "</style>\n",
       "<table border=\"1\" class=\"dataframe\">\n",
       "  <thead>\n",
       "    <tr style=\"text-align: right;\">\n",
       "      <th></th>\n",
       "      <th>Total Directos</th>\n",
       "      <th>Total Indirectos</th>\n",
       "      <th>Fecha</th>\n",
       "    </tr>\n",
       "  </thead>\n",
       "  <tbody>\n",
       "    <tr>\n",
       "      <th>66-HOSPITALIZACIÓN MEDICINA INTERNA</th>\n",
       "      <td>232608519</td>\n",
       "      <td>313680558</td>\n",
       "      <td>2022-09-01</td>\n",
       "    </tr>\n",
       "    <tr>\n",
       "      <th>90-HOSPITALIZACIÓN QUIRÚRGICA</th>\n",
       "      <td>52684522</td>\n",
       "      <td>42134361</td>\n",
       "      <td>2022-09-01</td>\n",
       "    </tr>\n",
       "    <tr>\n",
       "      <th>102-HOSPITALIZACIÓN CARDIOVASCULAR</th>\n",
       "      <td>124895141</td>\n",
       "      <td>641785094</td>\n",
       "      <td>2022-09-01</td>\n",
       "    </tr>\n",
       "    <tr>\n",
       "      <th>464-QUIRÓFANOS CARDIOVASCULAR</th>\n",
       "      <td>269689731</td>\n",
       "      <td>470206538</td>\n",
       "      <td>2022-09-01</td>\n",
       "    </tr>\n",
       "    <tr>\n",
       "      <th>484-QUIRÓFANOS TORACICA</th>\n",
       "      <td>147708156</td>\n",
       "      <td>97426357</td>\n",
       "      <td>2022-09-01</td>\n",
       "    </tr>\n",
       "    <tr>\n",
       "      <th>166-UNIDAD DE CUIDADOS INTENSIVOS</th>\n",
       "      <td>162409596</td>\n",
       "      <td>62124871</td>\n",
       "      <td>2022-09-01</td>\n",
       "    </tr>\n",
       "    <tr>\n",
       "      <th>195-UNIDAD DE TRATAMIENTO INTENSIVO ADULTO</th>\n",
       "      <td>295502124</td>\n",
       "      <td>83697830</td>\n",
       "      <td>2022-09-01</td>\n",
       "    </tr>\n",
       "  </tbody>\n",
       "</table>\n",
       "</div>"
      ],
      "text/plain": [
       "                                            Total Directos  Total Indirectos  \\\n",
       "66-HOSPITALIZACIÓN MEDICINA INTERNA              232608519         313680558   \n",
       "90-HOSPITALIZACIÓN QUIRÚRGICA                     52684522          42134361   \n",
       "102-HOSPITALIZACIÓN CARDIOVASCULAR               124895141         641785094   \n",
       "464-QUIRÓFANOS CARDIOVASCULAR                    269689731         470206538   \n",
       "484-QUIRÓFANOS TORACICA                          147708156          97426357   \n",
       "166-UNIDAD DE CUIDADOS INTENSIVOS                162409596          62124871   \n",
       "195-UNIDAD DE TRATAMIENTO INTENSIVO ADULTO       295502124          83697830   \n",
       "\n",
       "                                                Fecha  \n",
       "66-HOSPITALIZACIÓN MEDICINA INTERNA        2022-09-01  \n",
       "90-HOSPITALIZACIÓN QUIRÚRGICA              2022-09-01  \n",
       "102-HOSPITALIZACIÓN CARDIOVASCULAR         2022-09-01  \n",
       "464-QUIRÓFANOS CARDIOVASCULAR              2022-09-01  \n",
       "484-QUIRÓFANOS TORACICA                    2022-09-01  \n",
       "166-UNIDAD DE CUIDADOS INTENSIVOS          2022-09-01  \n",
       "195-UNIDAD DE TRATAMIENTO INTENSIVO ADULTO 2022-09-01  "
      ]
     },
     "execution_count": 22,
     "metadata": {},
     "output_type": "execute_result"
    }
   ],
   "source": [
    "gasto_total"
   ]
  },
  {
   "cell_type": "code",
   "execution_count": 11,
   "metadata": {},
   "outputs": [],
   "source": [
    "gastos_tavi = pd.DataFrame.from_dict(historico_cubo).transpose().reset_index()\n",
    "gastos_tavi.columns = ['Fecha', 'Gasto_Indirecto']\n",
    "gastos_tavi['Fecha'] = pd.to_datetime(gastos_tavi['Fecha'], format='%Y_%m')"
   ]
  },
  {
   "cell_type": "code",
   "execution_count": 12,
   "metadata": {},
   "outputs": [
    {
     "data": {
      "text/html": [
       "<div>\n",
       "<style scoped>\n",
       "    .dataframe tbody tr th:only-of-type {\n",
       "        vertical-align: middle;\n",
       "    }\n",
       "\n",
       "    .dataframe tbody tr th {\n",
       "        vertical-align: top;\n",
       "    }\n",
       "\n",
       "    .dataframe thead th {\n",
       "        text-align: right;\n",
       "    }\n",
       "</style>\n",
       "<table border=\"1\" class=\"dataframe\">\n",
       "  <thead>\n",
       "    <tr style=\"text-align: right;\">\n",
       "      <th></th>\n",
       "      <th>Fecha</th>\n",
       "      <th>Gasto_Indirecto</th>\n",
       "    </tr>\n",
       "  </thead>\n",
       "  <tbody>\n",
       "    <tr>\n",
       "      <th>0</th>\n",
       "      <td>2021-01-01</td>\n",
       "      <td>...</td>\n",
       "    </tr>\n",
       "    <tr>\n",
       "      <th>1</th>\n",
       "      <td>2021-02-01</td>\n",
       "      <td>...</td>\n",
       "    </tr>\n",
       "    <tr>\n",
       "      <th>2</th>\n",
       "      <td>2021-03-01</td>\n",
       "      <td>...</td>\n",
       "    </tr>\n",
       "    <tr>\n",
       "      <th>3</th>\n",
       "      <td>2021-04-01</td>\n",
       "      <td>...</td>\n",
       "    </tr>\n",
       "    <tr>\n",
       "      <th>4</th>\n",
       "      <td>2021-05-01</td>\n",
       "      <td>...</td>\n",
       "    </tr>\n",
       "    <tr>\n",
       "      <th>5</th>\n",
       "      <td>2021-06-01</td>\n",
       "      <td>...</td>\n",
       "    </tr>\n",
       "    <tr>\n",
       "      <th>6</th>\n",
       "      <td>2021-07-01</td>\n",
       "      <td>...</td>\n",
       "    </tr>\n",
       "    <tr>\n",
       "      <th>7</th>\n",
       "      <td>2021-08-01</td>\n",
       "      <td>...</td>\n",
       "    </tr>\n",
       "    <tr>\n",
       "      <th>8</th>\n",
       "      <td>2021-09-01</td>\n",
       "      <td>...</td>\n",
       "    </tr>\n",
       "    <tr>\n",
       "      <th>9</th>\n",
       "      <td>2021-10-01</td>\n",
       "      <td>...</td>\n",
       "    </tr>\n",
       "    <tr>\n",
       "      <th>10</th>\n",
       "      <td>2021-11-01</td>\n",
       "      <td>...</td>\n",
       "    </tr>\n",
       "    <tr>\n",
       "      <th>11</th>\n",
       "      <td>2021-12-01</td>\n",
       "      <td>...</td>\n",
       "    </tr>\n",
       "    <tr>\n",
       "      <th>12</th>\n",
       "      <td>2022-01-01</td>\n",
       "      <td>...</td>\n",
       "    </tr>\n",
       "    <tr>\n",
       "      <th>13</th>\n",
       "      <td>2022-02-01</td>\n",
       "      <td>...</td>\n",
       "    </tr>\n",
       "    <tr>\n",
       "      <th>14</th>\n",
       "      <td>2022-03-01</td>\n",
       "      <td>...</td>\n",
       "    </tr>\n",
       "    <tr>\n",
       "      <th>15</th>\n",
       "      <td>2022-04-01</td>\n",
       "      <td>...</td>\n",
       "    </tr>\n",
       "    <tr>\n",
       "      <th>16</th>\n",
       "      <td>2022-05-01</td>\n",
       "      <td>...</td>\n",
       "    </tr>\n",
       "    <tr>\n",
       "      <th>17</th>\n",
       "      <td>2022-06-01</td>\n",
       "      <td>...</td>\n",
       "    </tr>\n",
       "    <tr>\n",
       "      <th>18</th>\n",
       "      <td>2022-07-01</td>\n",
       "      <td>...</td>\n",
       "    </tr>\n",
       "    <tr>\n",
       "      <th>19</th>\n",
       "      <td>2022-08-01</td>\n",
       "      <td>...</td>\n",
       "    </tr>\n",
       "    <tr>\n",
       "      <th>20</th>\n",
       "      <td>2022-09-01</td>\n",
       "      <td>...</td>\n",
       "    </tr>\n",
       "  </tbody>\n",
       "</table>\n",
       "</div>"
      ],
      "text/plain": [
       "        Fecha                                    Gasto_Indirecto\n",
       "0  2021-01-01                                                ...\n",
       "1  2021-02-01                                                ...\n",
       "2  2021-03-01                                                ...\n",
       "3  2021-04-01                                                ...\n",
       "4  2021-05-01                                                ...\n",
       "5  2021-06-01                                                ...\n",
       "6  2021-07-01                                                ...\n",
       "7  2021-08-01                                                ...\n",
       "8  2021-09-01                                                ...\n",
       "9  2021-10-01                                                ...\n",
       "10 2021-11-01                                                ...\n",
       "11 2021-12-01                                                ...\n",
       "12 2022-01-01                                                ...\n",
       "13 2022-02-01                                                ...\n",
       "14 2022-03-01                                                ...\n",
       "15 2022-04-01                                                ...\n",
       "16 2022-05-01                                                ...\n",
       "17 2022-06-01                                                ...\n",
       "18 2022-07-01                                                ...\n",
       "19 2022-08-01                                                ...\n",
       "20 2022-09-01                                                ..."
      ]
     },
     "execution_count": 12,
     "metadata": {},
     "output_type": "execute_result"
    }
   ],
   "source": [
    "gastos_tavi"
   ]
  },
  {
   "cell_type": "code",
   "execution_count": 15,
   "metadata": {},
   "outputs": [],
   "source": [
    "ruta_archivos = [os.path.join('historicos_producciones', ruta) for ruta in os.listdir('historicos_producciones')]\n",
    "ruta_archivos = sorted(ruta_archivos)\n"
   ]
  },
  {
   "cell_type": "code",
   "execution_count": 16,
   "metadata": {},
   "outputs": [],
   "source": [
    "dfs_produccion = {ruta.split()[-2]: pd.read_excel(ruta) for ruta in ruta_archivos}"
   ]
  },
  {
   "cell_type": "code",
   "execution_count": 22,
   "metadata": {},
   "outputs": [],
   "source": [
    "columnas = {\"Unnamed: 2\": \"ENERO\",\n",
    "            \"Unnamed: 3\": \"FEBRERO\",\n",
    "            \"Unnamed: 4\": \"MARZO\",\n",
    "            \"Unnamed: 5\": \"ABRIL\",\n",
    "            \"Unnamed: 6\": \"MAYO\",\n",
    "            \"Unnamed: 7\": \"JUNIO\",\n",
    "            \"Unnamed: 8\": \"JULIO\",\n",
    "            \"Unnamed: 9\": \"AGOSTO\",\n",
    "            \"Unnamed: 10\": \"SEPTIEMBRE\",\n",
    "            \"Unnamed: 11\": \"OCTUBRE\",\n",
    "            \"Unnamed: 12\": \"NOVIEMBRE\",\n",
    "            \"Unnamed: 13\": \"DICIEMBRE\"}"
   ]
  },
  {
   "cell_type": "code",
   "execution_count": 26,
   "metadata": {},
   "outputs": [],
   "source": [
    "dfs_produccion['2021'] = dfs_produccion['2021'].rename(columns=columnas)\n",
    "dfs_produccion['2022'] = dfs_produccion['2022'].rename(columns=columnas)"
   ]
  },
  {
   "cell_type": "code",
   "execution_count": 64,
   "metadata": {},
   "outputs": [],
   "source": [
    "tavi_2021 = dfs_produccion['2021'].loc[62]['ENERO':'DICIEMBRE']\n",
    "tavi_2022 = dfs_produccion['2022'].loc[62]['ENERO':'DICIEMBRE']\n",
    "\n",
    "cantidad_tavis = pd.concat([tavi_2021, tavi_2022]).reset_index().drop(columns=['index'])"
   ]
  },
  {
   "cell_type": "code",
   "execution_count": 70,
   "metadata": {},
   "outputs": [],
   "source": [
    "gastos_tavi['Cantidad_TAVIs'] = cantidad_tavis.astype('Int32')\n",
    "gastos_tavi = gastos_tavi.replace(0, 0)"
   ]
  },
  {
   "cell_type": "code",
   "execution_count": 71,
   "metadata": {},
   "outputs": [],
   "source": [
    "gastos_tavi['Gasto_Indirecto_promedio'] = gastos_tavi['Gasto_Indirecto'].divide(gastos_tavi['Cantidad_TAVIs'])"
   ]
  },
  {
   "cell_type": "code",
   "execution_count": 73,
   "metadata": {},
   "outputs": [],
   "source": [
    "gastos_tavi.to_excel('tavi_indirectos_historicos.xlsx', index=False)"
   ]
  },
  {
   "cell_type": "code",
   "execution_count": null,
   "metadata": {},
   "outputs": [],
   "source": []
  }
 ],
 "metadata": {
  "kernelspec": {
   "display_name": "Python 3.10.6 64-bit",
   "language": "python",
   "name": "python3"
  },
  "language_info": {
   "codemirror_mode": {
    "name": "ipython",
    "version": 3
   },
   "file_extension": ".py",
   "mimetype": "text/x-python",
   "name": "python",
   "nbconvert_exporter": "python",
   "pygments_lexer": "ipython3",
   "version": "3.10.6"
  },
  "orig_nbformat": 4,
  "vscode": {
   "interpreter": {
    "hash": "01515e38d2d4c9d68a7cdf4111cc430df5b00f8319213d00f2225d05549d76c7"
   }
  }
 },
 "nbformat": 4,
 "nbformat_minor": 2
}
