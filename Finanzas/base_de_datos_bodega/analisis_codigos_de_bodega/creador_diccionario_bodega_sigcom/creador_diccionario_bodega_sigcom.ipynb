{
 "cells": [
  {
   "cell_type": "code",
   "execution_count": 1,
   "metadata": {},
   "outputs": [],
   "source": [
    "import pandas as pd\n",
    "import tabula\n",
    "from Levenshtein import distance\n",
    "import numpy as np\n",
    "import scipy"
   ]
  },
  {
   "cell_type": "code",
   "execution_count": 4,
   "metadata": {},
   "outputs": [],
   "source": [
    "class Formateador:\n",
    "    def __init__(self):\n",
    "        pass\n",
    "\n",
    "    def relacionar_sigfe_y_sigcom(self):\n",
    "        df_bodega_sigfe = pd.read_excel('maestro_articulos_10_11_2022.xlsx', header = 3)\n",
    "        df_sigfe_sigcom = pd.read_excel('asociacion_sigfe_sigcom.xlsx')\n",
    "\n",
    "        df_bodega_sigfe_unicos = df_bodega_sigfe.drop_duplicates(subset = 'Código')\n",
    "        df_bodega_sigfe_unicos['Items'] = df_bodega_sigfe_unicos['Items'].apply(self.convertidor_int_a_formato_sigfe)\n",
    "        df_bodega_sigfe_unicos['Cod. SIGFE limpio'] = df_bodega_sigfe_unicos['Items'].apply(self.formato_chequeador)\n",
    "        df_bodega_sigfe_unicos = df_bodega_sigfe_unicos.rename(columns = {'Items': 'Cod. SIGFE', 'Código': 'Cod. Bodega'})\n",
    "\n",
    "        left_df = df_bodega_sigfe_unicos.iloc[:, [0, 1, 2, 3, 4, 5, -1]]\n",
    "        right_df = df_sigfe_sigcom\n",
    "\n",
    "        df_adquisiciones_sigcom = pd.merge(left_df, right_df, how = 'left', on = 'Cod. SIGFE limpio')\n",
    "        df_adquisiciones_sigcom = df_adquisiciones_sigcom.drop(columns = 'Cod. SIGFE limpio')\n",
    "        df_adquisiciones_sigcom = df_adquisiciones_sigcom.set_index('Cod. Bodega', drop = True)\n",
    "        df_adquisiciones_sigcom = df_adquisiciones_sigcom[['Descripción', 'Cod. SIGFE_x', 'Cod. SIGCOM', 'Nº', 'Familia', 'Nombre Items', 'Item en SIGCOM', 'Item SIGFE', 'Gastos SIGCOM']]\n",
    "        df_adquisiciones_sigcom.rename(columns = {'Cod. SIGFE_x': 'Cod. SIGFE'}, inplace = True)\n",
    "        df_adquisiciones_sigcom['Total_SIGCOM'] = (df_adquisiciones_sigcom['Cod. SIGCOM'].astype(str).str.replace('.0', '', regex = False) + '-' +\n",
    "                                                  df_adquisiciones_sigcom['Item en SIGCOM'])\n",
    "\n",
    "        df_adquisiciones_sigcom.to_json('maestro_articulos_sigcom.json', orient = 'index', indent = 1, force_ascii = False)\n",
    "        df_adquisiciones_sigcom.to_excel('maestro_articulos_sigcom.xlsx')\n",
    "    \n",
    "    def convertidor_int_a_formato_sigfe(self, numero):\n",
    "        numero = str(numero)\n",
    "        primer_bloque = numero[0: 2]\n",
    "        segundo_bloque = numero[2: 4]\n",
    "        tercer_bloque = numero[4: 7]\n",
    "\n",
    "        nuevo_formato = '.'.join([primer_bloque, segundo_bloque, tercer_bloque])\n",
    "\n",
    "        if len(numero) >= 10:\n",
    "            cuarto_bloque = numero[7: 10]\n",
    "            nuevo_formato = '.'.join([nuevo_formato, cuarto_bloque])\n",
    "\n",
    "            if len(numero) == 12:\n",
    "                quinto_bloque = numero[10: 12]\n",
    "                nuevo_formato = '.'.join([nuevo_formato, quinto_bloque])\n",
    "        \n",
    "        return nuevo_formato\n",
    "    \n",
    "    def formato_chequeador(self, numero_formateado):\n",
    "        excepciones = ['22.01.001', '22.02.002', '22.04.004.001', '22.04.005', '22.06.002', '22.09.005',\n",
    "                    '22.11.002', '22.12.999.009']\n",
    "        \n",
    "        for excepcion in excepciones:\n",
    "            if excepcion in numero_formateado:\n",
    "                numero_formateado = excepcion\n",
    "                break\n",
    "        \n",
    "        return numero_formateado\n",
    "    \n",
    "    def obtener_descripciones_repetidas(self):\n",
    "        df = pd.read_excel('asociacion_bodega_sigcom.xlsx')\n",
    "        df['Cod. Bodega'] = df['Cod. Bodega'].astype(str).apply(lambda x: x.strip())\n",
    "        descr_repetidas = df[df.duplicated('Descripción', keep = False)].sort_values(by = 'Descripción')\n",
    "        agrupados = descr_repetidas.groupby(['Descripción'])['Cod. Bodega'].value_counts()\n",
    "        agrupados.to_excel('descripciones_con_mas_de_un_cod_bodega.xlsx')\n",
    "\n",
    "        return agrupados\n"
   ]
  },
  {
   "cell_type": "code",
   "execution_count": 5,
   "metadata": {},
   "outputs": [
    {
     "name": "stderr",
     "output_type": "stream",
     "text": [
      "C:\\Users\\gmolina\\AppData\\Local\\Temp\\ipykernel_8420\\216822309.py:10: SettingWithCopyWarning: \n",
      "A value is trying to be set on a copy of a slice from a DataFrame.\n",
      "Try using .loc[row_indexer,col_indexer] = value instead\n",
      "\n",
      "See the caveats in the documentation: https://pandas.pydata.org/pandas-docs/stable/user_guide/indexing.html#returning-a-view-versus-a-copy\n",
      "  df_bodega_sigfe_unicos['Items'] = df_bodega_sigfe_unicos['Items'].apply(self.convertidor_int_a_formato_sigfe)\n",
      "C:\\Users\\gmolina\\AppData\\Local\\Temp\\ipykernel_8420\\216822309.py:11: SettingWithCopyWarning: \n",
      "A value is trying to be set on a copy of a slice from a DataFrame.\n",
      "Try using .loc[row_indexer,col_indexer] = value instead\n",
      "\n",
      "See the caveats in the documentation: https://pandas.pydata.org/pandas-docs/stable/user_guide/indexing.html#returning-a-view-versus-a-copy\n",
      "  df_bodega_sigfe_unicos['Cod. SIGFE limpio'] = df_bodega_sigfe_unicos['Items'].apply(self.formato_chequeador)\n"
     ]
    }
   ],
   "source": [
    "formateador = Formateador()\n",
    "formateador.relacionar_sigfe_y_sigcom()\n",
    "# repetidas = formateador.obtener_descripciones_repetidas()"
   ]
  },
  {
   "cell_type": "code",
   "execution_count": null,
   "metadata": {},
   "outputs": [],
   "source": []
  }
 ],
 "metadata": {
  "kernelspec": {
   "display_name": "Python 3.10.6 64-bit",
   "language": "python",
   "name": "python3"
  },
  "language_info": {
   "codemirror_mode": {
    "name": "ipython",
    "version": 3
   },
   "file_extension": ".py",
   "mimetype": "text/x-python",
   "name": "python",
   "nbconvert_exporter": "python",
   "pygments_lexer": "ipython3",
   "version": "3.10.6"
  },
  "orig_nbformat": 4,
  "vscode": {
   "interpreter": {
    "hash": "01515e38d2d4c9d68a7cdf4111cc430df5b00f8319213d00f2225d05549d76c7"
   }
  }
 },
 "nbformat": 4,
 "nbformat_minor": 2
}
