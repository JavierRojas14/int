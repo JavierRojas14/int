{
 "cells": [
  {
   "cell_type": "code",
   "execution_count": 1,
   "metadata": {},
   "outputs": [],
   "source": [
    "import pandas as pd"
   ]
  },
  {
   "cell_type": "code",
   "execution_count": 60,
   "metadata": {},
   "outputs": [
    {
     "name": "stderr",
     "output_type": "stream",
     "text": [
      "C:\\Users\\gmolina\\AppData\\Local\\Temp\\ipykernel_8696\\1659945005.py:5: FutureWarning: Inferring datetime64[ns] from data containing strings is deprecated and will be removed in a future version. To retain the old behavior explicitly pass Series(data, dtype=datetime64[ns])\n",
      "  movimientos_jueves = pd.read_excel('input\\\\movimientos_hasta_jueves.xlsx')\n",
      "C:\\Users\\gmolina\\AppData\\Local\\Temp\\ipykernel_8696\\1659945005.py:10: FutureWarning: Inferring datetime64[ns] from data containing strings is deprecated and will be removed in a future version. To retain the old behavior explicitly pass Series(data, dtype=datetime64[ns])\n",
      "  movimientos_viernes = pd.read_excel('input\\\\movimientos_hasta_viernes.xlsx')\n"
     ]
    }
   ],
   "source": [
    "inventario_bueno = pd.read_excel('input\\\\inventario_bueno.xlsx')\n",
    "inventario_bueno = inventario_bueno.rename(columns = {'CODIGO': 'CODIGO ARTICULO', 'SERIE': 'NUMERO SERIE', 'LOTE': 'NUMERO LOTE', 'CANTIDAD': 'STOCK'})\n",
    "\n",
    "\n",
    "movimientos_jueves = pd.read_excel('input\\\\movimientos_hasta_jueves.xlsx')\n",
    "mask_salida = movimientos_jueves['TIPO MOVIMIENTO'] == 'SALIDA'\n",
    "movimientos_jueves.loc[mask_salida, 'STOCK'] = (movimientos_jueves.loc[mask_salida, 'STOCK']) * -1\n",
    "\n",
    "\n",
    "movimientos_viernes = pd.read_excel('input\\\\movimientos_hasta_viernes.xlsx')\n",
    "mask_salida = movimientos_viernes['TIPO MOVIMIENTO'] == 'SALIDA'\n",
    "movimientos_viernes.loc[mask_salida, 'STOCK'] = (movimientos_viernes.loc[mask_salida,'STOCK']) * -1\n",
    "\n",
    "inventario_cargado_a_informatica = pd.read_excel('input\\\\INVENTARIO_09_09_2022.xlsx')\n",
    "inventario_cargado_a_informatica = inventario_cargado_a_informatica.rename(columns = {'Codigo Articulo ': 'CODIGO ARTICULO', 'Lote': 'NUMERO LOTE', 'Numero Serie': 'NUMERO SERIE',\n",
    "                                                                                      'Cantidad Movidad': 'STOCK'})\n",
    "\n",
    "# Ahora, cada columna de CODIGO ARTICULO, NUMERO LOTE, NUMERO SERIE debe ir en str\n",
    "\n",
    "def unificador_columnas(df):\n",
    "    df['CODIGO ARTICULO'] = df['CODIGO ARTICULO'].astype(str)\n",
    "    df['NUMERO SERIE'] = df['NUMERO SERIE'].astype(str)\n",
    "    df['NUMERO LOTE'] = df['NUMERO LOTE'].astype(str)\n",
    "\n",
    "    return df\n",
    "\n",
    "inventario_bueno = unificador_columnas(inventario_bueno)\n",
    "movimientos_jueves = unificador_columnas(movimientos_jueves)\n",
    "movimientos_viernes = unificador_columnas(movimientos_viernes)\n",
    "inventario_cargado_a_informatica = unificador_columnas(inventario_cargado_a_informatica)\n"
   ]
  },
  {
   "cell_type": "markdown",
   "metadata": {},
   "source": [
    "# - Primero, quiero ver los artículos que entraron y salieron el viernes. Ya que, esa es la diferencia que hará con el archivo del jueves."
   ]
  },
  {
   "cell_type": "code",
   "execution_count": 61,
   "metadata": {},
   "outputs": [
    {
     "data": {
      "text/html": [
       "<div>\n",
       "<style scoped>\n",
       "    .dataframe tbody tr th:only-of-type {\n",
       "        vertical-align: middle;\n",
       "    }\n",
       "\n",
       "    .dataframe tbody tr th {\n",
       "        vertical-align: top;\n",
       "    }\n",
       "\n",
       "    .dataframe thead th {\n",
       "        text-align: right;\n",
       "    }\n",
       "</style>\n",
       "<table border=\"1\" class=\"dataframe\">\n",
       "  <thead>\n",
       "    <tr style=\"text-align: right;\">\n",
       "      <th></th>\n",
       "      <th>FECHA MOVIMIENTO</th>\n",
       "      <th>TIPO MOVIMIENTO</th>\n",
       "      <th>FECHA VENCIMIENTO</th>\n",
       "      <th>NUMERO LOTE</th>\n",
       "      <th>NUMERO SERIE</th>\n",
       "      <th>PROVEEDOR</th>\n",
       "      <th>CODIGO ARTICULO</th>\n",
       "      <th>NOMBRE ARTICULO</th>\n",
       "      <th>STOCK</th>\n",
       "    </tr>\n",
       "  </thead>\n",
       "  <tbody>\n",
       "    <tr>\n",
       "      <th>0</th>\n",
       "      <td>2022-09-09 12:59:04</td>\n",
       "      <td>SALIDA</td>\n",
       "      <td>2023-07-30 00:00:00</td>\n",
       "      <td>75RG1540</td>\n",
       "      <td>SINSERIE</td>\n",
       "      <td>999999999</td>\n",
       "      <td>F602000</td>\n",
       "      <td>TIAMINA 30 MILIGRAMOS 1 ML AMPOLLA</td>\n",
       "      <td>-100</td>\n",
       "    </tr>\n",
       "    <tr>\n",
       "      <th>1</th>\n",
       "      <td>2022-09-09 12:40:54</td>\n",
       "      <td>SALIDA</td>\n",
       "      <td>2025-11-19 00:00:00</td>\n",
       "      <td>22E20844</td>\n",
       "      <td>SINSERIE</td>\n",
       "      <td>999999999</td>\n",
       "      <td>I012000</td>\n",
       "      <td>TRANSDUCTOR DE PRESION SIMPLE</td>\n",
       "      <td>-40</td>\n",
       "    </tr>\n",
       "    <tr>\n",
       "      <th>2</th>\n",
       "      <td>2022-09-09 12:40:54</td>\n",
       "      <td>SALIDA</td>\n",
       "      <td>2027-02-22 00:00:00</td>\n",
       "      <td>22B0810JZX</td>\n",
       "      <td>SINSERIE</td>\n",
       "      <td>999999999</td>\n",
       "      <td>I358400</td>\n",
       "      <td>TUBO ENDOTRAQUEAL Nº 8.0</td>\n",
       "      <td>-10</td>\n",
       "    </tr>\n",
       "    <tr>\n",
       "      <th>3</th>\n",
       "      <td>2022-09-09 12:40:53</td>\n",
       "      <td>SALIDA</td>\n",
       "      <td>NaT</td>\n",
       "      <td>SL</td>\n",
       "      <td>SINSERIE</td>\n",
       "      <td>96556940</td>\n",
       "      <td>AS4727700</td>\n",
       "      <td>TOALLA CLINIC PAQUETE</td>\n",
       "      <td>-14</td>\n",
       "    </tr>\n",
       "    <tr>\n",
       "      <th>4</th>\n",
       "      <td>2022-09-09 12:40:52</td>\n",
       "      <td>SALIDA</td>\n",
       "      <td>2026-07-30 00:00:00</td>\n",
       "      <td>HM20210715</td>\n",
       "      <td>SINSERIE</td>\n",
       "      <td>999999999</td>\n",
       "      <td>I049000</td>\n",
       "      <td>TAPAS DE BRANULA</td>\n",
       "      <td>-500</td>\n",
       "    </tr>\n",
       "    <tr>\n",
       "      <th>...</th>\n",
       "      <td>...</td>\n",
       "      <td>...</td>\n",
       "      <td>...</td>\n",
       "      <td>...</td>\n",
       "      <td>...</td>\n",
       "      <td>...</td>\n",
       "      <td>...</td>\n",
       "      <td>...</td>\n",
       "      <td>...</td>\n",
       "    </tr>\n",
       "    <tr>\n",
       "      <th>319</th>\n",
       "      <td>2022-09-09 08:27:01</td>\n",
       "      <td>ENTRADA</td>\n",
       "      <td>2024-02-29 23:00:00</td>\n",
       "      <td>SL</td>\n",
       "      <td>691S09</td>\n",
       "      <td>91871000</td>\n",
       "      <td>B532700</td>\n",
       "      <td>TAPENTADOL 50 MG ACCION RAPIDA</td>\n",
       "      <td>600</td>\n",
       "    </tr>\n",
       "    <tr>\n",
       "      <th>320</th>\n",
       "      <td>2022-09-09 08:25:19</td>\n",
       "      <td>SALIDA</td>\n",
       "      <td>2023-12-22 00:00:00</td>\n",
       "      <td>2107</td>\n",
       "      <td>SINSERIE</td>\n",
       "      <td>76751494</td>\n",
       "      <td>B580200</td>\n",
       "      <td>FENTANILO 25 UGH PARCHE DERMICO</td>\n",
       "      <td>-40</td>\n",
       "    </tr>\n",
       "    <tr>\n",
       "      <th>321</th>\n",
       "      <td>2022-09-09 08:25:19</td>\n",
       "      <td>SALIDA</td>\n",
       "      <td>2024-09-30 00:00:00</td>\n",
       "      <td>2I2102939A</td>\n",
       "      <td>SINSERIE</td>\n",
       "      <td>76079782</td>\n",
       "      <td>M099200</td>\n",
       "      <td>EVEROLIMUS 10 M COMPRIMIDO</td>\n",
       "      <td>-60</td>\n",
       "    </tr>\n",
       "    <tr>\n",
       "      <th>322</th>\n",
       "      <td>2022-09-09 08:24:30</td>\n",
       "      <td>ENTRADA</td>\n",
       "      <td>2023-12-22 23:00:00</td>\n",
       "      <td>2107</td>\n",
       "      <td>SINSERIE</td>\n",
       "      <td>76751494</td>\n",
       "      <td>B580200</td>\n",
       "      <td>FENTANILO 25 UGH PARCHE DERMICO</td>\n",
       "      <td>40</td>\n",
       "    </tr>\n",
       "    <tr>\n",
       "      <th>323</th>\n",
       "      <td>2022-09-09 08:22:28</td>\n",
       "      <td>ENTRADA</td>\n",
       "      <td>2024-09-30 23:00:00</td>\n",
       "      <td>2I2102939A</td>\n",
       "      <td>SINSERIE</td>\n",
       "      <td>76079782</td>\n",
       "      <td>M099200</td>\n",
       "      <td>EVEROLIMUS 10 M COMPRIMIDO</td>\n",
       "      <td>60</td>\n",
       "    </tr>\n",
       "  </tbody>\n",
       "</table>\n",
       "<p>324 rows × 9 columns</p>\n",
       "</div>"
      ],
      "text/plain": [
       "       FECHA MOVIMIENTO TIPO MOVIMIENTO   FECHA VENCIMIENTO NUMERO LOTE  \\\n",
       "0   2022-09-09 12:59:04          SALIDA 2023-07-30 00:00:00    75RG1540   \n",
       "1   2022-09-09 12:40:54          SALIDA 2025-11-19 00:00:00    22E20844   \n",
       "2   2022-09-09 12:40:54          SALIDA 2027-02-22 00:00:00  22B0810JZX   \n",
       "3   2022-09-09 12:40:53          SALIDA                 NaT          SL   \n",
       "4   2022-09-09 12:40:52          SALIDA 2026-07-30 00:00:00  HM20210715   \n",
       "..                  ...             ...                 ...         ...   \n",
       "319 2022-09-09 08:27:01         ENTRADA 2024-02-29 23:00:00          SL   \n",
       "320 2022-09-09 08:25:19          SALIDA 2023-12-22 00:00:00        2107   \n",
       "321 2022-09-09 08:25:19          SALIDA 2024-09-30 00:00:00  2I2102939A   \n",
       "322 2022-09-09 08:24:30         ENTRADA 2023-12-22 23:00:00        2107   \n",
       "323 2022-09-09 08:22:28         ENTRADA 2024-09-30 23:00:00  2I2102939A   \n",
       "\n",
       "    NUMERO SERIE  PROVEEDOR CODIGO ARTICULO  \\\n",
       "0       SINSERIE  999999999         F602000   \n",
       "1       SINSERIE  999999999         I012000   \n",
       "2       SINSERIE  999999999         I358400   \n",
       "3       SINSERIE   96556940       AS4727700   \n",
       "4       SINSERIE  999999999         I049000   \n",
       "..           ...        ...             ...   \n",
       "319       691S09   91871000         B532700   \n",
       "320     SINSERIE   76751494         B580200   \n",
       "321     SINSERIE   76079782         M099200   \n",
       "322     SINSERIE   76751494         B580200   \n",
       "323     SINSERIE   76079782         M099200   \n",
       "\n",
       "                        NOMBRE ARTICULO  STOCK  \n",
       "0    TIAMINA 30 MILIGRAMOS 1 ML AMPOLLA   -100  \n",
       "1         TRANSDUCTOR DE PRESION SIMPLE    -40  \n",
       "2              TUBO ENDOTRAQUEAL Nº 8.0    -10  \n",
       "3                 TOALLA CLINIC PAQUETE    -14  \n",
       "4                      TAPAS DE BRANULA   -500  \n",
       "..                                  ...    ...  \n",
       "319      TAPENTADOL 50 MG ACCION RAPIDA    600  \n",
       "320     FENTANILO 25 UGH PARCHE DERMICO    -40  \n",
       "321          EVEROLIMUS 10 M COMPRIMIDO    -60  \n",
       "322     FENTANILO 25 UGH PARCHE DERMICO     40  \n",
       "323          EVEROLIMUS 10 M COMPRIMIDO     60  \n",
       "\n",
       "[324 rows x 9 columns]"
      ]
     },
     "execution_count": 61,
     "metadata": {},
     "output_type": "execute_result"
    }
   ],
   "source": [
    "fecha_viernes = pd.to_datetime(\"09-09-22\", dayfirst = True)\n",
    "solo_viernes = movimientos_viernes.query('`FECHA MOVIMIENTO` >= @fecha_viernes')\n",
    "solo_viernes\n"
   ]
  },
  {
   "cell_type": "markdown",
   "metadata": {},
   "source": [
    "Ahora, puede que hayan habido movimientos de entrada/salida que dieran 0. En esos artículos, el inventario con el archivo del jueves y el viernes hubiera sido el mismo. Por lo tanto, estos casos deben ser filtrados"
   ]
  },
  {
   "cell_type": "code",
   "execution_count": 62,
   "metadata": {},
   "outputs": [
    {
     "data": {
      "text/plain": [
       "CODIGO ARTICULO\n",
       "A031900      -170\n",
       "A032200       -24\n",
       "A950500       -10\n",
       "A999700       -30\n",
       "AL5900300       0\n",
       "             ... \n",
       "S192800         0\n",
       "S204700         0\n",
       "S316800      -100\n",
       "T100000         0\n",
       "U230200     -1600\n",
       "Name: STOCK, Length: 198, dtype: int64"
      ]
     },
     "execution_count": 62,
     "metadata": {},
     "output_type": "execute_result"
    }
   ],
   "source": [
    "movimientos_totales_solo_viernes = solo_viernes.groupby(by = ['CODIGO ARTICULO'])['STOCK'].sum()\n",
    "movimientos_totales_solo_viernes"
   ]
  },
  {
   "cell_type": "markdown",
   "metadata": {},
   "source": [
    "Del resultado anterior, se puede ver que hubo movimiento de 198 artículos el día viernes"
   ]
  },
  {
   "cell_type": "code",
   "execution_count": 63,
   "metadata": {},
   "outputs": [
    {
     "name": "stdout",
     "output_type": "stream",
     "text": [
      "CODIGO ARTICULO\n",
      "A031900      -170\n",
      "A032200       -24\n",
      "A950500       -10\n",
      "A999700       -30\n",
      "AL5909800      15\n",
      "             ... \n",
      "S003500       -30\n",
      "S009600      -240\n",
      "S060100       -30\n",
      "S316800      -100\n",
      "U230200     -1600\n",
      "Name: STOCK, Length: 156, dtype: int64\n"
     ]
    }
   ],
   "source": [
    "movimientos_totales_solo_viernes_sin_0 = movimientos_totales_solo_viernes[movimientos_totales_solo_viernes != 0]\n",
    "print(movimientos_totales_solo_viernes_sin_0)"
   ]
  },
  {
   "cell_type": "markdown",
   "metadata": {},
   "source": [
    "Con el resultado anterior, se identificaron los artículos QUE VAN a generar diferencias al hacer el inventario con el archivo del jueves y del viernes. En estos casos, hubieron 156 artículos que tuvieron un movimiento neto distinto a 0."
   ]
  },
  {
   "cell_type": "code",
   "execution_count": 64,
   "metadata": {},
   "outputs": [],
   "source": [
    "movimientos_totales_solo_viernes_sin_0.to_excel('codigos_diferencia_jueves_viernes.xlsx')"
   ]
  },
  {
   "cell_type": "markdown",
   "metadata": {},
   "source": [
    "## Ahora, el mismo ejercicio, pero teniendo en cuenta el código/lote/serie."
   ]
  },
  {
   "cell_type": "code",
   "execution_count": 65,
   "metadata": {},
   "outputs": [
    {
     "data": {
      "text/plain": [
       "CODIGO ARTICULO  NUMERO LOTE  NUMERO SERIE\n",
       "A031900          22052044     SINSERIE        -170\n",
       "A032200          C12EO438AO   SINSERIE         -24\n",
       "A950500          2201835      SINSERIE         -10\n",
       "A999700          C12AOO08A0   SINSERIE         -15\n",
       "                 C12F0233A0   SINSERIE         -15\n",
       "                                              ... \n",
       "S204700          FNC028914G   SINSERIE           0\n",
       "                 FNC028915G   SINSERIE           0\n",
       "S316800          PC00017942   SINSERIE        -100\n",
       "T100000          N0416B06     SINSERIE           0\n",
       "U230200          202406LR     SINSERIE       -1600\n",
       "Name: STOCK, Length: 215, dtype: int64"
      ]
     },
     "execution_count": 65,
     "metadata": {},
     "output_type": "execute_result"
    }
   ],
   "source": [
    "movimientos_totales_solo_viernes = solo_viernes.groupby(by = ['CODIGO ARTICULO', 'NUMERO LOTE', 'NUMERO SERIE'])['STOCK'].sum()\n",
    "movimientos_totales_solo_viernes\n"
   ]
  },
  {
   "cell_type": "markdown",
   "metadata": {},
   "source": [
    "Hubo movimiento de 215 artículos en total."
   ]
  },
  {
   "cell_type": "code",
   "execution_count": 66,
   "metadata": {},
   "outputs": [
    {
     "name": "stdout",
     "output_type": "stream",
     "text": [
      "CODIGO ARTICULO  NUMERO LOTE  NUMERO SERIE\n",
      "A031900          22052044     SINSERIE        -170\n",
      "A032200          C12EO438AO   SINSERIE         -24\n",
      "A950500          2201835      SINSERIE         -10\n",
      "A999700          C12AOO08A0   SINSERIE         -15\n",
      "                 C12F0233A0   SINSERIE         -15\n",
      "                                              ... \n",
      "S003500          22199X       SINSERIE         -30\n",
      "S009600          49620788     SINSERIE        -240\n",
      "S060100          MD21718904   SINSERIE         -30\n",
      "S316800          PC00017942   SINSERIE        -100\n",
      "U230200          202406LR     SINSERIE       -1600\n",
      "Name: STOCK, Length: 168, dtype: int64\n"
     ]
    }
   ],
   "source": [
    "movimientos_totales_solo_viernes_sin_0 = movimientos_totales_solo_viernes[movimientos_totales_solo_viernes != 0]\n",
    "print(movimientos_totales_solo_viernes_sin_0)"
   ]
  },
  {
   "cell_type": "markdown",
   "metadata": {},
   "source": [
    "Hubo movimiento de 168 artículos con movimiento neto distinto a 0."
   ]
  },
  {
   "cell_type": "code",
   "execution_count": 67,
   "metadata": {},
   "outputs": [],
   "source": [
    "movimientos_totales_solo_viernes_sin_0.to_excel('Movimientos_distintos.xlsx')"
   ]
  },
  {
   "cell_type": "markdown",
   "metadata": {},
   "source": [
    "# Entonces, ahora buscar las diferencias entre inventarios.\n",
    "\n",
    "- En este caso, puede haber diferencias de código/lote/serie.\n",
    "  - Debido a lo anterior, se hará un análisis de diferencias de código\n",
    "  - Luego, un análisis de diferencia entre código/lote/serie."
   ]
  },
  {
   "cell_type": "markdown",
   "metadata": {},
   "source": [
    "# 23/09/2022\n",
    "\n",
    "Ahora, quiero agregarle al inventario que enviamos (sólo con los movimientos hasta el jueves 08/09), los movimientos del viernes."
   ]
  },
  {
   "cell_type": "code",
   "execution_count": 68,
   "metadata": {},
   "outputs": [],
   "source": [
    "inventario_agrupado_informatica = inventario_cargado_a_informatica.groupby(by = ['CODIGO ARTICULO', 'NUMERO LOTE', 'NUMERO SERIE'])['STOCK'].sum()"
   ]
  },
  {
   "cell_type": "code",
   "execution_count": 69,
   "metadata": {},
   "outputs": [],
   "source": [
    "inventario_que_debio_ser_enviado = inventario_agrupado_informatica.add(movimientos_totales_solo_viernes_sin_0, fill_value = 0)\n",
    "inventario_que_debio_ser_enviado.to_excel('inventario_que_debio_ser_enviado.xlsx')"
   ]
  },
  {
   "cell_type": "code",
   "execution_count": null,
   "metadata": {},
   "outputs": [],
   "source": []
  },
  {
   "cell_type": "code",
   "execution_count": null,
   "metadata": {},
   "outputs": [],
   "source": []
  },
  {
   "cell_type": "code",
   "execution_count": null,
   "metadata": {},
   "outputs": [],
   "source": []
  }
 ],
 "metadata": {
  "kernelspec": {
   "display_name": "Python 3.10.6 64-bit",
   "language": "python",
   "name": "python3"
  },
  "language_info": {
   "codemirror_mode": {
    "name": "ipython",
    "version": 3
   },
   "file_extension": ".py",
   "mimetype": "text/x-python",
   "name": "python",
   "nbconvert_exporter": "python",
   "pygments_lexer": "ipython3",
   "version": "3.10.6"
  },
  "orig_nbformat": 4,
  "vscode": {
   "interpreter": {
    "hash": "01515e38d2d4c9d68a7cdf4111cc430df5b00f8319213d00f2225d05549d76c7"
   }
  }
 },
 "nbformat": 4,
 "nbformat_minor": 2
}
