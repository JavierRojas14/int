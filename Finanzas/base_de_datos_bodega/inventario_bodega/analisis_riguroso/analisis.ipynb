{
 "cells": [
  {
   "cell_type": "code",
   "execution_count": 27,
   "metadata": {},
   "outputs": [],
   "source": [
    "import pandas as pd"
   ]
  },
  {
   "cell_type": "code",
   "execution_count": 110,
   "metadata": {},
   "outputs": [],
   "source": [
    "agrupador = ['CODIGO', 'LOTE', 'FECHA VENCIMIENTO']\n",
    "movimientos_agrupados = df_movimientos.groupby(by = agrupador).sum()\n",
    "inventario_malo_agrupado = df_inventario_malo.groupby(by = agrupador).sum()\n",
    "inventario_bueno_agrupado = df_inventario_bueno.groupby(by = agrupador).sum()"
   ]
  },
  {
   "cell_type": "code",
   "execution_count": 31,
   "metadata": {},
   "outputs": [
    {
     "name": "stdout",
     "output_type": "stream",
     "text": [
      "Hay 176 códigos distintos entre el inventario bueno y malo\n",
      "Hay 395 códigos/lotes distintos entre el inventario bueno y malo\n",
      "Hay 341 códigos/lotes/fecha distintos entre el inventario bueno y malo\n"
     ]
    }
   ],
   "source": [
    "# Primero, quiero ver las diferencias entre códigos que hay entre el inventario malo y el bueno.\n",
    "\n",
    "movimientos_agrupados = df_movimientos.groupby(by = 'CODIGO').sum()\n",
    "inventario_malo_agrupado = df_inventario_malo.groupby(by = 'CODIGO').sum()\n",
    "inventario_bueno_agrupado = df_inventario_bueno.groupby(by = 'CODIGO').sum()\n",
    "\n",
    "diferencias = pd.merge(inventario_malo_agrupado, inventario_bueno_agrupado, how = 'outer', left_index = True, right_index = True, indicator = True)\n",
    "diferencias = diferencias[diferencias['_merge'] != 'both']\n",
    "\n",
    "print(f'Hay {diferencias.shape[0]} códigos distintos entre el inventario bueno y malo')\n",
    "\n",
    "diferencias.to_excel('Diferencias_inventario_codigo.xlsx')\n",
    "\n",
    "# Segundo, quiero ver las diferencias entre códigos/lote que hay entre el inventario malo y el bueno.\n",
    "\n",
    "movimientos_agrupados = df_movimientos.groupby(by = ['CODIGO', 'LOTE']).sum()\n",
    "inventario_malo_agrupado = df_inventario_malo.groupby(by = ['CODIGO', 'LOTE']).sum()\n",
    "inventario_bueno_agrupado = df_inventario_bueno.groupby(by = ['CODIGO', 'LOTE']).sum()\n",
    "\n",
    "diferencias = pd.merge(inventario_malo_agrupado, inventario_bueno_agrupado, how = 'outer', left_index = True, right_index = True, indicator = True)\n",
    "diferencias = diferencias[diferencias['_merge'] != 'both']\n",
    "\n",
    "print(f'Hay {diferencias.shape[0]} códigos/lotes distintos entre el inventario bueno y malo')\n",
    "\n",
    "diferencias.to_excel('Diferencias_inventario_codigo_lote.xlsx')\n",
    "\n",
    "# Tercero, quiero ver las diferencias entre códigos/lote/fecha vencimiento que hay entre el inventario malo y el bueno.\n",
    "\n",
    "movimientos_agrupados = df_movimientos.groupby(by = ['CODIGO', 'LOTE', 'FECHA VENCIMIENTO']).sum()\n",
    "inventario_malo_agrupado = df_inventario_malo.groupby(by = ['CODIGO', 'LOTE', 'FECHA VENCIMIENTO']).sum()\n",
    "inventario_bueno_agrupado = df_inventario_bueno.groupby(by = ['CODIGO', 'LOTE', 'FECHA VENCIMIENTO']).sum()\n",
    "\n",
    "diferencias = pd.merge(inventario_malo_agrupado, inventario_bueno_agrupado, how = 'outer', left_index = True, right_index = True, indicator = True)\n",
    "diferencias = diferencias[diferencias['_merge'] != 'both']\n",
    "\n",
    "print(f'Hay {diferencias.shape[0]} códigos/lotes/fecha distintos entre el inventario bueno y malo')\n",
    "\n",
    "diferencias.to_excel('Diferencias_inventario_codigo_lote_fecha.xlsx')"
   ]
  },
  {
   "cell_type": "code",
   "execution_count": 22,
   "metadata": {},
   "outputs": [
    {
     "name": "stdout",
     "output_type": "stream",
     "text": [
      "Hay 203 códigos que sólo están en los movimientos, y no en el inventario malo\n"
     ]
    }
   ],
   "source": [
    "# Ahora, hay que ver la diferencia entre los movimientos e inventario \"malo\".\n",
    "\n",
    "movimientos_agrupados = df_movimientos.groupby(by = ['CODIGO']).sum()\n",
    "inventario_malo_agrupado = df_inventario_malo.groupby(by = ['CODIGO']).sum()\n",
    "\n",
    "diferencias = pd.merge(movimientos_agrupados, inventario_malo_agrupado, how = 'outer', left_index = True, right_index = True, indicator = True)\n",
    "diferencias = diferencias[diferencias['_merge'] == 'left_only']\n",
    "\n",
    "print(f'Hay {diferencias.shape[0]} códigos que sólo están en los movimientos, y no en el inventario malo')\n",
    "diferencias.to_excel('Diferencias_movimientos_inventario_malo_codigo.xlsx')\n",
    "\n",
    "# Segundo, quiero ver las diferencias entre códigos/lote que hay entre el inventario malo y el bueno.\n",
    "\n",
    "movimientos_agrupados = df_movimientos.groupby(by = ['CODIGO', 'LOTE']).sum()\n",
    "inventario_malo_agrupado = df_inventario_malo.groupby(by = ['CODIGO', 'LOTE']).sum()\n",
    "\n",
    "diferencias = pd.merge(movimientos_agrupados, inventario_malo_agrupado, how = 'outer', left_index = True, right_index = True, indicator = True)\n",
    "diferencias = diferencias[diferencias['_merge'] == 'left_only']\n",
    "\n",
    "print(f'Hay {diferencias.shape[0]} códigos/lotes distintos entre el inventario bueno y malo')\n",
    "\n",
    "diferencias.to_excel('Diferencias_movimientos_inventario_malo_codigo_lote.xlsx')\n",
    "\n",
    "# Tercero, quiero ver las diferencias entre códigos/lote/fecha que hay entre el inventario malo y el bueno.\n",
    "\n",
    "movimientos_agrupados = df_movimientos.groupby(by = ['CODIGO', 'LOTE', 'FECHA VENCIMIENTO']).sum()\n",
    "inventario_malo_agrupado = df_inventario_malo.groupby(by = ['CODIGO', 'LOTE', 'FECHA VENCIMIENTO']).sum()\n",
    "\n",
    "diferencias = pd.merge(movimientos_agrupados, inventario_malo_agrupado, how = 'outer', left_index = True, right_index = True, indicator = True)\n",
    "diferencias = diferencias[diferencias['_merge'] == 'left_only']\n",
    "\n",
    "print(f'Hay {diferencias.shape[0]} códigos/lotes/fecha distintos entre el inventario bueno y malo')\n",
    "\n",
    "diferencias.to_excel('Diferencias_movimientos_inventario_malo_codigo_lote_fecha.xlsx')"
   ]
  },
  {
   "cell_type": "code",
   "execution_count": 117,
   "metadata": {},
   "outputs": [],
   "source": [
    "def limpiar_columnas_identificadoras(df):\n",
    "    df['CODIGO'] = df['CODIGO'].astype(str).apply(lambda x: x.strip())\n",
    "    df['LOTE'] = df['LOTE'].astype(str).apply(lambda x: x.strip())\n",
    "    df['FECHA VENCIMIENTO'] = pd.to_datetime(df['FECHA VENCIMIENTO'], errors = 'coerce')\n",
    "\n",
    "    return df"
   ]
  },
  {
   "cell_type": "code",
   "execution_count": 120,
   "metadata": {},
   "outputs": [
    {
     "name": "stderr",
     "output_type": "stream",
     "text": [
      "C:\\Users\\gmolina\\AppData\\Local\\Temp\\ipykernel_19460\\3686917827.py:1: FutureWarning: Inferring datetime64[ns] from data containing strings is deprecated and will be removed in a future version. To retain the old behavior explicitly pass Series(data, dtype=datetime64[ns])\n",
      "  df_movimientos = pd.read_excel('input\\\\MOVIMIENTOS ENTRADAS Y SALIDAS SCI - INVENTARIO.xlsx')\n"
     ]
    }
   ],
   "source": [
    "df_movimientos = pd.read_excel('input\\\\MOVIMIENTOS ENTRADAS Y SALIDAS SCI - INVENTARIO.xlsx')\n",
    "df_movimientos.rename(columns = {'CODIGO ARTICULO': 'CODIGO', 'NUMERO LOTE': 'LOTE', 'NUMERO SERIE': 'SERIE', 'CANTIDAD MOVIDA': 'CANTIDAD', 'NOMBRE ARTICULO': 'NOMBRE'}, inplace = True)\n",
    "df_movimientos = limpiar_columnas_identificadoras(df_movimientos)"
   ]
  }
 ],
 "metadata": {
  "kernelspec": {
   "display_name": "Python 3.10.6 64-bit",
   "language": "python",
   "name": "python3"
  },
  "language_info": {
   "codemirror_mode": {
    "name": "ipython",
    "version": 3
   },
   "file_extension": ".py",
   "mimetype": "text/x-python",
   "name": "python",
   "nbconvert_exporter": "python",
   "pygments_lexer": "ipython3",
   "version": "3.10.6"
  },
  "orig_nbformat": 4,
  "vscode": {
   "interpreter": {
    "hash": "01515e38d2d4c9d68a7cdf4111cc430df5b00f8319213d00f2225d05549d76c7"
   }
  }
 },
 "nbformat": 4,
 "nbformat_minor": 2
}
