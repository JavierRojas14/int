{
 "cells": [
  {
   "cell_type": "code",
   "execution_count": 27,
   "metadata": {},
   "outputs": [],
   "source": [
    "import pandas as pd"
   ]
  },
  {
   "cell_type": "code",
   "execution_count": 61,
   "metadata": {},
   "outputs": [],
   "source": [
    "df_movimientos = pd.read_excel('input\\\\Formato Movimientos - Inventario.xlsx')\n",
    "df_movimientos['NOMBRE'] = None\n",
    "df_movimientos.rename(columns = {'Codigo Articulo ': 'CODIGO', 'Lote': 'LOTE', 'Fecha Vencimiento': 'FECHA VENCIMIENTO', 'Numero Serie': 'SERIE', 'Cantidad Movidad': 'CANTIDAD'}, inplace = True)\n",
    "df_movimientos = df_movimientos[['CODIGO', 'NOMBRE', 'CANTIDAD', 'SERIE', 'LOTE', 'FECHA VENCIMIENTO', 'Tipo Movimiento', 'Fecha Movimiento']]\n",
    "\n",
    "df_inventario_malo = pd.read_excel('input\\\\Inventario_A_malo.xlsx')\n",
    "df_inventario_malo.rename(columns =  {'NOMBRE ARTICULO': 'NOMBRE', 'STOCK': 'CANTIDAD'}, inplace = True)\n",
    "\n",
    "df_inventario_bueno = pd.read_excel('input\\\\Inventario_B_bueno.xlsx')\n",
    "\n",
    "# Antes de comparar y ver si están las llaves, CODIGO, LOTE y FECHA DE VENCIMIENTO DEBEN ESTAR EN FORMATOS IGUALES.\n",
    "df_movimientos['CODIGO'] = df_movimientos['CODIGO'].astype(str).apply(lambda x: x.strip())\n",
    "df_inventario_malo['CODIGO'] = df_inventario_malo['CODIGO'].astype(str).apply(lambda x: x.strip())\n",
    "df_inventario_bueno['CODIGO'] = df_inventario_bueno['CODIGO'].astype(str).apply(lambda x: x.strip())\n",
    "\n",
    "df_movimientos['LOTE'] = df_movimientos['LOTE'].astype(str).apply(lambda x: x.strip())\n",
    "df_inventario_malo['LOTE'] = df_inventario_malo['LOTE'].astype(str).apply(lambda x: x.strip())\n",
    "df_inventario_bueno['LOTE'] = df_inventario_bueno['LOTE'].astype(str).apply(lambda x: x.strip())\n",
    "\n",
    "df_movimientos['FECHA VENCIMIENTO'] = pd.to_datetime(df_movimientos['FECHA VENCIMIENTO'])\n",
    "df_inventario_bueno['FECHA VENCIMIENTO'] = pd.to_datetime(df_inventario_bueno['FECHA VENCIMIENTO'], errors = 'coerce')\n",
    "df_inventario_malo['FECHA VENCIMIENTO'] = pd.to_datetime(df_inventario_malo['FECHA VENCIMIENTO'], errors = 'coerce')"
   ]
  },
  {
   "cell_type": "code",
   "execution_count": 30,
   "metadata": {},
   "outputs": [],
   "source": [
    "agrupador = ['CODIGO', 'LOTE', 'FECHA VENCIMIENTO']\n",
    "movimientos_agrupados = df_movimientos.groupby(by = agrupador).sum()\n",
    "inventario_malo_agrupado = df_inventario_malo.groupby(by = agrupador).sum()\n",
    "inventario_bueno_agrupado = df_inventario_bueno.groupby(by = agrupador).sum()"
   ]
  },
  {
   "cell_type": "code",
   "execution_count": 31,
   "metadata": {},
   "outputs": [
    {
     "name": "stdout",
     "output_type": "stream",
     "text": [
      "Hay 176 códigos distintos entre el inventario bueno y malo\n",
      "Hay 395 códigos/lotes distintos entre el inventario bueno y malo\n",
      "Hay 341 códigos/lotes/fecha distintos entre el inventario bueno y malo\n"
     ]
    }
   ],
   "source": [
    "# Primero, quiero ver las diferencias entre códigos que hay entre el inventario malo y el bueno.\n",
    "\n",
    "movimientos_agrupados = df_movimientos.groupby(by = 'CODIGO').sum()\n",
    "inventario_malo_agrupado = df_inventario_malo.groupby(by = 'CODIGO').sum()\n",
    "inventario_bueno_agrupado = df_inventario_bueno.groupby(by = 'CODIGO').sum()\n",
    "\n",
    "diferencias = pd.merge(inventario_malo_agrupado, inventario_bueno_agrupado, how = 'outer', left_index = True, right_index = True, indicator = True)\n",
    "diferencias = diferencias[diferencias['_merge'] != 'both']\n",
    "\n",
    "print(f'Hay {diferencias.shape[0]} códigos distintos entre el inventario bueno y malo')\n",
    "\n",
    "diferencias.to_excel('Diferencias_inventario_codigo.xlsx')\n",
    "\n",
    "# Segundo, quiero ver las diferencias entre códigos/lote que hay entre el inventario malo y el bueno.\n",
    "\n",
    "movimientos_agrupados = df_movimientos.groupby(by = ['CODIGO', 'LOTE']).sum()\n",
    "inventario_malo_agrupado = df_inventario_malo.groupby(by = ['CODIGO', 'LOTE']).sum()\n",
    "inventario_bueno_agrupado = df_inventario_bueno.groupby(by = ['CODIGO', 'LOTE']).sum()\n",
    "\n",
    "diferencias = pd.merge(inventario_malo_agrupado, inventario_bueno_agrupado, how = 'outer', left_index = True, right_index = True, indicator = True)\n",
    "diferencias = diferencias[diferencias['_merge'] != 'both']\n",
    "\n",
    "print(f'Hay {diferencias.shape[0]} códigos/lotes distintos entre el inventario bueno y malo')\n",
    "\n",
    "diferencias.to_excel('Diferencias_inventario_codigo_lote.xlsx')\n",
    "\n",
    "# Tercero, quiero ver las diferencias entre códigos/lote/fecha vencimiento que hay entre el inventario malo y el bueno.\n",
    "\n",
    "movimientos_agrupados = df_movimientos.groupby(by = ['CODIGO', 'LOTE', 'FECHA VENCIMIENTO']).sum()\n",
    "inventario_malo_agrupado = df_inventario_malo.groupby(by = ['CODIGO', 'LOTE', 'FECHA VENCIMIENTO']).sum()\n",
    "inventario_bueno_agrupado = df_inventario_bueno.groupby(by = ['CODIGO', 'LOTE', 'FECHA VENCIMIENTO']).sum()\n",
    "\n",
    "diferencias = pd.merge(inventario_malo_agrupado, inventario_bueno_agrupado, how = 'outer', left_index = True, right_index = True, indicator = True)\n",
    "diferencias = diferencias[diferencias['_merge'] != 'both']\n",
    "\n",
    "print(f'Hay {diferencias.shape[0]} códigos/lotes/fecha distintos entre el inventario bueno y malo')\n",
    "\n",
    "diferencias.to_excel('Diferencias_inventario_codigo_lote_fecha.xlsx')"
   ]
  },
  {
   "cell_type": "code",
   "execution_count": 22,
   "metadata": {},
   "outputs": [
    {
     "name": "stdout",
     "output_type": "stream",
     "text": [
      "Hay 203 códigos que sólo están en los movimientos, y no en el inventario malo\n"
     ]
    }
   ],
   "source": [
    "# Ahora, hay que ver la diferencia entre los movimientos e inventario \"malo\".\n",
    "\n",
    "movimientos_agrupados = df_movimientos.groupby(by = ['CODIGO']).sum()\n",
    "inventario_malo_agrupado = df_inventario_malo.groupby(by = ['CODIGO']).sum()\n",
    "\n",
    "diferencias = pd.merge(movimientos_agrupados, inventario_malo_agrupado, how = 'outer', left_index = True, right_index = True, indicator = True)\n",
    "diferencias = diferencias[diferencias['_merge'] == 'left_only']\n",
    "\n",
    "print(f'Hay {diferencias.shape[0]} códigos que sólo están en los movimientos, y no en el inventario malo')\n",
    "diferencias.to_excel('Diferencias_movimientos_inventario_malo_codigo.xlsx')\n",
    "\n",
    "# Segundo, quiero ver las diferencias entre códigos/lote que hay entre el inventario malo y el bueno.\n",
    "\n",
    "movimientos_agrupados = df_movimientos.groupby(by = ['CODIGO', 'LOTE']).sum()\n",
    "inventario_malo_agrupado = df_inventario_malo.groupby(by = ['CODIGO', 'LOTE']).sum()\n",
    "\n",
    "diferencias = pd.merge(movimientos_agrupados, inventario_malo_agrupado, how = 'outer', left_index = True, right_index = True, indicator = True)\n",
    "diferencias = diferencias[diferencias['_merge'] == 'left_only']\n",
    "\n",
    "print(f'Hay {diferencias.shape[0]} códigos/lotes distintos entre el inventario bueno y malo')\n",
    "\n",
    "diferencias.to_excel('Diferencias_movimientos_inventario_malo_codigo_lote.xlsx')\n",
    "\n",
    "# Tercero, quiero ver las diferencias entre códigos/lote/fecha que hay entre el inventario malo y el bueno.\n",
    "\n",
    "movimientos_agrupados = df_movimientos.groupby(by = ['CODIGO', 'LOTE', 'FECHA VENCIMIENTO']).sum()\n",
    "inventario_malo_agrupado = df_inventario_malo.groupby(by = ['CODIGO', 'LOTE', 'FECHA VENCIMIENTO']).sum()\n",
    "\n",
    "diferencias = pd.merge(movimientos_agrupados, inventario_malo_agrupado, how = 'outer', left_index = True, right_index = True, indicator = True)\n",
    "diferencias = diferencias[diferencias['_merge'] == 'left_only']\n",
    "\n",
    "print(f'Hay {diferencias.shape[0]} códigos/lotes/fecha distintos entre el inventario bueno y malo')\n",
    "\n",
    "diferencias.to_excel('Diferencias_movimientos_inventario_malo_codigo_lote_fecha.xlsx')"
   ]
  },
  {
   "cell_type": "code",
   "execution_count": 89,
   "metadata": {},
   "outputs": [],
   "source": [
    "df_entradas = df_movimientos[df_movimientos['Tipo Movimiento'] == 'ENTRADA']\n",
    "df_salidas = df_movimientos[df_movimientos['Tipo Movimiento'] == 'SALIDA']"
   ]
  },
  {
   "cell_type": "code",
   "execution_count": 90,
   "metadata": {},
   "outputs": [],
   "source": [
    "inventario_inicial = df_inventario_bueno.groupby(by = ['CODIGO', 'LOTE']).sum()\n",
    "movimientos_entrada = df_entradas.groupby(by = ['CODIGO', 'LOTE']).sum()\n",
    "movimientos_salida = df_salidas.groupby(by = ['CODIGO', 'LOTE']).sum()"
   ]
  },
  {
   "cell_type": "code",
   "execution_count": 91,
   "metadata": {},
   "outputs": [],
   "source": [
    "# Primero se suman las entradas al inventario\n",
    "inventario_mas_entradas = inventario_inicial.add(movimientos_entrada, fill_value = 0)\n",
    "# luego, se restan las salidas al inventario\n",
    "inventario_total = inventario_mas_entradas.sub(movimientos_salida, fill_value = 0)"
   ]
  },
  {
   "cell_type": "code",
   "execution_count": 92,
   "metadata": {},
   "outputs": [],
   "source": [
    "with pd.ExcelWriter('resumen_inventario.xlsx', 'openpyxl') as writer:\n",
    "    inventario_total.to_excel(writer, sheet_name = 'Inventario_total')\n",
    "    inventario_inicial.to_excel(writer, sheet_name = 'Inventario_inicial')\n",
    "    movimientos_entrada.to_excel(writer, sheet_name = 'Movimientos_entrada')\n",
    "    movimientos_salida.to_excel(writer, sheet_name = 'Movimientos_salida')\n",
    "    "
   ]
  },
  {
   "cell_type": "code",
   "execution_count": null,
   "metadata": {},
   "outputs": [],
   "source": []
  }
 ],
 "metadata": {
  "kernelspec": {
   "display_name": "Python 3.10.6 64-bit",
   "language": "python",
   "name": "python3"
  },
  "language_info": {
   "codemirror_mode": {
    "name": "ipython",
    "version": 3
   },
   "file_extension": ".py",
   "mimetype": "text/x-python",
   "name": "python",
   "nbconvert_exporter": "python",
   "pygments_lexer": "ipython3",
   "version": "3.10.6"
  },
  "orig_nbformat": 4,
  "vscode": {
   "interpreter": {
    "hash": "01515e38d2d4c9d68a7cdf4111cc430df5b00f8319213d00f2225d05549d76c7"
   }
  }
 },
 "nbformat": 4,
 "nbformat_minor": 2
}
