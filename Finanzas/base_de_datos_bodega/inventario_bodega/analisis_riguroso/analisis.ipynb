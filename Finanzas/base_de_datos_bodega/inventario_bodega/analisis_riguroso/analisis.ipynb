{
 "cells": [
  {
   "cell_type": "code",
   "execution_count": 1,
   "metadata": {},
   "outputs": [],
   "source": [
    "import pandas as pd"
   ]
  },
  {
   "cell_type": "code",
   "execution_count": 16,
   "metadata": {},
   "outputs": [],
   "source": [
    "df_movimientos = pd.read_excel('Formato Movimientos - Inventario.xlsx')\n",
    "df_movimientos.rename(columns = {'Codigo Articulo ': 'CODIGO', 'Lote': 'LOTE', 'Fecha Vencimiento': 'FECHA VENCIMIENTO'}, inplace = True)\n",
    "\n",
    "df_inventario_malo = pd.read_excel('Inventario_A_malo.xlsx')\n",
    "df_inventario_bueno = pd.read_excel('Inventario_B_bueno.xlsx')"
   ]
  },
  {
   "cell_type": "code",
   "execution_count": 19,
   "metadata": {},
   "outputs": [],
   "source": [
    "# Antes de comparar y ver si están las llaves, CODIGO, LOTE y FECHA DE VENCIMIENTO DEBEN ESTAR EN FORMATOS IGUALES.\n",
    "df_movimientos['CODIGO'] = df_movimientos['CODIGO'].astype(str).apply(lambda x: x.strip())\n",
    "df_inventario_malo['CODIGO'] = df_inventario_malo['CODIGO'].astype(str).apply(lambda x: x.strip())\n",
    "df_inventario_bueno['CODIGO'] = df_inventario_bueno['CODIGO'].astype(str).apply(lambda x: x.strip())\n",
    "\n",
    "df_movimientos['LOTE'] = df_movimientos['LOTE'].astype(str).apply(lambda x: x.strip())\n",
    "df_inventario_malo['LOTE'] = df_inventario_malo['LOTE'].astype(str).apply(lambda x: x.strip())\n",
    "df_inventario_bueno['LOTE'] = df_inventario_bueno['LOTE'].astype(str).apply(lambda x: x.strip())\n",
    "\n",
    "df_movimientos['FECHA VENCIMIENTO'] = pd.to_datetime(df_movimientos['FECHA VENCIMIENTO'])\n",
    "df_inventario_bueno['FECHA VENCIMIENTO'] = pd.to_datetime(df_inventario_bueno['FECHA VENCIMIENTO'], errors = 'coerce')\n",
    "df_inventario_malo['FECHA VENCIMIENTO'] = pd.to_datetime(df_inventario_malo['FECHA VENCIMIENTO'], errors = 'coerce')"
   ]
  },
  {
   "cell_type": "code",
   "execution_count": 31,
   "metadata": {},
   "outputs": [
    {
     "data": {
      "text/plain": [
       "0      2024-03-31 23:00:00\n",
       "1      2024-05-30 00:00:00\n",
       "2      2025-05-30 00:00:00\n",
       "3      2023-11-30 00:00:00\n",
       "4      2023-12-30 00:00:00\n",
       "               ...        \n",
       "1835   2022-12-31 00:00:00\n",
       "1836   2023-02-28 00:00:00\n",
       "1837   2023-02-28 00:00:00\n",
       "1838   2027-01-31 00:00:00\n",
       "1839   2026-11-30 00:00:00\n",
       "Name: FECHA VENCIMIENTO, Length: 1840, dtype: datetime64[ns]"
      ]
     },
     "execution_count": 31,
     "metadata": {},
     "output_type": "execute_result"
    }
   ],
   "source": []
  },
  {
   "cell_type": "code",
   "execution_count": 23,
   "metadata": {},
   "outputs": [
    {
     "data": {
      "text/plain": [
       "0                 SIN FECHA\n",
       "1       2023-12-21 00:00:00\n",
       "2       2024-04-28 00:00:00\n",
       "3       2025-01-31 23:00:00\n",
       "4       2025-03-31 23:00:00\n",
       "               ...         \n",
       "1689    2024-09-30 23:00:00\n",
       "1690    2024-07-31 00:00:00\n",
       "1691    2025-11-14 23:00:00\n",
       "1692    2025-04-30 00:00:00\n",
       "1693    2025-11-14 00:00:00\n",
       "Name: FECHA VENCIMIENTO, Length: 1694, dtype: object"
      ]
     },
     "execution_count": 23,
     "metadata": {},
     "output_type": "execute_result"
    }
   ],
   "source": [
    "df_inventario_bueno['FECHA VENCIMIENTO']"
   ]
  },
  {
   "cell_type": "code",
   "execution_count": 9,
   "metadata": {},
   "outputs": [],
   "source": [
    "inventario_malo_agrupado = df_inventario_malo.groupby(by = ['CODIGO', 'LOTE', 'FECHA VENCIMIENTO']).count()\n",
    "movimientos_agrupado"
   ]
  },
  {
   "cell_type": "code",
   "execution_count": 10,
   "metadata": {},
   "outputs": [
    {
     "data": {
      "text/plain": [
       "MultiIndex([('A006300',   4030226220, 2024-03-31 23:00:00),\n",
       "            ('A006700', 'C12E0017A1', 2024-05-30 00:00:00),\n",
       "            ('A031900',     22052044, 2025-05-30 00:00:00),\n",
       "            ('A032200', 'C12EO438AO', 2023-11-30 00:00:00),\n",
       "            ('A032200', 'CI2FO241A0', 2023-12-30 00:00:00),\n",
       "            ('A201100',   'N043K112', 2026-09-30 00:00:00),\n",
       "            ('A346000',   'S098E211', 2024-04-30 23:00:00),\n",
       "            ('A400200',         'SL',         'SIN FECHA'),\n",
       "            ('A950200',     19052201,         'SIN FECHA'),\n",
       "            ('A950500',      2201816, 2024-05-01 00:00:00),\n",
       "            ...\n",
       "            ('Z081800',  'J2C0539NY', 2027-02-28 00:00:00),\n",
       "            ('Z081800',  'J2C1747NY', 2027-02-28 00:00:00),\n",
       "            (  'Z1738',    'P7133KX', 2022-12-31 00:00:00),\n",
       "            ('Z173900',   'P7L0187X', 2022-11-30 00:00:00),\n",
       "            ('Z173900',   'P7M1339X', 2022-12-30 00:00:00),\n",
       "            ('Z174800',  'P7M1108KX', 2022-12-31 00:00:00),\n",
       "            ('Z174800',  'P8B1132KX', 2023-02-28 00:00:00),\n",
       "            ('Z174900',   'P8B1122X', 2023-02-28 00:00:00),\n",
       "            ('Z930100',    'P2B0946', 2027-01-31 00:00:00),\n",
       "            ('Z930200',    'P1M0962', 2026-11-30 00:00:00)],\n",
       "           names=['CODIGO', 'LOTE', 'FECHA VENCIMIENTO'], length=1839)"
      ]
     },
     "execution_count": 10,
     "metadata": {},
     "output_type": "execute_result"
    }
   ],
   "source": [
    "inventario_malo_agrupado.index"
   ]
  },
  {
   "cell_type": "code",
   "execution_count": null,
   "metadata": {},
   "outputs": [],
   "source": [
    "isin"
   ]
  }
 ],
 "metadata": {
  "kernelspec": {
   "display_name": "Python 3.10.6 64-bit",
   "language": "python",
   "name": "python3"
  },
  "language_info": {
   "codemirror_mode": {
    "name": "ipython",
    "version": 3
   },
   "file_extension": ".py",
   "mimetype": "text/x-python",
   "name": "python",
   "nbconvert_exporter": "python",
   "pygments_lexer": "ipython3",
   "version": "3.10.6"
  },
  "orig_nbformat": 4,
  "vscode": {
   "interpreter": {
    "hash": "01515e38d2d4c9d68a7cdf4111cc430df5b00f8319213d00f2225d05549d76c7"
   }
  }
 },
 "nbformat": 4,
 "nbformat_minor": 2
}
