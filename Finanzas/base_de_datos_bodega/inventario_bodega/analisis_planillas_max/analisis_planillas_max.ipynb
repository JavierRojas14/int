{
 "cells": [
  {
   "cell_type": "code",
   "execution_count": 1,
   "metadata": {},
   "outputs": [],
   "source": [
    "import pandas as pd"
   ]
  },
  {
   "cell_type": "code",
   "execution_count": 26,
   "metadata": {},
   "outputs": [],
   "source": [
    "df_antigua = pd.read_excel('LISTADO FINAL ANTERIOR INVENTARIO GENERAL BODEGA.xlsx')\n",
    "df_nueva = pd.read_excel('LISTADO FINAL INVENTARIO GENERAL BODEGA VERSIÓN FINAL COPIA.xlsx')\n",
    "df_nueva.rename(columns = {'NOMBRE': 'NOMBRE ARTICULO'}, inplace = True)"
   ]
  },
  {
   "cell_type": "code",
   "execution_count": 44,
   "metadata": {},
   "outputs": [],
   "source": [
    "df_diferencias_entre_codigo = pd.merge(df_antigua, df_nueva, how = 'outer', left_on = ['CODIGO'], right_on = ['CODIGO'], indicator = True)\n",
    "df_diferencias_entre_codigo = df_diferencias_entre_codigo[df_diferencias_entre_codigo['_merge'] != 'both']\n",
    "df_diferencias_entre_codigo_left = df_diferencias_entre_codigo[df_diferencias_entre_codigo['_merge'] == 'left_only']\n",
    "df_diferencias_entre_codigo_right = df_diferencias_entre_codigo[df_diferencias_entre_codigo['_merge'] == 'right_only']\n",
    "nombres_que_matcheen = pd.merge(df_diferencias_entre_codigo_left, df_diferencias_entre_codigo_right, how = 'inner', left_on = 'NOMBRE ARTICULO_x', right_on = 'NOMBRE ARTICULO_y')\n",
    "\n",
    "df_diferencias_entre_codigo.to_excel('CODIGO_diferencias_globales.xlsx')\n",
    "nombres_que_matcheen.to_excel('CODIGO_cambios_segun_NOMBRE_PRODUCTO.xlsx')"
   ]
  }
 ],
 "metadata": {
  "kernelspec": {
   "display_name": "Python 3.10.6 64-bit",
   "language": "python",
   "name": "python3"
  },
  "language_info": {
   "codemirror_mode": {
    "name": "ipython",
    "version": 3
   },
   "file_extension": ".py",
   "mimetype": "text/x-python",
   "name": "python",
   "nbconvert_exporter": "python",
   "pygments_lexer": "ipython3",
   "version": "3.10.6"
  },
  "orig_nbformat": 4,
  "vscode": {
   "interpreter": {
    "hash": "01515e38d2d4c9d68a7cdf4111cc430df5b00f8319213d00f2225d05549d76c7"
   }
  }
 },
 "nbformat": 4,
 "nbformat_minor": 2
}
