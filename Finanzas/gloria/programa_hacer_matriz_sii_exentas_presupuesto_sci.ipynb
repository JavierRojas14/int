{
 "cells": [
  {
   "cell_type": "code",
   "execution_count": 1,
   "metadata": {},
   "outputs": [],
   "source": [
    "import pandas as pd\n",
    "import datetime"
   ]
  },
  {
   "cell_type": "code",
   "execution_count": 2,
   "metadata": {},
   "outputs": [],
   "source": [
    "df_sii = pd.read_excel('sii_2019.xlsx')\n",
    "df_acepta = pd.read_excel('acepta_2019.xlsx')\n",
    "df_presupuesto = pd.read_excel('turbo_2019.xlsx')\n",
    "df_sci = pd.read_excel('sci_2019.xlsx')"
   ]
  },
  {
   "cell_type": "code",
   "execution_count": 3,
   "metadata": {},
   "outputs": [],
   "source": [
    "df_acepta.rename(columns = {'emisor': 'RUT Emisor', 'folio': 'Folio', 'tipo': 'Tipo DTE'}, inplace = True)\n",
    "df_presupuesto.rename(columns = {'Rut': 'RUT Emisor', 'Folio': 'Folio_abreviado', 'NºDoc.': 'Folio', 'Código DTE': 'Tipo DTE'}, inplace = True)\n",
    "df_sci.rename(columns = {'Rut Proveedor': 'RUT Emisor', 'Numero Documento': 'Folio', 'Código DTE': 'Tipo DTE'}, inplace = True)"
   ]
  },
  {
   "cell_type": "code",
   "execution_count": 4,
   "metadata": {},
   "outputs": [],
   "source": [
    "todas_las_df = {'SII': df_sii, 'ACEPTA': df_acepta, 'PRESUPUESTO': df_presupuesto, 'SCI': df_sci}\n",
    "for nombre_tabla, df in todas_las_df.items():\n",
    "    df.columns = df.columns + f' {nombre_tabla}'\n",
    "    df['llave_id'] = df[f'RUT Emisor {nombre_tabla}'].astype(str) + df[f'Folio {nombre_tabla}'].astype(str) + df[f'Tipo DTE {nombre_tabla}'].astype(str)\n",
    "    df.set_index('llave_id', drop = True, inplace = True)"
   ]
  },
  {
   "cell_type": "code",
   "execution_count": 5,
   "metadata": {},
   "outputs": [],
   "source": [
    "df_sii_acepta = pd.merge(df_sii, df_acepta, how = 'left', left_index = True, right_index = True)\n",
    "df_sii_acepta_presupuesto = pd.merge(df_sii_acepta, df_presupuesto, how = 'left', left_index = True, right_index = True)\n",
    "df_sii_acepta_presupuesto_sci = pd.merge(df_sii_acepta_presupuesto, df_sci, how = 'left', left_index = True, right_index = True)\n",
    "df_sii_acepta_presupuesto_sci = df_sii_acepta_presupuesto_sci[~df_sii_acepta_presupuesto_sci.index.duplicated(keep = 'first')]\n",
    "\n",
    "df_sii_acepta_presupuesto_sci['tiempo_diferencia'] = pd.to_datetime('today') - df_sii_acepta_presupuesto_sci['Fecha Docto. SII']\n",
    "df_sii_acepta_presupuesto_sci['esta_al_dia'] = df_sii_acepta_presupuesto_sci['tiempo_diferencia'] <= datetime.timedelta(8)\n"
   ]
  },
  {
   "cell_type": "code",
   "execution_count": 6,
   "metadata": {},
   "outputs": [],
   "source": [
    "df_sii_acepta_presupuesto_sci.to_excel('MATRIZ_FINAL.xlsx')"
   ]
  },
  {
   "cell_type": "code",
   "execution_count": null,
   "metadata": {},
   "outputs": [],
   "source": []
  }
 ],
 "metadata": {
  "kernelspec": {
   "display_name": "Python 3.10.6 64-bit",
   "language": "python",
   "name": "python3"
  },
  "language_info": {
   "codemirror_mode": {
    "name": "ipython",
    "version": 3
   },
   "file_extension": ".py",
   "mimetype": "text/x-python",
   "name": "python",
   "nbconvert_exporter": "python",
   "pygments_lexer": "ipython3",
   "version": "3.10.6"
  },
  "orig_nbformat": 4,
  "vscode": {
   "interpreter": {
    "hash": "01515e38d2d4c9d68a7cdf4111cc430df5b00f8319213d00f2225d05549d76c7"
   }
  }
 },
 "nbformat": 4,
 "nbformat_minor": 2
}
