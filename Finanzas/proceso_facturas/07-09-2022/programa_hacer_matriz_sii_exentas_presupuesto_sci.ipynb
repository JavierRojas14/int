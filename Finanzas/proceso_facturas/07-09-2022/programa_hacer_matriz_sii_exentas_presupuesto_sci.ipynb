{
 "cells": [
  {
   "cell_type": "code",
   "execution_count": 1,
   "metadata": {},
   "outputs": [],
   "source": [
    "import pandas as pd\n",
    "import datetime\n",
    "import os\n",
    "import itertools"
   ]
  },
  {
   "cell_type": "code",
   "execution_count": null,
   "metadata": {},
   "outputs": [],
   "source": [
    "traductor_sii = {'33': 'FACTURAS ELECTRONICAS', '34': 'FACTURAS EXENTAS', '61': 'NOTAS DE CREDITO'}\n",
    "diccionario_sii = {'FACTURAS ELECTRONICAS': [], 'FACTURAS EXENTAS': [], 'NOTAS DE CREDITO': []}\n",
    "diccionario_dfs = {'SII': diccionario_sii, 'ACEPTA': [], 'PRESUPUESTO': [], 'SCI': []}\n",
    "\n",
    "for nombre_archivo in os.listdir():\n",
    "    if 'DTE_RECIBIDOS' in nombre_archivo:\n",
    "        identificador = nombre_archivo.split('.')[0].split('_')[-1]\n",
    "        tipo_archivo = traductor_sii[identificador]\n",
    "        diccionario_sii[tipo_archivo].append(pd.read_csv(nombre_archivo, delimiter = ';'))\n",
    "\n",
    "    elif 'Documentos recepcion' in nombre_archivo:\n",
    "        diccionario_dfs['SCI'] = pd.read_excel(nombre_archivo)\n",
    "\n",
    "\n",
    "\n",
    "\n"
   ]
  },
  {
   "cell_type": "code",
   "execution_count": 2,
   "metadata": {},
   "outputs": [],
   "source": [
    "df_sii_facturas_electronicas = pd.read_csv('DTE_RECIBIDOS_61608402_202209_33.csv', delimiter = ';')\n",
    "df_sii_exentas = pd.read_csv('DTE_RECIBIDOS_61608402_202209_34.csv', delimiter = ';')\n",
    "df_sii_notas_de_credito = pd.read_csv('DTE_RECIBIDOS_61608402_202209_61.csv', delimiter = ';')\n",
    "\n",
    "df_acepta = pd.read_excel('acepta_2022.xlsx')\n",
    "\n",
    "\n",
    "df_presupuesto = pd.read_excel('presupuesto 06.09.2022.xlsx')\n",
    "df_sci = pd.read_excel('Documento recepcion (36).xlsx')\n",
    "\n",
    "\n",
    "\n",
    "\n"
   ]
  },
  {
   "cell_type": "code",
   "execution_count": 10,
   "metadata": {},
   "outputs": [],
   "source": [
    "df_sii_exentas = pd.merge(df_sii, df_exentas, how = 'left', left_index = True, right_index = True)\n",
    "df_sii_exentas_presupuesto = pd.merge(df_sii_exentas, df_presupuesto, how = 'left', left_index = True, right_index = True)\n",
    "df_sii_exentas_presupuesto_sci = pd.merge(df_sii_exentas_presupuesto, df_sci, how = 'left', left_index = True, right_index = True)\n",
    "df_sii_exentas_presupuesto_sci_acepta = pd.merge(df_sii_exentas_presupuesto_sci, df_acepta, how = 'left', left_index = True, right_index = True)\n",
    "\n",
    "df_sii_exentas_presupuesto_sci_acepta = df_sii_exentas_presupuesto_sci_acepta[~df_sii_exentas_presupuesto_sci_acepta.index.duplicated(keep = 'first')] \n",
    "\n",
    "df_sii_exentas_presupuesto_sci_acepta['tiempo_diferencia'] = pd.to_datetime('today') - df_sii_exentas_presupuesto_sci_acepta['Fecha Docto. SII']\n",
    "df_sii_exentas_presupuesto_sci_acepta['esta_al_dia'] = df_sii_exentas_presupuesto_sci_acepta['tiempo_diferencia'] <= datetime.timedelta(8)\n",
    "\n",
    "columnas_a_ocupar = ['Nro. SII', 'RUT Emisor SII', 'razon_social_emisor ACEPTA', 'folio_oc ACEPTA', 'Folio SII', 'Fecha Docto. SII', 'Monto Neto SII', \n",
    "                     'Monto Exento SII', 'Monto IVA SII', 'Monto Total SII', 'Fecha Recep. SII', 'Ubic. PRESUPUESTO',\n",
    "                     'tarea_actual ACEPTA', 'estado_devengo ACEPTA', 'fecha_ingreso_rc ACEPTA', 'estado_nar ACEPTA', 'Motivo SCI', 'tiempo_diferencia', 'esta_al_dia', 'Evento Receptor SII']\n",
    "\n",
    "df_columnas_utiles = df_sii_exentas_presupuesto_sci_acepta[columnas_a_ocupar]\n",
    "\n",
    "\n",
    "# df_sii_exentas_presupuesto_sci_acepta.to_excel('MATRIZ_FINAL_COMPLETA.xlsx')\n",
    "fecha_actual = str(pd.to_datetime('today')).split(' ')[0]\n",
    "nombre_archivo = f'PLANILLA DE CONTROL AL {fecha_actual}.xlsx'\n",
    "\n",
    "if nombre_archivo in os.listdir():\n",
    "    with pd.ExcelWriter(nombre_archivo, engine = 'openpyxl', mode = 'a', if_sheet_exists = 'overlay') as writer:\n",
    "        df_columnas_utiles.to_excel(writer)\n",
    "else:\n",
    "    df_columnas_utiles['Observaciones'] = None\n",
    "    with pd.ExcelWriter(nombre_archivo, engine = 'openpyxl', mode = 'w') as writer:\n",
    "        df_columnas_utiles.to_excel(writer)"
   ]
  },
  {
   "cell_type": "code",
   "execution_count": null,
   "metadata": {},
   "outputs": [],
   "source": [
    "class GeneradorPlanillaFinanzas:\n",
    "    def __init__(self):\n",
    "        self.correr_programa()\n",
    "\n",
    "    def correr_programa(self):\n",
    "        diccionario_dfs = self.identificar_tipo_de_archivo_y_cargar_dfs()\n",
    "        dfs_limpias = self.limpiar_dfs(diccionario_dfs)\n",
    "        df_final = self.unir_dfs(dfs_limpias)\n",
    "    \n",
    "    def limpiar_dfs(self, diccionario_dfs):\n",
    "        for nombre_tabla, df in diccionario_dfs.items():\n",
    "            if nombre_tabla == 'ACEPTA':\n",
    "                df.rename(columns = {'emisor': 'RUT Emisor', 'folio': 'Folio'}, inplace = True)\n",
    "            \n",
    "            elif nombre_tabla == 'PRESUPUESTO':\n",
    "                df.rename(columns = {'Rut': 'RUT Emisor', 'Folio': 'Folio_abreviado', 'NºDoc.': 'Folio'}, inplace = True)\n",
    "\n",
    "            elif nombre_tabla == 'SCI':\n",
    "                df.rename(columns = {'Rut Proveedor': 'RUT Emisor', 'Numero Documento': 'Folio'}, inplace = True)\n",
    "            \n",
    "            df.columns = df.columns + f' {nombre_tabla}'\n",
    "            df['llave_id'] = df[f'RUT Emisor {nombre_tabla}'].astype(str) + df[f'Folio {nombre_tabla}'].astype(str)\n",
    "            df.set_index('llave_id', drop = True, inplace = True)\n",
    "        \n",
    "        return diccionario_dfs\n",
    "    \n",
    "    def unir_dfs(self, dfs_limpias):\n",
    "        lista_dfs_secuenciales = list(itertools.chain(*dfs_limpias.values()))\n",
    "        df_izquierda = lista_dfs_secuenciales[0]\n",
    "\n",
    "        for df_derecha in lista_dfs_secuenciales[1:]:\n",
    "            df_izquierda = pd.merge(df_izquierda, df_derecha, how = 'left', left_index = True, right_index = True)\n",
    "        \n",
    "        df_izquierda = df_izquierda[~df_izquierda.index.duplicated(keep = 'first')]\n",
    "\n",
    "        df_izquierda['tiempo_diferencia'] = pd.to_datetime('today') - df_izquierda['Fecha Docto. SII']\n",
    "        df_izquierda['esta_al_dia'] = df_izquierda['tiempo_diferencia'] <= datetime.timedelta(8)\n",
    "\n",
    "        columnas_a_ocupar = ['Nro. SII', 'RUT Emisor SII', 'razon_social_emisor ACEPTA', 'folio_oc ACEPTA', 'Folio SII', 'Fecha Docto. SII', 'Monto Neto SII', \n",
    "                     'Monto Exento SII', 'Monto IVA SII', 'Monto Total SII', 'Fecha Recep. SII', 'Ubic. PRESUPUESTO',\n",
    "                     'tarea_actual ACEPTA', 'estado_devengo ACEPTA', 'fecha_ingreso_rc ACEPTA', 'estado_nar ACEPTA', 'Motivo SCI', 'tiempo_diferencia', 'esta_al_dia', 'Evento Receptor SII']\n",
    "        \n",
    "        df_util = df_izquierda[columnas_a_ocupar]\n",
    "\n",
    "        return df_izquierda, df_util\n",
    "        \n",
    "\n",
    "        \n",
    "        \n"
   ]
  }
 ],
 "metadata": {
  "kernelspec": {
   "display_name": "Python 3.10.6 64-bit",
   "language": "python",
   "name": "python3"
  },
  "language_info": {
   "codemirror_mode": {
    "name": "ipython",
    "version": 3
   },
   "file_extension": ".py",
   "mimetype": "text/x-python",
   "name": "python",
   "nbconvert_exporter": "python",
   "pygments_lexer": "ipython3",
   "version": "3.10.6"
  },
  "orig_nbformat": 4,
  "vscode": {
   "interpreter": {
    "hash": "01515e38d2d4c9d68a7cdf4111cc430df5b00f8319213d00f2225d05549d76c7"
   }
  }
 },
 "nbformat": 4,
 "nbformat_minor": 2
}
