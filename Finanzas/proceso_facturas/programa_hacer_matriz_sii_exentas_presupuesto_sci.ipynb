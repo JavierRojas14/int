{
 "cells": [
  {
   "cell_type": "code",
   "execution_count": 1,
   "metadata": {},
   "outputs": [],
   "source": [
    "import pandas as pd\n",
    "import datetime\n",
    "import os"
   ]
  },
  {
   "cell_type": "code",
   "execution_count": 2,
   "metadata": {},
   "outputs": [],
   "source": [
    "df_sii = pd.read_excel('facturas electronicas 06.09.2022.xlsx')\n",
    "df_exentas = pd.read_excel('facturas exentas 06.09.2022.xlsx')\n",
    "df_presupuesto = pd.read_excel('presupuesto 06.09.2022.xlsx')\n",
    "df_sci = pd.read_excel('sci 06.09.2022.xlsx')\n",
    "df_acepta = pd.read_excel('acepta_2022.xlsx')\n",
    "\n",
    "df_presupuesto.rename(columns = {'Rut': 'RUT Emisor', 'Folio': 'Folio_abreviado', 'NºDoc.': 'Folio'}, inplace = True)\n",
    "df_sci.rename(columns = {'Rut Proveedor': 'RUT Emisor', 'Numero Documento': 'Folio'}, inplace = True)\n",
    "df_acepta.rename(columns = {'emisor': 'RUT Emisor', 'folio': 'Folio'}, inplace = True)"
   ]
  },
  {
   "cell_type": "code",
   "execution_count": 3,
   "metadata": {},
   "outputs": [],
   "source": [
    "todas_las_df = {'SII': df_sii, 'EXENTAS': df_exentas, 'PRESUPUESTO': df_presupuesto, 'SCI': df_sci, 'ACEPTA': df_acepta}\n",
    "for nombre_tabla, df in todas_las_df.items():\n",
    "    df.columns = df.columns + f' {nombre_tabla}'\n",
    "    df['llave_id'] = df[f'RUT Emisor {nombre_tabla}'].astype(str) + df[f'Folio {nombre_tabla}'].astype(str)\n",
    "    df.set_index('llave_id', drop = True, inplace = True)"
   ]
  },
  {
   "cell_type": "code",
   "execution_count": 9,
   "metadata": {},
   "outputs": [
    {
     "name": "stderr",
     "output_type": "stream",
     "text": [
      "C:\\Users\\gmolina\\AppData\\Local\\Temp\\ipykernel_16696\\1105263362.py:26: SettingWithCopyWarning: \n",
      "A value is trying to be set on a copy of a slice from a DataFrame.\n",
      "Try using .loc[row_indexer,col_indexer] = value instead\n",
      "\n",
      "See the caveats in the documentation: https://pandas.pydata.org/pandas-docs/stable/user_guide/indexing.html#returning-a-view-versus-a-copy\n",
      "  df_columnas_utiles['Observaciones'] = None\n"
     ]
    }
   ],
   "source": [
    "df_sii_exentas = pd.merge(df_sii, df_exentas, how = 'left', left_index = True, right_index = True)\n",
    "df_sii_exentas_presupuesto = pd.merge(df_sii_exentas, df_presupuesto, how = 'left', left_index = True, right_index = True)\n",
    "df_sii_exentas_presupuesto_sci = pd.merge(df_sii_exentas_presupuesto, df_sci, how = 'left', left_index = True, right_index = True)\n",
    "df_sii_exentas_presupuesto_sci_acepta = pd.merge(df_sii_exentas_presupuesto_sci, df_acepta, how = 'left', left_index = True, right_index = True)\n",
    "\n",
    "df_sii_exentas_presupuesto_sci_acepta = df_sii_exentas_presupuesto_sci_acepta[~df_sii_exentas_presupuesto_sci_acepta.index.duplicated(keep = 'first')] \n",
    "\n",
    "df_sii_exentas_presupuesto_sci_acepta['tiempo_diferencia'] = pd.to_datetime('today') - df_sii_exentas_presupuesto_sci_acepta['Fecha Docto. SII']\n",
    "df_sii_exentas_presupuesto_sci_acepta['esta_al_dia'] = df_sii_exentas_presupuesto_sci_acepta['tiempo_diferencia'] <= datetime.timedelta(8)\n",
    "\n",
    "columnas_a_ocupar = ['Nro. SII', 'RUT Emisor SII', 'razon_social_emisor ACEPTA', 'folio_oc ACEPTA', 'Folio SII', 'Fecha Docto. SII', 'Monto Neto SII', \n",
    "                     'Monto Exento SII', 'Monto IVA SII', 'Monto Total SII', 'Fecha Recep. SII', 'Ubic. PRESUPUESTO',\n",
    "                     'tarea_actual ACEPTA', 'estado_devengo ACEPTA', 'fecha_ingreso_rc ACEPTA', 'estado_nar ACEPTA', 'Motivo SCI', 'tiempo_diferencia', 'esta_al_dia', 'Evento Receptor SII']\n",
    "\n",
    "df_columnas_utiles = df_sii_exentas_presupuesto_sci_acepta[columnas_a_ocupar]\n",
    "\n",
    "\n",
    "# df_sii_exentas_presupuesto_sci_acepta.to_excel('MATRIZ_FINAL_COMPLETA.xlsx')\n",
    "fecha_actual = str(pd.to_datetime('today')).split(' ')[0]\n",
    "nombre_archivo = f'PLANILLA DE CONTROL AL {fecha_actual}.xlsx'\n",
    "\n",
    "if nombre_archivo in os.listdir():\n",
    "    with pd.ExcelWriter(nombre_archivo, engine = 'openpyxl', mode = 'a', if_sheet_exists = 'overlay') as writer:\n",
    "        df_columnas_utiles.to_excel(writer)\n",
    "else:\n",
    "    df_columnas_utiles['Observaciones'] = None\n",
    "    with pd.ExcelWriter(nombre_archivo, engine = 'openpyxl', mode = 'w') as writer:\n",
    "        df_columnas_utiles.to_excel(writer)"
   ]
  },
  {
   "cell_type": "code",
   "execution_count": null,
   "metadata": {},
   "outputs": [],
   "source": []
  }
 ],
 "metadata": {
  "kernelspec": {
   "display_name": "Python 3.10.6 64-bit",
   "language": "python",
   "name": "python3"
  },
  "language_info": {
   "codemirror_mode": {
    "name": "ipython",
    "version": 3
   },
   "file_extension": ".py",
   "mimetype": "text/x-python",
   "name": "python",
   "nbconvert_exporter": "python",
   "pygments_lexer": "ipython3",
   "version": "3.10.6"
  },
  "orig_nbformat": 4,
  "vscode": {
   "interpreter": {
    "hash": "01515e38d2d4c9d68a7cdf4111cc430df5b00f8319213d00f2225d05549d76c7"
   }
  }
 },
 "nbformat": 4,
 "nbformat_minor": 2
}
