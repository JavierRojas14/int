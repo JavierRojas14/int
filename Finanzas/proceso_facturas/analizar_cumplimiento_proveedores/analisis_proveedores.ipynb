{
 "cells": [
  {
   "cell_type": "code",
   "execution_count": 1,
   "metadata": {},
   "outputs": [],
   "source": [
    "import pandas as pd"
   ]
  },
  {
   "cell_type": "code",
   "execution_count": 2,
   "metadata": {},
   "outputs": [],
   "source": [
    "df = pd.read_excel('PLANILLA DE CONTROL AL 2022-11-14.xlsx')"
   ]
  },
  {
   "cell_type": "code",
   "execution_count": 18,
   "metadata": {},
   "outputs": [],
   "source": [
    "total = []\n",
    "for proveedor in df['Razon Social SII'].dropna().unique():\n",
    "    df_proveedor = df.query('`Razon Social SII` == @proveedor')\n",
    "    for oc_proveedor in df_proveedor['folio_oc ACEPTA'].dropna().unique():\n",
    "        total.append([proveedor, oc_proveedor])"
   ]
  },
  {
   "cell_type": "code",
   "execution_count": 22,
   "metadata": {},
   "outputs": [],
   "source": [
    "df_oc_proveedor = pd.DataFrame(total)\n",
    "df_oc_proveedor.columns = ['Razon Social SII', 'folio_oc ACEPTA']"
   ]
  },
  {
   "cell_type": "code",
   "execution_count": 23,
   "metadata": {},
   "outputs": [
    {
     "data": {
      "text/html": [
       "<div>\n",
       "<style scoped>\n",
       "    .dataframe tbody tr th:only-of-type {\n",
       "        vertical-align: middle;\n",
       "    }\n",
       "\n",
       "    .dataframe tbody tr th {\n",
       "        vertical-align: top;\n",
       "    }\n",
       "\n",
       "    .dataframe thead th {\n",
       "        text-align: right;\n",
       "    }\n",
       "</style>\n",
       "<table border=\"1\" class=\"dataframe\">\n",
       "  <thead>\n",
       "    <tr style=\"text-align: right;\">\n",
       "      <th></th>\n",
       "      <th>Razon Social SII</th>\n",
       "      <th>folio_oc ACEPTA</th>\n",
       "    </tr>\n",
       "  </thead>\n",
       "  <tbody>\n",
       "    <tr>\n",
       "      <th>0</th>\n",
       "      <td>SOCIEDAD COMERCIAL VITALMENTO SPA</td>\n",
       "      <td>1499-594-CM21</td>\n",
       "    </tr>\n",
       "    <tr>\n",
       "      <th>1</th>\n",
       "      <td>SOCIEDAD COMERCIAL VITALMENTO SPA</td>\n",
       "      <td>1499-590-CM21</td>\n",
       "    </tr>\n",
       "    <tr>\n",
       "      <th>2</th>\n",
       "      <td>SOCIEDAD COMERCIAL VITALMENTO SPA</td>\n",
       "      <td>1499-587-CM21</td>\n",
       "    </tr>\n",
       "    <tr>\n",
       "      <th>3</th>\n",
       "      <td>SOCIEDAD COMERCIAL VITALMENTO SPA</td>\n",
       "      <td>1499-591-CM21</td>\n",
       "    </tr>\n",
       "    <tr>\n",
       "      <th>4</th>\n",
       "      <td>SOCIEDAD COMERCIAL VITALMENTO SPA</td>\n",
       "      <td>1499-586-CM21</td>\n",
       "    </tr>\n",
       "    <tr>\n",
       "      <th>...</th>\n",
       "      <td>...</td>\n",
       "      <td>...</td>\n",
       "    </tr>\n",
       "    <tr>\n",
       "      <th>15904</th>\n",
       "      <td>COMERCIALIZADORA PRANDELLI  LIMITADA</td>\n",
       "      <td>1499-3669-CM22</td>\n",
       "    </tr>\n",
       "    <tr>\n",
       "      <th>15905</th>\n",
       "      <td>CLINICON SPA</td>\n",
       "      <td>1499-4266-AG22</td>\n",
       "    </tr>\n",
       "    <tr>\n",
       "      <th>15906</th>\n",
       "      <td>TERSPA SPA</td>\n",
       "      <td>1499-4191-CM22</td>\n",
       "    </tr>\n",
       "    <tr>\n",
       "      <th>15907</th>\n",
       "      <td>COMERCIAL KABBALAH SPA</td>\n",
       "      <td>1499-4232-AG22</td>\n",
       "    </tr>\n",
       "    <tr>\n",
       "      <th>15908</th>\n",
       "      <td>Laboratorio CD Pharma Limitada</td>\n",
       "      <td>621-989-SE22</td>\n",
       "    </tr>\n",
       "  </tbody>\n",
       "</table>\n",
       "<p>15909 rows × 2 columns</p>\n",
       "</div>"
      ],
      "text/plain": [
       "                           Razon Social SII folio_oc ACEPTA\n",
       "0         SOCIEDAD COMERCIAL VITALMENTO SPA   1499-594-CM21\n",
       "1         SOCIEDAD COMERCIAL VITALMENTO SPA   1499-590-CM21\n",
       "2         SOCIEDAD COMERCIAL VITALMENTO SPA   1499-587-CM21\n",
       "3         SOCIEDAD COMERCIAL VITALMENTO SPA   1499-591-CM21\n",
       "4         SOCIEDAD COMERCIAL VITALMENTO SPA   1499-586-CM21\n",
       "...                                     ...             ...\n",
       "15904  COMERCIALIZADORA PRANDELLI  LIMITADA  1499-3669-CM22\n",
       "15905                          CLINICON SPA  1499-4266-AG22\n",
       "15906                            TERSPA SPA  1499-4191-CM22\n",
       "15907                COMERCIAL KABBALAH SPA  1499-4232-AG22\n",
       "15908        Laboratorio CD Pharma Limitada    621-989-SE22\n",
       "\n",
       "[15909 rows x 2 columns]"
      ]
     },
     "execution_count": 23,
     "metadata": {},
     "output_type": "execute_result"
    }
   ],
   "source": [
    "df_oc_proveedor"
   ]
  },
  {
   "cell_type": "code",
   "execution_count": null,
   "metadata": {},
   "outputs": [],
   "source": []
  }
 ],
 "metadata": {
  "kernelspec": {
   "display_name": "Python 3.10.6 64-bit",
   "language": "python",
   "name": "python3"
  },
  "language_info": {
   "codemirror_mode": {
    "name": "ipython",
    "version": 3
   },
   "file_extension": ".py",
   "mimetype": "text/x-python",
   "name": "python",
   "nbconvert_exporter": "python",
   "pygments_lexer": "ipython3",
   "version": "3.10.6"
  },
  "orig_nbformat": 4,
  "vscode": {
   "interpreter": {
    "hash": "01515e38d2d4c9d68a7cdf4111cc430df5b00f8319213d00f2225d05549d76c7"
   }
  }
 },
 "nbformat": 4,
 "nbformat_minor": 2
}
