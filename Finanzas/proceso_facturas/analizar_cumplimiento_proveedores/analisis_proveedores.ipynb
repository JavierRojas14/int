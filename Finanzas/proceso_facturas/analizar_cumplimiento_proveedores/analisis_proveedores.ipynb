{
 "cells": [
  {
   "cell_type": "code",
   "execution_count": 1,
   "metadata": {},
   "outputs": [],
   "source": [
    "import pandas as pd"
   ]
  },
  {
   "cell_type": "code",
   "execution_count": 2,
   "metadata": {},
   "outputs": [],
   "source": [
    "df = pd.read_excel('PLANILLA DE CONTROL AL 2022-11-14.xlsx')"
   ]
  },
  {
   "cell_type": "code",
   "execution_count": 4,
   "metadata": {},
   "outputs": [],
   "source": [
    "df_2022 = df.query('`Fecha Docto SII` >= @pd.to_datetime(\"2022\")')"
   ]
  },
  {
   "cell_type": "code",
   "execution_count": 22,
   "metadata": {},
   "outputs": [],
   "source": [
    "df_ordenada = df.sort_values(by=['Fecha Docto SII', 'RUT Emisor SII', 'folio_oc ACEPTA'])"
   ]
  },
  {
   "cell_type": "code",
   "execution_count": 24,
   "metadata": {},
   "outputs": [],
   "source": [
    "df_ultimas_facturas = df_ordenada.drop_duplicates(subset=['RUT Emisor SII'], keep='last')\n",
    "df_ultimas_facturas_2022 = df_ultimas_facturas.query('`Fecha Docto SII` >= @pd.to_datetime(\"2022\")')\n",
    "\n",
    "ultimas_facturas_proveedores = df_ultimas_facturas_2022[['RUT Emisor SII', 'Razon Social SII',\n",
    " 'Folio SII', 'Fecha Docto SII', 'Fecha Recepcion SII', 'Fecha Reclamo SII']]\n",
    "\n",
    "rut_proveedores = ['76126705-1']"
   ]
  },
  {
   "cell_type": "code",
   "execution_count": 67,
   "metadata": {},
   "outputs": [],
   "source": [
    "solo_oc_validas = df_ordenada.dropna(subset=['folio_oc ACEPTA'])\n",
    "solo_oc_validas = solo_oc_validas.sort_values(by=['RUT Emisor SII', 'folio_oc ACEPTA'])\n",
    "# ultimas_oc_proveedores = solo_oc_validas.drop_duplicates(subset=['RUT Emisor SII'], keep='last')\n",
    "ultimas_oc_proveedores = ultimas_oc_proveedores[['RUT Emisor SII', 'Razon Social SII',\n",
    " 'folio_oc ACEPTA']]"
   ]
  },
  {
   "cell_type": "code",
   "execution_count": 69,
   "metadata": {},
   "outputs": [],
   "source": [
    "solo_oc_validas[['RUT Emisor SII', 'Razon Social SII', 'folio_oc ACEPTA']].to_excel('oc_proveedores.xlsx')"
   ]
  },
  {
   "cell_type": "code",
   "execution_count": null,
   "metadata": {},
   "outputs": [],
   "source": []
  }
 ],
 "metadata": {
  "kernelspec": {
   "display_name": "Python 3.10.6 64-bit",
   "language": "python",
   "name": "python3"
  },
  "language_info": {
   "codemirror_mode": {
    "name": "ipython",
    "version": 3
   },
   "file_extension": ".py",
   "mimetype": "text/x-python",
   "name": "python",
   "nbconvert_exporter": "python",
   "pygments_lexer": "ipython3",
   "version": "3.10.6"
  },
  "orig_nbformat": 4,
  "vscode": {
   "interpreter": {
    "hash": "01515e38d2d4c9d68a7cdf4111cc430df5b00f8319213d00f2225d05549d76c7"
   }
  }
 },
 "nbformat": 4,
 "nbformat_minor": 2
}
