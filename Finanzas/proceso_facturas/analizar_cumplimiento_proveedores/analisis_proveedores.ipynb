{
 "cells": [
  {
   "cell_type": "code",
   "execution_count": 1,
   "metadata": {},
   "outputs": [],
   "source": [
    "import pandas as pd"
   ]
  },
  {
   "cell_type": "code",
   "execution_count": 2,
   "metadata": {},
   "outputs": [],
   "source": [
    "df = pd.read_excel('PLANILLA DE CONTROL AL 2022-11-14.xlsx')"
   ]
  },
  {
   "cell_type": "code",
   "execution_count": 4,
   "metadata": {},
   "outputs": [],
   "source": [
    "df_2022 = df.query('`Fecha Docto SII` >= @pd.to_datetime(\"2022\")')"
   ]
  },
  {
   "cell_type": "code",
   "execution_count": 22,
   "metadata": {},
   "outputs": [],
   "source": [
    "df_ordenada = df.sort_values(by=['Fecha Docto SII', 'RUT Emisor SII', 'folio_oc ACEPTA'])"
   ]
  },
  {
   "cell_type": "code",
   "execution_count": 24,
   "metadata": {},
   "outputs": [],
   "source": [
    "df_ultimas_facturas = df_ordenada.drop_duplicates(subset=['RUT Emisor SII'], keep='last')\n",
    "df_ultimas_facturas_2022 = df_ultimas_facturas.query('`Fecha Docto SII` >= @pd.to_datetime(\"2022\")')"
   ]
  },
  {
   "cell_type": "code",
   "execution_count": 37,
   "metadata": {},
   "outputs": [],
   "source": [
    "solo_oc_validas = df_ordenada.dropna(subset=['folio_oc ACEPTA'])\n",
    "ultimas_oc_proveedores = solo_oc_validas.drop_duplicates(subset=['RUT Emisor SII'], keep='last')"
   ]
  },
  {
   "cell_type": "code",
   "execution_count": 40,
   "metadata": {},
   "outputs": [
    {
     "data": {
      "text/plain": [
       "26892    1499-4277-CM19\n",
       "26923    1499-4324-CM19\n",
       "27242    1499-4499-SE19\n",
       "28005    1499-4661-se19\n",
       "28001    1499-4489-CM19\n",
       "              ...      \n",
       "69423    1499-4347-CM22\n",
       "69427    1499-4437-AG22\n",
       "69425    1499-4430-CM22\n",
       "69424    1499-3317-CM22\n",
       "69426      621-265-SE22\n",
       "Name: folio_oc ACEPTA, Length: 806, dtype: object"
      ]
     },
     "execution_count": 40,
     "metadata": {},
     "output_type": "execute_result"
    }
   ],
   "source": [
    "ultimas_oc_proveedores['folio_oc ACEPTA']"
   ]
  },
  {
   "cell_type": "code",
   "execution_count": 28,
   "metadata": {},
   "outputs": [],
   "source": [
    "ultimas_facturas_proveedores = df_ultimas_facturas_2022[['RUT Emisor SII', 'Razon Social SII',\n",
    " 'Folio SII', 'Fecha Docto SII', 'Fecha Recepcion SII', 'Fecha Reclamo SII']]"
   ]
  },
  {
   "cell_type": "code",
   "execution_count": 29,
   "metadata": {},
   "outputs": [
    {
     "data": {
      "text/html": [
       "<div>\n",
       "<style scoped>\n",
       "    .dataframe tbody tr th:only-of-type {\n",
       "        vertical-align: middle;\n",
       "    }\n",
       "\n",
       "    .dataframe tbody tr th {\n",
       "        vertical-align: top;\n",
       "    }\n",
       "\n",
       "    .dataframe thead th {\n",
       "        text-align: right;\n",
       "    }\n",
       "</style>\n",
       "<table border=\"1\" class=\"dataframe\">\n",
       "  <thead>\n",
       "    <tr style=\"text-align: right;\">\n",
       "      <th></th>\n",
       "      <th>RUT Emisor SII</th>\n",
       "      <th>Razon Social SII</th>\n",
       "      <th>Folio SII</th>\n",
       "      <th>Fecha Docto SII</th>\n",
       "      <th>Fecha Recepcion SII</th>\n",
       "      <th>Fecha Reclamo SII</th>\n",
       "    </tr>\n",
       "  </thead>\n",
       "  <tbody>\n",
       "    <tr>\n",
       "      <th>57611</th>\n",
       "      <td>76271597-K</td>\n",
       "      <td>MAGENS SA</td>\n",
       "      <td>4566.0</td>\n",
       "      <td>2022-01-07</td>\n",
       "      <td>2022-01-07 16:55:18</td>\n",
       "      <td>NaT</td>\n",
       "    </tr>\n",
       "    <tr>\n",
       "      <th>57625</th>\n",
       "      <td>97030000-7</td>\n",
       "      <td>Banco del Estado de Chile</td>\n",
       "      <td>6784167.0</td>\n",
       "      <td>2022-01-07</td>\n",
       "      <td>2022-01-08 10:38:06</td>\n",
       "      <td>NaT</td>\n",
       "    </tr>\n",
       "    <tr>\n",
       "      <th>57664</th>\n",
       "      <td>77437250-4</td>\n",
       "      <td>SERVICIOS DE ADMINISTRACION Y VENTAS WORKFLOW ...</td>\n",
       "      <td>2270.0</td>\n",
       "      <td>2022-01-08</td>\n",
       "      <td>2022-01-08 09:15:39</td>\n",
       "      <td>NaT</td>\n",
       "    </tr>\n",
       "    <tr>\n",
       "      <th>58054</th>\n",
       "      <td>78042830-9</td>\n",
       "      <td>MUEBLES TIMAUKEL LIMITADA</td>\n",
       "      <td>9394.0</td>\n",
       "      <td>2022-01-18</td>\n",
       "      <td>2022-01-18 09:37:27</td>\n",
       "      <td>NaT</td>\n",
       "    </tr>\n",
       "    <tr>\n",
       "      <th>58093</th>\n",
       "      <td>76838974-8</td>\n",
       "      <td>TECSISTEM SPA</td>\n",
       "      <td>31.0</td>\n",
       "      <td>2022-01-19</td>\n",
       "      <td>2022-01-19 10:14:53</td>\n",
       "      <td>NaT</td>\n",
       "    </tr>\n",
       "    <tr>\n",
       "      <th>...</th>\n",
       "      <td>...</td>\n",
       "      <td>...</td>\n",
       "      <td>...</td>\n",
       "      <td>...</td>\n",
       "      <td>...</td>\n",
       "      <td>...</td>\n",
       "    </tr>\n",
       "    <tr>\n",
       "      <th>69427</th>\n",
       "      <td>76473625-7</td>\n",
       "      <td>AMI SPA</td>\n",
       "      <td>4613.0</td>\n",
       "      <td>2022-11-14</td>\n",
       "      <td>2022-11-11 10:45:14</td>\n",
       "      <td>NaT</td>\n",
       "    </tr>\n",
       "    <tr>\n",
       "      <th>69425</th>\n",
       "      <td>77055785-2</td>\n",
       "      <td>SCANNO SPA</td>\n",
       "      <td>903.0</td>\n",
       "      <td>2022-11-14</td>\n",
       "      <td>2022-11-11 14:25:32</td>\n",
       "      <td>NaT</td>\n",
       "    </tr>\n",
       "    <tr>\n",
       "      <th>69428</th>\n",
       "      <td>79622060-0</td>\n",
       "      <td>Galenica S.A.</td>\n",
       "      <td>194756.0</td>\n",
       "      <td>2022-11-14</td>\n",
       "      <td>2022-11-14 08:00:11</td>\n",
       "      <td>NaT</td>\n",
       "    </tr>\n",
       "    <tr>\n",
       "      <th>69424</th>\n",
       "      <td>81210400-4</td>\n",
       "      <td>Reutter SA</td>\n",
       "      <td>879692.0</td>\n",
       "      <td>2022-11-14</td>\n",
       "      <td>2022-11-11 15:48:18</td>\n",
       "      <td>NaT</td>\n",
       "    </tr>\n",
       "    <tr>\n",
       "      <th>69426</th>\n",
       "      <td>82999400-3</td>\n",
       "      <td>ROCHE CHILE LIMITADA</td>\n",
       "      <td>716535.0</td>\n",
       "      <td>2022-11-14</td>\n",
       "      <td>2022-11-11 16:14:31</td>\n",
       "      <td>NaT</td>\n",
       "    </tr>\n",
       "  </tbody>\n",
       "</table>\n",
       "<p>543 rows × 6 columns</p>\n",
       "</div>"
      ],
      "text/plain": [
       "      RUT Emisor SII                                   Razon Social SII  \\\n",
       "57611     76271597-K                                          MAGENS SA   \n",
       "57625     97030000-7                          Banco del Estado de Chile   \n",
       "57664     77437250-4  SERVICIOS DE ADMINISTRACION Y VENTAS WORKFLOW ...   \n",
       "58054     78042830-9                          MUEBLES TIMAUKEL LIMITADA   \n",
       "58093     76838974-8                                      TECSISTEM SPA   \n",
       "...              ...                                                ...   \n",
       "69427     76473625-7                                            AMI SPA   \n",
       "69425     77055785-2                                         SCANNO SPA   \n",
       "69428     79622060-0                                      Galenica S.A.   \n",
       "69424     81210400-4                                         Reutter SA   \n",
       "69426     82999400-3                               ROCHE CHILE LIMITADA   \n",
       "\n",
       "       Folio SII Fecha Docto SII Fecha Recepcion SII Fecha Reclamo SII  \n",
       "57611     4566.0      2022-01-07 2022-01-07 16:55:18               NaT  \n",
       "57625  6784167.0      2022-01-07 2022-01-08 10:38:06               NaT  \n",
       "57664     2270.0      2022-01-08 2022-01-08 09:15:39               NaT  \n",
       "58054     9394.0      2022-01-18 2022-01-18 09:37:27               NaT  \n",
       "58093       31.0      2022-01-19 2022-01-19 10:14:53               NaT  \n",
       "...          ...             ...                 ...               ...  \n",
       "69427     4613.0      2022-11-14 2022-11-11 10:45:14               NaT  \n",
       "69425      903.0      2022-11-14 2022-11-11 14:25:32               NaT  \n",
       "69428   194756.0      2022-11-14 2022-11-14 08:00:11               NaT  \n",
       "69424   879692.0      2022-11-14 2022-11-11 15:48:18               NaT  \n",
       "69426   716535.0      2022-11-14 2022-11-11 16:14:31               NaT  \n",
       "\n",
       "[543 rows x 6 columns]"
      ]
     },
     "execution_count": 29,
     "metadata": {},
     "output_type": "execute_result"
    }
   ],
   "source": [
    "ultimas_facturas_proveedores"
   ]
  },
  {
   "cell_type": "code",
   "execution_count": null,
   "metadata": {},
   "outputs": [],
   "source": [
    "rut_proveedores = ['76126705-1']"
   ]
  }
 ],
 "metadata": {
  "kernelspec": {
   "display_name": "Python 3.10.6 64-bit",
   "language": "python",
   "name": "python3"
  },
  "language_info": {
   "codemirror_mode": {
    "name": "ipython",
    "version": 3
   },
   "file_extension": ".py",
   "mimetype": "text/x-python",
   "name": "python",
   "nbconvert_exporter": "python",
   "pygments_lexer": "ipython3",
   "version": "3.10.6"
  },
  "orig_nbformat": 4,
  "vscode": {
   "interpreter": {
    "hash": "01515e38d2d4c9d68a7cdf4111cc430df5b00f8319213d00f2225d05549d76c7"
   }
  }
 },
 "nbformat": 4,
 "nbformat_minor": 2
}
