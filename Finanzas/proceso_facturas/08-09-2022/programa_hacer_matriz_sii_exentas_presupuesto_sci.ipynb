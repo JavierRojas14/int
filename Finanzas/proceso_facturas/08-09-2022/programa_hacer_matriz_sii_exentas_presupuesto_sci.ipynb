{
 "cells": [
  {
   "cell_type": "code",
   "execution_count": 41,
   "metadata": {},
   "outputs": [],
   "source": [
    "import pandas as pd\n",
    "import datetime\n",
    "import os\n",
    "import itertools\n",
    "import json"
   ]
  },
  {
   "cell_type": "code",
   "execution_count": 64,
   "metadata": {},
   "outputs": [],
   "source": [
    "from email.errors import NoBoundaryInMultipartDefect\n",
    "\n",
    "\n",
    "class GeneradorPlanillaFinanzas:\n",
    "    def __init__(self):\n",
    "        pass\n",
    "\n",
    "    def correr_programa(self):\n",
    "        diccionario_dfs = self.identificar_tipo_de_archivo_y_cargar_dfs()\n",
    "        dfs_limpias = self.limpiar_dfs(diccionario_dfs)\n",
    "        df_completa, df_columnas_utiles = self.unir_dfs(dfs_limpias)\n",
    "\n",
    "        self.guardar_dfs(df_completa, df_columnas_utiles)\n",
    "    \n",
    "    def identificar_tipo_de_archivo_y_cargar_dfs(self):\n",
    "        identificadores_archivo = {'33': 'SII FACTURAS ELECTRONICAS', \n",
    "                                 '34': 'SII EXENTAS', \n",
    "                                 '61': 'SII NOTAS DE CREDITO',\n",
    "                                 'reporte': 'ACEPTA',\n",
    "                                 'presupuesto': 'PRESUPUESTO',\n",
    "                                 'Documentos recepcion': 'SCI'}\n",
    "\n",
    "        llaves_identificadoras = list(identificadores_archivo.keys())\n",
    "                \n",
    "        diccionario_dfs = {'SII FACTURAS ELECTRONICAS': None, \n",
    "                           'SII EXENTAS': None, \n",
    "                           'SII NOTAS DE CREDITO': None, \n",
    "                           'ACEPTA': None, \n",
    "                           'PRESUPUESTO': None, \n",
    "                           'SCI': None}\n",
    "\n",
    "        for nombre_archivo in os.listdir():\n",
    "            \n",
    "            if ('.xlsx' in nombre_archivo) or ('.xls' in nombre_archivo) or ('.csv' in nombre_archivo):\n",
    "                for llave in llaves_identificadoras:\n",
    "                    if llave in nombre_archivo:\n",
    "                        identificador_archivo = identificadores_archivo[llave]\n",
    "                        print(f'Leyendo {nombre_archivo}, es del tipo: {identificador_archivo}')\n",
    "                        if llave == '33' or llave == '34' or llave == '61':\n",
    "                            diccionario_dfs[identificador_archivo] = pd.read_csv(nombre_archivo, delimiter = ';')\n",
    "                        \n",
    "                        else:\n",
    "                            diccionario_dfs[identificador_archivo] = pd.read_excel(nombre_archivo)\n",
    "                        \n",
    "                        break\n",
    "        \n",
    "        return diccionario_dfs\n",
    "    \n",
    "    # Solo se limpian las que no son del SII.    \n",
    "    def limpiar_dfs(self, diccionario_dfs):\n",
    "        for nombre_tabla, df in diccionario_dfs.items():\n",
    "            if nombre_tabla == 'ACEPTA':\n",
    "                df.rename(columns = {'emisor': 'RUT Emisor', 'folio': 'Folio'}, inplace = True)\n",
    "                df['RUT Emisor'] = df['RUT Emisor'].apply(lambda x: x.replace('.', ''))\n",
    "            \n",
    "            elif nombre_tabla == 'PRESUPUESTO':\n",
    "                df.rename(columns = {'Rut': 'RUT Emisor', 'Folio': 'Folio_abreviado', 'NºDoc.': 'Folio'}, inplace = True)\n",
    "\n",
    "            elif nombre_tabla == 'SCI':\n",
    "                df.rename(columns = {'Rut Proveedor': 'RUT Emisor', 'Numero Documento': 'Folio'}, inplace = True)\n",
    "            \n",
    "            df.columns = df.columns + f' {nombre_tabla}'\n",
    "            df['llave_id'] = df[f'RUT Emisor {nombre_tabla}'].astype(str) + df[f'Folio {nombre_tabla}'].astype(str)\n",
    "            df.set_index('llave_id', drop = True, inplace = True)\n",
    "\n",
    "        return diccionario_dfs\n",
    "    \n",
    "    def unir_dfs(self, diccionario_dfs_limpias):\n",
    "        lista_dfs_secuenciales = list(diccionario_dfs_limpias.values())\n",
    "        df_izquierda = lista_dfs_secuenciales[0]\n",
    "\n",
    "        for df_derecha in lista_dfs_secuenciales[1:]:\n",
    "            df_izquierda = pd.merge(df_izquierda, df_derecha, how = 'left', left_index = True, right_index = True)\n",
    "        \n",
    "        df_izquierda = df_izquierda[~df_izquierda.index.duplicated(keep = 'first')]\n",
    "\n",
    "        df_izquierda['tiempo_diferencia'] = pd.to_datetime('today') - pd.to_datetime(df_izquierda['Fecha Docto. SII FACTURAS ELECTRONICAS'], dayfirst = True)\n",
    "        df_izquierda['esta_al_dia'] = df_izquierda['tiempo_diferencia'] <= datetime.timedelta(8)\n",
    "\n",
    "        df_izquierda.to_excel('Prueba.xlsx')\n",
    "\n",
    "        columnas_a_ocupar = ['Nro. SII FACTURAS ELECTRONICAS', 'RUT Emisor SII FACTURAS ELECTRONICAS', 'razon_social_emisor ACEPTA', 'folio_oc ACEPTA', 'Folio SII FACTURAS ELECTRONICAS', 'Fecha Docto. SII FACTURAS ELECTRONICAS', 'Monto Neto SII FACTURAS ELECTRONICAS', \n",
    "                     'Monto Exento SII FACTURAS ELECTRONICAS', 'Monto IVA SII FACTURAS ELECTRONICAS', 'Monto Total SII FACTURAS ELECTRONICAS', 'Fecha Recep. SII FACTURAS ELECTRONICAS', 'Ubic. PRESUPUESTO',\n",
    "                     'tarea_actual ACEPTA', 'estado_devengo ACEPTA', 'fecha_ingreso_rc ACEPTA', 'estado_nar ACEPTA', 'Motivo SCI', 'tiempo_diferencia', 'esta_al_dia', 'Evento Receptor SII']\n",
    "        \n",
    "        df_util = df_izquierda[columnas_a_ocupar]\n",
    "\n",
    "        return df_izquierda, df_util\n",
    "    \n",
    "    def guardar_dfs(self, df_completa, df_columnas_utiles):\n",
    "        fecha_actual = str(pd.to_datetime('today')).split(' ')[0]\n",
    "        nombre_archivo = f'PLANILLA DE CONTROL AL {fecha_actual}.xlsx'\n",
    "\n",
    "        if nombre_archivo in os.listdir():\n",
    "            with pd.ExcelWriter(nombre_archivo, engine = 'openpyxl', mode = 'a', if_sheet_exists = 'overlay') as writer:\n",
    "                df_columnas_utiles.to_excel(writer)\n",
    "        else:\n",
    "            df_columnas_utiles['Observaciones'] = None\n",
    "            with pd.ExcelWriter(nombre_archivo, engine = 'openpyxl', mode = 'w') as writer:\n",
    "                df_columnas_utiles.to_excel(writer)"
   ]
  },
  {
   "cell_type": "code",
   "execution_count": 65,
   "metadata": {},
   "outputs": [],
   "source": [
    "programa = GeneradorPlanillaFinanzas()"
   ]
  },
  {
   "cell_type": "code",
   "execution_count": 66,
   "metadata": {},
   "outputs": [
    {
     "name": "stdout",
     "output_type": "stream",
     "text": [
      "Leyendo Documentos recepcion (36).xlsx, es del tipo: SCI\n",
      "Leyendo DTE_RECIBIDOS_61608402_202209_33.csv, es del tipo: SII FACTURAS ELECTRONICAS\n",
      "Leyendo DTE_RECIBIDOS_61608402_202209_34.csv, es del tipo: SII EXENTAS\n",
      "Leyendo DTE_RECIBIDOS_61608402_202209_61.csv, es del tipo: SII NOTAS DE CREDITO\n",
      "Leyendo presupuesto_08_09_2022.xlsx, es del tipo: PRESUPUESTO\n",
      "Leyendo reporte_97017191.xls, es del tipo: ACEPTA\n"
     ]
    },
    {
     "name": "stderr",
     "output_type": "stream",
     "text": [
      "c:\\Users\\gmolina\\AppData\\Local\\Programs\\Python\\Python310\\lib\\site-packages\\pandas\\core\\tools\\datetimes.py:1047: UserWarning: Parsing '31/08/2022' in DD/MM/YYYY format. Provide format or specify infer_datetime_format=True for consistent parsing.\n",
      "  cache_array = _maybe_cache(arg, format, cache, convert_listlike)\n",
      "c:\\Users\\gmolina\\AppData\\Local\\Programs\\Python\\Python310\\lib\\site-packages\\pandas\\core\\tools\\datetimes.py:1047: UserWarning: Parsing '29/08/2022' in DD/MM/YYYY format. Provide format or specify infer_datetime_format=True for consistent parsing.\n",
      "  cache_array = _maybe_cache(arg, format, cache, convert_listlike)\n",
      "c:\\Users\\gmolina\\AppData\\Local\\Programs\\Python\\Python310\\lib\\site-packages\\pandas\\core\\tools\\datetimes.py:1047: UserWarning: Parsing '30/08/2022' in DD/MM/YYYY format. Provide format or specify infer_datetime_format=True for consistent parsing.\n",
      "  cache_array = _maybe_cache(arg, format, cache, convert_listlike)\n"
     ]
    },
    {
     "ename": "KeyError",
     "evalue": "\"['Evento Receptor SII'] not in index\"",
     "output_type": "error",
     "traceback": [
      "\u001b[1;31m---------------------------------------------------------------------------\u001b[0m",
      "\u001b[1;31mKeyError\u001b[0m                                  Traceback (most recent call last)",
      "\u001b[1;32mc:\\Users\\gmolina\\Desktop\\INT\\Finanzas\\proceso_facturas\\08-09-2022\\programa_hacer_matriz_sii_exentas_presupuesto_sci.ipynb Celda 4\u001b[0m in \u001b[0;36m<cell line: 1>\u001b[1;34m()\u001b[0m\n\u001b[1;32m----> <a href='vscode-notebook-cell:/c%3A/Users/gmolina/Desktop/INT/Finanzas/proceso_facturas/08-09-2022/programa_hacer_matriz_sii_exentas_presupuesto_sci.ipynb#W3sZmlsZQ%3D%3D?line=0'>1</a>\u001b[0m programa\u001b[39m.\u001b[39;49mcorrer_programa()\n",
      "\u001b[1;32mc:\\Users\\gmolina\\Desktop\\INT\\Finanzas\\proceso_facturas\\08-09-2022\\programa_hacer_matriz_sii_exentas_presupuesto_sci.ipynb Celda 4\u001b[0m in \u001b[0;36mGeneradorPlanillaFinanzas.correr_programa\u001b[1;34m(self)\u001b[0m\n\u001b[0;32m      <a href='vscode-notebook-cell:/c%3A/Users/gmolina/Desktop/INT/Finanzas/proceso_facturas/08-09-2022/programa_hacer_matriz_sii_exentas_presupuesto_sci.ipynb#W3sZmlsZQ%3D%3D?line=8'>9</a>\u001b[0m diccionario_dfs \u001b[39m=\u001b[39m \u001b[39mself\u001b[39m\u001b[39m.\u001b[39midentificar_tipo_de_archivo_y_cargar_dfs()\n\u001b[0;32m     <a href='vscode-notebook-cell:/c%3A/Users/gmolina/Desktop/INT/Finanzas/proceso_facturas/08-09-2022/programa_hacer_matriz_sii_exentas_presupuesto_sci.ipynb#W3sZmlsZQ%3D%3D?line=9'>10</a>\u001b[0m dfs_limpias \u001b[39m=\u001b[39m \u001b[39mself\u001b[39m\u001b[39m.\u001b[39mlimpiar_dfs(diccionario_dfs)\n\u001b[1;32m---> <a href='vscode-notebook-cell:/c%3A/Users/gmolina/Desktop/INT/Finanzas/proceso_facturas/08-09-2022/programa_hacer_matriz_sii_exentas_presupuesto_sci.ipynb#W3sZmlsZQ%3D%3D?line=10'>11</a>\u001b[0m df_completa, df_columnas_utiles \u001b[39m=\u001b[39m \u001b[39mself\u001b[39;49m\u001b[39m.\u001b[39;49munir_dfs(dfs_limpias)\n\u001b[0;32m     <a href='vscode-notebook-cell:/c%3A/Users/gmolina/Desktop/INT/Finanzas/proceso_facturas/08-09-2022/programa_hacer_matriz_sii_exentas_presupuesto_sci.ipynb#W3sZmlsZQ%3D%3D?line=12'>13</a>\u001b[0m \u001b[39mself\u001b[39m\u001b[39m.\u001b[39mguardar_dfs(df_completa, df_columnas_utiles)\n",
      "\u001b[1;32mc:\\Users\\gmolina\\Desktop\\INT\\Finanzas\\proceso_facturas\\08-09-2022\\programa_hacer_matriz_sii_exentas_presupuesto_sci.ipynb Celda 4\u001b[0m in \u001b[0;36mGeneradorPlanillaFinanzas.unir_dfs\u001b[1;34m(self, diccionario_dfs_limpias)\u001b[0m\n\u001b[0;32m     <a href='vscode-notebook-cell:/c%3A/Users/gmolina/Desktop/INT/Finanzas/proceso_facturas/08-09-2022/programa_hacer_matriz_sii_exentas_presupuesto_sci.ipynb#W3sZmlsZQ%3D%3D?line=79'>80</a>\u001b[0m df_izquierda\u001b[39m.\u001b[39mto_excel(\u001b[39m'\u001b[39m\u001b[39mPrueba.xlsx\u001b[39m\u001b[39m'\u001b[39m)\n\u001b[0;32m     <a href='vscode-notebook-cell:/c%3A/Users/gmolina/Desktop/INT/Finanzas/proceso_facturas/08-09-2022/programa_hacer_matriz_sii_exentas_presupuesto_sci.ipynb#W3sZmlsZQ%3D%3D?line=81'>82</a>\u001b[0m columnas_a_ocupar \u001b[39m=\u001b[39m [\u001b[39m'\u001b[39m\u001b[39mNro. SII FACTURAS ELECTRONICAS\u001b[39m\u001b[39m'\u001b[39m, \u001b[39m'\u001b[39m\u001b[39mRUT Emisor SII FACTURAS ELECTRONICAS\u001b[39m\u001b[39m'\u001b[39m, \u001b[39m'\u001b[39m\u001b[39mrazon_social_emisor ACEPTA\u001b[39m\u001b[39m'\u001b[39m, \u001b[39m'\u001b[39m\u001b[39mfolio_oc ACEPTA\u001b[39m\u001b[39m'\u001b[39m, \u001b[39m'\u001b[39m\u001b[39mFolio SII FACTURAS ELECTRONICAS\u001b[39m\u001b[39m'\u001b[39m, \u001b[39m'\u001b[39m\u001b[39mFecha Docto. SII FACTURAS ELECTRONICAS\u001b[39m\u001b[39m'\u001b[39m, \u001b[39m'\u001b[39m\u001b[39mMonto Neto SII FACTURAS ELECTRONICAS\u001b[39m\u001b[39m'\u001b[39m, \n\u001b[0;32m     <a href='vscode-notebook-cell:/c%3A/Users/gmolina/Desktop/INT/Finanzas/proceso_facturas/08-09-2022/programa_hacer_matriz_sii_exentas_presupuesto_sci.ipynb#W3sZmlsZQ%3D%3D?line=82'>83</a>\u001b[0m              \u001b[39m'\u001b[39m\u001b[39mMonto Exento SII FACTURAS ELECTRONICAS\u001b[39m\u001b[39m'\u001b[39m, \u001b[39m'\u001b[39m\u001b[39mMonto IVA SII FACTURAS ELECTRONICAS\u001b[39m\u001b[39m'\u001b[39m, \u001b[39m'\u001b[39m\u001b[39mMonto Total SII FACTURAS ELECTRONICAS\u001b[39m\u001b[39m'\u001b[39m, \u001b[39m'\u001b[39m\u001b[39mFecha Recep. SII FACTURAS ELECTRONICAS\u001b[39m\u001b[39m'\u001b[39m, \u001b[39m'\u001b[39m\u001b[39mUbic. PRESUPUESTO\u001b[39m\u001b[39m'\u001b[39m,\n\u001b[0;32m     <a href='vscode-notebook-cell:/c%3A/Users/gmolina/Desktop/INT/Finanzas/proceso_facturas/08-09-2022/programa_hacer_matriz_sii_exentas_presupuesto_sci.ipynb#W3sZmlsZQ%3D%3D?line=83'>84</a>\u001b[0m              \u001b[39m'\u001b[39m\u001b[39mtarea_actual ACEPTA\u001b[39m\u001b[39m'\u001b[39m, \u001b[39m'\u001b[39m\u001b[39mestado_devengo ACEPTA\u001b[39m\u001b[39m'\u001b[39m, \u001b[39m'\u001b[39m\u001b[39mfecha_ingreso_rc ACEPTA\u001b[39m\u001b[39m'\u001b[39m, \u001b[39m'\u001b[39m\u001b[39mestado_nar ACEPTA\u001b[39m\u001b[39m'\u001b[39m, \u001b[39m'\u001b[39m\u001b[39mMotivo SCI\u001b[39m\u001b[39m'\u001b[39m, \u001b[39m'\u001b[39m\u001b[39mtiempo_diferencia\u001b[39m\u001b[39m'\u001b[39m, \u001b[39m'\u001b[39m\u001b[39mesta_al_dia\u001b[39m\u001b[39m'\u001b[39m, \u001b[39m'\u001b[39m\u001b[39mEvento Receptor SII\u001b[39m\u001b[39m'\u001b[39m]\n\u001b[1;32m---> <a href='vscode-notebook-cell:/c%3A/Users/gmolina/Desktop/INT/Finanzas/proceso_facturas/08-09-2022/programa_hacer_matriz_sii_exentas_presupuesto_sci.ipynb#W3sZmlsZQ%3D%3D?line=85'>86</a>\u001b[0m df_util \u001b[39m=\u001b[39m df_izquierda[columnas_a_ocupar]\n\u001b[0;32m     <a href='vscode-notebook-cell:/c%3A/Users/gmolina/Desktop/INT/Finanzas/proceso_facturas/08-09-2022/programa_hacer_matriz_sii_exentas_presupuesto_sci.ipynb#W3sZmlsZQ%3D%3D?line=87'>88</a>\u001b[0m \u001b[39mreturn\u001b[39;00m df_izquierda, df_util\n",
      "File \u001b[1;32mc:\\Users\\gmolina\\AppData\\Local\\Programs\\Python\\Python310\\lib\\site-packages\\pandas\\core\\frame.py:3511\u001b[0m, in \u001b[0;36mDataFrame.__getitem__\u001b[1;34m(self, key)\u001b[0m\n\u001b[0;32m   3509\u001b[0m     \u001b[39mif\u001b[39;00m is_iterator(key):\n\u001b[0;32m   3510\u001b[0m         key \u001b[39m=\u001b[39m \u001b[39mlist\u001b[39m(key)\n\u001b[1;32m-> 3511\u001b[0m     indexer \u001b[39m=\u001b[39m \u001b[39mself\u001b[39;49m\u001b[39m.\u001b[39;49mcolumns\u001b[39m.\u001b[39;49m_get_indexer_strict(key, \u001b[39m\"\u001b[39;49m\u001b[39mcolumns\u001b[39;49m\u001b[39m\"\u001b[39;49m)[\u001b[39m1\u001b[39m]\n\u001b[0;32m   3513\u001b[0m \u001b[39m# take() does not accept boolean indexers\u001b[39;00m\n\u001b[0;32m   3514\u001b[0m \u001b[39mif\u001b[39;00m \u001b[39mgetattr\u001b[39m(indexer, \u001b[39m\"\u001b[39m\u001b[39mdtype\u001b[39m\u001b[39m\"\u001b[39m, \u001b[39mNone\u001b[39;00m) \u001b[39m==\u001b[39m \u001b[39mbool\u001b[39m:\n",
      "File \u001b[1;32mc:\\Users\\gmolina\\AppData\\Local\\Programs\\Python\\Python310\\lib\\site-packages\\pandas\\core\\indexes\\base.py:5796\u001b[0m, in \u001b[0;36mIndex._get_indexer_strict\u001b[1;34m(self, key, axis_name)\u001b[0m\n\u001b[0;32m   5793\u001b[0m \u001b[39melse\u001b[39;00m:\n\u001b[0;32m   5794\u001b[0m     keyarr, indexer, new_indexer \u001b[39m=\u001b[39m \u001b[39mself\u001b[39m\u001b[39m.\u001b[39m_reindex_non_unique(keyarr)\n\u001b[1;32m-> 5796\u001b[0m \u001b[39mself\u001b[39;49m\u001b[39m.\u001b[39;49m_raise_if_missing(keyarr, indexer, axis_name)\n\u001b[0;32m   5798\u001b[0m keyarr \u001b[39m=\u001b[39m \u001b[39mself\u001b[39m\u001b[39m.\u001b[39mtake(indexer)\n\u001b[0;32m   5799\u001b[0m \u001b[39mif\u001b[39;00m \u001b[39misinstance\u001b[39m(key, Index):\n\u001b[0;32m   5800\u001b[0m     \u001b[39m# GH 42790 - Preserve name from an Index\u001b[39;00m\n",
      "File \u001b[1;32mc:\\Users\\gmolina\\AppData\\Local\\Programs\\Python\\Python310\\lib\\site-packages\\pandas\\core\\indexes\\base.py:5859\u001b[0m, in \u001b[0;36mIndex._raise_if_missing\u001b[1;34m(self, key, indexer, axis_name)\u001b[0m\n\u001b[0;32m   5856\u001b[0m     \u001b[39mraise\u001b[39;00m \u001b[39mKeyError\u001b[39;00m(\u001b[39mf\u001b[39m\u001b[39m\"\u001b[39m\u001b[39mNone of [\u001b[39m\u001b[39m{\u001b[39;00mkey\u001b[39m}\u001b[39;00m\u001b[39m] are in the [\u001b[39m\u001b[39m{\u001b[39;00maxis_name\u001b[39m}\u001b[39;00m\u001b[39m]\u001b[39m\u001b[39m\"\u001b[39m)\n\u001b[0;32m   5858\u001b[0m not_found \u001b[39m=\u001b[39m \u001b[39mlist\u001b[39m(ensure_index(key)[missing_mask\u001b[39m.\u001b[39mnonzero()[\u001b[39m0\u001b[39m]]\u001b[39m.\u001b[39munique())\n\u001b[1;32m-> 5859\u001b[0m \u001b[39mraise\u001b[39;00m \u001b[39mKeyError\u001b[39;00m(\u001b[39mf\u001b[39m\u001b[39m\"\u001b[39m\u001b[39m{\u001b[39;00mnot_found\u001b[39m}\u001b[39;00m\u001b[39m not in index\u001b[39m\u001b[39m\"\u001b[39m)\n",
      "\u001b[1;31mKeyError\u001b[0m: \"['Evento Receptor SII'] not in index\""
     ]
    }
   ],
   "source": [
    "programa.correr_programa()"
   ]
  },
  {
   "cell_type": "code",
   "execution_count": null,
   "metadata": {},
   "outputs": [],
   "source": []
  }
 ],
 "metadata": {
  "kernelspec": {
   "display_name": "Python 3.10.6 64-bit",
   "language": "python",
   "name": "python3"
  },
  "language_info": {
   "codemirror_mode": {
    "name": "ipython",
    "version": 3
   },
   "file_extension": ".py",
   "mimetype": "text/x-python",
   "name": "python",
   "nbconvert_exporter": "python",
   "pygments_lexer": "ipython3",
   "version": "3.10.6"
  },
  "orig_nbformat": 4,
  "vscode": {
   "interpreter": {
    "hash": "01515e38d2d4c9d68a7cdf4111cc430df5b00f8319213d00f2225d05549d76c7"
   }
  }
 },
 "nbformat": 4,
 "nbformat_minor": 2
}
