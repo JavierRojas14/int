{
 "cells": [
  {
   "cell_type": "code",
   "execution_count": 1,
   "metadata": {},
   "outputs": [],
   "source": [
    "import pandas as pd"
   ]
  },
  {
   "cell_type": "code",
   "execution_count": 35,
   "metadata": {},
   "outputs": [],
   "source": [
    "oc_sin_facturas = pd.read_excel('oc_sin_facturas.xlsx')\n",
    "oc_sci = pd.read_excel('RECEPCIONES (2).xlsx', header = 1)"
   ]
  },
  {
   "cell_type": "code",
   "execution_count": 36,
   "metadata": {},
   "outputs": [],
   "source": [
    "mask_no_OC = ~(oc_sin_facturas['Número Documento'].str[0:2] == \"OC\")\n",
    "mask_sin_punto = ~(oc_sin_facturas['Número Documento'].str[-1] == '.')\n",
    "oc_sin_facturas_sin_repetidas = oc_sin_facturas[mask_no_OC & mask_sin_punto]"
   ]
  },
  {
   "cell_type": "code",
   "execution_count": 37,
   "metadata": {},
   "outputs": [],
   "source": [
    "oc_con_recepcion_conforme = oc_sci.query('Estado == \"RECEPCION COMPLETA\" or Estado == \"RECEPCION PARCIAL\"')\n",
    "lista_oc_con_recepcion_conforme = oc_con_recepcion_conforme['N° orden'].unique()"
   ]
  },
  {
   "cell_type": "code",
   "execution_count": 38,
   "metadata": {},
   "outputs": [],
   "source": [
    "mask_facturas_con_recepcion_conforme = oc_sin_facturas_sin_repetidas['Número Documento'].isin(lista_oc_con_recepcion_conforme)"
   ]
  },
  {
   "cell_type": "code",
   "execution_count": 41,
   "metadata": {},
   "outputs": [],
   "source": [
    "facturas_con_posible_liberacion = oc_sin_facturas_sin_repetidas[~mask_facturas_con_recepcion_conforme]"
   ]
  },
  {
   "cell_type": "code",
   "execution_count": 43,
   "metadata": {},
   "outputs": [
    {
     "data": {
      "text/plain": [
       "135641001"
      ]
     },
     "execution_count": 43,
     "metadata": {},
     "output_type": "execute_result"
    }
   ],
   "source": [
    "facturas_con_posible_liberacion['Monto Disponible'].sum()"
   ]
  },
  {
   "cell_type": "code",
   "execution_count": 44,
   "metadata": {},
   "outputs": [],
   "source": [
    "facturas_con_posible_liberacion.to_excel('facturas_con_posible_liberacion.xlsx', index = False)"
   ]
  }
 ],
 "metadata": {
  "kernelspec": {
   "display_name": "Python 3.10.6 64-bit",
   "language": "python",
   "name": "python3"
  },
  "language_info": {
   "codemirror_mode": {
    "name": "ipython",
    "version": 3
   },
   "file_extension": ".py",
   "mimetype": "text/x-python",
   "name": "python",
   "nbconvert_exporter": "python",
   "pygments_lexer": "ipython3",
   "version": "3.10.6"
  },
  "orig_nbformat": 4,
  "vscode": {
   "interpreter": {
    "hash": "01515e38d2d4c9d68a7cdf4111cc430df5b00f8319213d00f2225d05549d76c7"
   }
  }
 },
 "nbformat": 4,
 "nbformat_minor": 2
}
