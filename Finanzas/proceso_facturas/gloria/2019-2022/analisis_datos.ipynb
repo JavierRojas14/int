{
 "cells": [
  {
   "cell_type": "code",
   "execution_count": 1,
   "metadata": {},
   "outputs": [],
   "source": [
    "import pandas as pd"
   ]
  },
  {
   "cell_type": "code",
   "execution_count": 68,
   "metadata": {},
   "outputs": [],
   "source": [
    "df = pd.read_excel('PLANILLA DE CONTROL AL 2022-09-20.xlsx')"
   ]
  },
  {
   "cell_type": "code",
   "execution_count": 88,
   "metadata": {},
   "outputs": [],
   "source": [
    "query_no_devengadas = \"~((`estado_devengo ACEPTA` == 'FINALIZADO_SIN_ERRORES') or `Fecha DEVENGO SIGFE`.notna() or `Fecha PAGO SIGFE`.notna())\"\n",
    "\n",
    "df_no_devengadas = df.query(query_no_devengadas) \\\n",
    "                     .dropna(subset = 'RUT Emisor SII') \\\n",
    "                     .sort_values(by = 'Fecha Docto SII')\n",
    "\n",
    "for columna in df_no_devengadas.columns:\n",
    "    if 'Fecha' in columna or 'publicacion' in columna:\n",
    "        df_no_devengadas[columna] = pd.to_datetime(df_no_devengadas[columna]).dt.date\n",
    "\n",
    "df_no_devengadas.to_excel('Facturas_no_devengadas_2019_2022.xlsx')"
   ]
  },
  {
   "cell_type": "code",
   "execution_count": 87,
   "metadata": {},
   "outputs": [
    {
     "name": "stdout",
     "output_type": "stream",
     "text": [
      "Hay 4800 facturas no devengadas en total\n",
      "La distribución de documentos es: \n",
      "33.0    2421\n",
      "61.0    2243\n",
      "34.0     107\n",
      "56.0      28\n",
      "43.0       1\n",
      "Name: Tipo Doc SII, dtype: int64\n"
     ]
    }
   ],
   "source": [
    "año_a_evaluar = pd.to_datetime('2021-01-01')\n",
    "query = \"`Fecha Docto SII` >= @año_a_evaluar\"\n",
    "\n",
    "df_queried = df_no_devengadas.query(query)\n",
    "print(f'Hay {df_queried.shape[0]} facturas no devengadas en total')\n",
    "print(f'La distribución de documentos es: \\n{df_queried[\"Tipo Doc SII\"].value_counts()}')\n",
    "\n",
    "df_queried = df_queried.sort_values(by = 'Fecha Docto SII')\n",
    "for columna in df_queried.columns:\n",
    "    if 'Fecha' in columna or 'publicacion' in columna:\n",
    "        df_queried[columna] = pd.to_datetime(df_queried[columna]).dt.date\n",
    "\n",
    "df_queried.to_excel('Facturas_no_devengadas_2021_2022.xlsx')"
   ]
  }
 ],
 "metadata": {
  "kernelspec": {
   "display_name": "Python 3.10.6 64-bit",
   "language": "python",
   "name": "python3"
  },
  "language_info": {
   "codemirror_mode": {
    "name": "ipython",
    "version": 3
   },
   "file_extension": ".py",
   "mimetype": "text/x-python",
   "name": "python",
   "nbconvert_exporter": "python",
   "pygments_lexer": "ipython3",
   "version": "3.10.6"
  },
  "orig_nbformat": 4,
  "vscode": {
   "interpreter": {
    "hash": "01515e38d2d4c9d68a7cdf4111cc430df5b00f8319213d00f2225d05549d76c7"
   }
  }
 },
 "nbformat": 4,
 "nbformat_minor": 2
}
