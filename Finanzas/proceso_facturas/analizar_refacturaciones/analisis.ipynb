{
 "cells": [
  {
   "cell_type": "code",
   "execution_count": 1,
   "metadata": {},
   "outputs": [],
   "source": [
    "import pandas as pd"
   ]
  },
  {
   "cell_type": "code",
   "execution_count": 2,
   "metadata": {},
   "outputs": [],
   "source": [
    "df = pd.read_excel('input\\\\PLANILLA DE CONTROL AL 2022-10-13.xlsx')"
   ]
  },
  {
   "cell_type": "code",
   "execution_count": 19,
   "metadata": {},
   "outputs": [],
   "source": [
    "columnas_SCI_TURBO = df.columns[df.columns.str.contains('SCI|TURBO', regex = True)]"
   ]
  },
  {
   "cell_type": "code",
   "execution_count": 31,
   "metadata": {},
   "outputs": [],
   "source": [
    "mask_sin_SCI_ni_TURBO = df['Fecha Recepción SCI'].isna() & df['Ubic. TURBO'].isna()\n",
    "facturas_sin_SCI_ni_TURBO = df[mask_sin_SCI_ni_TURBO]"
   ]
  },
  {
   "cell_type": "code",
   "execution_count": 41,
   "metadata": {},
   "outputs": [
    {
     "name": "stdout",
     "output_type": "stream",
     "text": [
      "Series([], Name: Fecha Recepción SCI, dtype: int64)\n",
      "Series([], Name: Registrador SCI, dtype: int64)\n",
      "Series([], Name: Articulo SCI, dtype: int64)\n",
      "Series([], Name: N° Acta SCI, dtype: int64)\n",
      "Series([], Name: Ubic. TURBO, dtype: int64)\n",
      "8       5\n",
      "10      4\n",
      "6125    2\n",
      "1       2\n",
      "6837    2\n",
      "5891    1\n",
      "7634    1\n",
      "7409    1\n",
      "15      1\n",
      "6796    1\n",
      "6635    1\n",
      "5749    1\n",
      "6448    1\n",
      "12      1\n",
      "9       1\n",
      "6244    1\n",
      "7837    1\n",
      "Name: NºPresu TURBO, dtype: int64\n",
      "4479.0    3\n",
      "5115.0    3\n",
      "5713.0    3\n",
      "4872.0    2\n",
      "4877.0    2\n",
      "4896.0    2\n",
      "4763.0    1\n",
      "4774.0    1\n",
      "4887.0    1\n",
      "4598.0    1\n",
      "4960.0    1\n",
      "5050.0    1\n",
      "5057.0    1\n",
      "4732.0    1\n",
      "5123.0    1\n",
      "5279.0    1\n",
      "5327.0    1\n",
      "4969.0    1\n",
      "Name: Folio_interno TURBO, dtype: int64\n",
      "0    27\n",
      "Name: NºPago TURBO, dtype: int64\n"
     ]
    }
   ],
   "source": [
    "for columna in columnas_SCI_TURBO:\n",
    "    print(facturas_sin_SCI_ni_TURBO[columna].value_counts())"
   ]
  },
  {
   "cell_type": "code",
   "execution_count": null,
   "metadata": {},
   "outputs": [],
   "source": []
  }
 ],
 "metadata": {
  "kernelspec": {
   "display_name": "Python 3.10.6 64-bit",
   "language": "python",
   "name": "python3"
  },
  "language_info": {
   "codemirror_mode": {
    "name": "ipython",
    "version": 3
   },
   "file_extension": ".py",
   "mimetype": "text/x-python",
   "name": "python",
   "nbconvert_exporter": "python",
   "pygments_lexer": "ipython3",
   "version": "3.10.6"
  },
  "orig_nbformat": 4,
  "vscode": {
   "interpreter": {
    "hash": "01515e38d2d4c9d68a7cdf4111cc430df5b00f8319213d00f2225d05549d76c7"
   }
  }
 },
 "nbformat": 4,
 "nbformat_minor": 2
}
