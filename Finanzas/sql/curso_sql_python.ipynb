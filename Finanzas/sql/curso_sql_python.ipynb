{
 "cells": [
  {
   "cell_type": "code",
   "execution_count": 1,
   "metadata": {},
   "outputs": [],
   "source": [
    "import mysql.connector\n",
    "from mysql.connector import Error\n",
    "import pandas as pd"
   ]
  },
  {
   "cell_type": "code",
   "execution_count": 24,
   "metadata": {},
   "outputs": [],
   "source": [
    "from multiprocessing import connection\n",
    "\n",
    "\n",
    "def create_server_connection(host_name, user_name, user_password):\n",
    "    connection = None\n",
    "    try:\n",
    "        connection = mysql.connector.connect(\n",
    "            host=host_name,\n",
    "            user=user_name,\n",
    "            passwd=user_password,\n",
    "        )\n",
    "        print(\"MySQL Database connection successful\")\n",
    "    except Error as err:\n",
    "        print(f\"Error: '{err}'\")\n",
    "\n",
    "    return connection\n",
    "\n",
    "def create_db_connection(host_name, user_name, user_password, db_name):\n",
    "    connection = None\n",
    "    try:\n",
    "        connection = mysql.connector.connect(\n",
    "            host=host_name,\n",
    "            user=user_name,\n",
    "            passwd=user_password,\n",
    "            database=db_name\n",
    "        )\n",
    "        print(\"MySQL Database connection successful\")\n",
    "    except Error as err:\n",
    "        print(f\"Error: '{err}'\")\n",
    "\n",
    "    return connection\n",
    "\n",
    "def execute_query(connection, query):\n",
    "    cursor = connection.cursor(buffered = True)\n",
    "    try:\n",
    "        cursor.execute(query)\n",
    "        connection.commit()\n",
    "        print(\"Query successful\")\n",
    "    except Error as err:\n",
    "        print(f\"Error: '{err}'\")\n",
    "\n",
    "def read_query(connection, query):\n",
    "    cursor = connection.cursor()\n",
    "    result = None\n",
    "    try:\n",
    "        cursor.execute(query)\n",
    "        result = cursor.fetchall()\n",
    "        return result\n",
    "    except Error as err:\n",
    "        print(f\"Error: '{err}'\")"
   ]
  },
  {
   "cell_type": "markdown",
   "metadata": {},
   "source": [
    "# SQL Queries\n",
    "\n",
    "1. w3resource.com\n",
    "salesman_id |    name    |   city   | commission \n",
    "-------------+------------+----------+------------\n",
    "        5001 | James Hoog | New York |       0.15\n",
    "        5002 | Nail Knite | Paris    |       0.13\n",
    "        5005 | Pit Alex   | London   |       0.11\n",
    "        5006 | Mc Lyon    | Paris    |       0.14\n",
    "        5007 | Paul Adam  | Rome     |       0.13\n",
    "        5003 | Lauson Hen | San Jose |       0.12\n"
   ]
  },
  {
   "cell_type": "code",
   "execution_count": 25,
   "metadata": {},
   "outputs": [
    {
     "name": "stdout",
     "output_type": "stream",
     "text": [
      "MySQL Database connection successful\n"
     ]
    }
   ],
   "source": [
    "connection = create_server_connection('localhost', 'root', 'torax.22')"
   ]
  },
  {
   "cell_type": "code",
   "execution_count": 26,
   "metadata": {},
   "outputs": [],
   "source": [
    "queries = '''\n",
    "CREATE TABLE salesman(\n",
    "    salesman_id INT PRIMARY KEY,\n",
    "    name VARCHAR(255) NOT NULL,\n",
    "    city VARCHAR(255) NOT NULL,\n",
    "    commission FLOAT NOT NULL\n",
    ");\n",
    "\n",
    "INSERT INTO salesman VALUES\n",
    "(5001, 'James Hoog', 'New York', 0.15),\n",
    "(5002, 'Nail Knite', 'Paris', 0.13),\n",
    "(5005, 'Pit Alex', 'London', 0.11),\n",
    "(5007, 'Paul Adam', 'Rome', 0.13),\n",
    "(5003, 'Lauson Hen', 'San Jose', 0.12);\n",
    "\n",
    "SELECT * FROM salesman;\n",
    "SELECT 'This is SQL Exercise, Practice and Solution';\n",
    "'''"
   ]
  },
  {
   "cell_type": "code",
   "execution_count": null,
   "metadata": {},
   "outputs": [],
   "source": [
    "3002, 'Nick Rimando', 'New York',   100, 5001\n",
    "        3007, 'Brad Davis    , 'New York  ,200 , 5001\n",
    "        3005, 'Graham Zusi   , 'California,200 , 5002\n",
    "        3008, 'Julian Green  , 'London    ,300 , 5002\n",
    "        3004, 'Fabian Johnson, 'Paris     ,300 , 5006\n",
    "        3009, 'Geoff Cameron , 'Berlin    ,100 , 5003\n",
    "        3003, 'Jozy Altidor  , 'Moscow    ,200 , 5007\n",
    "        3001, 'Brad Guzan    , 'London    ,NULL    , 5005"
   ]
  }
 ],
 "metadata": {
  "kernelspec": {
   "display_name": "Python 3.10.6 64-bit",
   "language": "python",
   "name": "python3"
  },
  "language_info": {
   "codemirror_mode": {
    "name": "ipython",
    "version": 3
   },
   "file_extension": ".py",
   "mimetype": "text/x-python",
   "name": "python",
   "nbconvert_exporter": "python",
   "pygments_lexer": "ipython3",
   "version": "3.10.6"
  },
  "orig_nbformat": 4,
  "vscode": {
   "interpreter": {
    "hash": "01515e38d2d4c9d68a7cdf4111cc430df5b00f8319213d00f2225d05549d76c7"
   }
  }
 },
 "nbformat": 4,
 "nbformat_minor": 2
}
