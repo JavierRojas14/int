{
 "cells": [
  {
   "cell_type": "code",
   "execution_count": 1,
   "metadata": {},
   "outputs": [],
   "source": [
    "import pandas as pd\n",
    "from datetime import datetime\n",
    "import biip"
   ]
  },
  {
   "cell_type": "code",
   "execution_count": 75,
   "metadata": {},
   "outputs": [],
   "source": [
    "def parseador(nombre_archivo):\n",
    "    df = pd.read_excel(nombre_archivo)\n",
    "    df['Codigo crudo'] = df['Codigo crudo'].map(lambda x: str(x.replace('_x001D_', ' ')))\n",
    "    entradas = []\n",
    "    for entrada in df['Codigo crudo']:\n",
    "        result = biip.parse(entrada, separator_chars = [' '])\n",
    "        gtin = str(result.gtin.value)\n",
    "        fecha = str(result.gs1_message.get(data_title = 'EXPIRY').date)\n",
    "        lote = str(result.gs1_message.get(ai = '10').value)\n",
    "\n",
    "        try:\n",
    "            info_adicional = str(result.gs1_message.get(ai = '240').value)\n",
    "        except AttributeError:\n",
    "            info_adicional = None\n",
    "        \n",
    "        linea = [gtin, fecha, lote, info_adicional]\n",
    "        entradas.append(linea)\n",
    "\n",
    "    df = pd.DataFrame(entradas, columns = ['Gtin', 'Fecha Expiracion', 'Lote', 'Info adicional'])\n",
    "    return df\n"
   ]
  },
  {
   "cell_type": "code",
   "execution_count": 76,
   "metadata": {},
   "outputs": [],
   "source": [
    "df = parseador('DATOS_CRUDOS_REACTIVOS.xlsx')"
   ]
  },
  {
   "cell_type": "code",
   "execution_count": 77,
   "metadata": {},
   "outputs": [
    {
     "data": {
      "text/html": [
       "<div>\n",
       "<style scoped>\n",
       "    .dataframe tbody tr th:only-of-type {\n",
       "        vertical-align: middle;\n",
       "    }\n",
       "\n",
       "    .dataframe tbody tr th {\n",
       "        vertical-align: top;\n",
       "    }\n",
       "\n",
       "    .dataframe thead th {\n",
       "        text-align: right;\n",
       "    }\n",
       "</style>\n",
       "<table border=\"1\" class=\"dataframe\">\n",
       "  <thead>\n",
       "    <tr style=\"text-align: right;\">\n",
       "      <th></th>\n",
       "      <th>Gtin</th>\n",
       "      <th>Fecha</th>\n",
       "      <th>Lote</th>\n",
       "      <th>Info adicional</th>\n",
       "    </tr>\n",
       "  </thead>\n",
       "  <tbody>\n",
       "    <tr>\n",
       "      <th>0</th>\n",
       "      <td>08426950478676</td>\n",
       "      <td>2023-05-31</td>\n",
       "      <td>N0512825</td>\n",
       "      <td>None</td>\n",
       "    </tr>\n",
       "    <tr>\n",
       "      <th>1</th>\n",
       "      <td>04015630920822</td>\n",
       "      <td>2023-05-31</td>\n",
       "      <td>57392701</td>\n",
       "      <td>04489241190</td>\n",
       "    </tr>\n",
       "  </tbody>\n",
       "</table>\n",
       "</div>"
      ],
      "text/plain": [
       "             Gtin       Fecha      Lote Info adicional\n",
       "0  08426950478676  2023-05-31  N0512825           None\n",
       "1  04015630920822  2023-05-31  57392701    04489241190"
      ]
     },
     "execution_count": 77,
     "metadata": {},
     "output_type": "execute_result"
    }
   ],
   "source": [
    "df"
   ]
  },
  {
   "cell_type": "code",
   "execution_count": null,
   "metadata": {},
   "outputs": [],
   "source": []
  }
 ],
 "metadata": {
  "kernelspec": {
   "display_name": "Python 3.10.5 64-bit",
   "language": "python",
   "name": "python3"
  },
  "language_info": {
   "codemirror_mode": {
    "name": "ipython",
    "version": 3
   },
   "file_extension": ".py",
   "mimetype": "text/x-python",
   "name": "python",
   "nbconvert_exporter": "python",
   "pygments_lexer": "ipython3",
   "version": "3.10.5"
  },
  "orig_nbformat": 4,
  "vscode": {
   "interpreter": {
    "hash": "80ed648a5a155dca1469a1922a7b47c9d7b21ba9b4d2aa2dbd3b33ca48441164"
   }
  }
 },
 "nbformat": 4,
 "nbformat_minor": 2
}
