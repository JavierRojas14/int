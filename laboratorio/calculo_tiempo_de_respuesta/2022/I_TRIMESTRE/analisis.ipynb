{
 "cells": [
  {
   "cell_type": "code",
   "execution_count": 49,
   "metadata": {},
   "outputs": [],
   "source": [
    "import pandas as pd\n",
    "pd.options.mode.chained_assignment = None  # default='warn'"
   ]
  },
  {
   "cell_type": "code",
   "execution_count": 3,
   "metadata": {},
   "outputs": [],
   "source": [
    "df = pd.read_excel('Copia de LISTADO EXAMENES TIEMPO DE RESPUESTA_20220811152141.xlsx', header = 3)"
   ]
  },
  {
   "cell_type": "code",
   "execution_count": 61,
   "metadata": {},
   "outputs": [],
   "source": [
    "def calcular_cumplimiento(df, umbral):\n",
    "    df['CUMPLE'] = (df['TIEMPO RESPUESTA Minutos'] <= umbral)\n",
    "    conteo_1 = pd.DataFrame(round(df['CUMPLE'].value_counts(normalize = True) * 100, 1))\n",
    "    conteo_2 = pd.DataFrame(df['CUMPLE'].value_counts())\n",
    "    junto = pd.concat([conteo_1, conteo_2], axis = 1)\n",
    "    junto.columns = ['%', 'N']\n",
    "\n",
    "    return junto\n"
   ]
  },
  {
   "cell_type": "code",
   "execution_count": 62,
   "metadata": {},
   "outputs": [],
   "source": [
    "df_urgente = df[df['TIPO PACIENTE'] == 'Urgencia']\n",
    "\n",
    "df_urgente_baciloscopia = df_urgente[df_urgente['EXAMEN'] == 'BACILOSCOPIA DE KOCH']\n",
    "df_urgente_electrolitos = df_urgente[df_urgente['EXAMEN'] == 'ELECTROLITOS PLASMATICO ']\n",
    "df_urgente_hematocrito = df_urgente[df_urgente['EXAMEN'] == 'HEMATOCRITO']\n",
    "\n",
    "conteo_bacilo = calcular_cumplimiento(df_urgente_baciloscopia, 90)\n",
    "conteo_electro = calcular_cumplimiento(df_urgente_electrolitos, 90)\n",
    "conteo_hemato = calcular_cumplimiento(df_urgente_hematocrito, 30)"
   ]
  },
  {
   "cell_type": "code",
   "execution_count": 68,
   "metadata": {},
   "outputs": [
    {
     "name": "stdout",
     "output_type": "stream",
     "text": [
      "          %  N\n",
      "True  100.0  7\n",
      "BACILOSCOPIA\n",
      "\n",
      "          %   N\n",
      "True   81.2  13\n",
      "False  18.8   3\n",
      "ELECTROLITOS\n",
      "\n",
      "Empty DataFrame\n",
      "Columns: [%, N]\n",
      "Index: []\n",
      "HEMATOCRITO\n",
      "\n"
     ]
    }
   ],
   "source": [
    "print(f'{conteo_bacilo}\\nBACILOSCOPIA\\n')\n",
    "print(f'{conteo_electro}\\nELECTROLITOS\\n')\n",
    "print(f'{conteo_hemato}\\nHEMATOCRITO\\n')"
   ]
  }
 ],
 "metadata": {
  "kernelspec": {
   "display_name": "Python 3.10.5 64-bit",
   "language": "python",
   "name": "python3"
  },
  "language_info": {
   "codemirror_mode": {
    "name": "ipython",
    "version": 3
   },
   "file_extension": ".py",
   "mimetype": "text/x-python",
   "name": "python",
   "nbconvert_exporter": "python",
   "pygments_lexer": "ipython3",
   "version": "3.10.5"
  },
  "orig_nbformat": 4,
  "vscode": {
   "interpreter": {
    "hash": "80ed648a5a155dca1469a1922a7b47c9d7b21ba9b4d2aa2dbd3b33ca48441164"
   }
  }
 },
 "nbformat": 4,
 "nbformat_minor": 2
}
