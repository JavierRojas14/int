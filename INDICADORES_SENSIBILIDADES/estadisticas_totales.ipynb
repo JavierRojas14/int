{
 "cells": [
  {
   "cell_type": "code",
   "execution_count": 31,
   "metadata": {},
   "outputs": [],
   "source": [
    "import pandas as pd\n",
    "import json\n",
    "import warnings\n",
    "import os\n",
    "import numpy as np\n",
    "\n",
    "warnings.filterwarnings('ignore', category = UserWarning, module = 'openpyxl')\n",
    "\n",
    "with open('RESISTENCIAS_PSEUDOMONAS.json', 'r', encoding = 'utf-8') as f:\n",
    "    RESISTENCIAS_PSEUDOMONAS = json.load(f)\n",
    "\n",
    "with open('RESISTENCIAS_ENTEROCOCCUS.json', 'r', encoding = 'utf-8') as f:\n",
    "    RESISTENCIAS_ENTEROCOCCUS = json.load(f)\n",
    "\n",
    "with open('RESISTENCIAS_KLEBSIELLA.json', 'r', encoding = 'utf-8') as f:\n",
    "    RESISTENCIAS_KLEBSIELLA = json.load(f)\n",
    "\n",
    "with open('LIMPIADOR_TOTAL.json', 'r', encoding = 'utf-8') as f:\n",
    "    DICCIONARIO_LIMPIADOR_NOMENCLATURAS = json.load(f)\n",
    "\n",
    "    LIMPIADOR_EVE = DICCIONARIO_LIMPIADOR_NOMENCLATURAS['NOMENCLATURA EVE']\n",
    "    LIMPIADOR_REDUNDANTES = DICCIONARIO_LIMPIADOR_NOMENCLATURAS['REDUNDANTES']\n",
    "\n",
    "    LIMPIADOR_GLOBAL = LIMPIADOR_EVE | LIMPIADOR_REDUNDANTES"
   ]
  },
  {
   "cell_type": "code",
   "execution_count": 32,
   "metadata": {},
   "outputs": [],
   "source": [
    "class Estadisticas:\n",
    "    def __init__(self):\n",
    "        pass\n",
    "\n",
    "    def obtener_estadisticas_todos_los_meses(self, output):\n",
    "        nombres_sensibilidades_ordenadas = sorted([excel for excel in os.listdir() if 'Fibrosis' in excel])\n",
    "        estadisticas_acumuladas = {}\n",
    "        dfs_a_guardar = []\n",
    "\n",
    "        for nombre_archivo in nombres_sensibilidades_ordenadas:\n",
    "            print(f'Leyendo {nombre_archivo}')\n",
    "\n",
    "            estadistica_fq_archivo = self.obtener_estadistica_por_archivo(nombre_archivo)\n",
    "            estadisticas_acumuladas[nombre_archivo] = estadistica_fq_archivo\n",
    "            df_fq_archivo = self.hacer_tabla(estadistica_fq_archivo)\n",
    "            dfs_a_guardar.append((nombre_archivo, df_fq_archivo))\n",
    "\n",
    "\n",
    "        df_estadisticas_acumuladas = self.hacer_tabla(estadisticas_acumuladas).transpose()\n",
    "        dfs_a_guardar.append(('ESTADISTICAS GLOBALES FQ', df_estadisticas_acumuladas))\n",
    "        \n",
    "        with pd.ExcelWriter(output) as f:\n",
    "            for nombre, df in dfs_a_guardar:\n",
    "                df.to_excel(f, sheet_name = nombre)\n",
    "        \n",
    "\n",
    "    def hacer_tabla(self, diccionario_estadisticas):\n",
    "        estadisticas_fq = pd.DataFrame.from_dict(diccionario_estadisticas, orient = 'index')\n",
    "        # estadisticas_fq = estadisticas_fq.transpose()\n",
    "\n",
    "        return estadisticas_fq\n",
    "\n",
    "    def obtener_estadistica_por_archivo(self, nombre_archivo):\n",
    "        df = pd.read_excel(nombre_archivo, header = 1).dropna(how = 'all')\n",
    "        df = df.fillna('-')\n",
    "        df_limpia = df.copy()\n",
    "        df_limpia['MICROORGANISMO'] = df_limpia['MICROORGANISMO'].map(lambda x: LIMPIADOR_GLOBAL[x] if (LIMPIADOR_GLOBAL[x] != None) else x) \n",
    "\n",
    "        estadisticas_fq = self.calcular_estadisticas(df_limpia)\n",
    "\n",
    "        return estadisticas_fq\n",
    "\n",
    "    def calcular_estadisticas(self, df_fq):\n",
    "        estadisticas = {}\n",
    "\n",
    "        frecuencias_microorganismos = df_fq['MICROORGANISMO'].value_counts()\n",
    "\n",
    "        numero_resistentes_TOB = 0\n",
    "        for resultado_sensibilidad in df_fq.loc[:, 'TOB']:\n",
    "            if resultado_sensibilidad == 'R':\n",
    "                numero_resistentes_TOB += 1\n",
    "        \n",
    "        porcentaje_resistenes_TOB = round((numero_resistentes_TOB / df_fq.shape[0]) * 100, 1)\n",
    "        \n",
    "        estadisticas['Total Pacientes FQ'] = df_fq.shape[0]\n",
    "        estadisticas['TOB N resistentes'] = numero_resistentes_TOB\n",
    "        estadisticas['TOB % resistentes'] = porcentaje_resistenes_TOB\n",
    "\n",
    "        estadisticas.update(frecuencias_microorganismos)\n",
    "\n",
    "        return estadisticas.copy()"
   ]
  },
  {
   "cell_type": "code",
   "execution_count": 33,
   "metadata": {},
   "outputs": [
    {
     "name": "stdout",
     "output_type": "stream",
     "text": [
      "Leyendo Fibrosis 2016.xlsx\n",
      "Leyendo Fibrosis 2017 - 2019.xlsx\n",
      "Leyendo Fibrosis 2020.xlsx\n",
      "Leyendo Fibrosis 2021.xlsx\n",
      "Leyendo Fibrosis 2022.xlsx\n"
     ]
    }
   ],
   "source": [
    "estadisticas = Estadisticas()\n",
    "resultados = estadisticas.obtener_estadisticas_todos_los_meses('ESTADISTICAS_FQ.xlsx')"
   ]
  },
  {
   "cell_type": "code",
   "execution_count": null,
   "metadata": {},
   "outputs": [],
   "source": []
  }
 ],
 "metadata": {
  "kernelspec": {
   "display_name": "Python 3.10.5 64-bit",
   "language": "python",
   "name": "python3"
  },
  "language_info": {
   "codemirror_mode": {
    "name": "ipython",
    "version": 3
   },
   "file_extension": ".py",
   "mimetype": "text/x-python",
   "name": "python",
   "nbconvert_exporter": "python",
   "pygments_lexer": "ipython3",
   "version": "3.10.5"
  },
  "orig_nbformat": 4,
  "vscode": {
   "interpreter": {
    "hash": "80ed648a5a155dca1469a1922a7b47c9d7b21ba9b4d2aa2dbd3b33ca48441164"
   }
  }
 },
 "nbformat": 4,
 "nbformat_minor": 2
}
