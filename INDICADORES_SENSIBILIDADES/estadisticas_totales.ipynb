{
 "cells": [
  {
   "cell_type": "code",
   "execution_count": 79,
   "metadata": {},
   "outputs": [],
   "source": [
    "import pandas as pd\n",
    "import json\n",
    "\n",
    "with open('RESISTENCIAS_PSEUDOMONAS.json', 'r') as f:\n",
    "    RESISTENCIAS_PSEUDOMONAS = json.load(f)\n",
    "\n",
    "with open('RESISTENCIAS_ENTEROCOCCUS.json', 'r') as f:\n",
    "    RESISTENCIAS_ENTEROCOCCUS = json.load(f)\n"
   ]
  },
  {
   "cell_type": "code",
   "execution_count": 111,
   "metadata": {},
   "outputs": [],
   "source": [
    "class Estadisticas:\n",
    "    def __init__(self):\n",
    "        pass\n",
    "\n",
    "    def obtener_estadisticas_todos_los_meses(self):\n",
    "        nombres_sensibilidades_ordenadas = sorted([excel for excel in os.listdir() if 'SENS' in excel], key = lambda x: int(x[0:2]))\n",
    "        estadisticas = {}\n",
    "\n",
    "        for nombre in nombres_sensibilidades_ordenadas:\n",
    "            df = pd.read_excel(nombre, sheet_name = 1, header = 1)\n",
    "            estadisticas[nombre] = self.obtener_estadistica_de_un_mes(df)\n",
    "        \n",
    "        return estadisticas\n",
    "\n",
    "    def obtener_estadistica_de_un_mes(self, df):\n",
    "        df_aureus_esteriles_uci = self.obtener_aureus_metilcilino_esteriles_uci(df)\n",
    "        df_enterococcus = df[df['MICROORGANISMO'].map(lambda x: 'Enterococcus' in x)]\n",
    "        df_pseudomona = df[df['MICROORGANISMO'].map(lambda x: 'aeruginosa' in x)]\n",
    "\n",
    "        numero_aureus = df_aureus_esteriles_uci.shape[0]\n",
    "        resistencias_entero = self.calcular_resistencias(df_enterococcus, RESISTENCIAS_ENTEROCOCCUS)\n",
    "        resistencias_pseudomona = self.calcular_resistencias(df_pseudomona, RESISTENCIAS_PSEUDOMONAS)\n",
    "\n",
    "        return {'Cantidad de aureus metilcilino resistentes:': numero_aureus,\n",
    "                'Resistencias enterobacterias': resistencias_entero,\n",
    "                'Resistencias pseudomonas':  resistencias_pseudomona}\n",
    "\n",
    "    def obtener_aureus_metilcilino_esteriles_uci(self, df):\n",
    "        mask_aureus_metilcilino = df['MICROORGANISMO'].map(lambda x: 'etilcilino' in x)\n",
    "        mask_muestras_esteriles = df['TIPO MUESTRA'].map(lambda x: (x == 'Líquido Pleural') or (x == 'Sangre (Hemocultivo)') or ('Lavado' in x) or ('Aspirado' in x))\n",
    "        mask_uci = df['SERVICIO'].map(lambda x: (x == 'UCI'))\n",
    "\n",
    "        mask_total = mask_aureus_metilcilino & mask_muestras_esteriles & mask_uci\n",
    "        df_aureus_esteriles_uci = df[mask_total]\n",
    "\n",
    "        return df_aureus_esteriles_uci\n",
    "\n",
    "    def calcular_resistencias(self, df_microorganismo, resistencias_a_calcular):\n",
    "        for farmaco in resistencias_a_calcular.keys():\n",
    "            datos_resistencia_farmaco = df_microorganismo.loc[:, farmaco].value_counts()\n",
    "            resistencia_farmaco = round((datos_resistencia_farmaco['R'] / datos_resistencia_farmaco.sum()) * 100, 1)\n",
    "            resistencias_a_calcular[farmaco] = resistencia_farmaco\n",
    "            # print(f'La resistencia a {farmaco} es del: {resistencia_farmaco}%')\n",
    "        \n",
    "        return resistencias_a_calcular\n",
    "\n",
    "    \n"
   ]
  },
  {
   "cell_type": "code",
   "execution_count": 112,
   "metadata": {},
   "outputs": [
    {
     "name": "stdout",
     "output_type": "stream",
     "text": [
      "{\n",
      " \"5 SENS_ MAYO 22.xlsx\": {\n",
      "  \"Cantidad de aureus metilcilino resistentes:\": 0,\n",
      "  \"Resistencias enterobacterias\": {\n",
      "   \"VAN\": 50.0\n",
      "  },\n",
      "  \"Resistencias pseudomonas\": {\n",
      "   \"CEFE\": 14.3,\n",
      "   \"CAZ\": 14.3,\n",
      "   \"IMI\": 64.3,\n",
      "   \"MERO\": 50.0\n",
      "  }\n",
      " }\n",
      "}\n"
     ]
    },
    {
     "name": "stderr",
     "output_type": "stream",
     "text": [
      "c:\\Users\\labmicro\\AppData\\Local\\Programs\\Python\\Python310\\lib\\site-packages\\openpyxl\\worksheet\\_reader.py:312: UserWarning: Data Validation extension is not supported and will be removed\n",
      "  warn(msg)\n"
     ]
    }
   ],
   "source": [
    "estadisticas = Estadisticas()\n",
    "resultados = estadisticas.obtener_estadisticas_todos_los_meses()\n",
    "print(json.dumps(resultados, indent = 1))\n",
    "        "
   ]
  }
 ],
 "metadata": {
  "kernelspec": {
   "display_name": "Python 3.10.5 64-bit",
   "language": "python",
   "name": "python3"
  },
  "language_info": {
   "codemirror_mode": {
    "name": "ipython",
    "version": 3
   },
   "file_extension": ".py",
   "mimetype": "text/x-python",
   "name": "python",
   "nbconvert_exporter": "python",
   "pygments_lexer": "ipython3",
   "version": "3.10.5"
  },
  "orig_nbformat": 4,
  "vscode": {
   "interpreter": {
    "hash": "80ed648a5a155dca1469a1922a7b47c9d7b21ba9b4d2aa2dbd3b33ca48441164"
   }
  }
 },
 "nbformat": 4,
 "nbformat_minor": 2
}
