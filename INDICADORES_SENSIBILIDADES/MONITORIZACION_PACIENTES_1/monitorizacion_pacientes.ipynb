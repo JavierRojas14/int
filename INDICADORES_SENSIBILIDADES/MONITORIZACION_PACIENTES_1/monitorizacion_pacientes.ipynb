{
 "cells": [
  {
   "cell_type": "code",
   "execution_count": 1,
   "metadata": {},
   "outputs": [],
   "source": [
    "import pandas as pd\n",
    "import os\n",
    "import json\n",
    "import warnings\n",
    "import matplotlib.pyplot as plt\n",
    "import seaborn as sns\n",
    "\n",
    "warnings.filterwarnings('ignore', category = UserWarning, module = 'openpyxl')\n",
    "\n",
    "with open('LIMPIADOR_TOTAL.json', 'r', encoding = 'utf-8') as f:\n",
    "    DICCIONARIO_LIMPIADOR_NOMENCLATURAS = json.load(f)\n",
    "\n",
    "    LIMPIADOR_EVE = DICCIONARIO_LIMPIADOR_NOMENCLATURAS['NOMENCLATURA EVE']\n",
    "    LIMPIADOR_REDUNDANTES = DICCIONARIO_LIMPIADOR_NOMENCLATURAS['REDUNDANTES']\n",
    "\n",
    "    LIMPIADOR_GLOBAL = LIMPIADOR_EVE | LIMPIADOR_REDUNDANTES\n",
    "\n",
    "with open('DICCIONARIO_CODIGO_NOMBRE_FARMACOS.json', 'r') as f:\n",
    "    DICCIONARIO_FARMACOS_A_MONITORIZAR = json.load(f)\n",
    "    FARMACOS_A_MONITORIZAR = list(DICCIONARIO_FARMACOS_A_MONITORIZAR.values())[: -3]"
   ]
  },
  {
   "cell_type": "code",
   "execution_count": 2,
   "metadata": {},
   "outputs": [],
   "source": [
    "def obtener_tabla_total():\n",
    "    nombres_sensibilidades_ordenadas = sorted([excel for excel in os.listdir() if 'Fibrosis' in excel])\n",
    "    dfs_a_guardar = []\n",
    "\n",
    "\n",
    "    for nombre in nombres_sensibilidades_ordenadas:\n",
    "        df = pd.read_excel(nombre, header = 1).dropna(how = 'all')\n",
    "        df = df.fillna('-')\n",
    "        df_limpia = df.copy()\n",
    "        df_limpia['MICROORGANISMO'] = df_limpia['MICROORGANISMO'].map(lambda x: LIMPIADOR_GLOBAL[x] if (LIMPIADOR_GLOBAL[x] != None) else x)\n",
    "\n",
    "        dfs_a_guardar.append(df_limpia)\n",
    "\n",
    "    df_global = pd.concat(dfs_a_guardar)\n",
    "\n",
    "    return df_global"
   ]
  },
  {
   "cell_type": "code",
   "execution_count": 3,
   "metadata": {},
   "outputs": [],
   "source": [
    "df_global = pd.read_excel('FQ_AGRUPADO.xlsx')\n",
    "cambiar_rut = {'13218653-7': '13.218.653-7',\n",
    "               '15102568-4': '15.102.568-4',\n",
    "               '17014710-3': '17.014.710-3',\n",
    "               '17564424-5': '17.564.424-5',\n",
    "               '17.564.424-': '17.564.424-5',\n",
    "               '17837944-5': '17.837.944-5',\n",
    "               ' 17.014.710-3': '17.014.710-3',\n",
    "               'EXP': '19.485.701-2'}\n",
    "\n",
    "df_global = df_global.replace(cambiar_rut)\n",
    "df_global = df_global.replace({'-': None,\n",
    "                             'S': 1,\n",
    "                             's': 1,\n",
    "                             'I': 2,\n",
    "                             'R': 3,\n",
    "                             'R ': 3})"
   ]
  },
  {
   "cell_type": "code",
   "execution_count": 4,
   "metadata": {},
   "outputs": [],
   "source": [
    "for rut in df_global['RUT'].unique():\n",
    "        df_paciente = df_global[df_global['RUT'] == rut]\n",
    "        os.mkdir(f'{rut}')\n",
    "        os.chdir(f'{rut}')\n",
    "\n",
    "        df_paciente.to_excel(f'{rut}.xlsx')\n",
    "\n",
    "        wide_form = pd.concat([df_paciente.loc[:, ['FECHA INFORME', 'MICROORGANISMO']], df_paciente.loc[:, FARMACOS_A_MONITORIZAR]], axis = 1)\n",
    "\n",
    "        for microorganismo in wide_form['MICROORGANISMO'].unique():\n",
    "                datos_microorganismo = wide_form[wide_form['MICROORGANISMO'] == microorganismo]\n",
    "                datos_microorganismo = datos_microorganismo.dropna(how = 'all', axis = 1)\n",
    "                farmacos_medidos = datos_microorganismo.iloc[:, 2:].columns\n",
    "\n",
    "                if len(farmacos_medidos) > 0:\n",
    "                        fig, axis = plt.subplots(len(farmacos_medidos), 1, figsize = (15, 30))\n",
    "\n",
    "                        for i in range(len(farmacos_medidos)):\n",
    "                                sns.scatterplot(data = datos_microorganismo, x = 'FECHA INFORME', y = farmacos_medidos[i], ax = axis[i])\n",
    "                                sns.lineplot(data = datos_microorganismo, x = 'FECHA INFORME', y = farmacos_medidos[i], ax = axis[i])\n",
    "                                \n",
    "                        fig.suptitle(f'Monitorización {microorganismo} \\n RUT: {rut}', fontsize = 16)\n",
    "                        fig.savefig(f'{rut} {microorganismo}.png', bbox_inches = 'tight')\n",
    "                        plt.close(fig)\n",
    "        \n",
    "        os.chdir('..')\n"
   ]
  },
  {
   "cell_type": "code",
   "execution_count": null,
   "metadata": {},
   "outputs": [],
   "source": []
  }
 ],
 "metadata": {
  "kernelspec": {
   "display_name": "Python 3.10.5 64-bit",
   "language": "python",
   "name": "python3"
  },
  "language_info": {
   "codemirror_mode": {
    "name": "ipython",
    "version": 3
   },
   "file_extension": ".py",
   "mimetype": "text/x-python",
   "name": "python",
   "nbconvert_exporter": "python",
   "pygments_lexer": "ipython3",
   "version": "3.10.5"
  },
  "orig_nbformat": 4,
  "vscode": {
   "interpreter": {
    "hash": "80ed648a5a155dca1469a1922a7b47c9d7b21ba9b4d2aa2dbd3b33ca48441164"
   }
  }
 },
 "nbformat": 4,
 "nbformat_minor": 2
}
