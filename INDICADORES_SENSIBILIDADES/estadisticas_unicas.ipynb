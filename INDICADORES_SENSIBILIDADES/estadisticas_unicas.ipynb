{
 "cells": [
  {
   "cell_type": "code",
   "execution_count": 79,
   "metadata": {},
   "outputs": [],
   "source": [
    "import pandas as pd\n",
    "import json\n",
    "\n",
    "with open('RESISTENCIAS_PSEUDOMONAS.json', 'r') as f:\n",
    "    RESISTENCIAS_PSEUDOMONAS = json.load(f)\n",
    "\n",
    "with open('RESISTENCIAS_ENTEROCOCCUS.json', 'r') as f:\n",
    "    RESISTENCIAS_ENTEROCOCCUS = json.load(f)\n"
   ]
  },
  {
   "cell_type": "code",
   "execution_count": 5,
   "metadata": {},
   "outputs": [
    {
     "name": "stderr",
     "output_type": "stream",
     "text": [
      "c:\\Users\\labmicro\\AppData\\Local\\Programs\\Python\\Python310\\lib\\site-packages\\openpyxl\\worksheet\\_reader.py:312: UserWarning: Data Validation extension is not supported and will be removed\n",
      "  warn(msg)\n"
     ]
    }
   ],
   "source": [
    "df = pd.read_excel('5 SENS_ MAYO 22.xlsx', sheet_name = 1, header = 1)"
   ]
  },
  {
   "cell_type": "code",
   "execution_count": 51,
   "metadata": {},
   "outputs": [],
   "source": [
    "def obtener_aureus_metilcilino_esteriles_uci(df):\n",
    "    mask_aureus_metilcilino = df['MICROORGANISMO'].map(lambda x: 'etilcilino' in x)\n",
    "    mask_muestras_esteriles = df['TIPO MUESTRA'].map(lambda x: (x == 'Líquido Pleural') or (x == 'Sangre (Hemocultivo)') or ('Lavado' in x) or ('Aspirado' in x))\n",
    "    mask_uci = df['SERVICIO'].map(lambda x: (x == 'UCI'))\n",
    "\n",
    "    mask_total = mask_aureus_metilcilino & mask_muestras_esteriles & mask_uci\n",
    "    df_aureus_esteriles_uci = df[mask_total]\n",
    "\n",
    "    return df_aureus_esteriles_uci\n"
   ]
  },
  {
   "cell_type": "code",
   "execution_count": 52,
   "metadata": {},
   "outputs": [],
   "source": [
    "df_aureus_esteriles_uci = obtener_aureus_metilcilino_esteriles_uci(df)\n",
    "df_enterococcus = df[df['MICROORGANISMO'].map(lambda x: 'Enterococcus' in x)]\n",
    "df_pseudomona = df[df['MICROORGANISMO'].map(lambda x: 'aeruginosa' in x)]"
   ]
  },
  {
   "cell_type": "code",
   "execution_count": 80,
   "metadata": {},
   "outputs": [],
   "source": [
    "def calcular_resistencias_pseudomonas(df_microorganismo, resistencias_a_calcular):\n",
    "    for farmaco in resistencias_a_calcular.keys():\n",
    "        datos_resistencia_farmaco = df_microorganismo.loc[:, farmaco].value_counts()\n",
    "        resistencia_farmaco = round((datos_resistencia_farmaco['R'] / datos_resistencia_farmaco.sum()) * 100, 1)\n",
    "        resistencias_a_calcular[farmaco] = resistencia_farmaco\n",
    "        print(f'La resistencia a {farmaco} es del: {resistencia_farmaco}%')\n",
    "    \n",
    "    return resistencias_a_calcular\n",
    "        "
   ]
  },
  {
   "cell_type": "code",
   "execution_count": 82,
   "metadata": {},
   "outputs": [
    {
     "ename": "KeyError",
     "evalue": "'R'",
     "output_type": "error",
     "traceback": [
      "\u001b[1;31m---------------------------------------------------------------------------\u001b[0m",
      "\u001b[1;31mKeyError\u001b[0m                                  Traceback (most recent call last)",
      "File \u001b[1;32mc:\\Users\\labmicro\\AppData\\Local\\Programs\\Python\\Python310\\lib\\site-packages\\pandas\\core\\indexes\\base.py:3621\u001b[0m, in \u001b[0;36mIndex.get_loc\u001b[1;34m(self, key, method, tolerance)\u001b[0m\n\u001b[0;32m   3620\u001b[0m \u001b[39mtry\u001b[39;00m:\n\u001b[1;32m-> 3621\u001b[0m     \u001b[39mreturn\u001b[39;00m \u001b[39mself\u001b[39;49m\u001b[39m.\u001b[39;49m_engine\u001b[39m.\u001b[39;49mget_loc(casted_key)\n\u001b[0;32m   3622\u001b[0m \u001b[39mexcept\u001b[39;00m \u001b[39mKeyError\u001b[39;00m \u001b[39mas\u001b[39;00m err:\n",
      "File \u001b[1;32mc:\\Users\\labmicro\\AppData\\Local\\Programs\\Python\\Python310\\lib\\site-packages\\pandas\\_libs\\index.pyx:136\u001b[0m, in \u001b[0;36mpandas._libs.index.IndexEngine.get_loc\u001b[1;34m()\u001b[0m\n",
      "File \u001b[1;32mc:\\Users\\labmicro\\AppData\\Local\\Programs\\Python\\Python310\\lib\\site-packages\\pandas\\_libs\\index.pyx:163\u001b[0m, in \u001b[0;36mpandas._libs.index.IndexEngine.get_loc\u001b[1;34m()\u001b[0m\n",
      "File \u001b[1;32mpandas\\_libs\\hashtable_class_helper.pxi:5198\u001b[0m, in \u001b[0;36mpandas._libs.hashtable.PyObjectHashTable.get_item\u001b[1;34m()\u001b[0m\n",
      "File \u001b[1;32mpandas\\_libs\\hashtable_class_helper.pxi:5206\u001b[0m, in \u001b[0;36mpandas._libs.hashtable.PyObjectHashTable.get_item\u001b[1;34m()\u001b[0m\n",
      "\u001b[1;31mKeyError\u001b[0m: 'R'",
      "\nThe above exception was the direct cause of the following exception:\n",
      "\u001b[1;31mKeyError\u001b[0m                                  Traceback (most recent call last)",
      "\u001b[1;32mc:\\Users\\labmicro\\Desktop\\JAVIER\\INDICADORES_SENSIBILIDADES_DE_VICTORIA\\estadisticas_unicas.ipynb Celda 6\u001b[0m in \u001b[0;36m<cell line: 1>\u001b[1;34m()\u001b[0m\n\u001b[1;32m----> <a href='vscode-notebook-cell:/c%3A/Users/labmicro/Desktop/JAVIER/INDICADORES_SENSIBILIDADES_DE_VICTORIA/estadisticas_unicas.ipynb#ch0000015?line=0'>1</a>\u001b[0m calcular_resistencias_pseudomonas(df_enterococcus, RESISTENCIAS_PSEUDOMONAS)\n",
      "\u001b[1;32mc:\\Users\\labmicro\\Desktop\\JAVIER\\INDICADORES_SENSIBILIDADES_DE_VICTORIA\\estadisticas_unicas.ipynb Celda 6\u001b[0m in \u001b[0;36mcalcular_resistencias_pseudomonas\u001b[1;34m(df_microorganismo, resistencias_a_calcular)\u001b[0m\n\u001b[0;32m      <a href='vscode-notebook-cell:/c%3A/Users/labmicro/Desktop/JAVIER/INDICADORES_SENSIBILIDADES_DE_VICTORIA/estadisticas_unicas.ipynb#ch0000015?line=1'>2</a>\u001b[0m \u001b[39mfor\u001b[39;00m farmaco \u001b[39min\u001b[39;00m resistencias_a_calcular\u001b[39m.\u001b[39mkeys():\n\u001b[0;32m      <a href='vscode-notebook-cell:/c%3A/Users/labmicro/Desktop/JAVIER/INDICADORES_SENSIBILIDADES_DE_VICTORIA/estadisticas_unicas.ipynb#ch0000015?line=2'>3</a>\u001b[0m     datos_resistencia_farmaco \u001b[39m=\u001b[39m df_microorganismo\u001b[39m.\u001b[39mloc[:, farmaco]\u001b[39m.\u001b[39mvalue_counts()\n\u001b[1;32m----> <a href='vscode-notebook-cell:/c%3A/Users/labmicro/Desktop/JAVIER/INDICADORES_SENSIBILIDADES_DE_VICTORIA/estadisticas_unicas.ipynb#ch0000015?line=3'>4</a>\u001b[0m     resistencia_farmaco \u001b[39m=\u001b[39m \u001b[39mround\u001b[39m((datos_resistencia_farmaco[\u001b[39m'\u001b[39;49m\u001b[39mR\u001b[39;49m\u001b[39m'\u001b[39;49m] \u001b[39m/\u001b[39m datos_resistencia_farmaco\u001b[39m.\u001b[39msum()) \u001b[39m*\u001b[39m \u001b[39m100\u001b[39m, \u001b[39m1\u001b[39m)\n\u001b[0;32m      <a href='vscode-notebook-cell:/c%3A/Users/labmicro/Desktop/JAVIER/INDICADORES_SENSIBILIDADES_DE_VICTORIA/estadisticas_unicas.ipynb#ch0000015?line=4'>5</a>\u001b[0m     resistencias_a_calcular[farmaco] \u001b[39m=\u001b[39m resistencia_farmaco\n\u001b[0;32m      <a href='vscode-notebook-cell:/c%3A/Users/labmicro/Desktop/JAVIER/INDICADORES_SENSIBILIDADES_DE_VICTORIA/estadisticas_unicas.ipynb#ch0000015?line=5'>6</a>\u001b[0m     \u001b[39mprint\u001b[39m(\u001b[39mf\u001b[39m\u001b[39m'\u001b[39m\u001b[39mLa resistencia a \u001b[39m\u001b[39m{\u001b[39;00mfarmaco\u001b[39m}\u001b[39;00m\u001b[39m es del: \u001b[39m\u001b[39m{\u001b[39;00mresistencia_farmaco\u001b[39m}\u001b[39;00m\u001b[39m%\u001b[39m\u001b[39m'\u001b[39m)\n",
      "File \u001b[1;32mc:\\Users\\labmicro\\AppData\\Local\\Programs\\Python\\Python310\\lib\\site-packages\\pandas\\core\\series.py:958\u001b[0m, in \u001b[0;36mSeries.__getitem__\u001b[1;34m(self, key)\u001b[0m\n\u001b[0;32m    955\u001b[0m     \u001b[39mreturn\u001b[39;00m \u001b[39mself\u001b[39m\u001b[39m.\u001b[39m_values[key]\n\u001b[0;32m    957\u001b[0m \u001b[39melif\u001b[39;00m key_is_scalar:\n\u001b[1;32m--> 958\u001b[0m     \u001b[39mreturn\u001b[39;00m \u001b[39mself\u001b[39;49m\u001b[39m.\u001b[39;49m_get_value(key)\n\u001b[0;32m    960\u001b[0m \u001b[39mif\u001b[39;00m is_hashable(key):\n\u001b[0;32m    961\u001b[0m     \u001b[39m# Otherwise index.get_value will raise InvalidIndexError\u001b[39;00m\n\u001b[0;32m    962\u001b[0m     \u001b[39mtry\u001b[39;00m:\n\u001b[0;32m    963\u001b[0m         \u001b[39m# For labels that don't resolve as scalars like tuples and frozensets\u001b[39;00m\n",
      "File \u001b[1;32mc:\\Users\\labmicro\\AppData\\Local\\Programs\\Python\\Python310\\lib\\site-packages\\pandas\\core\\series.py:1069\u001b[0m, in \u001b[0;36mSeries._get_value\u001b[1;34m(self, label, takeable)\u001b[0m\n\u001b[0;32m   1066\u001b[0m     \u001b[39mreturn\u001b[39;00m \u001b[39mself\u001b[39m\u001b[39m.\u001b[39m_values[label]\n\u001b[0;32m   1068\u001b[0m \u001b[39m# Similar to Index.get_value, but we do not fall back to positional\u001b[39;00m\n\u001b[1;32m-> 1069\u001b[0m loc \u001b[39m=\u001b[39m \u001b[39mself\u001b[39;49m\u001b[39m.\u001b[39;49mindex\u001b[39m.\u001b[39;49mget_loc(label)\n\u001b[0;32m   1070\u001b[0m \u001b[39mreturn\u001b[39;00m \u001b[39mself\u001b[39m\u001b[39m.\u001b[39mindex\u001b[39m.\u001b[39m_get_values_for_loc(\u001b[39mself\u001b[39m, loc, label)\n",
      "File \u001b[1;32mc:\\Users\\labmicro\\AppData\\Local\\Programs\\Python\\Python310\\lib\\site-packages\\pandas\\core\\indexes\\base.py:3623\u001b[0m, in \u001b[0;36mIndex.get_loc\u001b[1;34m(self, key, method, tolerance)\u001b[0m\n\u001b[0;32m   3621\u001b[0m     \u001b[39mreturn\u001b[39;00m \u001b[39mself\u001b[39m\u001b[39m.\u001b[39m_engine\u001b[39m.\u001b[39mget_loc(casted_key)\n\u001b[0;32m   3622\u001b[0m \u001b[39mexcept\u001b[39;00m \u001b[39mKeyError\u001b[39;00m \u001b[39mas\u001b[39;00m err:\n\u001b[1;32m-> 3623\u001b[0m     \u001b[39mraise\u001b[39;00m \u001b[39mKeyError\u001b[39;00m(key) \u001b[39mfrom\u001b[39;00m \u001b[39merr\u001b[39;00m\n\u001b[0;32m   3624\u001b[0m \u001b[39mexcept\u001b[39;00m \u001b[39mTypeError\u001b[39;00m:\n\u001b[0;32m   3625\u001b[0m     \u001b[39m# If we have a listlike key, _check_indexing_error will raise\u001b[39;00m\n\u001b[0;32m   3626\u001b[0m     \u001b[39m#  InvalidIndexError. Otherwise we fall through and re-raise\u001b[39;00m\n\u001b[0;32m   3627\u001b[0m     \u001b[39m#  the TypeError.\u001b[39;00m\n\u001b[0;32m   3628\u001b[0m     \u001b[39mself\u001b[39m\u001b[39m.\u001b[39m_check_indexing_error(key)\n",
      "\u001b[1;31mKeyError\u001b[0m: 'R'"
     ]
    }
   ],
   "source": [
    "calcular_resistencias_pseudomonas(df_pseudomona, RESISTENCIAS_PSEUDOMONAS)"
   ]
  },
  {
   "cell_type": "code",
   "execution_count": null,
   "metadata": {},
   "outputs": [],
   "source": []
  }
 ],
 "metadata": {
  "kernelspec": {
   "display_name": "Python 3.10.5 64-bit",
   "language": "python",
   "name": "python3"
  },
  "language_info": {
   "codemirror_mode": {
    "name": "ipython",
    "version": 3
   },
   "file_extension": ".py",
   "mimetype": "text/x-python",
   "name": "python",
   "nbconvert_exporter": "python",
   "pygments_lexer": "ipython3",
   "version": "3.10.5"
  },
  "orig_nbformat": 4,
  "vscode": {
   "interpreter": {
    "hash": "80ed648a5a155dca1469a1922a7b47c9d7b21ba9b4d2aa2dbd3b33ca48441164"
   }
  }
 },
 "nbformat": 4,
 "nbformat_minor": 2
}
