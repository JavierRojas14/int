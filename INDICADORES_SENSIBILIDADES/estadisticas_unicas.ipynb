{
 "cells": [
  {
   "cell_type": "code",
   "execution_count": 1,
   "metadata": {},
   "outputs": [],
   "source": [
    "import pandas as pd"
   ]
  },
  {
   "cell_type": "code",
   "execution_count": 5,
   "metadata": {},
   "outputs": [
    {
     "name": "stderr",
     "output_type": "stream",
     "text": [
      "c:\\Users\\labmicro\\AppData\\Local\\Programs\\Python\\Python310\\lib\\site-packages\\openpyxl\\worksheet\\_reader.py:312: UserWarning: Data Validation extension is not supported and will be removed\n",
      "  warn(msg)\n"
     ]
    }
   ],
   "source": [
    "df = pd.read_excel('5 SENS_ MAYO 22.xlsx', sheet_name = 1, header = 1)"
   ]
  },
  {
   "cell_type": "code",
   "execution_count": 45,
   "metadata": {},
   "outputs": [],
   "source": [
    "mask_aureus_metilcilino = df['MICROORGANISMO'].map(lambda x: 'etilcilino' in x)\n",
    "mask_muestras_esteriles = df['TIPO MUESTRA'].map(lambda x: (x == 'Líquido Pleural') or (x == 'Sangre (Hemocultivo)') or ('Lavado' in x) or ('Aspirado' in x))\n",
    "mask_uci = df['SERVICIO'].map(lambda x: (x == 'UCI'))\n",
    "\n",
    "mask_aureus_esteriles_uci = mask_aureus_metilcilino & mask_muestras_esteriles & mask_uci\n",
    "\n",
    "mask_enterococcus = df['MICROORGANISMO'].map(lambda x: 'Enterococcus' in x)\n",
    "mask_pseudomona = df['MICROORGANISMO'].map(lambda x: 'aeruginosa' in x)"
   ]
  },
  {
   "cell_type": "code",
   "execution_count": 50,
   "metadata": {},
   "outputs": [],
   "source": [
    "df_aureus_esteriles_uci = df[mask_aureus_esteriles_uci]\n",
    "df_enterococcus = df[mask_enterococcus]\n",
    "df_pseudomona = df[mask_pseudomona]"
   ]
  },
  {
   "cell_type": "code",
   "execution_count": null,
   "metadata": {},
   "outputs": [],
   "source": []
  }
 ],
 "metadata": {
  "kernelspec": {
   "display_name": "Python 3.10.5 64-bit",
   "language": "python",
   "name": "python3"
  },
  "language_info": {
   "codemirror_mode": {
    "name": "ipython",
    "version": 3
   },
   "file_extension": ".py",
   "mimetype": "text/x-python",
   "name": "python",
   "nbconvert_exporter": "python",
   "pygments_lexer": "ipython3",
   "version": "3.10.5"
  },
  "orig_nbformat": 4,
  "vscode": {
   "interpreter": {
    "hash": "80ed648a5a155dca1469a1922a7b47c9d7b21ba9b4d2aa2dbd3b33ca48441164"
   }
  }
 },
 "nbformat": 4,
 "nbformat_minor": 2
}
