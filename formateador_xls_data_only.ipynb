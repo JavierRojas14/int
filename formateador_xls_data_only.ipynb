{
 "cells": [
  {
   "cell_type": "code",
   "execution_count": 1,
   "metadata": {},
   "outputs": [],
   "source": [
    "import pandas as pd"
   ]
  },
  {
   "cell_type": "code",
   "execution_count": 2,
   "metadata": {},
   "outputs": [],
   "source": [
    "df = pd.read_excel('asd_data.xls')"
   ]
  },
  {
   "cell_type": "code",
   "execution_count": 3,
   "metadata": {},
   "outputs": [],
   "source": [
    "tabla_susceptibilidades = df.iloc[18:31, :-2]"
   ]
  },
  {
   "cell_type": "code",
   "execution_count": 4,
   "metadata": {},
   "outputs": [],
   "source": [
    "headers = ['ANTIBIOTICO']\n",
    "cantidad_de_cepas = int((len(tabla_susceptibilidades.columns) - 1)/ 2)\n",
    "for i in range(cantidad_de_cepas):\n",
    "    headers.append(f'Cepa {i + 1}')\n",
    "    headers.append(f'CIM {i + 1}')\n",
    "\n",
    "tabla_susceptibilidades.columns = headers"
   ]
  },
  {
   "cell_type": "code",
   "execution_count": 5,
   "metadata": {},
   "outputs": [],
   "source": [
    "tabla_susceptibilidades = tabla_susceptibilidades.set_index('ANTIBIOTICO')"
   ]
  },
  {
   "cell_type": "code",
   "execution_count": 6,
   "metadata": {},
   "outputs": [
    {
     "data": {
      "text/plain": [
       "[                                Cepa 1      CIM 1\n",
       " ANTIBIOTICO                                      \n",
       " Clindamicina                  Sensible      <=0,5\n",
       " Ciprofloxacino                Sensible      <=0,5\n",
       " Eritromicina                Resistente         >4\n",
       " Gentamicina                   Sensible        <=2\n",
       " Oxacilina                   Resistente         >2\n",
       " Rifampicina                   Sensible      <=0,5\n",
       " Sulfametoxazol/Trimetoprim    Sensible  <=0,5/9,5\n",
       " Vancomicina                   Sensible          1\n",
       " Amikacina                          NaN        NaN\n",
       " Ceftazidima                        NaN        NaN\n",
       " Cefepime                           NaN        NaN\n",
       " Imipenem                           NaN        NaN\n",
       " Piperacilina/Tazobactam            NaN        NaN,\n",
       "                                 Cepa 2      CIM 2\n",
       " ANTIBIOTICO                                      \n",
       " Clindamicina                       NaN        NaN\n",
       " Ciprofloxacino              Resistente         >2\n",
       " Eritromicina                       NaN        NaN\n",
       " Gentamicina                 Resistente         >8\n",
       " Oxacilina                          NaN        NaN\n",
       " Rifampicina                        NaN        NaN\n",
       " Sulfametoxazol/Trimetoprim    Sensible  <=0,5/9,5\n",
       " Vancomicina                        NaN        NaN\n",
       " Amikacina                   Resistente        >32\n",
       " Ceftazidima                   Sensible          8\n",
       " Cefepime                    Resistente        >16\n",
       " Imipenem                      Sensible        <=2\n",
       " Piperacilina/Tazobactam       Sensible      <=4/4]"
      ]
     },
     "execution_count": 6,
     "metadata": {},
     "output_type": "execute_result"
    }
   ],
   "source": [
    "tablas_cepas = []\n",
    "for i in range(cantidad_de_cepas):\n",
    "    indice_inicial = i * 2\n",
    "    indice_final = indice_inicial + 2\n",
    "    df = tabla_susceptibilidades.iloc[:, indice_inicial: indice_final]\n",
    "    df.set_index(tabla_susceptibilidades.index)\n",
    "    tablas_cepas.append(df)\n",
    "\n",
    "tablas_cepas\n"
   ]
  },
  {
   "cell_type": "code",
   "execution_count": 7,
   "metadata": {},
   "outputs": [
    {
     "data": {
      "text/html": [
       "<div>\n",
       "<style scoped>\n",
       "    .dataframe tbody tr th:only-of-type {\n",
       "        vertical-align: middle;\n",
       "    }\n",
       "\n",
       "    .dataframe tbody tr th {\n",
       "        vertical-align: top;\n",
       "    }\n",
       "\n",
       "    .dataframe thead th {\n",
       "        text-align: right;\n",
       "    }\n",
       "</style>\n",
       "<table border=\"1\" class=\"dataframe\">\n",
       "  <thead>\n",
       "    <tr style=\"text-align: right;\">\n",
       "      <th>ANTIBIOTICO</th>\n",
       "      <th>Clindamicina</th>\n",
       "      <th>Ciprofloxacino</th>\n",
       "      <th>Eritromicina</th>\n",
       "      <th>Gentamicina</th>\n",
       "      <th>Oxacilina</th>\n",
       "      <th>Rifampicina</th>\n",
       "      <th>Sulfametoxazol/Trimetoprim</th>\n",
       "      <th>Vancomicina</th>\n",
       "      <th>Amikacina</th>\n",
       "      <th>Ceftazidima</th>\n",
       "      <th>Cefepime</th>\n",
       "      <th>Imipenem</th>\n",
       "      <th>Piperacilina/Tazobactam</th>\n",
       "    </tr>\n",
       "  </thead>\n",
       "  <tbody>\n",
       "    <tr>\n",
       "      <th>Cepa 2</th>\n",
       "      <td>NaN</td>\n",
       "      <td>Resistente</td>\n",
       "      <td>NaN</td>\n",
       "      <td>Resistente</td>\n",
       "      <td>NaN</td>\n",
       "      <td>NaN</td>\n",
       "      <td>Sensible</td>\n",
       "      <td>NaN</td>\n",
       "      <td>Resistente</td>\n",
       "      <td>Sensible</td>\n",
       "      <td>Resistente</td>\n",
       "      <td>Sensible</td>\n",
       "      <td>Sensible</td>\n",
       "    </tr>\n",
       "    <tr>\n",
       "      <th>CIM 2</th>\n",
       "      <td>NaN</td>\n",
       "      <td>&gt;2</td>\n",
       "      <td>NaN</td>\n",
       "      <td>&gt;8</td>\n",
       "      <td>NaN</td>\n",
       "      <td>NaN</td>\n",
       "      <td>&lt;=0,5/9,5</td>\n",
       "      <td>NaN</td>\n",
       "      <td>&gt;32</td>\n",
       "      <td>8</td>\n",
       "      <td>&gt;16</td>\n",
       "      <td>&lt;=2</td>\n",
       "      <td>&lt;=4/4</td>\n",
       "    </tr>\n",
       "  </tbody>\n",
       "</table>\n",
       "</div>"
      ],
      "text/plain": [
       "ANTIBIOTICO Clindamicina Ciprofloxacino Eritromicina Gentamicina Oxacilina  \\\n",
       "Cepa 2               NaN     Resistente          NaN  Resistente       NaN   \n",
       "CIM 2                NaN             >2          NaN          >8       NaN   \n",
       "\n",
       "ANTIBIOTICO Rifampicina Sulfametoxazol/Trimetoprim Vancomicina   Amikacina  \\\n",
       "Cepa 2              NaN                   Sensible         NaN  Resistente   \n",
       "CIM 2               NaN                  <=0,5/9,5         NaN         >32   \n",
       "\n",
       "ANTIBIOTICO Ceftazidima    Cefepime  Imipenem Piperacilina/Tazobactam  \n",
       "Cepa 2         Sensible  Resistente  Sensible                Sensible  \n",
       "CIM 2                 8         >16       <=2                   <=4/4  "
      ]
     },
     "execution_count": 7,
     "metadata": {},
     "output_type": "execute_result"
    }
   ],
   "source": [
    "tablas_cepas[1].transpose()"
   ]
  },
  {
   "cell_type": "code",
   "execution_count": null,
   "metadata": {},
   "outputs": [],
   "source": []
  }
 ],
 "metadata": {
  "kernelspec": {
   "display_name": "Python 3.10.5 64-bit",
   "language": "python",
   "name": "python3"
  },
  "language_info": {
   "codemirror_mode": {
    "name": "ipython",
    "version": 3
   },
   "file_extension": ".py",
   "mimetype": "text/x-python",
   "name": "python",
   "nbconvert_exporter": "python",
   "pygments_lexer": "ipython3",
   "version": "3.10.5"
  },
  "orig_nbformat": 4,
  "vscode": {
   "interpreter": {
    "hash": "80ed648a5a155dca1469a1922a7b47c9d7b21ba9b4d2aa2dbd3b33ca48441164"
   }
  }
 },
 "nbformat": 4,
 "nbformat_minor": 2
}
